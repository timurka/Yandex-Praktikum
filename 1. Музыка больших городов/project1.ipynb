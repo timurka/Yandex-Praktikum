{
 "cells": [
  {
   "cell_type": "markdown",
   "metadata": {
    "id": "E0vqbgi9ay0H"
   },
   "source": [
    "# Яндекс.Музыка"
   ]
  },
  {
   "cell_type": "markdown",
   "metadata": {
    "id": "VUC88oWjTJw2"
   },
   "source": [
    "Сравнение Москвы и Петербурга окружено мифами. Например:\n",
    " * Москва — мегаполис, подчинённый жёсткому ритму рабочей недели;\n",
    " * Петербург — культурная столица, со своими вкусами.\n",
    "\n",
    "На данных Яндекс.Музыки вы сравните поведение пользователей двух столиц.\n",
    "\n",
    "**Цель исследования** — проверьте три гипотезы:\n",
    "1. Активность пользователей зависит от дня недели. Причём в Москве и Петербурге это проявляется по-разному.\n",
    "2. В понедельник утром в Москве преобладают одни жанры, а в Петербурге — другие. Так же и вечером пятницы преобладают разные жанры — в зависимости от города. \n",
    "3. Москва и Петербург предпочитают разные жанры музыки. В Москве чаще слушают поп-музыку, в Петербурге — русский рэп.\n",
    "\n",
    "**Ход исследования**\n",
    "\n",
    "Данные о поведении пользователей вы получите из файла `yandex_music_project.csv`. О качестве данных ничего не известно. Поэтому перед проверкой гипотез понадобится обзор данных. \n",
    "\n",
    "Вы проверите данные на ошибки и оцените их влияние на исследование. Затем, на этапе предобработки вы поищете возможность исправить самые критичные ошибки данных.\n",
    " \n",
    "Таким образом, исследование пройдёт в три этапа:\n",
    " 1. Обзор данных.\n",
    " 2. Предобработка данных.\n",
    " 3. Проверка гипотез.\n",
    "\n"
   ]
  },
  {
   "cell_type": "markdown",
   "metadata": {
    "id": "Ml1hmfXC_Zcs"
   },
   "source": [
    "## Обзор данных\n",
    "\n",
    "Составьте первое представление о данных Яндекс.Музыки.\n",
    "\n",
    "\n"
   ]
  },
  {
   "cell_type": "markdown",
   "metadata": {
    "id": "57eAOGIz_Zcs"
   },
   "source": [
    "Основной инструмент аналитика — `pandas`. Импортируйте эту библиотеку."
   ]
  },
  {
   "cell_type": "code",
   "execution_count": 2,
   "metadata": {
    "id": "AXN7PHPN_Zcs"
   },
   "outputs": [],
   "source": [
    "import pandas as pd"
   ]
  },
  {
   "cell_type": "markdown",
   "metadata": {
    "id": "SG23P8tt_Zcs"
   },
   "source": [
    "Прочитайте файл `yandex_music_project.csv` из папки `/datasets` и сохраните его в переменной `df`:"
   ]
  },
  {
   "cell_type": "code",
   "execution_count": 3,
   "metadata": {
    "id": "fFVu7vqh_Zct"
   },
   "outputs": [],
   "source": [
    "df = pd.read_csv('/datasets/yandex_music_project.csv')"
   ]
  },
  {
   "cell_type": "markdown",
   "metadata": {
    "id": "rDoOMd3uTqnZ"
   },
   "source": [
    "Выведите на экран первые десять строк таблицы:"
   ]
  },
  {
   "cell_type": "code",
   "execution_count": 4,
   "metadata": {
    "id": "oWTVX3gW_Zct",
    "scrolled": true
   },
   "outputs": [
    {
     "data": {
      "text/html": [
       "<div>\n",
       "<style scoped>\n",
       "    .dataframe tbody tr th:only-of-type {\n",
       "        vertical-align: middle;\n",
       "    }\n",
       "\n",
       "    .dataframe tbody tr th {\n",
       "        vertical-align: top;\n",
       "    }\n",
       "\n",
       "    .dataframe thead th {\n",
       "        text-align: right;\n",
       "    }\n",
       "</style>\n",
       "<table border=\"1\" class=\"dataframe\">\n",
       "  <thead>\n",
       "    <tr style=\"text-align: right;\">\n",
       "      <th></th>\n",
       "      <th>userID</th>\n",
       "      <th>Track</th>\n",
       "      <th>artist</th>\n",
       "      <th>genre</th>\n",
       "      <th>City</th>\n",
       "      <th>time</th>\n",
       "      <th>Day</th>\n",
       "    </tr>\n",
       "  </thead>\n",
       "  <tbody>\n",
       "    <tr>\n",
       "      <th>0</th>\n",
       "      <td>FFB692EC</td>\n",
       "      <td>Kamigata To Boots</td>\n",
       "      <td>The Mass Missile</td>\n",
       "      <td>rock</td>\n",
       "      <td>Saint-Petersburg</td>\n",
       "      <td>20:28:33</td>\n",
       "      <td>Wednesday</td>\n",
       "    </tr>\n",
       "    <tr>\n",
       "      <th>1</th>\n",
       "      <td>55204538</td>\n",
       "      <td>Delayed Because of Accident</td>\n",
       "      <td>Andreas Rönnberg</td>\n",
       "      <td>rock</td>\n",
       "      <td>Moscow</td>\n",
       "      <td>14:07:09</td>\n",
       "      <td>Friday</td>\n",
       "    </tr>\n",
       "    <tr>\n",
       "      <th>2</th>\n",
       "      <td>20EC38</td>\n",
       "      <td>Funiculì funiculà</td>\n",
       "      <td>Mario Lanza</td>\n",
       "      <td>pop</td>\n",
       "      <td>Saint-Petersburg</td>\n",
       "      <td>20:58:07</td>\n",
       "      <td>Wednesday</td>\n",
       "    </tr>\n",
       "    <tr>\n",
       "      <th>3</th>\n",
       "      <td>A3DD03C9</td>\n",
       "      <td>Dragons in the Sunset</td>\n",
       "      <td>Fire + Ice</td>\n",
       "      <td>folk</td>\n",
       "      <td>Saint-Petersburg</td>\n",
       "      <td>08:37:09</td>\n",
       "      <td>Monday</td>\n",
       "    </tr>\n",
       "    <tr>\n",
       "      <th>4</th>\n",
       "      <td>E2DC1FAE</td>\n",
       "      <td>Soul People</td>\n",
       "      <td>Space Echo</td>\n",
       "      <td>dance</td>\n",
       "      <td>Moscow</td>\n",
       "      <td>08:34:34</td>\n",
       "      <td>Monday</td>\n",
       "    </tr>\n",
       "    <tr>\n",
       "      <th>5</th>\n",
       "      <td>842029A1</td>\n",
       "      <td>Преданная</td>\n",
       "      <td>IMPERVTOR</td>\n",
       "      <td>rusrap</td>\n",
       "      <td>Saint-Petersburg</td>\n",
       "      <td>13:09:41</td>\n",
       "      <td>Friday</td>\n",
       "    </tr>\n",
       "    <tr>\n",
       "      <th>6</th>\n",
       "      <td>4CB90AA5</td>\n",
       "      <td>True</td>\n",
       "      <td>Roman Messer</td>\n",
       "      <td>dance</td>\n",
       "      <td>Moscow</td>\n",
       "      <td>13:00:07</td>\n",
       "      <td>Wednesday</td>\n",
       "    </tr>\n",
       "    <tr>\n",
       "      <th>7</th>\n",
       "      <td>F03E1C1F</td>\n",
       "      <td>Feeling This Way</td>\n",
       "      <td>Polina Griffith</td>\n",
       "      <td>dance</td>\n",
       "      <td>Moscow</td>\n",
       "      <td>20:47:49</td>\n",
       "      <td>Wednesday</td>\n",
       "    </tr>\n",
       "    <tr>\n",
       "      <th>8</th>\n",
       "      <td>8FA1D3BE</td>\n",
       "      <td>И вновь продолжается бой</td>\n",
       "      <td>NaN</td>\n",
       "      <td>ruspop</td>\n",
       "      <td>Moscow</td>\n",
       "      <td>09:17:40</td>\n",
       "      <td>Friday</td>\n",
       "    </tr>\n",
       "    <tr>\n",
       "      <th>9</th>\n",
       "      <td>E772D5C0</td>\n",
       "      <td>Pessimist</td>\n",
       "      <td>NaN</td>\n",
       "      <td>dance</td>\n",
       "      <td>Saint-Petersburg</td>\n",
       "      <td>21:20:49</td>\n",
       "      <td>Wednesday</td>\n",
       "    </tr>\n",
       "  </tbody>\n",
       "</table>\n",
       "</div>"
      ],
      "text/plain": [
       "     userID                        Track            artist   genre  \\\n",
       "0  FFB692EC            Kamigata To Boots  The Mass Missile    rock   \n",
       "1  55204538  Delayed Because of Accident  Andreas Rönnberg    rock   \n",
       "2    20EC38            Funiculì funiculà       Mario Lanza     pop   \n",
       "3  A3DD03C9        Dragons in the Sunset        Fire + Ice    folk   \n",
       "4  E2DC1FAE                  Soul People        Space Echo   dance   \n",
       "5  842029A1                    Преданная         IMPERVTOR  rusrap   \n",
       "6  4CB90AA5                         True      Roman Messer   dance   \n",
       "7  F03E1C1F             Feeling This Way   Polina Griffith   dance   \n",
       "8  8FA1D3BE     И вновь продолжается бой               NaN  ruspop   \n",
       "9  E772D5C0                    Pessimist               NaN   dance   \n",
       "\n",
       "             City        time        Day  \n",
       "0  Saint-Petersburg  20:28:33  Wednesday  \n",
       "1            Moscow  14:07:09     Friday  \n",
       "2  Saint-Petersburg  20:58:07  Wednesday  \n",
       "3  Saint-Petersburg  08:37:09     Monday  \n",
       "4            Moscow  08:34:34     Monday  \n",
       "5  Saint-Petersburg  13:09:41     Friday  \n",
       "6            Moscow  13:00:07  Wednesday  \n",
       "7            Moscow  20:47:49  Wednesday  \n",
       "8            Moscow  09:17:40     Friday  \n",
       "9  Saint-Petersburg  21:20:49  Wednesday  "
      ]
     },
     "metadata": {},
     "output_type": "display_data"
    }
   ],
   "source": [
    "display(df.head(10))"
   ]
  },
  {
   "cell_type": "markdown",
   "metadata": {
    "id": "EO73Kwic_Zct"
   },
   "source": [
    "Одной командой получить общую информацию о таблице:"
   ]
  },
  {
   "cell_type": "code",
   "execution_count": 5,
   "metadata": {
    "id": "DSf2kIb-_Zct"
   },
   "outputs": [
    {
     "name": "stdout",
     "output_type": "stream",
     "text": [
      "<class 'pandas.core.frame.DataFrame'>\n",
      "RangeIndex: 65079 entries, 0 to 65078\n",
      "Data columns (total 7 columns):\n",
      " #   Column    Non-Null Count  Dtype \n",
      "---  ------    --------------  ----- \n",
      " 0     userID  65079 non-null  object\n",
      " 1   Track     63848 non-null  object\n",
      " 2   artist    57876 non-null  object\n",
      " 3   genre     63881 non-null  object\n",
      " 4     City    65079 non-null  object\n",
      " 5   time      65079 non-null  object\n",
      " 6   Day       65079 non-null  object\n",
      "dtypes: object(7)\n",
      "memory usage: 3.5+ MB\n"
     ]
    }
   ],
   "source": [
    "df.info()"
   ]
  },
  {
   "cell_type": "markdown",
   "metadata": {
    "id": "TaQ2Iwbr_Zct"
   },
   "source": [
    "Итак, в таблице семь столбцов. Тип данных во всех столбцах — `object`.\n",
    "\n",
    "Согласно документации к данным:\n",
    "* `userID` — идентификатор пользователя;\n",
    "* `Track` — название трека;  \n",
    "* `artist` — имя исполнителя;\n",
    "* `genre` — название жанра;\n",
    "* `City` — город пользователя;\n",
    "* `time` — время начала прослушивания;\n",
    "* `Day` — день недели.\n",
    "\n",
    "В названиях колонок видны три нарушения стиля:\n",
    "1. Строчные буквы сочетаются с прописными.\n",
    "2. Встречаются пробелы.\n",
    "3. Есть скрытые пробелы, которые могут бы не видны здесь, в Юпитере, но видны в сsv. Например, пробелы после `City`\n",
    "4. Нет нижнего подчеркивания в `user_id`\n",
    "\n",
    "\n",
    "\n",
    "Количество значений в столбцах различается. Значит, в данных есть пропущенные значения.\n"
   ]
  },
  {
   "cell_type": "markdown",
   "metadata": {
    "id": "MCB6-dXG_Zct"
   },
   "source": [
    "#### **Выводы**\n",
    "\n",
    "В каждой строке таблицы — данные о прослушанном треке. Часть колонок описывает саму композицию: название, исполнителя и жанр. Остальные данные рассказывают о пользователе: из какого он города, когда он слушал музыку. \n",
    "\n",
    "Предварительно можно утверждать, что, данных достаточно для проверки гипотез. Но встречаются пропуски в данных, а в названиях колонок — расхождения с хорошим стилем.\n",
    "\n",
    "Чтобы двигаться дальше, нужно устранить проблемы в данных."
   ]
  },
  {
   "cell_type": "markdown",
   "metadata": {
    "id": "SjYF6Ub9_Zct"
   },
   "source": [
    "## Предобработка данных\n",
    "Исправьте стиль в заголовках столбцов, исключите пропуски. Затем проверьте данные на дубликаты."
   ]
  },
  {
   "cell_type": "markdown",
   "metadata": {
    "id": "dIaKXr29_Zct"
   },
   "source": [
    "### Стиль заголовков\n",
    "Выведите на экран названия столбцов:"
   ]
  },
  {
   "cell_type": "code",
   "execution_count": 6,
   "metadata": {
    "id": "oKOTdF_Q_Zct",
    "scrolled": true
   },
   "outputs": [
    {
     "data": {
      "text/plain": [
       "Index(['  userID', 'Track', 'artist', 'genre', '  City  ', 'time', 'Day'], dtype='object')"
      ]
     },
     "execution_count": 6,
     "metadata": {},
     "output_type": "execute_result"
    }
   ],
   "source": [
    "df.columns"
   ]
  },
  {
   "cell_type": "markdown",
   "metadata": {
    "id": "zj5534cv_Zct"
   },
   "source": [
    "Приведите названия в соответствие с хорошим стилем:\n",
    "* несколько слов в названии запишите в «змеином_регистре»,\n",
    "* все символы сделайте строчными,\n",
    "* устраните пробелы.\n",
    "\n",
    "Для этого переименуйте колонки так:\n",
    "* `'  userID'` → `'user_id'`;\n",
    "* `'Track'` → `'track'`;\n",
    "* `'  City  '` → `'city'`;\n",
    "* `'Day'` → `'day'`."
   ]
  },
  {
   "cell_type": "code",
   "execution_count": 7,
   "metadata": {
    "id": "ISlFqs5y_Zct"
   },
   "outputs": [],
   "source": [
    "df = df.rename(\n",
    " columns={\n",
    "'  userID': 'user_id',\n",
    "'Track': 'track',\n",
    "'  City  ': 'city',\n",
    "'Day': 'day'\n",
    " }\n",
    ")"
   ]
  },
  {
   "cell_type": "markdown",
   "metadata": {
    "id": "1dqbh00J_Zct"
   },
   "source": [
    "Проверьте результат. Для этого ещё раз выведите на экран названия столбцов:"
   ]
  },
  {
   "cell_type": "code",
   "execution_count": 8,
   "metadata": {
    "id": "d4NOAmTW_Zct",
    "scrolled": true
   },
   "outputs": [
    {
     "data": {
      "text/plain": [
       "Index(['user_id', 'track', 'artist', 'genre', 'city', 'time', 'day'], dtype='object')"
      ]
     },
     "execution_count": 8,
     "metadata": {},
     "output_type": "execute_result"
    }
   ],
   "source": [
    "df.columns"
   ]
  },
  {
   "cell_type": "markdown",
   "metadata": {
    "id": "5ISfbcfY_Zct"
   },
   "source": [
    "### Пропуски значений\n",
    "Сначала посчитайте, сколько в таблице пропущенных значений. Для этого достаточно двух методов `pandas`:"
   ]
  },
  {
   "cell_type": "code",
   "execution_count": 40,
   "metadata": {
    "id": "RskX29qr_Zct",
    "scrolled": true
   },
   "outputs": [
    {
     "data": {
      "text/plain": [
       "user_id    0\n",
       "track      0\n",
       "artist     0\n",
       "genre      0\n",
       "city       0\n",
       "time       0\n",
       "day        0\n",
       "dtype: int64"
      ]
     },
     "execution_count": 40,
     "metadata": {},
     "output_type": "execute_result"
    }
   ],
   "source": [
    "#df.isna()\n",
    "# подсчёт количества пропущенных значений\n",
    "df.isna().sum()"
   ]
  },
  {
   "cell_type": "markdown",
   "metadata": {
    "id": "qubhgnlO_Zct"
   },
   "source": [
    "Не все пропущенные значения влияют на исследование. Так в `track` и `artist` пропуски не важны для вашей работы. Достаточно заменить их явными обозначениями.\n",
    "\n",
    "Но пропуски в `genre` могут помешать сравнению музыкальных вкусов в Москве и Санкт-Петербурге. На практике было бы правильно установить причину пропусков и восстановить данные. Такой возможности нет в учебном проекте. Придётся:\n",
    "* заполнить и эти пропуски явными обозначениями,\n",
    "* оценить, насколько они повредят расчётам. "
   ]
  },
  {
   "cell_type": "markdown",
   "metadata": {
    "id": "fSv2laPA_Zct"
   },
   "source": [
    "Замените пропущенные значения в столбцах `track`, `artist` и `genre` на строку `'unknown'`. Для этого создайте список `columns_to_replace`, переберите его элементы циклом `for` и для каждого столбца выполните замену пропущенных значений:"
   ]
  },
  {
   "cell_type": "code",
   "execution_count": 10,
   "metadata": {
    "id": "KplB5qWs_Zct"
   },
   "outputs": [],
   "source": [
    "# перебор названий столбцов в цикле и замена пропущенных значений на 'unknown'\n",
    "\n",
    "columns_to_replace = ['track', 'artist', 'genre']\n",
    "\n",
    "for col in columns_to_replace:\n",
    "    df[col] = df[col].fillna('unknown')"
   ]
  },
  {
   "cell_type": "markdown",
   "metadata": {
    "id": "Ilsm-MZo_Zct"
   },
   "source": [
    "Убедитесь, что в таблице не осталось пропусков. Для этого ещё раз посчитайте пропущенные значения."
   ]
  },
  {
   "cell_type": "code",
   "execution_count": 41,
   "metadata": {
    "id": "Tq4nYRX4_Zct",
    "scrolled": false
   },
   "outputs": [
    {
     "data": {
      "text/plain": [
       "user_id    0\n",
       "track      0\n",
       "artist     0\n",
       "genre      0\n",
       "city       0\n",
       "time       0\n",
       "day        0\n",
       "dtype: int64"
      ]
     },
     "execution_count": 41,
     "metadata": {},
     "output_type": "execute_result"
    }
   ],
   "source": [
    "# подсчёт пропусков\n",
    "df.isna().sum()"
   ]
  },
  {
   "cell_type": "markdown",
   "metadata": {
    "id": "BWKRtBJ3_Zct"
   },
   "source": [
    "### Дубликаты\n",
    "Посчитайте явные дубликаты в таблице одной командой:"
   ]
  },
  {
   "cell_type": "code",
   "execution_count": 12,
   "metadata": {
    "id": "36eES_S0_Zct",
    "scrolled": true
   },
   "outputs": [
    {
     "data": {
      "text/plain": [
       "3826"
      ]
     },
     "execution_count": 12,
     "metadata": {},
     "output_type": "execute_result"
    }
   ],
   "source": [
    "# подсчёт явных дубликатов\n",
    "df.duplicated().sum()"
   ]
  },
  {
   "cell_type": "markdown",
   "metadata": {
    "id": "Ot25h6XR_Zct"
   },
   "source": [
    "Вызовите специальный метод `pandas`, чтобы удалить явные дубликаты:"
   ]
  },
  {
   "cell_type": "code",
   "execution_count": 13,
   "metadata": {
    "id": "exFHq6tt_Zct"
   },
   "outputs": [],
   "source": [
    "# удаление явных дубликатов (с удалением старых индексов и формированием новых)\n",
    "df = df.drop_duplicates().reset_index(drop=True)"
   ]
  },
  {
   "cell_type": "markdown",
   "metadata": {
    "id": "Im2YwBEG_Zct"
   },
   "source": [
    "Ещё раз посчитайте явные дубликаты в таблице — убедитесь, что полностью от них избавились:"
   ]
  },
  {
   "cell_type": "code",
   "execution_count": 14,
   "metadata": {
    "id": "-8PuNWQ0_Zct"
   },
   "outputs": [
    {
     "data": {
      "text/plain": [
       "0"
      ]
     },
     "execution_count": 14,
     "metadata": {},
     "output_type": "execute_result"
    }
   ],
   "source": [
    "# проверка на отсутствие дубликатов\n",
    "df.duplicated().sum()"
   ]
  },
  {
   "cell_type": "markdown",
   "metadata": {
    "id": "QlFBsxAr_Zct"
   },
   "source": [
    "Теперь избавьтесь от неявных дубликатов в колонке `genre`. Например, название одного и того же жанра может быть записано немного по-разному. Такие ошибки тоже повлияют на результат исследования."
   ]
  },
  {
   "cell_type": "markdown",
   "metadata": {
    "id": "eSjWwsOh_Zct"
   },
   "source": [
    "Выведите на экран список уникальных названий жанров, отсортированный в алфавитном порядке. Для этого:\n",
    "* извлеките нужный столбец датафрейма, \n",
    "* примените к нему метод сортировки,\n",
    "* для отсортированного столбца вызовите метод, который вернёт уникальные значения из столбца."
   ]
  },
  {
   "cell_type": "code",
   "execution_count": 44,
   "metadata": {
    "id": "JIUcqzZN_Zct",
    "scrolled": false
   },
   "outputs": [
    {
     "name": "stdout",
     "output_type": "stream",
     "text": [
      "['acid' 'acoustic' 'action' 'adult' 'africa' 'afrikaans' 'alternative'\n",
      " 'alternativepunk' 'ambient' 'americana' 'animated' 'anime' 'arabesk'\n",
      " 'arabic' 'arena' 'argentinetango' 'art' 'audiobook' 'author' 'avantgarde'\n",
      " 'axé' 'baile' 'balkan' 'beats' 'bigroom' 'black' 'bluegrass' 'blues'\n",
      " 'bollywood' 'bossa' 'brazilian' 'breakbeat' 'breaks' 'broadway'\n",
      " 'cantautori' 'cantopop' 'canzone' 'caribbean' 'caucasian' 'celtic'\n",
      " 'chamber' 'chanson' 'children' 'chill' 'chinese' 'choral' 'christian'\n",
      " 'christmas' 'classical' 'classicmetal' 'club' 'colombian' 'comedy'\n",
      " 'conjazz' 'contemporary' 'country' 'cuban' 'dance' 'dancehall' 'dancepop'\n",
      " 'dark' 'death' 'deep' 'deutschrock' 'deutschspr' 'dirty' 'disco' 'dnb'\n",
      " 'documentary' 'downbeat' 'downtempo' 'drum' 'dub' 'dubstep' 'eastern'\n",
      " 'easy' 'electronic' 'electropop' 'emo' 'entehno' 'epicmetal' 'estrada'\n",
      " 'ethnic' 'eurofolk' 'european' 'experimental' 'extrememetal' 'fado'\n",
      " 'fairytail' 'film' 'fitness' 'flamenco' 'folk' 'folklore' 'folkmetal'\n",
      " 'folkrock' 'folktronica' 'forró' 'frankreich' 'französisch' 'french'\n",
      " 'funk' 'future' 'gangsta' 'garage' 'german' 'ghazal' 'gitarre' 'glitch'\n",
      " 'gospel' 'gothic' 'grime' 'grunge' 'gypsy' 'handsup' \"hard'n'heavy\"\n",
      " 'hardcore' 'hardstyle' 'hardtechno' 'hiphop' 'historisch' 'holiday'\n",
      " 'horror' 'house' 'hymn' 'idm' 'independent' 'indian' 'indie' 'indipop'\n",
      " 'industrial' 'inspirational' 'instrumental' 'international' 'irish' 'jam'\n",
      " 'japanese' 'jazz' 'jewish' 'jpop' 'jungle' 'k-pop' 'karadeniz' 'karaoke'\n",
      " 'kayokyoku' 'korean' 'laiko' 'latin' 'latino' 'leftfield' 'local'\n",
      " 'lounge' 'loungeelectronic' 'lovers' 'malaysian' 'mandopop' 'marschmusik'\n",
      " 'meditative' 'mediterranean' 'melodic' 'metal' 'metalcore' 'mexican'\n",
      " 'middle' 'minimal' 'miscellaneous' 'modern' 'mood' 'mpb' 'muslim'\n",
      " 'native' 'neoklassik' 'neue' 'new' 'newage' 'newwave' 'nu' 'nujazz'\n",
      " 'numetal' 'oceania' 'old' 'opera' 'orchestral' 'other' 'piano' 'podcasts'\n",
      " 'pop' 'popdance' 'popelectronic' 'popeurodance' 'poprussian' 'post'\n",
      " 'posthardcore' 'postrock' 'power' 'progmetal' 'progressive' 'psychedelic'\n",
      " 'punjabi' 'punk' 'quebecois' 'ragga' 'ram' 'rancheras' 'rap' 'rave'\n",
      " 'reggae' 'reggaeton' 'regional' 'relax' 'religious' 'retro' 'rhythm'\n",
      " 'rnb' 'rnr' 'rock' 'rockabilly' 'rockalternative' 'rockindie' 'rockother'\n",
      " 'romance' 'roots' 'ruspop' 'rusrap' 'rusrock' 'russian' 'salsa' 'samba'\n",
      " 'scenic' 'schlager' 'self' 'sertanejo' 'shanson' 'shoegazing' 'showtunes'\n",
      " 'singer' 'ska' 'skarock' 'slow' 'smooth' 'soft' 'soul' 'soulful' 'sound'\n",
      " 'soundtrack' 'southern' 'specialty' 'speech' 'spiritual' 'sport'\n",
      " 'stonerrock' 'surf' 'swing' 'synthpop' 'synthrock' 'sängerportrait'\n",
      " 'tango' 'tanzorchester' 'taraftar' 'tatar' 'tech' 'techno' 'teen'\n",
      " 'thrash' 'top' 'traditional' 'tradjazz' 'trance' 'tribal' 'trip'\n",
      " 'triphop' 'tropical' 'türk' 'türkçe' 'ukrrock' 'unknown' 'urban' 'uzbek'\n",
      " 'variété' 'vi' 'videogame' 'vocal' 'western' 'world' 'worldbeat' 'ïîï'\n",
      " 'электроника']\n"
     ]
    }
   ],
   "source": [
    "# Просмотр уникальных названий жанров\n",
    "genre_name = df['genre']\n",
    "\n",
    "# Сортируем и уникализируем\n",
    "genre_name = genre_name.sort_values().unique()\n",
    "#genre_name = genre_name.unique()\n",
    "\n",
    "print(genre_name)"
   ]
  },
  {
   "cell_type": "markdown",
   "metadata": {
    "id": "qej-Qmuo_Zct"
   },
   "source": [
    "Просмотрите список и найдите неявные дубликаты названия `hiphop`. Это могут быть названия с ошибками или альтернативные названия того же жанра.\n",
    "\n",
    "Вы увидите следующие неявные дубликаты:\n",
    "* *hip*,\n",
    "* *hop*,\n",
    "* *hip-hop*.\n",
    "\n",
    "Чтобы очистить от них таблицу, напишите функцию `replace_wrong_genres()` с двумя параметрами: \n",
    "* `wrong_genres` — список дубликатов,\n",
    "* `correct_genre` — строка с правильным значением.\n",
    "\n",
    "Функция должна исправить колонку `genre` в таблице `df`: заменить каждое значение из списка `wrong_genres` на значение из `correct_genre`."
   ]
  },
  {
   "cell_type": "code",
   "execution_count": 45,
   "metadata": {
    "id": "ErNDkmns_Zct"
   },
   "outputs": [],
   "source": [
    "# Функция для замены неявных дубликатов\n",
    "def replace_wrong_genres(wrong_genres, correct_genre):\n",
    "    for wrong in wrong_genres:\n",
    "        df['genre'] = df['genre'].replace(wrong, correct_genre)"
   ]
  },
  {
   "cell_type": "markdown",
   "metadata": {
    "id": "aDoBJxbA_Zct"
   },
   "source": [
    "Вызовите `replace_wrong_genres()` и передайте ей такие аргументы, чтобы она устранила неявные дубликаты: вместо `hip`, `hop` и `hip-hop` в таблице должно быть значение `hiphop`:"
   ]
  },
  {
   "cell_type": "code",
   "execution_count": 46,
   "metadata": {
    "id": "YN5i2hpmSo09"
   },
   "outputs": [],
   "source": [
    "# Устранение неявных дубликатов\n",
    "#replace_wrong_genres('hip', 'hiphop')\n",
    "#replace_wrong_genres('hop', 'hiphop')\n",
    "#replace_wrong_genres('hip-hop', 'hiphop')\n",
    "\n",
    "replace_wrong_genres(['hip', 'hop', 'hip-hop'], 'hiphop')"
   ]
  },
  {
   "cell_type": "markdown",
   "metadata": {
    "id": "zQKF16_RG15m"
   },
   "source": [
    "Проверьте, что заменили неправильные названия:\n",
    "\n",
    "*   hip\n",
    "*   hop\n",
    "*   hip-hop\n",
    "\n",
    "Выведите отсортированный список уникальных значений столбца `genre`:"
   ]
  },
  {
   "cell_type": "code",
   "execution_count": 47,
   "metadata": {
    "id": "wvixALnFG15m",
    "scrolled": false
   },
   "outputs": [
    {
     "name": "stdout",
     "output_type": "stream",
     "text": [
      "['acid' 'acoustic' 'action' 'adult' 'africa' 'afrikaans' 'alternative'\n",
      " 'alternativepunk' 'ambient' 'americana' 'animated' 'anime' 'arabesk'\n",
      " 'arabic' 'arena' 'argentinetango' 'art' 'audiobook' 'author' 'avantgarde'\n",
      " 'axé' 'baile' 'balkan' 'beats' 'bigroom' 'black' 'bluegrass' 'blues'\n",
      " 'bollywood' 'bossa' 'brazilian' 'breakbeat' 'breaks' 'broadway'\n",
      " 'cantautori' 'cantopop' 'canzone' 'caribbean' 'caucasian' 'celtic'\n",
      " 'chamber' 'chanson' 'children' 'chill' 'chinese' 'choral' 'christian'\n",
      " 'christmas' 'classical' 'classicmetal' 'club' 'colombian' 'comedy'\n",
      " 'conjazz' 'contemporary' 'country' 'cuban' 'dance' 'dancehall' 'dancepop'\n",
      " 'dark' 'death' 'deep' 'deutschrock' 'deutschspr' 'dirty' 'disco' 'dnb'\n",
      " 'documentary' 'downbeat' 'downtempo' 'drum' 'dub' 'dubstep' 'eastern'\n",
      " 'easy' 'electronic' 'electropop' 'emo' 'entehno' 'epicmetal' 'estrada'\n",
      " 'ethnic' 'eurofolk' 'european' 'experimental' 'extrememetal' 'fado'\n",
      " 'fairytail' 'film' 'fitness' 'flamenco' 'folk' 'folklore' 'folkmetal'\n",
      " 'folkrock' 'folktronica' 'forró' 'frankreich' 'französisch' 'french'\n",
      " 'funk' 'future' 'gangsta' 'garage' 'german' 'ghazal' 'gitarre' 'glitch'\n",
      " 'gospel' 'gothic' 'grime' 'grunge' 'gypsy' 'handsup' \"hard'n'heavy\"\n",
      " 'hardcore' 'hardstyle' 'hardtechno' 'hiphop' 'historisch' 'holiday'\n",
      " 'horror' 'house' 'hymn' 'idm' 'independent' 'indian' 'indie' 'indipop'\n",
      " 'industrial' 'inspirational' 'instrumental' 'international' 'irish' 'jam'\n",
      " 'japanese' 'jazz' 'jewish' 'jpop' 'jungle' 'k-pop' 'karadeniz' 'karaoke'\n",
      " 'kayokyoku' 'korean' 'laiko' 'latin' 'latino' 'leftfield' 'local'\n",
      " 'lounge' 'loungeelectronic' 'lovers' 'malaysian' 'mandopop' 'marschmusik'\n",
      " 'meditative' 'mediterranean' 'melodic' 'metal' 'metalcore' 'mexican'\n",
      " 'middle' 'minimal' 'miscellaneous' 'modern' 'mood' 'mpb' 'muslim'\n",
      " 'native' 'neoklassik' 'neue' 'new' 'newage' 'newwave' 'nu' 'nujazz'\n",
      " 'numetal' 'oceania' 'old' 'opera' 'orchestral' 'other' 'piano' 'podcasts'\n",
      " 'pop' 'popdance' 'popelectronic' 'popeurodance' 'poprussian' 'post'\n",
      " 'posthardcore' 'postrock' 'power' 'progmetal' 'progressive' 'psychedelic'\n",
      " 'punjabi' 'punk' 'quebecois' 'ragga' 'ram' 'rancheras' 'rap' 'rave'\n",
      " 'reggae' 'reggaeton' 'regional' 'relax' 'religious' 'retro' 'rhythm'\n",
      " 'rnb' 'rnr' 'rock' 'rockabilly' 'rockalternative' 'rockindie' 'rockother'\n",
      " 'romance' 'roots' 'ruspop' 'rusrap' 'rusrock' 'russian' 'salsa' 'samba'\n",
      " 'scenic' 'schlager' 'self' 'sertanejo' 'shanson' 'shoegazing' 'showtunes'\n",
      " 'singer' 'ska' 'skarock' 'slow' 'smooth' 'soft' 'soul' 'soulful' 'sound'\n",
      " 'soundtrack' 'southern' 'specialty' 'speech' 'spiritual' 'sport'\n",
      " 'stonerrock' 'surf' 'swing' 'synthpop' 'synthrock' 'sängerportrait'\n",
      " 'tango' 'tanzorchester' 'taraftar' 'tatar' 'tech' 'techno' 'teen'\n",
      " 'thrash' 'top' 'traditional' 'tradjazz' 'trance' 'tribal' 'trip'\n",
      " 'triphop' 'tropical' 'türk' 'türkçe' 'ukrrock' 'unknown' 'urban' 'uzbek'\n",
      " 'variété' 'vi' 'videogame' 'vocal' 'western' 'world' 'worldbeat' 'ïîï'\n",
      " 'электроника']\n"
     ]
    }
   ],
   "source": [
    "# Проверка на неявные дубликаты\n",
    "genre_name = df['genre']\n",
    "\n",
    "# Сортируем и уникализируем\n",
    "genre_name = genre_name.sort_values().unique()\n",
    "#genre_name = genre_name.unique()\n",
    "\n",
    "print(genre_name)"
   ]
  },
  {
   "cell_type": "markdown",
   "metadata": {
    "id": "jz6a9-7HQUDd"
   },
   "source": [
    "**Выводы**\n",
    "\n",
    "Предобработка обнаружила три проблемы в данных:\n",
    "\n",
    "- нарушения в стиле заголовков,\n",
    "- пропущенные значения,\n",
    "- дубликаты — явные и неявные.\n",
    "\n",
    "Вы исправили заголовки, чтобы упростить работу с таблицей. Без дубликатов исследование станет более точным.\n",
    "\n",
    "Пропущенные значения вы заменили на `'unknown'`. Ещё предстоит увидеть, не повредят ли исследованию пропуски в колонке `genre`.\n",
    "\n",
    "Теперь можно перейти к проверке гипотез. "
   ]
  },
  {
   "cell_type": "markdown",
   "metadata": {
    "id": "WttZHXH0SqKk"
   },
   "source": [
    "## Проверка гипотез"
   ]
  },
  {
   "cell_type": "markdown",
   "metadata": {
    "id": "Im936VVi_Zcu"
   },
   "source": [
    "### Сравнение поведения пользователей двух столиц"
   ]
  },
  {
   "cell_type": "markdown",
   "metadata": {
    "id": "nwt_MuaL_Zcu"
   },
   "source": [
    "Первая гипотеза утверждает, что пользователи по-разному слушают музыку в Москве и Санкт-Петербурге. Проверьте это предположение по данным о трёх днях недели — понедельнике, среде и пятнице. Для этого:\n",
    "\n",
    "* Разделите пользователей Москвы и Санкт-Петербурга\n",
    "* Сравните, сколько треков послушала каждая группа пользователей в понедельник, среду и пятницу.\n"
   ]
  },
  {
   "cell_type": "markdown",
   "metadata": {
    "id": "8Dw_YMmT_Zcu"
   },
   "source": [
    "Для тренировки сначала выполните каждый из расчётов по отдельности. \n",
    "\n",
    "Оцените активность пользователей в каждом городе. Сгруппируйте данные по городу и посчитайте прослушивания в каждой группе.\n",
    "\n"
   ]
  },
  {
   "cell_type": "code",
   "execution_count": 19,
   "metadata": {
    "id": "0_Qs96oh_Zcu",
    "scrolled": true
   },
   "outputs": [
    {
     "data": {
      "text/plain": [
       "city\n",
       "Moscow              42741\n",
       "Saint-Petersburg    18512\n",
       "Name: city, dtype: int64"
      ]
     },
     "execution_count": 19,
     "metadata": {},
     "output_type": "execute_result"
    }
   ],
   "source": [
    "# Подсчёт прослушиваний в каждом городе\n",
    "df.groupby('city')['city'].count()"
   ]
  },
  {
   "cell_type": "markdown",
   "metadata": {
    "id": "dzli3w8o_Zcu"
   },
   "source": [
    "В Москве прослушиваний больше, чем в Петербурге. Из этого не следует, что московские пользователи чаще слушают музыку. Просто самих пользователей в Москве больше.\n",
    "\n",
    "Теперь сгруппируйте данные по дню недели и подсчитайте прослушивания в понедельник, среду и пятницу. Учтите, что в данных есть информация только о прослушиваниях только за эти дни.\n"
   ]
  },
  {
   "cell_type": "code",
   "execution_count": 59,
   "metadata": {
    "id": "uZMKjiJz_Zcu"
   },
   "outputs": [
    {
     "data": {
      "text/plain": [
       "day\n",
       "Friday       21840\n",
       "Monday       21354\n",
       "Wednesday    18059\n",
       "Name: track, dtype: int64"
      ]
     },
     "execution_count": 59,
     "metadata": {},
     "output_type": "execute_result"
    }
   ],
   "source": [
    "# Подсчёт прослушиваний в каждый из трёх дней\n",
    "df.groupby('day')['track'].count()"
   ]
  },
  {
   "cell_type": "markdown",
   "metadata": {
    "id": "cC2tNrlL_Zcu"
   },
   "source": [
    "В среднем пользователи из двух городов менее активны по средам. Но картина может измениться, если рассмотреть каждый город в отдельности."
   ]
  },
  {
   "cell_type": "markdown",
   "metadata": {
    "id": "POzs8bGa_Zcu"
   },
   "source": [
    "Вы видели, как работает группировка по городу и по дням недели. Теперь напишите функцию, которая объединит два эти расчёта.\n",
    "\n",
    "Создайте функцию `number_tracks()`, которая посчитает прослушивания для заданного дня и города. Ей понадобятся два параметра:\n",
    "* день недели,\n",
    "* название города.\n",
    "\n",
    "В функции сохраните в переменную строки исходной таблицы, у которых значение:\n",
    "  * в колонке `day` равно параметру `day`,\n",
    "  * в колонке `city` равно параметру `city`.\n",
    "\n",
    "Для этого примените последовательную фильтрацию с логической индексацией.\n",
    "\n",
    "Затем посчитайте значения в столбце `user_id` получившейся таблицы. Результат сохраните в новую переменную. Верните эту переменную из функции."
   ]
  },
  {
   "cell_type": "code",
   "execution_count": 21,
   "metadata": {
    "id": "Nz3GdQB1_Zcu"
   },
   "outputs": [
    {
     "data": {
      "text/plain": [
       "15945"
      ]
     },
     "execution_count": 21,
     "metadata": {},
     "output_type": "execute_result"
    }
   ],
   "source": [
    "# <создание функции number_tracks()>\n",
    "# Объявляется функция с двумя параметрами: day, city.\n",
    "# В переменной track_list сохраняются те строки таблицы df, для которых \n",
    "# значение в столбце 'day' равно параметру day и одновременно значение\n",
    "# в столбце 'city' равно параметру city (используйте последовательную фильтрацию\n",
    "# с помощью логической индексации).\n",
    "# В переменной track_list_count сохраняется число значений столбца 'user_id',\n",
    "# рассчитанное методом count() для таблицы track_list.\n",
    "# Функция возвращает число - значение track_list_count.\n",
    "\n",
    "def number_tracks(day, city):\n",
    "    track_list = df[df['day'] == day]\n",
    "    track_list = track_list[track_list['city'] == city]\n",
    "    track_list_count = track_list['user_id'].count()\n",
    "    return track_list_count\n",
    "\n",
    "number_tracks('Friday', 'Moscow')\n",
    "    \n",
    "\n",
    "# Функция для подсчёта прослушиваний для конкретного города и дня.\n",
    "# С помощью последовательной фильтрации с логической индексацией она \n",
    "# сначала получит из исходной таблицы строки с нужным днём,\n",
    "# затем из результата отфильтрует строки с нужным городом,\n",
    "# методом count() посчитает количество значений в колонке user_id. \n",
    "# Это количество функция вернёт в качестве результата"
   ]
  },
  {
   "cell_type": "markdown",
   "metadata": {
    "id": "ytf7xFrFJQ2r"
   },
   "source": [
    "Вызовите `number_tracks()` шесть раз, меняя значение параметров — так, чтобы получить данные для каждого города в каждый из трёх дней."
   ]
  },
  {
   "cell_type": "code",
   "execution_count": 22,
   "metadata": {
    "id": "rJcRATNQ_Zcu"
   },
   "outputs": [
    {
     "data": {
      "text/plain": [
       "15740"
      ]
     },
     "execution_count": 22,
     "metadata": {},
     "output_type": "execute_result"
    }
   ],
   "source": [
    "# количество прослушиваний в Москве по понедельникам\n",
    "number_tracks('Monday', 'Moscow')"
   ]
  },
  {
   "cell_type": "code",
   "execution_count": 23,
   "metadata": {
    "id": "hq_ncZ5T_Zcu"
   },
   "outputs": [
    {
     "data": {
      "text/plain": [
       "5614"
      ]
     },
     "execution_count": 23,
     "metadata": {},
     "output_type": "execute_result"
    }
   ],
   "source": [
    "# количество прослушиваний в Санкт-Петербурге по понедельникам\n",
    "number_tracks('Monday', 'Saint-Petersburg')"
   ]
  },
  {
   "cell_type": "code",
   "execution_count": 24,
   "metadata": {
    "id": "_NTy2VPU_Zcu"
   },
   "outputs": [
    {
     "data": {
      "text/plain": [
       "11056"
      ]
     },
     "execution_count": 24,
     "metadata": {},
     "output_type": "execute_result"
    }
   ],
   "source": [
    "# количество прослушиваний в Москве по средам\n",
    "number_tracks('Wednesday', 'Moscow')"
   ]
  },
  {
   "cell_type": "code",
   "execution_count": 25,
   "metadata": {
    "id": "j2y3TAwo_Zcu"
   },
   "outputs": [
    {
     "data": {
      "text/plain": [
       "7003"
      ]
     },
     "execution_count": 25,
     "metadata": {},
     "output_type": "execute_result"
    }
   ],
   "source": [
    "# количество прослушиваний в Санкт-Петербурге по средам\n",
    "number_tracks('Wednesday', 'Saint-Petersburg')"
   ]
  },
  {
   "cell_type": "code",
   "execution_count": 26,
   "metadata": {
    "id": "vYDw5u_K_Zcu"
   },
   "outputs": [
    {
     "data": {
      "text/plain": [
       "15945"
      ]
     },
     "execution_count": 26,
     "metadata": {},
     "output_type": "execute_result"
    }
   ],
   "source": [
    "# количество прослушиваний в Москве по пятницам\n",
    "number_tracks('Friday', 'Moscow')"
   ]
  },
  {
   "cell_type": "code",
   "execution_count": 27,
   "metadata": {
    "id": "8_yzFtW3_Zcu"
   },
   "outputs": [
    {
     "data": {
      "text/plain": [
       "5895"
      ]
     },
     "execution_count": 27,
     "metadata": {},
     "output_type": "execute_result"
    }
   ],
   "source": [
    "# количество прослушиваний в Санкт-Петербурге по пятницам\n",
    "number_tracks('Friday', 'Saint-Petersburg')"
   ]
  },
  {
   "cell_type": "markdown",
   "metadata": {
    "id": "7QXffbO-_Zcu"
   },
   "source": [
    "Создайте c помощью конструктора `pd.DataFrame` таблицу, где\n",
    "* названия колонок — `['city', 'monday', 'wednesday', 'friday']`;\n",
    "* данные — результаты, которые вы получили с помощью `number_tracks`."
   ]
  },
  {
   "cell_type": "code",
   "execution_count": 28,
   "metadata": {
    "id": "APAcLpOr_Zcu",
    "scrolled": true
   },
   "outputs": [
    {
     "data": {
      "text/html": [
       "<div>\n",
       "<style scoped>\n",
       "    .dataframe tbody tr th:only-of-type {\n",
       "        vertical-align: middle;\n",
       "    }\n",
       "\n",
       "    .dataframe tbody tr th {\n",
       "        vertical-align: top;\n",
       "    }\n",
       "\n",
       "    .dataframe thead th {\n",
       "        text-align: right;\n",
       "    }\n",
       "</style>\n",
       "<table border=\"1\" class=\"dataframe\">\n",
       "  <thead>\n",
       "    <tr style=\"text-align: right;\">\n",
       "      <th></th>\n",
       "      <th>city</th>\n",
       "      <th>monday</th>\n",
       "      <th>wednesday</th>\n",
       "      <th>friday</th>\n",
       "    </tr>\n",
       "  </thead>\n",
       "  <tbody>\n",
       "    <tr>\n",
       "      <th>0</th>\n",
       "      <td>Moscow</td>\n",
       "      <td>15740</td>\n",
       "      <td>11056</td>\n",
       "      <td>15945</td>\n",
       "    </tr>\n",
       "    <tr>\n",
       "      <th>1</th>\n",
       "      <td>Saint-Petersburg</td>\n",
       "      <td>5614</td>\n",
       "      <td>7003</td>\n",
       "      <td>5895</td>\n",
       "    </tr>\n",
       "  </tbody>\n",
       "</table>\n",
       "</div>"
      ],
      "text/plain": [
       "               city monday wednesday friday\n",
       "0            Moscow  15740     11056  15945\n",
       "1  Saint-Petersburg   5614      7003   5895"
      ]
     },
     "execution_count": 28,
     "metadata": {},
     "output_type": "execute_result"
    }
   ],
   "source": [
    "# Таблица с результатами\n",
    "\n",
    "data = [['Moscow', '15740', '11056', '15945'],\n",
    "       ['Saint-Petersburg', '5614', '7003', '5895']]\n",
    "columns=['city', 'monday', 'wednesday', 'friday']\n",
    "\n",
    "pd.DataFrame(data=data, columns=columns)"
   ]
  },
  {
   "cell_type": "markdown",
   "metadata": {
    "id": "-EgPIHYu_Zcu"
   },
   "source": [
    "**Выводы**\n",
    "\n",
    "Данные показывают разницу поведения пользователей:\n",
    "\n",
    "- В Москве пик прослушиваний приходится на понедельник и пятницу, а в среду заметен спад.\n",
    "- В Петербурге, наоборот, больше слушают музыку по средам. Активность в понедельник и пятницу здесь почти в равной мере уступает среде.\n",
    "\n",
    "Значит, данные говорят в пользу первой гипотезы."
   ]
  },
  {
   "cell_type": "markdown",
   "metadata": {
    "id": "atZAxtq4_Zcu"
   },
   "source": [
    "### Музыка в начале и в конце недели"
   ]
  },
  {
   "cell_type": "markdown",
   "metadata": {
    "id": "eXrQqXFH_Zcu"
   },
   "source": [
    "Согласно второй гипотезе, утром в понедельник в Москве преобладают одни жанры, а в Петербурге — другие. Так же и вечером пятницы преобладают разные жанры — в зависимости от города."
   ]
  },
  {
   "cell_type": "markdown",
   "metadata": {
    "id": "S8UcW6Hw_Zcu"
   },
   "source": [
    "Сохраните таблицы с данными в две переменные:\n",
    "* по Москве — в `moscow_general`;\n",
    "* по Санкт-Петербургу — в `spb_general`."
   ]
  },
  {
   "cell_type": "code",
   "execution_count": 29,
   "metadata": {
    "id": "qeaFfM_P_Zcu"
   },
   "outputs": [],
   "source": [
    "# получение таблицы moscow_general из тех строк таблицы df, \n",
    "# для которых значение в столбце 'city' равно 'Moscow'\n",
    "moscow_general = df[df['city'] == 'Moscow']\n"
   ]
  },
  {
   "cell_type": "code",
   "execution_count": 30,
   "metadata": {
    "id": "ORaVRKto_Zcu"
   },
   "outputs": [],
   "source": [
    "# получение таблицы spb_general из тех строк таблицы df,\n",
    "# для которых значение в столбце 'city' равно 'Saint-Petersburg'\n",
    "spb_general = df[df['city'] == 'Saint-Petersburg']\n"
   ]
  },
  {
   "cell_type": "markdown",
   "metadata": {
    "id": "MEJV-CX2_Zcu"
   },
   "source": [
    "Создайте функцию `genre_weekday()` с четырьмя параметрами:\n",
    "* таблица (датафрейм) с данными,\n",
    "* день недели,\n",
    "* начальная временная метка в формате 'hh:mm', \n",
    "* последняя временная метка в формате 'hh:mm'.\n",
    "\n",
    "Функция должна вернуть информацию о топ-10 жанров тех треков, которые прослушивали в указанный день, в промежутке между двумя отметками времени."
   ]
  },
  {
   "cell_type": "code",
   "execution_count": 31,
   "metadata": {
    "id": "laJT9BYl_Zcu"
   },
   "outputs": [],
   "source": [
    "# Объявление функции genre_weekday() с параметрами table, day, time1, time2,\n",
    "# которая возвращает информацию о самых популярных жанрах в указанный день в\n",
    "# заданное время:\n",
    "# 1) в переменную genre_df сохраняются те строки переданного датафрейма table, для\n",
    "#    которых одновременно:\n",
    "#    - значение в столбце day равно значению аргумента day\n",
    "#    - значение в столбце time больше значения аргумента time1\n",
    "#    - значение в столбце time меньше значения аргумента time2\n",
    "#    Используйте последовательную фильтрацию с помощью логической индексации.\n",
    "# 2) сгруппировать датафрейм genre_df по столбцу genre, взять один из его\n",
    "#    столбцов и посчитать методом count() количество записей для каждого из\n",
    "#    присутствующих жанров, получившийся Series записать в переменную\n",
    "#    genre_df_count\n",
    "# 3) отсортировать genre_df_count по убыванию встречаемости и сохранить\n",
    "#    в переменную genre_df_sorted\n",
    "# 4) вернуть Series из 10 первых значений genre_df_sorted, это будут топ-10\n",
    "#    популярных жанров (в указанный день, в заданное время)\n",
    "\n",
    "def genre_weekday(table, day, time1, time2):\n",
    "        # Фильтруем\n",
    "        genre_df = table[table['day'] == day]\n",
    "        genre_df = genre_df[genre_df['time'] > time1]\n",
    "        genre_df = genre_df[genre_df['time'] < time2]\n",
    "        \n",
    "        #Группируем\n",
    "        genre_df_count = genre_df.groupby('genre')['day'].count()\n",
    "        \n",
    "        # Сортируем\n",
    "        genre_df_sorted = genre_df_count.sort_values(ascending=False)\n",
    "        \n",
    "        return genre_df_sorted.head(10)"
   ]
  },
  {
   "cell_type": "markdown",
   "metadata": {
    "id": "la2s2_PF_Zcu"
   },
   "source": [
    "Cравните результаты функции `genre_weekday()` для Москвы и Санкт-Петербурга в понедельник утром (с 7:00 до 11:00) и в пятницу вечером (с 17:00 до 23:00):"
   ]
  },
  {
   "cell_type": "code",
   "execution_count": 32,
   "metadata": {
    "id": "yz7itPUQ_Zcu"
   },
   "outputs": [
    {
     "data": {
      "text/plain": [
       "genre\n",
       "pop            781\n",
       "dance          549\n",
       "electronic     480\n",
       "rock           474\n",
       "hiphop         286\n",
       "ruspop         186\n",
       "world          181\n",
       "rusrap         175\n",
       "alternative    164\n",
       "unknown        161\n",
       "Name: day, dtype: int64"
      ]
     },
     "execution_count": 32,
     "metadata": {},
     "output_type": "execute_result"
    }
   ],
   "source": [
    "# вызов функции для утра понедельника в Москве (вместо df — таблица moscow_general)\n",
    "# объекты, хранящие время, являются строками и сравниваются как строки\n",
    "# пример вызова: genre_weekday(moscow_general, 'Monday', '07:00', '11:00')\n",
    "genre_weekday(moscow_general, 'Monday', '07:00', '11:00')"
   ]
  },
  {
   "cell_type": "code",
   "execution_count": 33,
   "metadata": {
    "id": "kwUcHPdy_Zcu"
   },
   "outputs": [
    {
     "data": {
      "text/plain": [
       "genre\n",
       "pop            218\n",
       "dance          182\n",
       "rock           162\n",
       "electronic     147\n",
       "hiphop          80\n",
       "ruspop          64\n",
       "alternative     58\n",
       "rusrap          55\n",
       "jazz            44\n",
       "classical       40\n",
       "Name: day, dtype: int64"
      ]
     },
     "execution_count": 33,
     "metadata": {},
     "output_type": "execute_result"
    }
   ],
   "source": [
    "# вызов функции для утра понедельника в Петербурге (вместо df — таблица spb_general)\n",
    "genre_weekday(spb_general, 'Monday', '07:00', '11:00')"
   ]
  },
  {
   "cell_type": "code",
   "execution_count": 34,
   "metadata": {
    "id": "EzXVRE1o_Zcu"
   },
   "outputs": [
    {
     "data": {
      "text/plain": [
       "genre\n",
       "pop            713\n",
       "rock           517\n",
       "dance          495\n",
       "electronic     482\n",
       "hiphop         273\n",
       "world          208\n",
       "ruspop         170\n",
       "alternative    163\n",
       "classical      163\n",
       "rusrap         142\n",
       "Name: day, dtype: int64"
      ]
     },
     "execution_count": 34,
     "metadata": {},
     "output_type": "execute_result"
    }
   ],
   "source": [
    "# вызов функции для вечера пятницы в Москве\n",
    "genre_weekday(moscow_general, 'Friday', '17:00', '23:00')"
   ]
  },
  {
   "cell_type": "code",
   "execution_count": 35,
   "metadata": {
    "id": "JZaEKu5v_Zcu",
    "scrolled": true
   },
   "outputs": [
    {
     "data": {
      "text/plain": [
       "genre\n",
       "pop            256\n",
       "electronic     216\n",
       "rock           216\n",
       "dance          210\n",
       "hiphop          97\n",
       "alternative     63\n",
       "jazz            61\n",
       "classical       60\n",
       "rusrap          59\n",
       "world           54\n",
       "Name: day, dtype: int64"
      ]
     },
     "execution_count": 35,
     "metadata": {},
     "output_type": "execute_result"
    }
   ],
   "source": [
    "# вызов функции для вечера пятницы в Петербурге\n",
    "genre_weekday(spb_general, 'Friday', '17:00', '23:00')"
   ]
  },
  {
   "cell_type": "markdown",
   "metadata": {
    "id": "wrCe4MNX_Zcu"
   },
   "source": [
    "**Выводы**\n",
    "\n",
    "Если сравнить топ-10 жанров в понедельник утром, можно сделать такие выводы:\n",
    "\n",
    "1. В Москве и Петербурге слушают похожую музыку. Единственное отличие — в московский рейтинг вошёл жанр “world”, а в петербургский — джаз и классика.\n",
    "\n",
    "2. В Москве пропущенных значений оказалось так много, что значение `'unknown'` заняло десятое место среди самых популярных жанров. Значит, пропущенные значения занимают существенную долю в данных и угрожают достоверности исследования.\n",
    "\n",
    "Вечер пятницы не меняет эту картину. Некоторые жанры поднимаются немного выше, другие спускаются, но в целом топ-10 остаётся тем же самым.\n",
    "\n",
    "Таким образом, вторая гипотеза подтвердилась лишь частично:\n",
    "* Пользователи слушают похожую музыку в начале недели и в конце.\n",
    "* Разница между Москвой и Петербургом не слишком выражена. В Москве чаще слушают русскую популярную музыку, в Петербурге — джаз.\n",
    "\n",
    "Однако пропуски в данных ставят под сомнение этот результат. В Москве их так много, что рейтинг топ-10 мог бы выглядеть иначе, если бы не утерянные  данные о жанрах."
   ]
  },
  {
   "cell_type": "markdown",
   "metadata": {
    "id": "JolODAqr_Zcu"
   },
   "source": [
    "### Жанровые предпочтения в Москве и Петербурге\n",
    "\n",
    "Гипотеза: Петербург — столица рэпа, музыку этого жанра там слушают чаще, чем в Москве.  А Москва — город контрастов, в котором, тем не менее, преобладает поп-музыка."
   ]
  },
  {
   "cell_type": "markdown",
   "metadata": {
    "id": "DlegSvaT_Zcu"
   },
   "source": [
    "Сгруппируйте таблицу `moscow_general` по жанру и посчитайте прослушивания треков каждого жанра методом `count()`. Затем отсортируйте результат в порядке убывания и сохраните его в таблице `moscow_genres`."
   ]
  },
  {
   "cell_type": "code",
   "execution_count": 73,
   "metadata": {
    "id": "r19lIPke_Zcu"
   },
   "outputs": [],
   "source": [
    "# одной строкой: группировка таблицы moscow_general по столбцу 'genre', \n",
    "# подсчёт числа значений 'genre' в этой группировке методом count(), \n",
    "# сортировка получившегося Series в порядке убывания и сохранение в moscow_genres\n",
    "\n",
    "moscow_genres = moscow_general.groupby('genre')['track'].count()\n",
    "moscow_genres = moscow_genres.sort_values(ascending=False)\n",
    "\n",
    "#moscow_genres"
   ]
  },
  {
   "cell_type": "markdown",
   "metadata": {
    "id": "6kMuomxTiIr8"
   },
   "source": [
    "Выведите на экран первые десять строк `moscow_genres`:"
   ]
  },
  {
   "cell_type": "code",
   "execution_count": 74,
   "metadata": {
    "id": "WhCSooF8_Zcv"
   },
   "outputs": [
    {
     "data": {
      "text/plain": [
       "genre\n",
       "pop            5892\n",
       "dance          4435\n",
       "rock           3965\n",
       "electronic     3786\n",
       "hiphop         2096\n",
       "classical      1616\n",
       "world          1432\n",
       "alternative    1379\n",
       "ruspop         1372\n",
       "rusrap         1161\n",
       "Name: track, dtype: int64"
      ]
     },
     "execution_count": 74,
     "metadata": {},
     "output_type": "execute_result"
    }
   ],
   "source": [
    "# просмотр первых 10 строк moscow_genres\n",
    "moscow_genres.head(10)"
   ]
  },
  {
   "cell_type": "markdown",
   "metadata": {
    "id": "cnPG2vnN_Zcv"
   },
   "source": [
    "Теперь повторите то же и для Петербурга.\n",
    "\n",
    "Сгруппируйте таблицу `spb_general` по жанру. Посчитайте прослушивания треков каждого жанра. Результат отсортируйте в порядке убывания и сохраните в таблице `spb_genres`:\n"
   ]
  },
  {
   "cell_type": "code",
   "execution_count": 76,
   "metadata": {
    "id": "gluLIpE7_Zcv",
    "scrolled": true
   },
   "outputs": [],
   "source": [
    "# одной строкой: группировка таблицы spb_general по столбцу 'genre', \n",
    "# подсчёт числа значений 'genre' в этой группировке методом count(), \n",
    "# сортировка получившегося Series в порядке убывания и сохранение в spb_genres\n",
    "\n",
    "spb_genres = spb_general.groupby('genre')['track'].count()\n",
    "spb_genres = spb_genres.sort_values(ascending=False)\n",
    "\n",
    "#spb_genres"
   ]
  },
  {
   "cell_type": "markdown",
   "metadata": {
    "id": "5Doha_ODgyQ8"
   },
   "source": [
    "Выведите на экран первые десять строк `spb_genres`:"
   ]
  },
  {
   "cell_type": "code",
   "execution_count": 77,
   "metadata": {
    "id": "uaGJHjVU_Zcv"
   },
   "outputs": [
    {
     "data": {
      "text/plain": [
       "genre\n",
       "pop            2431\n",
       "dance          1932\n",
       "rock           1879\n",
       "electronic     1736\n",
       "hiphop          960\n",
       "alternative     649\n",
       "classical       646\n",
       "rusrap          564\n",
       "ruspop          538\n",
       "world           515\n",
       "Name: track, dtype: int64"
      ]
     },
     "execution_count": 77,
     "metadata": {},
     "output_type": "execute_result"
    }
   ],
   "source": [
    "# просмотр первых 10 строк spb_genres\n",
    "spb_genres.head(10)"
   ]
  },
  {
   "cell_type": "markdown",
   "metadata": {
    "id": "RY51YJYu_Zcv"
   },
   "source": [
    "**Выводы**"
   ]
  },
  {
   "cell_type": "markdown",
   "metadata": {
    "id": "nVhnJEm__Zcv"
   },
   "source": [
    "Гипотеза частично подтвердилась:\n",
    "* Поп-музыка — самый популярный жанр в Москве, как и предполагала гипотеза. Более того, в топ-10 жанров встречается близкий жанр — русская популярная музыка.\n",
    "* Вопреки ожиданиям, рэп одинаково популярен в Москве и Петербурге. \n"
   ]
  },
  {
   "cell_type": "markdown",
   "metadata": {
    "id": "ykKQ0N65_Zcv"
   },
   "source": [
    "## Итоги исследования"
   ]
  },
  {
   "cell_type": "markdown",
   "metadata": {
    "id": "tjUwbHb3_Zcv"
   },
   "source": [
    "Вы проверили три гипотезы и установили:\n",
    "\n",
    "1. День недели по-разному влияет на активность пользователей в Москве и Петербурге. \n",
    "\n",
    "Первая гипотеза полностью подтвердилась.\n",
    "\n",
    "2. Музыкальные предпочтения не сильно меняются в течение недели — будь то Москва или Петербург. Небольшие различия заметны в начале недели, по понедельникам:\n",
    "* в Москве слушают музыку жанра “world”,\n",
    "* в Петербурге — джаз и классику.\n",
    "\n",
    "Таким образом, вторая гипотеза подтвердилась лишь отчасти. Этот результат мог оказаться иным, если бы не пропуски в данных.\n",
    "\n",
    "3. Во вкусах пользователей Москвы и Петербурга больше общего чем различий. Вопреки ожиданиям, предпочтения жанров в Петербурге напоминают московские.\n",
    "\n",
    "Третья гипотеза не подтвердилась. Если различия в предпочтениях и существуют, на основной массе пользователей они незаметны.\n",
    "\n",
    "**На практике исследования содержат проверки статистических гипотез.**\n",
    "Из данных одного сервиса не всегда можно сделать вывод о всех жителях города.\n",
    "Проверки статистических гипотез покажут, насколько они достоверны, исходя из имеющихся данных. \n",
    "С методами проверок гипотез вы ещё познакомитесь в следующих темах."
   ]
  }
 ],
 "metadata": {
  "ExecuteTimeLog": [
   {
    "duration": 49,
    "start_time": "2022-03-20T16:48:16.260Z"
   },
   {
    "duration": 381,
    "start_time": "2022-03-20T16:48:20.738Z"
   },
   {
    "duration": 3,
    "start_time": "2022-03-20T16:48:23.170Z"
   },
   {
    "duration": 148,
    "start_time": "2022-03-20T16:48:34.253Z"
   },
   {
    "duration": 16,
    "start_time": "2022-03-20T16:48:44.546Z"
   },
   {
    "duration": 11,
    "start_time": "2022-03-20T16:48:47.829Z"
   },
   {
    "duration": 29,
    "start_time": "2022-03-20T16:49:09.174Z"
   },
   {
    "duration": 32,
    "start_time": "2022-03-20T16:49:14.055Z"
   },
   {
    "duration": 29,
    "start_time": "2022-03-20T16:49:17.685Z"
   },
   {
    "duration": 31,
    "start_time": "2022-03-20T16:49:21.401Z"
   },
   {
    "duration": 29,
    "start_time": "2022-03-20T16:49:23.751Z"
   },
   {
    "duration": 29,
    "start_time": "2022-03-20T16:49:26.856Z"
   },
   {
    "duration": 47,
    "start_time": "2022-03-21T06:48:12.466Z"
   },
   {
    "duration": 6,
    "start_time": "2022-03-21T06:48:18.462Z"
   },
   {
    "duration": 389,
    "start_time": "2022-03-21T06:48:33.473Z"
   },
   {
    "duration": 153,
    "start_time": "2022-03-21T06:48:33.864Z"
   },
   {
    "duration": 22,
    "start_time": "2022-03-21T06:48:34.018Z"
   },
   {
    "duration": 32,
    "start_time": "2022-03-21T06:48:34.041Z"
   },
   {
    "duration": 4,
    "start_time": "2022-03-21T06:48:34.075Z"
   },
   {
    "duration": 13,
    "start_time": "2022-03-21T06:48:34.080Z"
   },
   {
    "duration": 4,
    "start_time": "2022-03-21T06:48:34.095Z"
   },
   {
    "duration": 5,
    "start_time": "2022-03-21T06:48:34.101Z"
   },
   {
    "duration": 8,
    "start_time": "2022-03-21T06:48:34.107Z"
   },
   {
    "duration": 3,
    "start_time": "2022-03-21T06:48:34.132Z"
   },
   {
    "duration": 5,
    "start_time": "2022-03-21T06:48:34.137Z"
   },
   {
    "duration": 5,
    "start_time": "2022-03-21T06:48:34.144Z"
   },
   {
    "duration": 4,
    "start_time": "2022-03-21T06:48:34.151Z"
   },
   {
    "duration": 4,
    "start_time": "2022-03-21T06:48:34.157Z"
   },
   {
    "duration": 5,
    "start_time": "2022-03-21T06:48:34.163Z"
   },
   {
    "duration": 5,
    "start_time": "2022-03-21T06:48:34.169Z"
   },
   {
    "duration": 9,
    "start_time": "2022-03-21T06:48:34.176Z"
   },
   {
    "duration": 5,
    "start_time": "2022-03-21T06:48:34.187Z"
   },
   {
    "duration": 5,
    "start_time": "2022-03-21T06:48:34.193Z"
   },
   {
    "duration": 33,
    "start_time": "2022-03-21T06:48:34.200Z"
   },
   {
    "duration": 7,
    "start_time": "2022-03-21T06:48:34.235Z"
   },
   {
    "duration": 6,
    "start_time": "2022-03-21T06:48:34.243Z"
   },
   {
    "duration": 4,
    "start_time": "2022-03-21T06:48:34.251Z"
   },
   {
    "duration": 4,
    "start_time": "2022-03-21T06:48:34.257Z"
   },
   {
    "duration": 9,
    "start_time": "2022-03-21T06:48:34.262Z"
   },
   {
    "duration": 10,
    "start_time": "2022-03-21T06:48:34.272Z"
   },
   {
    "duration": 9,
    "start_time": "2022-03-21T06:48:34.283Z"
   },
   {
    "duration": 4,
    "start_time": "2022-03-21T06:48:34.295Z"
   },
   {
    "duration": 6,
    "start_time": "2022-03-21T06:48:34.300Z"
   },
   {
    "duration": 6,
    "start_time": "2022-03-21T06:48:34.307Z"
   },
   {
    "duration": 8,
    "start_time": "2022-03-21T06:48:34.314Z"
   },
   {
    "duration": 2,
    "start_time": "2022-03-21T06:48:34.333Z"
   },
   {
    "duration": 11,
    "start_time": "2022-03-21T06:48:34.337Z"
   },
   {
    "duration": 6,
    "start_time": "2022-03-21T06:48:34.350Z"
   },
   {
    "duration": 6,
    "start_time": "2022-03-21T06:48:34.358Z"
   },
   {
    "duration": 8,
    "start_time": "2022-03-21T06:48:34.366Z"
   },
   {
    "duration": 10,
    "start_time": "2022-03-21T06:48:34.375Z"
   },
   {
    "duration": 14,
    "start_time": "2022-03-21T06:48:34.386Z"
   },
   {
    "duration": 4,
    "start_time": "2022-03-21T06:48:45.914Z"
   },
   {
    "duration": 15,
    "start_time": "2022-03-21T06:50:41.519Z"
   },
   {
    "duration": 4,
    "start_time": "2022-03-21T06:50:46.970Z"
   },
   {
    "duration": 42,
    "start_time": "2022-03-21T06:53:09.073Z"
   },
   {
    "duration": 3,
    "start_time": "2022-03-21T06:53:43.480Z"
   },
   {
    "duration": 28,
    "start_time": "2022-03-21T07:00:09.373Z"
   },
   {
    "duration": 10,
    "start_time": "2022-03-21T07:00:34.846Z"
   },
   {
    "duration": 8,
    "start_time": "2022-03-21T07:01:14.700Z"
   },
   {
    "duration": 8,
    "start_time": "2022-03-21T07:03:53.108Z"
   },
   {
    "duration": 16,
    "start_time": "2022-03-21T07:04:17.783Z"
   },
   {
    "duration": 44,
    "start_time": "2022-03-21T07:04:20.303Z"
   },
   {
    "duration": 15,
    "start_time": "2022-03-21T07:04:35.848Z"
   },
   {
    "duration": 43,
    "start_time": "2022-03-21T07:04:39.378Z"
   },
   {
    "duration": 18,
    "start_time": "2022-03-21T07:05:08.024Z"
   },
   {
    "duration": 10,
    "start_time": "2022-03-21T07:05:30.974Z"
   },
   {
    "duration": 11,
    "start_time": "2022-03-21T07:06:10.789Z"
   },
   {
    "duration": 11,
    "start_time": "2022-03-21T07:06:13.747Z"
   },
   {
    "duration": 10,
    "start_time": "2022-03-21T07:06:20.004Z"
   },
   {
    "duration": 9,
    "start_time": "2022-03-21T07:06:23.677Z"
   },
   {
    "duration": 2,
    "start_time": "2022-03-21T07:06:47.405Z"
   },
   {
    "duration": 11,
    "start_time": "2022-03-21T07:06:48.984Z"
   },
   {
    "duration": 14,
    "start_time": "2022-03-21T07:06:50.791Z"
   },
   {
    "duration": 11,
    "start_time": "2022-03-21T07:06:53.877Z"
   },
   {
    "duration": 9,
    "start_time": "2022-03-21T07:06:56.687Z"
   },
   {
    "duration": 3,
    "start_time": "2022-03-21T07:07:07.748Z"
   },
   {
    "duration": 154,
    "start_time": "2022-03-21T07:07:07.753Z"
   },
   {
    "duration": 28,
    "start_time": "2022-03-21T07:07:07.909Z"
   },
   {
    "duration": 33,
    "start_time": "2022-03-21T07:07:07.939Z"
   },
   {
    "duration": 4,
    "start_time": "2022-03-21T07:07:07.974Z"
   },
   {
    "duration": 12,
    "start_time": "2022-03-21T07:07:07.979Z"
   },
   {
    "duration": 3,
    "start_time": "2022-03-21T07:07:07.993Z"
   },
   {
    "duration": 79,
    "start_time": "2022-03-21T07:07:07.998Z"
   },
   {
    "duration": 3,
    "start_time": "2022-03-21T07:07:08.078Z"
   },
   {
    "duration": 62,
    "start_time": "2022-03-21T07:07:08.083Z"
   },
   {
    "duration": 2,
    "start_time": "2022-03-21T07:07:08.148Z"
   },
   {
    "duration": 8,
    "start_time": "2022-03-21T07:07:08.152Z"
   },
   {
    "duration": 6,
    "start_time": "2022-03-21T07:07:08.163Z"
   },
   {
    "duration": 8,
    "start_time": "2022-03-21T07:07:08.171Z"
   },
   {
    "duration": 9,
    "start_time": "2022-03-21T07:07:08.181Z"
   },
   {
    "duration": 4,
    "start_time": "2022-03-21T07:07:08.192Z"
   },
   {
    "duration": 5,
    "start_time": "2022-03-21T07:07:08.198Z"
   },
   {
    "duration": 6,
    "start_time": "2022-03-21T07:07:08.205Z"
   },
   {
    "duration": 2,
    "start_time": "2022-03-21T07:07:08.234Z"
   },
   {
    "duration": 10,
    "start_time": "2022-03-21T07:07:08.238Z"
   },
   {
    "duration": 6,
    "start_time": "2022-03-21T07:07:08.250Z"
   },
   {
    "duration": 8,
    "start_time": "2022-03-21T07:07:08.257Z"
   },
   {
    "duration": 7,
    "start_time": "2022-03-21T07:07:08.266Z"
   },
   {
    "duration": 7,
    "start_time": "2022-03-21T07:07:08.275Z"
   },
   {
    "duration": 5,
    "start_time": "2022-03-21T07:07:08.283Z"
   },
   {
    "duration": 5,
    "start_time": "2022-03-21T07:07:08.290Z"
   },
   {
    "duration": 5,
    "start_time": "2022-03-21T07:07:08.297Z"
   },
   {
    "duration": 5,
    "start_time": "2022-03-21T07:07:08.303Z"
   },
   {
    "duration": 4,
    "start_time": "2022-03-21T07:07:08.311Z"
   },
   {
    "duration": 17,
    "start_time": "2022-03-21T07:07:08.317Z"
   },
   {
    "duration": 10,
    "start_time": "2022-03-21T07:07:08.335Z"
   },
   {
    "duration": 7,
    "start_time": "2022-03-21T07:07:08.347Z"
   },
   {
    "duration": 8,
    "start_time": "2022-03-21T07:07:08.355Z"
   },
   {
    "duration": 9,
    "start_time": "2022-03-21T07:07:08.364Z"
   },
   {
    "duration": 4,
    "start_time": "2022-03-21T07:07:08.375Z"
   },
   {
    "duration": 9,
    "start_time": "2022-03-21T07:07:08.381Z"
   },
   {
    "duration": 9,
    "start_time": "2022-03-21T07:07:08.392Z"
   },
   {
    "duration": 5,
    "start_time": "2022-03-21T07:07:08.402Z"
   },
   {
    "duration": 17,
    "start_time": "2022-03-21T07:07:26.014Z"
   },
   {
    "duration": 44,
    "start_time": "2022-03-21T07:07:27.377Z"
   },
   {
    "duration": 20,
    "start_time": "2022-03-21T07:07:30.526Z"
   },
   {
    "duration": 11,
    "start_time": "2022-03-21T07:07:32.965Z"
   },
   {
    "duration": 2,
    "start_time": "2022-03-21T07:07:39.777Z"
   },
   {
    "duration": 12,
    "start_time": "2022-03-21T07:07:41.866Z"
   },
   {
    "duration": 3,
    "start_time": "2022-03-21T07:07:45.593Z"
   },
   {
    "duration": 172,
    "start_time": "2022-03-21T07:07:45.598Z"
   },
   {
    "duration": 10,
    "start_time": "2022-03-21T07:07:45.772Z"
   },
   {
    "duration": 62,
    "start_time": "2022-03-21T07:07:45.784Z"
   },
   {
    "duration": 5,
    "start_time": "2022-03-21T07:07:45.849Z"
   },
   {
    "duration": 12,
    "start_time": "2022-03-21T07:07:45.856Z"
   },
   {
    "duration": 4,
    "start_time": "2022-03-21T07:07:45.869Z"
   },
   {
    "duration": 65,
    "start_time": "2022-03-21T07:07:45.875Z"
   },
   {
    "duration": 3,
    "start_time": "2022-03-21T07:07:45.941Z"
   },
   {
    "duration": 49,
    "start_time": "2022-03-21T07:07:45.945Z"
   },
   {
    "duration": 3,
    "start_time": "2022-03-21T07:07:45.996Z"
   },
   {
    "duration": 6,
    "start_time": "2022-03-21T07:07:46.000Z"
   },
   {
    "duration": 5,
    "start_time": "2022-03-21T07:07:46.007Z"
   },
   {
    "duration": 20,
    "start_time": "2022-03-21T07:07:46.013Z"
   },
   {
    "duration": 4,
    "start_time": "2022-03-21T07:07:46.035Z"
   },
   {
    "duration": 4,
    "start_time": "2022-03-21T07:07:46.040Z"
   },
   {
    "duration": 4,
    "start_time": "2022-03-21T07:07:46.045Z"
   },
   {
    "duration": 4,
    "start_time": "2022-03-21T07:07:46.051Z"
   },
   {
    "duration": 5,
    "start_time": "2022-03-21T07:07:46.056Z"
   },
   {
    "duration": 7,
    "start_time": "2022-03-21T07:07:46.062Z"
   },
   {
    "duration": 10,
    "start_time": "2022-03-21T07:07:46.071Z"
   },
   {
    "duration": 5,
    "start_time": "2022-03-21T07:07:46.083Z"
   },
   {
    "duration": 5,
    "start_time": "2022-03-21T07:07:46.089Z"
   },
   {
    "duration": 37,
    "start_time": "2022-03-21T07:07:46.096Z"
   },
   {
    "duration": 5,
    "start_time": "2022-03-21T07:07:46.135Z"
   },
   {
    "duration": 6,
    "start_time": "2022-03-21T07:07:46.142Z"
   },
   {
    "duration": 4,
    "start_time": "2022-03-21T07:07:46.149Z"
   },
   {
    "duration": 4,
    "start_time": "2022-03-21T07:07:46.155Z"
   },
   {
    "duration": 3,
    "start_time": "2022-03-21T07:07:46.162Z"
   },
   {
    "duration": 4,
    "start_time": "2022-03-21T07:07:46.167Z"
   },
   {
    "duration": 6,
    "start_time": "2022-03-21T07:07:46.173Z"
   },
   {
    "duration": 10,
    "start_time": "2022-03-21T07:07:46.180Z"
   },
   {
    "duration": 7,
    "start_time": "2022-03-21T07:07:46.192Z"
   },
   {
    "duration": 7,
    "start_time": "2022-03-21T07:07:46.201Z"
   },
   {
    "duration": 5,
    "start_time": "2022-03-21T07:07:46.210Z"
   },
   {
    "duration": 5,
    "start_time": "2022-03-21T07:07:46.216Z"
   },
   {
    "duration": 7,
    "start_time": "2022-03-21T07:07:46.233Z"
   },
   {
    "duration": 6,
    "start_time": "2022-03-21T07:07:46.242Z"
   },
   {
    "duration": 25,
    "start_time": "2022-03-21T07:08:07.357Z"
   },
   {
    "duration": 74,
    "start_time": "2022-03-21T07:08:08.939Z"
   },
   {
    "duration": 15,
    "start_time": "2022-03-21T07:08:46.230Z"
   },
   {
    "duration": 76,
    "start_time": "2022-03-21T07:08:52.634Z"
   },
   {
    "duration": 14,
    "start_time": "2022-03-21T07:08:56.269Z"
   },
   {
    "duration": 11,
    "start_time": "2022-03-21T07:08:58.023Z"
   },
   {
    "duration": 8,
    "start_time": "2022-03-21T07:09:15.551Z"
   },
   {
    "duration": 2,
    "start_time": "2022-03-21T07:09:31.075Z"
   },
   {
    "duration": 160,
    "start_time": "2022-03-21T07:09:31.079Z"
   },
   {
    "duration": 10,
    "start_time": "2022-03-21T07:09:31.241Z"
   },
   {
    "duration": 42,
    "start_time": "2022-03-21T07:09:31.253Z"
   },
   {
    "duration": 4,
    "start_time": "2022-03-21T07:09:31.298Z"
   },
   {
    "duration": 29,
    "start_time": "2022-03-21T07:09:31.304Z"
   },
   {
    "duration": 4,
    "start_time": "2022-03-21T07:09:31.335Z"
   },
   {
    "duration": 80,
    "start_time": "2022-03-21T07:09:31.341Z"
   },
   {
    "duration": 5,
    "start_time": "2022-03-21T07:09:31.432Z"
   },
   {
    "duration": 77,
    "start_time": "2022-03-21T07:09:31.439Z"
   },
   {
    "duration": 3,
    "start_time": "2022-03-21T07:09:31.519Z"
   },
   {
    "duration": 8,
    "start_time": "2022-03-21T07:09:31.532Z"
   },
   {
    "duration": 12,
    "start_time": "2022-03-21T07:09:31.541Z"
   },
   {
    "duration": 29,
    "start_time": "2022-03-21T07:09:31.555Z"
   },
   {
    "duration": 12,
    "start_time": "2022-03-21T07:09:31.585Z"
   },
   {
    "duration": 9,
    "start_time": "2022-03-21T07:09:31.599Z"
   },
   {
    "duration": 8,
    "start_time": "2022-03-21T07:09:31.609Z"
   },
   {
    "duration": 5,
    "start_time": "2022-03-21T07:09:31.619Z"
   },
   {
    "duration": 5,
    "start_time": "2022-03-21T07:09:31.625Z"
   },
   {
    "duration": 6,
    "start_time": "2022-03-21T07:09:31.632Z"
   },
   {
    "duration": 14,
    "start_time": "2022-03-21T07:09:31.640Z"
   },
   {
    "duration": 5,
    "start_time": "2022-03-21T07:09:31.656Z"
   },
   {
    "duration": 5,
    "start_time": "2022-03-21T07:09:31.663Z"
   },
   {
    "duration": 6,
    "start_time": "2022-03-21T07:09:31.669Z"
   },
   {
    "duration": 5,
    "start_time": "2022-03-21T07:09:31.677Z"
   },
   {
    "duration": 7,
    "start_time": "2022-03-21T07:09:31.684Z"
   },
   {
    "duration": 5,
    "start_time": "2022-03-21T07:09:31.693Z"
   },
   {
    "duration": 5,
    "start_time": "2022-03-21T07:09:31.699Z"
   },
   {
    "duration": 3,
    "start_time": "2022-03-21T07:09:31.708Z"
   },
   {
    "duration": 6,
    "start_time": "2022-03-21T07:09:31.712Z"
   },
   {
    "duration": 13,
    "start_time": "2022-03-21T07:09:31.720Z"
   },
   {
    "duration": 5,
    "start_time": "2022-03-21T07:09:31.734Z"
   },
   {
    "duration": 7,
    "start_time": "2022-03-21T07:09:31.741Z"
   },
   {
    "duration": 6,
    "start_time": "2022-03-21T07:09:31.750Z"
   },
   {
    "duration": 14,
    "start_time": "2022-03-21T07:09:31.757Z"
   },
   {
    "duration": 8,
    "start_time": "2022-03-21T07:09:31.773Z"
   },
   {
    "duration": 5,
    "start_time": "2022-03-21T07:09:31.783Z"
   },
   {
    "duration": 6,
    "start_time": "2022-03-21T07:09:31.789Z"
   },
   {
    "duration": 4,
    "start_time": "2022-03-21T07:11:59.245Z"
   },
   {
    "duration": 45,
    "start_time": "2022-03-21T07:12:02.044Z"
   },
   {
    "duration": 12,
    "start_time": "2022-03-21T07:12:28.289Z"
   },
   {
    "duration": 12,
    "start_time": "2022-03-21T07:12:30.863Z"
   },
   {
    "duration": 2,
    "start_time": "2022-03-21T07:12:40.012Z"
   },
   {
    "duration": 176,
    "start_time": "2022-03-21T07:12:40.018Z"
   },
   {
    "duration": 11,
    "start_time": "2022-03-21T07:12:40.196Z"
   },
   {
    "duration": 50,
    "start_time": "2022-03-21T07:12:40.210Z"
   },
   {
    "duration": 5,
    "start_time": "2022-03-21T07:12:40.263Z"
   },
   {
    "duration": 9,
    "start_time": "2022-03-21T07:12:40.270Z"
   },
   {
    "duration": 4,
    "start_time": "2022-03-21T07:12:40.281Z"
   },
   {
    "duration": 74,
    "start_time": "2022-03-21T07:12:40.287Z"
   },
   {
    "duration": 12,
    "start_time": "2022-03-21T07:12:40.363Z"
   },
   {
    "duration": 16,
    "start_time": "2022-03-21T07:12:40.377Z"
   },
   {
    "duration": 3,
    "start_time": "2022-03-21T07:12:40.397Z"
   },
   {
    "duration": 7,
    "start_time": "2022-03-21T07:12:40.401Z"
   },
   {
    "duration": 24,
    "start_time": "2022-03-21T07:12:40.410Z"
   },
   {
    "duration": 4,
    "start_time": "2022-03-21T07:12:40.436Z"
   },
   {
    "duration": 5,
    "start_time": "2022-03-21T07:12:40.441Z"
   },
   {
    "duration": 4,
    "start_time": "2022-03-21T07:12:40.448Z"
   },
   {
    "duration": 4,
    "start_time": "2022-03-21T07:12:40.454Z"
   },
   {
    "duration": 5,
    "start_time": "2022-03-21T07:12:40.460Z"
   },
   {
    "duration": 4,
    "start_time": "2022-03-21T07:12:40.466Z"
   },
   {
    "duration": 4,
    "start_time": "2022-03-21T07:12:40.472Z"
   },
   {
    "duration": 7,
    "start_time": "2022-03-21T07:12:40.478Z"
   },
   {
    "duration": 5,
    "start_time": "2022-03-21T07:12:40.486Z"
   },
   {
    "duration": 5,
    "start_time": "2022-03-21T07:12:40.492Z"
   },
   {
    "duration": 4,
    "start_time": "2022-03-21T07:12:40.498Z"
   },
   {
    "duration": 29,
    "start_time": "2022-03-21T07:12:40.504Z"
   },
   {
    "duration": 8,
    "start_time": "2022-03-21T07:12:40.534Z"
   },
   {
    "duration": 6,
    "start_time": "2022-03-21T07:12:40.543Z"
   },
   {
    "duration": 6,
    "start_time": "2022-03-21T07:12:40.550Z"
   },
   {
    "duration": 4,
    "start_time": "2022-03-21T07:12:40.559Z"
   },
   {
    "duration": 6,
    "start_time": "2022-03-21T07:12:40.564Z"
   },
   {
    "duration": 7,
    "start_time": "2022-03-21T07:12:40.571Z"
   },
   {
    "duration": 4,
    "start_time": "2022-03-21T07:12:40.580Z"
   },
   {
    "duration": 7,
    "start_time": "2022-03-21T07:12:40.586Z"
   },
   {
    "duration": 4,
    "start_time": "2022-03-21T07:12:40.595Z"
   },
   {
    "duration": 5,
    "start_time": "2022-03-21T07:12:40.600Z"
   },
   {
    "duration": 3,
    "start_time": "2022-03-21T07:12:40.607Z"
   },
   {
    "duration": 21,
    "start_time": "2022-03-21T07:12:40.612Z"
   },
   {
    "duration": 2,
    "start_time": "2022-03-21T07:12:40.635Z"
   },
   {
    "duration": 12,
    "start_time": "2022-03-21T07:12:47.729Z"
   },
   {
    "duration": 3,
    "start_time": "2022-03-21T07:12:59.488Z"
   },
   {
    "duration": 225,
    "start_time": "2022-03-21T07:12:59.493Z"
   },
   {
    "duration": 23,
    "start_time": "2022-03-21T07:12:59.720Z"
   },
   {
    "duration": 48,
    "start_time": "2022-03-21T07:12:59.745Z"
   },
   {
    "duration": 4,
    "start_time": "2022-03-21T07:12:59.795Z"
   },
   {
    "duration": 34,
    "start_time": "2022-03-21T07:12:59.801Z"
   },
   {
    "duration": 4,
    "start_time": "2022-03-21T07:12:59.837Z"
   },
   {
    "duration": 47,
    "start_time": "2022-03-21T07:12:59.843Z"
   },
   {
    "duration": 3,
    "start_time": "2022-03-21T07:12:59.893Z"
   },
   {
    "duration": 64,
    "start_time": "2022-03-21T07:12:59.898Z"
   },
   {
    "duration": 3,
    "start_time": "2022-03-21T07:12:59.964Z"
   },
   {
    "duration": 5,
    "start_time": "2022-03-21T07:12:59.969Z"
   },
   {
    "duration": 11,
    "start_time": "2022-03-21T07:12:59.975Z"
   },
   {
    "duration": 4,
    "start_time": "2022-03-21T07:12:59.988Z"
   },
   {
    "duration": 4,
    "start_time": "2022-03-21T07:12:59.994Z"
   },
   {
    "duration": 6,
    "start_time": "2022-03-21T07:13:00.000Z"
   },
   {
    "duration": 8,
    "start_time": "2022-03-21T07:13:00.008Z"
   },
   {
    "duration": 3,
    "start_time": "2022-03-21T07:13:00.033Z"
   },
   {
    "duration": 15,
    "start_time": "2022-03-21T07:13:00.038Z"
   },
   {
    "duration": 20,
    "start_time": "2022-03-21T07:13:00.054Z"
   },
   {
    "duration": 29,
    "start_time": "2022-03-21T07:13:00.076Z"
   },
   {
    "duration": 20,
    "start_time": "2022-03-21T07:13:00.107Z"
   },
   {
    "duration": 13,
    "start_time": "2022-03-21T07:13:00.128Z"
   },
   {
    "duration": 25,
    "start_time": "2022-03-21T07:13:00.145Z"
   },
   {
    "duration": 17,
    "start_time": "2022-03-21T07:13:00.172Z"
   },
   {
    "duration": 12,
    "start_time": "2022-03-21T07:13:00.191Z"
   },
   {
    "duration": 9,
    "start_time": "2022-03-21T07:13:00.205Z"
   },
   {
    "duration": 8,
    "start_time": "2022-03-21T07:13:00.215Z"
   },
   {
    "duration": 6,
    "start_time": "2022-03-21T07:13:00.225Z"
   },
   {
    "duration": 7,
    "start_time": "2022-03-21T07:13:00.233Z"
   },
   {
    "duration": 15,
    "start_time": "2022-03-21T07:13:00.241Z"
   },
   {
    "duration": 11,
    "start_time": "2022-03-21T07:13:00.257Z"
   },
   {
    "duration": 12,
    "start_time": "2022-03-21T07:13:00.270Z"
   },
   {
    "duration": 17,
    "start_time": "2022-03-21T07:13:00.283Z"
   },
   {
    "duration": 23,
    "start_time": "2022-03-21T07:13:00.302Z"
   },
   {
    "duration": 28,
    "start_time": "2022-03-21T07:13:00.326Z"
   },
   {
    "duration": 15,
    "start_time": "2022-03-21T07:13:00.356Z"
   },
   {
    "duration": 33,
    "start_time": "2022-03-21T07:13:00.373Z"
   },
   {
    "duration": 15,
    "start_time": "2022-03-21T07:13:06.278Z"
   },
   {
    "duration": 77,
    "start_time": "2022-03-21T07:13:12.224Z"
   },
   {
    "duration": 14,
    "start_time": "2022-03-21T07:13:21.110Z"
   },
   {
    "duration": 77,
    "start_time": "2022-03-21T07:13:22.646Z"
   },
   {
    "duration": 3,
    "start_time": "2022-03-21T07:13:36.772Z"
   },
   {
    "duration": 170,
    "start_time": "2022-03-21T07:13:36.779Z"
   },
   {
    "duration": 10,
    "start_time": "2022-03-21T07:13:36.951Z"
   },
   {
    "duration": 32,
    "start_time": "2022-03-21T07:13:36.963Z"
   },
   {
    "duration": 4,
    "start_time": "2022-03-21T07:13:36.996Z"
   },
   {
    "duration": 31,
    "start_time": "2022-03-21T07:13:37.003Z"
   },
   {
    "duration": 4,
    "start_time": "2022-03-21T07:13:37.036Z"
   },
   {
    "duration": 44,
    "start_time": "2022-03-21T07:13:37.043Z"
   },
   {
    "duration": 3,
    "start_time": "2022-03-21T07:13:37.089Z"
   },
   {
    "duration": 98,
    "start_time": "2022-03-21T07:13:37.094Z"
   },
   {
    "duration": 3,
    "start_time": "2022-03-21T07:13:37.193Z"
   },
   {
    "duration": 5,
    "start_time": "2022-03-21T07:13:37.198Z"
   },
   {
    "duration": 4,
    "start_time": "2022-03-21T07:13:37.204Z"
   },
   {
    "duration": 23,
    "start_time": "2022-03-21T07:13:37.210Z"
   },
   {
    "duration": 4,
    "start_time": "2022-03-21T07:13:37.237Z"
   },
   {
    "duration": 4,
    "start_time": "2022-03-21T07:13:37.243Z"
   },
   {
    "duration": 5,
    "start_time": "2022-03-21T07:13:37.249Z"
   },
   {
    "duration": 5,
    "start_time": "2022-03-21T07:13:37.256Z"
   },
   {
    "duration": 5,
    "start_time": "2022-03-21T07:13:37.264Z"
   },
   {
    "duration": 10,
    "start_time": "2022-03-21T07:13:37.271Z"
   },
   {
    "duration": 6,
    "start_time": "2022-03-21T07:13:37.283Z"
   },
   {
    "duration": 5,
    "start_time": "2022-03-21T07:13:37.291Z"
   },
   {
    "duration": 3,
    "start_time": "2022-03-21T07:13:37.298Z"
   },
   {
    "duration": 5,
    "start_time": "2022-03-21T07:13:37.303Z"
   },
   {
    "duration": 23,
    "start_time": "2022-03-21T07:13:37.310Z"
   },
   {
    "duration": 9,
    "start_time": "2022-03-21T07:13:37.335Z"
   },
   {
    "duration": 4,
    "start_time": "2022-03-21T07:13:37.346Z"
   },
   {
    "duration": 6,
    "start_time": "2022-03-21T07:13:37.352Z"
   },
   {
    "duration": 6,
    "start_time": "2022-03-21T07:13:37.359Z"
   },
   {
    "duration": 5,
    "start_time": "2022-03-21T07:13:37.367Z"
   },
   {
    "duration": 10,
    "start_time": "2022-03-21T07:13:37.374Z"
   },
   {
    "duration": 4,
    "start_time": "2022-03-21T07:13:37.386Z"
   },
   {
    "duration": 10,
    "start_time": "2022-03-21T07:13:37.392Z"
   },
   {
    "duration": 4,
    "start_time": "2022-03-21T07:13:37.404Z"
   },
   {
    "duration": 6,
    "start_time": "2022-03-21T07:13:37.410Z"
   },
   {
    "duration": 3,
    "start_time": "2022-03-21T07:13:37.432Z"
   },
   {
    "duration": 5,
    "start_time": "2022-03-21T07:13:37.436Z"
   },
   {
    "duration": 4,
    "start_time": "2022-03-21T07:13:37.443Z"
   },
   {
    "duration": 12,
    "start_time": "2022-03-21T07:13:48.517Z"
   },
   {
    "duration": 12,
    "start_time": "2022-03-21T07:13:49.807Z"
   },
   {
    "duration": 3,
    "start_time": "2022-03-21T07:14:09.786Z"
   },
   {
    "duration": 838,
    "start_time": "2022-03-21T07:14:09.792Z"
   },
   {
    "duration": 14,
    "start_time": "2022-03-21T07:14:10.632Z"
   },
   {
    "duration": 53,
    "start_time": "2022-03-21T07:14:10.648Z"
   },
   {
    "duration": 5,
    "start_time": "2022-03-21T07:14:10.704Z"
   },
   {
    "duration": 27,
    "start_time": "2022-03-21T07:14:10.710Z"
   },
   {
    "duration": 4,
    "start_time": "2022-03-21T07:14:10.739Z"
   },
   {
    "duration": 48,
    "start_time": "2022-03-21T07:14:10.744Z"
   },
   {
    "duration": 21,
    "start_time": "2022-03-21T07:14:10.794Z"
   },
   {
    "duration": 49,
    "start_time": "2022-03-21T07:14:10.833Z"
   },
   {
    "duration": 3,
    "start_time": "2022-03-21T07:14:10.883Z"
   },
   {
    "duration": 9,
    "start_time": "2022-03-21T07:14:10.887Z"
   },
   {
    "duration": 9,
    "start_time": "2022-03-21T07:14:10.898Z"
   },
   {
    "duration": 5,
    "start_time": "2022-03-21T07:14:10.910Z"
   },
   {
    "duration": 17,
    "start_time": "2022-03-21T07:14:10.916Z"
   },
   {
    "duration": 5,
    "start_time": "2022-03-21T07:14:10.935Z"
   },
   {
    "duration": 6,
    "start_time": "2022-03-21T07:14:10.942Z"
   },
   {
    "duration": 6,
    "start_time": "2022-03-21T07:14:10.949Z"
   },
   {
    "duration": 4,
    "start_time": "2022-03-21T07:14:10.957Z"
   },
   {
    "duration": 5,
    "start_time": "2022-03-21T07:14:10.963Z"
   },
   {
    "duration": 8,
    "start_time": "2022-03-21T07:14:10.970Z"
   },
   {
    "duration": 5,
    "start_time": "2022-03-21T07:14:10.980Z"
   },
   {
    "duration": 5,
    "start_time": "2022-03-21T07:14:10.987Z"
   },
   {
    "duration": 5,
    "start_time": "2022-03-21T07:14:10.994Z"
   },
   {
    "duration": 12,
    "start_time": "2022-03-21T07:14:11.001Z"
   },
   {
    "duration": 3,
    "start_time": "2022-03-21T07:14:11.032Z"
   },
   {
    "duration": 5,
    "start_time": "2022-03-21T07:14:11.036Z"
   },
   {
    "duration": 5,
    "start_time": "2022-03-21T07:14:11.043Z"
   },
   {
    "duration": 3,
    "start_time": "2022-03-21T07:14:11.050Z"
   },
   {
    "duration": 4,
    "start_time": "2022-03-21T07:14:11.055Z"
   },
   {
    "duration": 6,
    "start_time": "2022-03-21T07:14:11.061Z"
   },
   {
    "duration": 4,
    "start_time": "2022-03-21T07:14:11.069Z"
   },
   {
    "duration": 6,
    "start_time": "2022-03-21T07:14:11.075Z"
   },
   {
    "duration": 5,
    "start_time": "2022-03-21T07:14:11.083Z"
   },
   {
    "duration": 5,
    "start_time": "2022-03-21T07:14:11.090Z"
   },
   {
    "duration": 2,
    "start_time": "2022-03-21T07:14:11.134Z"
   },
   {
    "duration": 9,
    "start_time": "2022-03-21T07:14:11.138Z"
   },
   {
    "duration": 8,
    "start_time": "2022-03-21T07:14:11.149Z"
   },
   {
    "duration": 167,
    "start_time": "2022-03-21T07:14:35.389Z"
   },
   {
    "duration": 89,
    "start_time": "2022-03-21T07:14:47.473Z"
   },
   {
    "duration": 85,
    "start_time": "2022-03-21T07:14:58.790Z"
   },
   {
    "duration": 86,
    "start_time": "2022-03-21T07:15:01.089Z"
   },
   {
    "duration": 99,
    "start_time": "2022-03-21T07:16:26.490Z"
   },
   {
    "duration": 84,
    "start_time": "2022-03-21T07:16:32.691Z"
   },
   {
    "duration": 7,
    "start_time": "2022-03-21T07:17:25.873Z"
   },
   {
    "duration": 14,
    "start_time": "2022-03-21T07:18:50.643Z"
   },
   {
    "duration": 60,
    "start_time": "2022-03-21T07:19:13.265Z"
   },
   {
    "duration": 39,
    "start_time": "2022-03-21T07:20:05.380Z"
   },
   {
    "duration": 35,
    "start_time": "2022-03-21T07:20:13.278Z"
   },
   {
    "duration": 38,
    "start_time": "2022-03-21T07:20:20.450Z"
   },
   {
    "duration": 39,
    "start_time": "2022-03-21T07:20:23.636Z"
   },
   {
    "duration": 43,
    "start_time": "2022-03-21T07:20:26.002Z"
   },
   {
    "duration": 38,
    "start_time": "2022-03-21T07:20:46.581Z"
   },
   {
    "duration": 7,
    "start_time": "2022-03-21T07:23:03.762Z"
   },
   {
    "duration": 52,
    "start_time": "2022-03-21T07:24:52.444Z"
   },
   {
    "duration": 1383,
    "start_time": "2022-03-21T07:25:00.524Z"
   },
   {
    "duration": 3,
    "start_time": "2022-03-21T07:25:09.784Z"
   },
   {
    "duration": 250,
    "start_time": "2022-03-21T07:25:09.790Z"
   },
   {
    "duration": 12,
    "start_time": "2022-03-21T07:25:10.042Z"
   },
   {
    "duration": 60,
    "start_time": "2022-03-21T07:25:10.057Z"
   },
   {
    "duration": 7,
    "start_time": "2022-03-21T07:25:10.133Z"
   },
   {
    "duration": 14,
    "start_time": "2022-03-21T07:25:10.142Z"
   },
   {
    "duration": 5,
    "start_time": "2022-03-21T07:25:10.158Z"
   },
   {
    "duration": 106,
    "start_time": "2022-03-21T07:25:10.165Z"
   },
   {
    "duration": 25,
    "start_time": "2022-03-21T07:25:10.273Z"
   },
   {
    "duration": 102,
    "start_time": "2022-03-21T07:25:10.301Z"
   },
   {
    "duration": 106,
    "start_time": "2022-03-21T07:25:10.407Z"
   },
   {
    "duration": 117,
    "start_time": "2022-03-21T07:25:10.516Z"
   },
   {
    "duration": 83,
    "start_time": "2022-03-21T07:25:10.635Z"
   },
   {
    "duration": 13,
    "start_time": "2022-03-21T07:25:10.720Z"
   },
   {
    "duration": 3,
    "start_time": "2022-03-21T07:25:10.737Z"
   },
   {
    "duration": 14,
    "start_time": "2022-03-21T07:25:10.742Z"
   },
   {
    "duration": 40,
    "start_time": "2022-03-21T07:25:10.757Z"
   },
   {
    "duration": 5,
    "start_time": "2022-03-21T07:25:10.800Z"
   },
   {
    "duration": 26,
    "start_time": "2022-03-21T07:25:10.807Z"
   },
   {
    "duration": 7,
    "start_time": "2022-03-21T07:25:10.835Z"
   },
   {
    "duration": 11,
    "start_time": "2022-03-21T07:25:10.844Z"
   },
   {
    "duration": 7,
    "start_time": "2022-03-21T07:25:10.857Z"
   },
   {
    "duration": 8,
    "start_time": "2022-03-21T07:25:10.866Z"
   },
   {
    "duration": 10,
    "start_time": "2022-03-21T07:25:10.875Z"
   },
   {
    "duration": 8,
    "start_time": "2022-03-21T07:25:10.887Z"
   },
   {
    "duration": 8,
    "start_time": "2022-03-21T07:25:10.897Z"
   },
   {
    "duration": 10,
    "start_time": "2022-03-21T07:25:10.906Z"
   },
   {
    "duration": 8,
    "start_time": "2022-03-21T07:25:10.917Z"
   },
   {
    "duration": 3,
    "start_time": "2022-03-21T07:25:10.928Z"
   },
   {
    "duration": 8,
    "start_time": "2022-03-21T07:25:10.933Z"
   },
   {
    "duration": 9,
    "start_time": "2022-03-21T07:25:10.943Z"
   },
   {
    "duration": 5,
    "start_time": "2022-03-21T07:25:10.954Z"
   },
   {
    "duration": 9,
    "start_time": "2022-03-21T07:25:10.961Z"
   },
   {
    "duration": 5,
    "start_time": "2022-03-21T07:25:10.973Z"
   },
   {
    "duration": 9,
    "start_time": "2022-03-21T07:25:10.980Z"
   },
   {
    "duration": 8,
    "start_time": "2022-03-21T07:25:10.991Z"
   },
   {
    "duration": 4,
    "start_time": "2022-03-21T07:25:11.001Z"
   },
   {
    "duration": 6,
    "start_time": "2022-03-21T07:25:11.008Z"
   },
   {
    "duration": 93,
    "start_time": "2022-03-21T07:25:33.477Z"
   },
   {
    "duration": 66,
    "start_time": "2022-03-21T07:25:37.125Z"
   },
   {
    "duration": 63,
    "start_time": "2022-03-21T07:25:47.114Z"
   },
   {
    "duration": 405,
    "start_time": "2022-03-21T10:53:46.316Z"
   },
   {
    "duration": 154,
    "start_time": "2022-03-21T10:53:46.723Z"
   },
   {
    "duration": 18,
    "start_time": "2022-03-21T10:53:46.878Z"
   },
   {
    "duration": 40,
    "start_time": "2022-03-21T10:53:46.897Z"
   },
   {
    "duration": 4,
    "start_time": "2022-03-21T10:53:46.940Z"
   },
   {
    "duration": 14,
    "start_time": "2022-03-21T10:53:46.946Z"
   },
   {
    "duration": 7,
    "start_time": "2022-03-21T10:53:46.961Z"
   },
   {
    "duration": 67,
    "start_time": "2022-03-21T10:53:46.969Z"
   },
   {
    "duration": 19,
    "start_time": "2022-03-21T10:53:47.038Z"
   },
   {
    "duration": 44,
    "start_time": "2022-03-21T10:53:47.059Z"
   },
   {
    "duration": 82,
    "start_time": "2022-03-21T10:53:47.105Z"
   },
   {
    "duration": 85,
    "start_time": "2022-03-21T10:53:47.188Z"
   },
   {
    "duration": 60,
    "start_time": "2022-03-21T10:53:47.274Z"
   },
   {
    "duration": 39,
    "start_time": "2022-03-21T10:53:47.337Z"
   },
   {
    "duration": 2,
    "start_time": "2022-03-21T10:53:47.378Z"
   },
   {
    "duration": 12,
    "start_time": "2022-03-21T10:53:47.382Z"
   },
   {
    "duration": 54,
    "start_time": "2022-03-21T10:53:47.396Z"
   },
   {
    "duration": 2,
    "start_time": "2022-03-21T10:53:47.452Z"
   },
   {
    "duration": 5,
    "start_time": "2022-03-21T10:53:47.456Z"
   },
   {
    "duration": 9,
    "start_time": "2022-03-21T10:53:47.462Z"
   },
   {
    "duration": 5,
    "start_time": "2022-03-21T10:53:47.473Z"
   },
   {
    "duration": 8,
    "start_time": "2022-03-21T10:53:47.479Z"
   },
   {
    "duration": 4,
    "start_time": "2022-03-21T10:53:47.489Z"
   },
   {
    "duration": 4,
    "start_time": "2022-03-21T10:53:47.495Z"
   },
   {
    "duration": 7,
    "start_time": "2022-03-21T10:53:47.501Z"
   },
   {
    "duration": 5,
    "start_time": "2022-03-21T10:53:47.510Z"
   },
   {
    "duration": 17,
    "start_time": "2022-03-21T10:53:47.516Z"
   },
   {
    "duration": 5,
    "start_time": "2022-03-21T10:53:47.534Z"
   },
   {
    "duration": 5,
    "start_time": "2022-03-21T10:53:47.540Z"
   },
   {
    "duration": 7,
    "start_time": "2022-03-21T10:53:47.546Z"
   },
   {
    "duration": 7,
    "start_time": "2022-03-21T10:53:47.554Z"
   },
   {
    "duration": 7,
    "start_time": "2022-03-21T10:53:47.562Z"
   },
   {
    "duration": 9,
    "start_time": "2022-03-21T10:53:47.571Z"
   },
   {
    "duration": 4,
    "start_time": "2022-03-21T10:53:47.582Z"
   },
   {
    "duration": 6,
    "start_time": "2022-03-21T10:53:47.588Z"
   },
   {
    "duration": 10,
    "start_time": "2022-03-21T10:53:47.595Z"
   },
   {
    "duration": 8,
    "start_time": "2022-03-21T10:53:47.607Z"
   },
   {
    "duration": 6,
    "start_time": "2022-03-21T10:53:47.616Z"
   },
   {
    "duration": 10,
    "start_time": "2022-03-21T10:55:43.054Z"
   },
   {
    "duration": 32,
    "start_time": "2022-03-21T10:56:21.213Z"
   },
   {
    "duration": 31,
    "start_time": "2022-03-21T10:56:23.316Z"
   },
   {
    "duration": 11,
    "start_time": "2022-03-21T10:57:03.854Z"
   },
   {
    "duration": 11,
    "start_time": "2022-03-21T10:57:11.566Z"
   },
   {
    "duration": 11,
    "start_time": "2022-03-21T10:57:15.473Z"
   },
   {
    "duration": 32,
    "start_time": "2022-03-21T10:58:01.493Z"
   },
   {
    "duration": 3,
    "start_time": "2022-03-21T11:00:54.699Z"
   },
   {
    "duration": 3,
    "start_time": "2022-03-21T11:01:38.416Z"
   },
   {
    "duration": 70,
    "start_time": "2022-03-21T11:01:58.939Z"
   },
   {
    "duration": 15,
    "start_time": "2022-03-21T11:02:20.002Z"
   },
   {
    "duration": 17,
    "start_time": "2022-03-21T11:02:35.832Z"
   },
   {
    "duration": 18,
    "start_time": "2022-03-21T11:03:21.053Z"
   },
   {
    "duration": 16,
    "start_time": "2022-03-21T11:03:35.755Z"
   },
   {
    "duration": 18,
    "start_time": "2022-03-21T11:03:43.476Z"
   },
   {
    "duration": 15,
    "start_time": "2022-03-21T11:04:50.738Z"
   },
   {
    "duration": 15,
    "start_time": "2022-03-21T11:04:52.511Z"
   },
   {
    "duration": 17,
    "start_time": "2022-03-21T11:04:54.242Z"
   },
   {
    "duration": 16,
    "start_time": "2022-03-21T11:05:19.288Z"
   },
   {
    "duration": 18,
    "start_time": "2022-03-21T11:05:20.611Z"
   },
   {
    "duration": 16,
    "start_time": "2022-03-21T11:05:22.281Z"
   },
   {
    "duration": 15,
    "start_time": "2022-03-21T11:07:32.198Z"
   },
   {
    "duration": 10,
    "start_time": "2022-03-21T11:10:29.463Z"
   },
   {
    "duration": 9,
    "start_time": "2022-03-21T11:12:52.190Z"
   },
   {
    "duration": 9,
    "start_time": "2022-03-21T11:12:54.188Z"
   },
   {
    "duration": 15,
    "start_time": "2022-03-21T11:13:48.777Z"
   },
   {
    "duration": 23,
    "start_time": "2022-03-21T11:13:51.036Z"
   },
   {
    "duration": 11,
    "start_time": "2022-03-21T11:13:55.921Z"
   },
   {
    "duration": 9,
    "start_time": "2022-03-21T11:14:15.560Z"
   },
   {
    "duration": 19,
    "start_time": "2022-03-21T11:14:19.321Z"
   },
   {
    "duration": 10,
    "start_time": "2022-03-21T11:14:22.549Z"
   },
   {
    "duration": 3,
    "start_time": "2022-03-21T11:15:47.699Z"
   },
   {
    "duration": 3,
    "start_time": "2022-03-21T11:16:06.505Z"
   },
   {
    "duration": 15,
    "start_time": "2022-03-21T11:17:59.851Z"
   },
   {
    "duration": 21,
    "start_time": "2022-03-21T11:18:23.106Z"
   },
   {
    "duration": 16,
    "start_time": "2022-03-21T11:18:28.809Z"
   },
   {
    "duration": 12,
    "start_time": "2022-03-21T11:18:37.979Z"
   },
   {
    "duration": 20,
    "start_time": "2022-03-21T11:19:01.947Z"
   },
   {
    "duration": 16,
    "start_time": "2022-03-21T11:19:05.801Z"
   },
   {
    "duration": 29,
    "start_time": "2022-03-21T11:19:18.941Z"
   },
   {
    "duration": 20,
    "start_time": "2022-03-21T11:19:25.767Z"
   },
   {
    "duration": 21,
    "start_time": "2022-03-21T11:20:59.326Z"
   },
   {
    "duration": 20,
    "start_time": "2022-03-21T11:21:18.535Z"
   },
   {
    "duration": 21,
    "start_time": "2022-03-21T11:21:36.272Z"
   },
   {
    "duration": 4,
    "start_time": "2022-03-21T11:21:55.823Z"
   },
   {
    "duration": 17,
    "start_time": "2022-03-21T11:22:05.689Z"
   },
   {
    "duration": 14,
    "start_time": "2022-03-21T11:22:15.255Z"
   },
   {
    "duration": 16,
    "start_time": "2022-03-21T11:22:38.257Z"
   },
   {
    "duration": 11,
    "start_time": "2022-03-21T11:22:49.675Z"
   },
   {
    "duration": 19,
    "start_time": "2022-03-21T11:23:19.589Z"
   },
   {
    "duration": 19,
    "start_time": "2022-03-21T11:23:23.567Z"
   },
   {
    "duration": 31,
    "start_time": "2022-03-21T11:25:21.046Z"
   },
   {
    "duration": 24,
    "start_time": "2022-03-21T11:26:23.714Z"
   },
   {
    "duration": 1638,
    "start_time": "2022-03-21T11:26:37.292Z"
   },
   {
    "duration": 1720,
    "start_time": "2022-03-21T11:26:49.978Z"
   },
   {
    "duration": 28,
    "start_time": "2022-03-21T11:26:59.353Z"
   },
   {
    "duration": 28,
    "start_time": "2022-03-21T11:27:33.827Z"
   },
   {
    "duration": 27,
    "start_time": "2022-03-21T11:27:43.918Z"
   },
   {
    "duration": 31,
    "start_time": "2022-03-21T11:28:12.371Z"
   },
   {
    "duration": 30,
    "start_time": "2022-03-21T11:28:22.775Z"
   },
   {
    "duration": 23,
    "start_time": "2022-03-21T11:28:29.362Z"
   },
   {
    "duration": 30,
    "start_time": "2022-03-21T11:28:35.931Z"
   },
   {
    "duration": 8,
    "start_time": "2022-03-21T11:28:49.218Z"
   },
   {
    "duration": 21,
    "start_time": "2022-03-21T11:29:20.789Z"
   },
   {
    "duration": 7,
    "start_time": "2022-03-21T11:29:32.095Z"
   },
   {
    "duration": 44,
    "start_time": "2022-03-21T16:04:51.735Z"
   },
   {
    "duration": 397,
    "start_time": "2022-03-21T16:04:55.111Z"
   },
   {
    "duration": 143,
    "start_time": "2022-03-21T16:04:55.510Z"
   },
   {
    "duration": 17,
    "start_time": "2022-03-21T16:04:55.654Z"
   },
   {
    "duration": 37,
    "start_time": "2022-03-21T16:04:55.672Z"
   },
   {
    "duration": 4,
    "start_time": "2022-03-21T16:04:55.710Z"
   },
   {
    "duration": 12,
    "start_time": "2022-03-21T16:04:55.715Z"
   },
   {
    "duration": 6,
    "start_time": "2022-03-21T16:04:55.729Z"
   },
   {
    "duration": 25,
    "start_time": "2022-03-21T16:04:55.736Z"
   },
   {
    "duration": 41,
    "start_time": "2022-03-21T16:04:55.763Z"
   },
   {
    "duration": 57,
    "start_time": "2022-03-21T16:04:55.807Z"
   },
   {
    "duration": 74,
    "start_time": "2022-03-21T16:04:55.865Z"
   },
   {
    "duration": 78,
    "start_time": "2022-03-21T16:04:55.940Z"
   },
   {
    "duration": 54,
    "start_time": "2022-03-21T16:04:56.020Z"
   },
   {
    "duration": 50,
    "start_time": "2022-03-21T16:04:56.076Z"
   },
   {
    "duration": 3,
    "start_time": "2022-03-21T16:04:56.128Z"
   },
   {
    "duration": 12,
    "start_time": "2022-03-21T16:04:56.132Z"
   },
   {
    "duration": 40,
    "start_time": "2022-03-21T16:04:56.146Z"
   },
   {
    "duration": 10,
    "start_time": "2022-03-21T16:04:56.201Z"
   },
   {
    "duration": 34,
    "start_time": "2022-03-21T16:04:56.213Z"
   },
   {
    "duration": 20,
    "start_time": "2022-03-21T16:04:56.248Z"
   },
   {
    "duration": 41,
    "start_time": "2022-03-21T16:04:56.269Z"
   },
   {
    "duration": 16,
    "start_time": "2022-03-21T16:04:56.311Z"
   },
   {
    "duration": 15,
    "start_time": "2022-03-21T16:04:56.328Z"
   },
   {
    "duration": 13,
    "start_time": "2022-03-21T16:04:56.344Z"
   },
   {
    "duration": 44,
    "start_time": "2022-03-21T16:04:56.358Z"
   },
   {
    "duration": 15,
    "start_time": "2022-03-21T16:04:56.403Z"
   },
   {
    "duration": 8,
    "start_time": "2022-03-21T16:04:56.419Z"
   },
   {
    "duration": 11,
    "start_time": "2022-03-21T16:04:56.431Z"
   },
   {
    "duration": 10,
    "start_time": "2022-03-21T16:04:56.443Z"
   },
   {
    "duration": 5,
    "start_time": "2022-03-21T16:04:56.454Z"
   },
   {
    "duration": 49,
    "start_time": "2022-03-21T16:04:56.461Z"
   },
   {
    "duration": 12,
    "start_time": "2022-03-21T16:04:56.512Z"
   },
   {
    "duration": 16,
    "start_time": "2022-03-21T16:04:56.526Z"
   },
   {
    "duration": 11,
    "start_time": "2022-03-21T16:04:56.544Z"
   },
   {
    "duration": 56,
    "start_time": "2022-03-21T16:04:56.557Z"
   },
   {
    "duration": 8,
    "start_time": "2022-03-21T16:04:56.615Z"
   },
   {
    "duration": 15,
    "start_time": "2022-03-21T16:04:56.624Z"
   },
   {
    "duration": 7,
    "start_time": "2022-03-21T16:04:56.640Z"
   },
   {
    "duration": 22,
    "start_time": "2022-03-21T16:05:01.286Z"
   },
   {
    "duration": 24,
    "start_time": "2022-03-21T16:05:30.332Z"
   },
   {
    "duration": 35,
    "start_time": "2022-03-21T16:06:05.857Z"
   },
   {
    "duration": 40,
    "start_time": "2022-03-21T16:06:17.970Z"
   },
   {
    "duration": 38,
    "start_time": "2022-03-21T16:06:27.248Z"
   },
   {
    "duration": 2,
    "start_time": "2022-03-21T16:08:56.312Z"
   },
   {
    "duration": 8,
    "start_time": "2022-03-21T16:09:33.966Z"
   },
   {
    "duration": 37,
    "start_time": "2022-03-21T16:09:57.095Z"
   },
   {
    "duration": 30,
    "start_time": "2022-03-21T16:11:59.671Z"
   },
   {
    "duration": 12,
    "start_time": "2022-03-21T16:12:34.349Z"
   },
   {
    "duration": 24,
    "start_time": "2022-03-21T16:14:17.885Z"
   },
   {
    "duration": 24,
    "start_time": "2022-03-21T16:14:19.841Z"
   },
   {
    "duration": 8,
    "start_time": "2022-03-21T16:14:22.013Z"
   },
   {
    "duration": 13,
    "start_time": "2022-03-21T16:14:34.085Z"
   },
   {
    "duration": 25,
    "start_time": "2022-03-21T16:14:43.593Z"
   },
   {
    "duration": 14,
    "start_time": "2022-03-21T16:14:58.056Z"
   },
   {
    "duration": 12,
    "start_time": "2022-03-21T16:15:00.707Z"
   },
   {
    "duration": 11,
    "start_time": "2022-03-21T16:15:56.704Z"
   },
   {
    "duration": 11,
    "start_time": "2022-03-21T16:15:58.964Z"
   },
   {
    "duration": 13,
    "start_time": "2022-03-21T16:16:08.423Z"
   },
   {
    "duration": 13,
    "start_time": "2022-03-21T16:17:24.963Z"
   },
   {
    "duration": 43,
    "start_time": "2022-03-21T16:17:32.758Z"
   },
   {
    "duration": 10,
    "start_time": "2022-03-21T16:17:35.269Z"
   },
   {
    "duration": 13,
    "start_time": "2022-03-21T16:17:52.666Z"
   },
   {
    "duration": 10,
    "start_time": "2022-03-21T16:18:16.239Z"
   },
   {
    "duration": 30,
    "start_time": "2022-03-21T16:18:22.845Z"
   },
   {
    "duration": 10,
    "start_time": "2022-03-21T16:18:28.444Z"
   },
   {
    "duration": 14,
    "start_time": "2022-03-21T16:18:30.961Z"
   },
   {
    "duration": 25,
    "start_time": "2022-03-21T16:19:29.297Z"
   },
   {
    "duration": 8,
    "start_time": "2022-03-21T16:19:31.253Z"
   },
   {
    "duration": 13,
    "start_time": "2022-03-21T16:19:54.793Z"
   },
   {
    "duration": 8,
    "start_time": "2022-03-21T16:20:05.718Z"
   },
   {
    "duration": 4,
    "start_time": "2022-03-21T16:20:07.613Z"
   },
   {
    "duration": 10,
    "start_time": "2022-03-21T16:20:11.723Z"
   },
   {
    "duration": 5,
    "start_time": "2022-03-21T16:20:13.297Z"
   },
   {
    "duration": 170,
    "start_time": "2022-03-21T16:20:42.463Z"
   },
   {
    "duration": 7,
    "start_time": "2022-03-21T16:20:47.415Z"
   },
   {
    "duration": 5,
    "start_time": "2022-03-21T16:20:49.449Z"
   },
   {
    "duration": 277,
    "start_time": "2022-03-22T12:47:58.211Z"
   }
  ],
  "colab": {
   "collapsed_sections": [
    "E0vqbgi9ay0H",
    "VUC88oWjTJw2"
   ],
   "name": "yandex_music_project_2021.2.ipynb",
   "provenance": []
  },
  "kernelspec": {
   "display_name": "Python 3 (ipykernel)",
   "language": "python",
   "name": "python3"
  },
  "language_info": {
   "codemirror_mode": {
    "name": "ipython",
    "version": 3
   },
   "file_extension": ".py",
   "mimetype": "text/x-python",
   "name": "python",
   "nbconvert_exporter": "python",
   "pygments_lexer": "ipython3",
   "version": "3.9.12"
  },
  "toc": {
   "base_numbering": 1,
   "nav_menu": {},
   "number_sections": true,
   "sideBar": true,
   "skip_h1_title": true,
   "title_cell": "Table of Contents",
   "title_sidebar": "Contents",
   "toc_cell": false,
   "toc_position": {
    "height": "calc(100% - 180px)",
    "left": "10px",
    "top": "150px",
    "width": "199.594px"
   },
   "toc_section_display": true,
   "toc_window_display": false
  }
 },
 "nbformat": 4,
 "nbformat_minor": 1
}
