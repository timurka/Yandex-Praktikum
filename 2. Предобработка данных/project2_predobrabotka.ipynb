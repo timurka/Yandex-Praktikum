{
 "cells": [
  {
   "cell_type": "markdown",
   "id": "0dce0972",
   "metadata": {
    "id": "0dce0972"
   },
   "source": [
    "# Исследование надежности заемщиков"
   ]
  },
  {
   "cell_type": "markdown",
   "id": "k0WwebOX4zAH",
   "metadata": {
    "id": "k0WwebOX4zAH"
   },
   "source": [
    "**Цель исследования**\n",
    "\n",
    "Заказчик — кредитный отдел банка. Нужно разобраться, влияет ли семейное положение и количество детей клиента на факт погашения кредита в срок. Входные данные от банка — статистика о платёжеспособности клиентов.\n",
    "\n",
    "Результаты исследования будут учтены при построении модели *кредитного скоринга* — специальной системы, которая оценивает способность потенциального заёмщика вернуть кредит банку.\n",
    "\n",
    "**Ответить на основные вопросы:**\n",
    "\n",
    "1. Есть ли зависимость между количеством детей и возвратом кредита в срок?\n",
    "2. Есть ли зависимость между семейным положением и возвратом кредита в срок?\n",
    "3. Есть ли зависимость между уровнем дохода и возвратом кредита в срок?\n",
    "4. Как разные цели кредита влияют на его возврат в срок?\n",
    "\n",
    "## Описание данных\n",
    "* `children` — количество детей в семье\n",
    "\n",
    "* `days_employed` — общий трудовой стаж в днях\n",
    "\n",
    "* `dob_years` — возраст клиента в годах\n",
    "\n",
    "* `education` — уровень образования клиента\n",
    "\n",
    "* `education_id` — идентификатор уровня образования\n",
    "\n",
    "* `family_status` — семейное положение\n",
    "\n",
    "* `family_status_id` — идентификатор семейного положения\n",
    "\n",
    "* `gender` — пол клиента\n",
    "\n",
    "* `income_type` — тип занятости\n",
    "\n",
    "* `debt` — имел ли задолженность по возврату кредитов\n",
    "\n",
    "* `total_income` — ежемесячный доход\n",
    "\n",
    "* `purpose` — цель получения кредита"
   ]
  },
  {
   "cell_type": "markdown",
   "id": "829b224b",
   "metadata": {
    "id": "829b224b"
   },
   "source": [
    "### Шаг 1. Обзор данных"
   ]
  },
  {
   "cell_type": "code",
   "execution_count": 3,
   "id": "VX3ywksenglH",
   "metadata": {
    "colab": {
     "base_uri": "https://localhost:8080/"
    },
    "id": "VX3ywksenglH",
    "outputId": "e23e242b-4986-4185-9828-9ef6f4990498"
   },
   "outputs": [],
   "source": [
    "# Дома проект делался в google colab, поэтому игнорируем монтирование диска в других\n",
    "try:\n",
    "  from google.colab import drive\n",
    "  drive.mount('/content/drive')\n",
    "except:\n",
    "  pass"
   ]
  },
  {
   "cell_type": "code",
   "execution_count": 4,
   "id": "fa67a3b5",
   "metadata": {
    "colab": {
     "base_uri": "https://localhost:8080/"
    },
    "id": "fa67a3b5",
    "outputId": "116b251b-9002-4389-fd71-10865867a244"
   },
   "outputs": [
    {
     "name": "stdout",
     "output_type": "stream",
     "text": [
      "(21525, 12)\n"
     ]
    }
   ],
   "source": [
    "import pandas as pd\n",
    "\n",
    "# Пробуем другой путь, если проект открывается не в colab\n",
    "try:\n",
    "  data = pd.read_csv('/content/drive/MyDrive/Data analyst/data.csv')\n",
    "except:\n",
    "  data = pd.read_csv('/datasets/data.csv')\n",
    "\n",
    "# Проверяем подключение файла, осматриваемся\n",
    "print(data.shape)"
   ]
  },
  {
   "cell_type": "code",
   "execution_count": 5,
   "id": "d9e0928c",
   "metadata": {
    "colab": {
     "base_uri": "https://localhost:8080/"
    },
    "id": "d9e0928c",
    "outputId": "4a0b7297-3962-487b-e0fc-c75314775957"
   },
   "outputs": [
    {
     "name": "stdout",
     "output_type": "stream",
     "text": [
      "<class 'pandas.core.frame.DataFrame'>\n",
      "RangeIndex: 21525 entries, 0 to 21524\n",
      "Data columns (total 12 columns):\n",
      " #   Column            Non-Null Count  Dtype  \n",
      "---  ------            --------------  -----  \n",
      " 0   children          21525 non-null  int64  \n",
      " 1   days_employed     19351 non-null  float64\n",
      " 2   dob_years         21525 non-null  int64  \n",
      " 3   education         21525 non-null  object \n",
      " 4   education_id      21525 non-null  int64  \n",
      " 5   family_status     21525 non-null  object \n",
      " 6   family_status_id  21525 non-null  int64  \n",
      " 7   gender            21525 non-null  object \n",
      " 8   income_type       21525 non-null  object \n",
      " 9   debt              21525 non-null  int64  \n",
      " 10  total_income      19351 non-null  float64\n",
      " 11  purpose           21525 non-null  object \n",
      "dtypes: float64(2), int64(5), object(5)\n",
      "memory usage: 2.0+ MB\n",
      "None\n"
     ]
    }
   ],
   "source": [
    "# Получаем расширенную информацию о таблице, смотрим на корректность названия колонок\n",
    "print(data.info())"
   ]
  },
  {
   "cell_type": "markdown",
   "id": "BQqxdQz67Gyq",
   "metadata": {
    "id": "BQqxdQz67Gyq"
   },
   "source": [
    "Видно, что в двух колонках есть пропуски. Названия колонок корректны."
   ]
  },
  {
   "cell_type": "code",
   "execution_count": 6,
   "id": "f9c9c890",
   "metadata": {
    "colab": {
     "base_uri": "https://localhost:8080/",
     "height": 601
    },
    "id": "f9c9c890",
    "outputId": "3785762a-87b6-4d09-e0b8-9b8f69abc488",
    "scrolled": false
   },
   "outputs": [
    {
     "data": {
      "text/html": [
       "<div>\n",
       "<style scoped>\n",
       "    .dataframe tbody tr th:only-of-type {\n",
       "        vertical-align: middle;\n",
       "    }\n",
       "\n",
       "    .dataframe tbody tr th {\n",
       "        vertical-align: top;\n",
       "    }\n",
       "\n",
       "    .dataframe thead th {\n",
       "        text-align: right;\n",
       "    }\n",
       "</style>\n",
       "<table border=\"1\" class=\"dataframe\">\n",
       "  <thead>\n",
       "    <tr style=\"text-align: right;\">\n",
       "      <th></th>\n",
       "      <th>children</th>\n",
       "      <th>days_employed</th>\n",
       "      <th>dob_years</th>\n",
       "      <th>education</th>\n",
       "      <th>education_id</th>\n",
       "      <th>family_status</th>\n",
       "      <th>family_status_id</th>\n",
       "      <th>gender</th>\n",
       "      <th>income_type</th>\n",
       "      <th>debt</th>\n",
       "      <th>total_income</th>\n",
       "      <th>purpose</th>\n",
       "    </tr>\n",
       "  </thead>\n",
       "  <tbody>\n",
       "    <tr>\n",
       "      <th>0</th>\n",
       "      <td>1</td>\n",
       "      <td>-8437.673028</td>\n",
       "      <td>42</td>\n",
       "      <td>высшее</td>\n",
       "      <td>0</td>\n",
       "      <td>женат / замужем</td>\n",
       "      <td>0</td>\n",
       "      <td>F</td>\n",
       "      <td>сотрудник</td>\n",
       "      <td>0</td>\n",
       "      <td>253875.639453</td>\n",
       "      <td>покупка жилья</td>\n",
       "    </tr>\n",
       "    <tr>\n",
       "      <th>1</th>\n",
       "      <td>1</td>\n",
       "      <td>-4024.803754</td>\n",
       "      <td>36</td>\n",
       "      <td>среднее</td>\n",
       "      <td>1</td>\n",
       "      <td>женат / замужем</td>\n",
       "      <td>0</td>\n",
       "      <td>F</td>\n",
       "      <td>сотрудник</td>\n",
       "      <td>0</td>\n",
       "      <td>112080.014102</td>\n",
       "      <td>приобретение автомобиля</td>\n",
       "    </tr>\n",
       "    <tr>\n",
       "      <th>2</th>\n",
       "      <td>0</td>\n",
       "      <td>-5623.422610</td>\n",
       "      <td>33</td>\n",
       "      <td>Среднее</td>\n",
       "      <td>1</td>\n",
       "      <td>женат / замужем</td>\n",
       "      <td>0</td>\n",
       "      <td>M</td>\n",
       "      <td>сотрудник</td>\n",
       "      <td>0</td>\n",
       "      <td>145885.952297</td>\n",
       "      <td>покупка жилья</td>\n",
       "    </tr>\n",
       "    <tr>\n",
       "      <th>3</th>\n",
       "      <td>3</td>\n",
       "      <td>-4124.747207</td>\n",
       "      <td>32</td>\n",
       "      <td>среднее</td>\n",
       "      <td>1</td>\n",
       "      <td>женат / замужем</td>\n",
       "      <td>0</td>\n",
       "      <td>M</td>\n",
       "      <td>сотрудник</td>\n",
       "      <td>0</td>\n",
       "      <td>267628.550329</td>\n",
       "      <td>дополнительное образование</td>\n",
       "    </tr>\n",
       "    <tr>\n",
       "      <th>4</th>\n",
       "      <td>0</td>\n",
       "      <td>340266.072047</td>\n",
       "      <td>53</td>\n",
       "      <td>среднее</td>\n",
       "      <td>1</td>\n",
       "      <td>гражданский брак</td>\n",
       "      <td>1</td>\n",
       "      <td>F</td>\n",
       "      <td>пенсионер</td>\n",
       "      <td>0</td>\n",
       "      <td>158616.077870</td>\n",
       "      <td>сыграть свадьбу</td>\n",
       "    </tr>\n",
       "    <tr>\n",
       "      <th>5</th>\n",
       "      <td>0</td>\n",
       "      <td>-926.185831</td>\n",
       "      <td>27</td>\n",
       "      <td>высшее</td>\n",
       "      <td>0</td>\n",
       "      <td>гражданский брак</td>\n",
       "      <td>1</td>\n",
       "      <td>M</td>\n",
       "      <td>компаньон</td>\n",
       "      <td>0</td>\n",
       "      <td>255763.565419</td>\n",
       "      <td>покупка жилья</td>\n",
       "    </tr>\n",
       "    <tr>\n",
       "      <th>6</th>\n",
       "      <td>0</td>\n",
       "      <td>-2879.202052</td>\n",
       "      <td>43</td>\n",
       "      <td>высшее</td>\n",
       "      <td>0</td>\n",
       "      <td>женат / замужем</td>\n",
       "      <td>0</td>\n",
       "      <td>F</td>\n",
       "      <td>компаньон</td>\n",
       "      <td>0</td>\n",
       "      <td>240525.971920</td>\n",
       "      <td>операции с жильем</td>\n",
       "    </tr>\n",
       "    <tr>\n",
       "      <th>7</th>\n",
       "      <td>0</td>\n",
       "      <td>-152.779569</td>\n",
       "      <td>50</td>\n",
       "      <td>СРЕДНЕЕ</td>\n",
       "      <td>1</td>\n",
       "      <td>женат / замужем</td>\n",
       "      <td>0</td>\n",
       "      <td>M</td>\n",
       "      <td>сотрудник</td>\n",
       "      <td>0</td>\n",
       "      <td>135823.934197</td>\n",
       "      <td>образование</td>\n",
       "    </tr>\n",
       "    <tr>\n",
       "      <th>8</th>\n",
       "      <td>2</td>\n",
       "      <td>-6929.865299</td>\n",
       "      <td>35</td>\n",
       "      <td>ВЫСШЕЕ</td>\n",
       "      <td>0</td>\n",
       "      <td>гражданский брак</td>\n",
       "      <td>1</td>\n",
       "      <td>F</td>\n",
       "      <td>сотрудник</td>\n",
       "      <td>0</td>\n",
       "      <td>95856.832424</td>\n",
       "      <td>на проведение свадьбы</td>\n",
       "    </tr>\n",
       "    <tr>\n",
       "      <th>9</th>\n",
       "      <td>0</td>\n",
       "      <td>-2188.756445</td>\n",
       "      <td>41</td>\n",
       "      <td>среднее</td>\n",
       "      <td>1</td>\n",
       "      <td>женат / замужем</td>\n",
       "      <td>0</td>\n",
       "      <td>M</td>\n",
       "      <td>сотрудник</td>\n",
       "      <td>0</td>\n",
       "      <td>144425.938277</td>\n",
       "      <td>покупка жилья для семьи</td>\n",
       "    </tr>\n",
       "  </tbody>\n",
       "</table>\n",
       "</div>"
      ],
      "text/plain": [
       "   children  days_employed  dob_years education  education_id  \\\n",
       "0         1   -8437.673028         42    высшее             0   \n",
       "1         1   -4024.803754         36   среднее             1   \n",
       "2         0   -5623.422610         33   Среднее             1   \n",
       "3         3   -4124.747207         32   среднее             1   \n",
       "4         0  340266.072047         53   среднее             1   \n",
       "5         0    -926.185831         27    высшее             0   \n",
       "6         0   -2879.202052         43    высшее             0   \n",
       "7         0    -152.779569         50   СРЕДНЕЕ             1   \n",
       "8         2   -6929.865299         35    ВЫСШЕЕ             0   \n",
       "9         0   -2188.756445         41   среднее             1   \n",
       "\n",
       "      family_status  family_status_id gender income_type  debt   total_income  \\\n",
       "0   женат / замужем                 0      F   сотрудник     0  253875.639453   \n",
       "1   женат / замужем                 0      F   сотрудник     0  112080.014102   \n",
       "2   женат / замужем                 0      M   сотрудник     0  145885.952297   \n",
       "3   женат / замужем                 0      M   сотрудник     0  267628.550329   \n",
       "4  гражданский брак                 1      F   пенсионер     0  158616.077870   \n",
       "5  гражданский брак                 1      M   компаньон     0  255763.565419   \n",
       "6   женат / замужем                 0      F   компаньон     0  240525.971920   \n",
       "7   женат / замужем                 0      M   сотрудник     0  135823.934197   \n",
       "8  гражданский брак                 1      F   сотрудник     0   95856.832424   \n",
       "9   женат / замужем                 0      M   сотрудник     0  144425.938277   \n",
       "\n",
       "                      purpose  \n",
       "0               покупка жилья  \n",
       "1     приобретение автомобиля  \n",
       "2               покупка жилья  \n",
       "3  дополнительное образование  \n",
       "4             сыграть свадьбу  \n",
       "5               покупка жилья  \n",
       "6           операции с жильем  \n",
       "7                 образование  \n",
       "8       на проведение свадьбы  \n",
       "9     покупка жилья для семьи  "
      ]
     },
     "metadata": {},
     "output_type": "display_data"
    }
   ],
   "source": [
    "# Щупаем данные, вскрываем поверхность\n",
    "display(data.head(10))"
   ]
  },
  {
   "cell_type": "markdown",
   "id": "Pdk-3n-r7_5v",
   "metadata": {
    "id": "Pdk-3n-r7_5v"
   },
   "source": [
    "В таблице данные заёмщиков, где видны личные данные, в т.ч. доход клиента.\n",
    "\n",
    "Есть проблемы с регистром в `education`. В `days_emplyed` есть отрицательные числа.\n",
    "\n",
    "В `purpose` нет единого стандарта категоризации целей.\n",
    "\n",
    "Столбцы `family_status` и `education` здесь явно лишние и требуют \"отщепления\" в отдельны справончик, т.к. есть id. "
   ]
  },
  {
   "cell_type": "code",
   "execution_count": 7,
   "id": "d7571d8a",
   "metadata": {
    "colab": {
     "base_uri": "https://localhost:8080/",
     "height": 300
    },
    "id": "d7571d8a",
    "outputId": "d186c698-96fb-493e-cf26-5618e8c2a539"
   },
   "outputs": [
    {
     "data": {
      "text/html": [
       "<div>\n",
       "<style scoped>\n",
       "    .dataframe tbody tr th:only-of-type {\n",
       "        vertical-align: middle;\n",
       "    }\n",
       "\n",
       "    .dataframe tbody tr th {\n",
       "        vertical-align: top;\n",
       "    }\n",
       "\n",
       "    .dataframe thead th {\n",
       "        text-align: right;\n",
       "    }\n",
       "</style>\n",
       "<table border=\"1\" class=\"dataframe\">\n",
       "  <thead>\n",
       "    <tr style=\"text-align: right;\">\n",
       "      <th></th>\n",
       "      <th>children</th>\n",
       "      <th>days_employed</th>\n",
       "      <th>dob_years</th>\n",
       "      <th>education_id</th>\n",
       "      <th>family_status_id</th>\n",
       "      <th>debt</th>\n",
       "      <th>total_income</th>\n",
       "    </tr>\n",
       "  </thead>\n",
       "  <tbody>\n",
       "    <tr>\n",
       "      <th>count</th>\n",
       "      <td>21525.000000</td>\n",
       "      <td>19351.000000</td>\n",
       "      <td>21525.000000</td>\n",
       "      <td>21525.000000</td>\n",
       "      <td>21525.000000</td>\n",
       "      <td>21525.000000</td>\n",
       "      <td>1.935100e+04</td>\n",
       "    </tr>\n",
       "    <tr>\n",
       "      <th>mean</th>\n",
       "      <td>0.538908</td>\n",
       "      <td>63046.497661</td>\n",
       "      <td>43.293380</td>\n",
       "      <td>0.817236</td>\n",
       "      <td>0.972544</td>\n",
       "      <td>0.080883</td>\n",
       "      <td>1.674223e+05</td>\n",
       "    </tr>\n",
       "    <tr>\n",
       "      <th>std</th>\n",
       "      <td>1.381587</td>\n",
       "      <td>140827.311974</td>\n",
       "      <td>12.574584</td>\n",
       "      <td>0.548138</td>\n",
       "      <td>1.420324</td>\n",
       "      <td>0.272661</td>\n",
       "      <td>1.029716e+05</td>\n",
       "    </tr>\n",
       "    <tr>\n",
       "      <th>min</th>\n",
       "      <td>-1.000000</td>\n",
       "      <td>-18388.949901</td>\n",
       "      <td>0.000000</td>\n",
       "      <td>0.000000</td>\n",
       "      <td>0.000000</td>\n",
       "      <td>0.000000</td>\n",
       "      <td>2.066726e+04</td>\n",
       "    </tr>\n",
       "    <tr>\n",
       "      <th>25%</th>\n",
       "      <td>0.000000</td>\n",
       "      <td>-2747.423625</td>\n",
       "      <td>33.000000</td>\n",
       "      <td>1.000000</td>\n",
       "      <td>0.000000</td>\n",
       "      <td>0.000000</td>\n",
       "      <td>1.030532e+05</td>\n",
       "    </tr>\n",
       "    <tr>\n",
       "      <th>50%</th>\n",
       "      <td>0.000000</td>\n",
       "      <td>-1203.369529</td>\n",
       "      <td>42.000000</td>\n",
       "      <td>1.000000</td>\n",
       "      <td>0.000000</td>\n",
       "      <td>0.000000</td>\n",
       "      <td>1.450179e+05</td>\n",
       "    </tr>\n",
       "    <tr>\n",
       "      <th>75%</th>\n",
       "      <td>1.000000</td>\n",
       "      <td>-291.095954</td>\n",
       "      <td>53.000000</td>\n",
       "      <td>1.000000</td>\n",
       "      <td>1.000000</td>\n",
       "      <td>0.000000</td>\n",
       "      <td>2.034351e+05</td>\n",
       "    </tr>\n",
       "    <tr>\n",
       "      <th>max</th>\n",
       "      <td>20.000000</td>\n",
       "      <td>401755.400475</td>\n",
       "      <td>75.000000</td>\n",
       "      <td>4.000000</td>\n",
       "      <td>4.000000</td>\n",
       "      <td>1.000000</td>\n",
       "      <td>2.265604e+06</td>\n",
       "    </tr>\n",
       "  </tbody>\n",
       "</table>\n",
       "</div>"
      ],
      "text/plain": [
       "           children  days_employed     dob_years  education_id  \\\n",
       "count  21525.000000   19351.000000  21525.000000  21525.000000   \n",
       "mean       0.538908   63046.497661     43.293380      0.817236   \n",
       "std        1.381587  140827.311974     12.574584      0.548138   \n",
       "min       -1.000000  -18388.949901      0.000000      0.000000   \n",
       "25%        0.000000   -2747.423625     33.000000      1.000000   \n",
       "50%        0.000000   -1203.369529     42.000000      1.000000   \n",
       "75%        1.000000    -291.095954     53.000000      1.000000   \n",
       "max       20.000000  401755.400475     75.000000      4.000000   \n",
       "\n",
       "       family_status_id          debt  total_income  \n",
       "count      21525.000000  21525.000000  1.935100e+04  \n",
       "mean           0.972544      0.080883  1.674223e+05  \n",
       "std            1.420324      0.272661  1.029716e+05  \n",
       "min            0.000000      0.000000  2.066726e+04  \n",
       "25%            0.000000      0.000000  1.030532e+05  \n",
       "50%            0.000000      0.000000  1.450179e+05  \n",
       "75%            1.000000      0.000000  2.034351e+05  \n",
       "max            4.000000      1.000000  2.265604e+06  "
      ]
     },
     "metadata": {},
     "output_type": "display_data"
    }
   ],
   "source": [
    "# Для интереса вызовем функцию, которая описывает данные\n",
    "display(data.describe())"
   ]
  },
  {
   "cell_type": "markdown",
   "id": "O66u_GKc8nU2",
   "metadata": {
    "id": "O66u_GKc8nU2"
   },
   "source": [
    "У `children` и `days_employed` возможно есть выбросы. Это в т.ч. видно по предыдущему значению - квартилю 75%."
   ]
  },
  {
   "cell_type": "markdown",
   "id": "8dddbceb",
   "metadata": {
    "id": "8dddbceb"
   },
   "source": [
    "### Шаг 2.1 Заполнение пропусков"
   ]
  },
  {
   "cell_type": "code",
   "execution_count": 8,
   "id": "a5b81aee",
   "metadata": {
    "colab": {
     "base_uri": "https://localhost:8080/"
    },
    "id": "a5b81aee",
    "outputId": "d75a95e4-21b5-4e19-865a-ce512a9fba46",
    "scrolled": true
   },
   "outputs": [
    {
     "name": "stdout",
     "output_type": "stream",
     "text": [
      "children               0\n",
      "days_employed       2174\n",
      "dob_years              0\n",
      "education              0\n",
      "education_id           0\n",
      "family_status          0\n",
      "family_status_id       0\n",
      "gender                 0\n",
      "income_type            0\n",
      "debt                   0\n",
      "total_income        2174\n",
      "purpose                0\n",
      "dtype: int64\n"
     ]
    }
   ],
   "source": [
    "# Смотрим на количество пропусков в таблице\n",
    "print(data.isna().sum())"
   ]
  },
  {
   "cell_type": "code",
   "execution_count": 9,
   "id": "oTSlZUktNtp2",
   "metadata": {
    "colab": {
     "base_uri": "https://localhost:8080/",
     "height": 277
    },
    "id": "oTSlZUktNtp2",
    "outputId": "0e88d20b-0b72-4b5f-965e-ef4c9c7b1194"
   },
   "outputs": [
    {
     "data": {
      "text/html": [
       "<div>\n",
       "<style scoped>\n",
       "    .dataframe tbody tr th:only-of-type {\n",
       "        vertical-align: middle;\n",
       "    }\n",
       "\n",
       "    .dataframe tbody tr th {\n",
       "        vertical-align: top;\n",
       "    }\n",
       "\n",
       "    .dataframe thead th {\n",
       "        text-align: right;\n",
       "    }\n",
       "</style>\n",
       "<table border=\"1\" class=\"dataframe\">\n",
       "  <thead>\n",
       "    <tr style=\"text-align: right;\">\n",
       "      <th></th>\n",
       "      <th>children</th>\n",
       "      <th>days_employed</th>\n",
       "      <th>dob_years</th>\n",
       "      <th>education</th>\n",
       "      <th>education_id</th>\n",
       "      <th>family_status</th>\n",
       "      <th>family_status_id</th>\n",
       "      <th>gender</th>\n",
       "      <th>income_type</th>\n",
       "      <th>debt</th>\n",
       "      <th>total_income</th>\n",
       "      <th>purpose</th>\n",
       "    </tr>\n",
       "  </thead>\n",
       "  <tbody>\n",
       "    <tr>\n",
       "      <th>12</th>\n",
       "      <td>0</td>\n",
       "      <td>NaN</td>\n",
       "      <td>65</td>\n",
       "      <td>среднее</td>\n",
       "      <td>1</td>\n",
       "      <td>гражданский брак</td>\n",
       "      <td>1</td>\n",
       "      <td>M</td>\n",
       "      <td>пенсионер</td>\n",
       "      <td>0</td>\n",
       "      <td>NaN</td>\n",
       "      <td>сыграть свадьбу</td>\n",
       "    </tr>\n",
       "    <tr>\n",
       "      <th>26</th>\n",
       "      <td>0</td>\n",
       "      <td>NaN</td>\n",
       "      <td>41</td>\n",
       "      <td>среднее</td>\n",
       "      <td>1</td>\n",
       "      <td>женат / замужем</td>\n",
       "      <td>0</td>\n",
       "      <td>M</td>\n",
       "      <td>госслужащий</td>\n",
       "      <td>0</td>\n",
       "      <td>NaN</td>\n",
       "      <td>образование</td>\n",
       "    </tr>\n",
       "    <tr>\n",
       "      <th>29</th>\n",
       "      <td>0</td>\n",
       "      <td>NaN</td>\n",
       "      <td>63</td>\n",
       "      <td>среднее</td>\n",
       "      <td>1</td>\n",
       "      <td>Не женат / не замужем</td>\n",
       "      <td>4</td>\n",
       "      <td>F</td>\n",
       "      <td>пенсионер</td>\n",
       "      <td>0</td>\n",
       "      <td>NaN</td>\n",
       "      <td>строительство жилой недвижимости</td>\n",
       "    </tr>\n",
       "  </tbody>\n",
       "</table>\n",
       "</div>"
      ],
      "text/plain": [
       "    children  days_employed  dob_years education  education_id  \\\n",
       "12         0            NaN         65   среднее             1   \n",
       "26         0            NaN         41   среднее             1   \n",
       "29         0            NaN         63   среднее             1   \n",
       "\n",
       "            family_status  family_status_id gender  income_type  debt  \\\n",
       "12       гражданский брак                 1      M    пенсионер     0   \n",
       "26        женат / замужем                 0      M  госслужащий     0   \n",
       "29  Не женат / не замужем                 4      F    пенсионер     0   \n",
       "\n",
       "    total_income                           purpose  \n",
       "12           NaN                   сыграть свадьбу  \n",
       "26           NaN                       образование  \n",
       "29           NaN  строительство жилой недвижимости  "
      ]
     },
     "metadata": {},
     "output_type": "display_data"
    }
   ],
   "source": [
    "# Смотрим на примеры таких пропусков\n",
    "display(data[data['total_income'].isnull()].head(3))"
   ]
  },
  {
   "cell_type": "markdown",
   "id": "vcQeGLLS9qxQ",
   "metadata": {
    "id": "vcQeGLLS9qxQ"
   },
   "source": [
    "Причины пропусков могут быть самые разные: человеческий фактор, сбой в системе и т.д."
   ]
  },
  {
   "cell_type": "code",
   "execution_count": 10,
   "id": "ca74ba4a",
   "metadata": {
    "colab": {
     "base_uri": "https://localhost:8080/"
    },
    "id": "ca74ba4a",
    "outputId": "9a42f7d4-1d25-41aa-9e4c-8ba5b9ff697d"
   },
   "outputs": [
    {
     "name": "stdout",
     "output_type": "stream",
     "text": [
      "Доля пропусков в \"total_income\" от общего числа: 10.099884%\n"
     ]
    }
   ],
   "source": [
    "# Выводим долю пропусков\n",
    "total_income_na = data['total_income'].isna().sum() / len(data['total_income'])\n",
    "print(f'Доля пропусков в \"total_income\" от общего числа: {total_income_na:%}')"
   ]
  },
  {
   "cell_type": "markdown",
   "id": "ecgCzAd9-1OC",
   "metadata": {
    "id": "ecgCzAd9-1OC"
   },
   "source": [
    "Чтобы \"сгладить\" пропуски в `total_income` - заполним данные медианными значениями в зависимости от групп. Сначала посмотрим на эти группы:"
   ]
  },
  {
   "cell_type": "code",
   "execution_count": 11,
   "id": "ddfc5151",
   "metadata": {
    "scrolled": true
   },
   "outputs": [
    {
     "name": "stdout",
     "output_type": "stream",
     "text": [
      "сотрудник          1105\n",
      "компаньон           508\n",
      "пенсионер           413\n",
      "госслужащий         147\n",
      "предприниматель       1\n",
      "Name: income_type, dtype: int64\n"
     ]
    }
   ],
   "source": [
    "# Смотрим какие типы занятости в пустых значениях, чтобы их заполнить\n",
    "total_income_type = data[data['total_income'].isna()]\n",
    "total_income_type = total_income_type['income_type'].value_counts()\n",
    "print(total_income_type)"
   ]
  },
  {
   "cell_type": "markdown",
   "id": "eee7c411",
   "metadata": {
    "id": "ecgCzAd9-1OC"
   },
   "source": [
    "Теперь сформируем библиотеку медианных значений в каждой группе:"
   ]
  },
  {
   "cell_type": "code",
   "execution_count": 12,
   "id": "01f77594",
   "metadata": {
    "colab": {
     "base_uri": "https://localhost:8080/"
    },
    "id": "01f77594",
    "outputId": "9d34dd5e-331f-4f5f-b8bd-69952fc7f1c2"
   },
   "outputs": [
    {
     "data": {
      "text/html": [
       "<div>\n",
       "<style scoped>\n",
       "    .dataframe tbody tr th:only-of-type {\n",
       "        vertical-align: middle;\n",
       "    }\n",
       "\n",
       "    .dataframe tbody tr th {\n",
       "        vertical-align: top;\n",
       "    }\n",
       "\n",
       "    .dataframe thead th {\n",
       "        text-align: right;\n",
       "    }\n",
       "</style>\n",
       "<table border=\"1\" class=\"dataframe\">\n",
       "  <thead>\n",
       "    <tr style=\"text-align: right;\">\n",
       "      <th></th>\n",
       "      <th>total_income</th>\n",
       "    </tr>\n",
       "    <tr>\n",
       "      <th>income_type</th>\n",
       "      <th></th>\n",
       "    </tr>\n",
       "  </thead>\n",
       "  <tbody>\n",
       "    <tr>\n",
       "      <th>безработный</th>\n",
       "      <td>131339.751676</td>\n",
       "    </tr>\n",
       "    <tr>\n",
       "      <th>в декрете</th>\n",
       "      <td>53829.130729</td>\n",
       "    </tr>\n",
       "    <tr>\n",
       "      <th>госслужащий</th>\n",
       "      <td>150447.935283</td>\n",
       "    </tr>\n",
       "    <tr>\n",
       "      <th>компаньон</th>\n",
       "      <td>172357.950966</td>\n",
       "    </tr>\n",
       "    <tr>\n",
       "      <th>пенсионер</th>\n",
       "      <td>118514.486412</td>\n",
       "    </tr>\n",
       "    <tr>\n",
       "      <th>предприниматель</th>\n",
       "      <td>499163.144947</td>\n",
       "    </tr>\n",
       "    <tr>\n",
       "      <th>сотрудник</th>\n",
       "      <td>142594.396847</td>\n",
       "    </tr>\n",
       "    <tr>\n",
       "      <th>студент</th>\n",
       "      <td>98201.625314</td>\n",
       "    </tr>\n",
       "  </tbody>\n",
       "</table>\n",
       "</div>"
      ],
      "text/plain": [
       "                  total_income\n",
       "income_type                   \n",
       "безработный      131339.751676\n",
       "в декрете         53829.130729\n",
       "госслужащий      150447.935283\n",
       "компаньон        172357.950966\n",
       "пенсионер        118514.486412\n",
       "предприниматель  499163.144947\n",
       "сотрудник        142594.396847\n",
       "студент           98201.625314"
      ]
     },
     "metadata": {},
     "output_type": "display_data"
    }
   ],
   "source": [
    "# Заполняем медианными значениями total_income\n",
    "#data['total_income'] = data['total_income'].fillna(data['total_income'].median())\n",
    "# Проверяем результат работы\n",
    "#print(data['total_income'].isna().sum())\n",
    "\n",
    "# Считаем медиану по каждой группе\n",
    "income_median = data.pivot_table(index='income_type', values='total_income', aggfunc='median')\n",
    "display(income_median)\n",
    "\n",
    "#print(float(income_median[income_median.index == 'пенсионер']['total_income']))"
   ]
  },
  {
   "cell_type": "markdown",
   "id": "ee65de9e",
   "metadata": {
    "id": "ecgCzAd9-1OC"
   },
   "source": [
    "Заполняем пустые значения в `total_income`:"
   ]
  },
  {
   "cell_type": "code",
   "execution_count": 13,
   "id": "a4c38133",
   "metadata": {},
   "outputs": [
    {
     "name": "stdout",
     "output_type": "stream",
     "text": [
      "Series([], Name: income_type, dtype: int64)\n"
     ]
    },
    {
     "data": {
      "text/html": [
       "<div>\n",
       "<style scoped>\n",
       "    .dataframe tbody tr th:only-of-type {\n",
       "        vertical-align: middle;\n",
       "    }\n",
       "\n",
       "    .dataframe tbody tr th {\n",
       "        vertical-align: top;\n",
       "    }\n",
       "\n",
       "    .dataframe thead th {\n",
       "        text-align: right;\n",
       "    }\n",
       "</style>\n",
       "<table border=\"1\" class=\"dataframe\">\n",
       "  <thead>\n",
       "    <tr style=\"text-align: right;\">\n",
       "      <th></th>\n",
       "      <th>total_income</th>\n",
       "    </tr>\n",
       "    <tr>\n",
       "      <th>income_type</th>\n",
       "      <th></th>\n",
       "    </tr>\n",
       "  </thead>\n",
       "  <tbody>\n",
       "    <tr>\n",
       "      <th>безработный</th>\n",
       "      <td>131339.751676</td>\n",
       "    </tr>\n",
       "    <tr>\n",
       "      <th>в декрете</th>\n",
       "      <td>53829.130729</td>\n",
       "    </tr>\n",
       "    <tr>\n",
       "      <th>госслужащий</th>\n",
       "      <td>150447.935283</td>\n",
       "    </tr>\n",
       "    <tr>\n",
       "      <th>компаньон</th>\n",
       "      <td>172357.950966</td>\n",
       "    </tr>\n",
       "    <tr>\n",
       "      <th>пенсионер</th>\n",
       "      <td>118514.486412</td>\n",
       "    </tr>\n",
       "    <tr>\n",
       "      <th>предприниматель</th>\n",
       "      <td>499163.144947</td>\n",
       "    </tr>\n",
       "    <tr>\n",
       "      <th>сотрудник</th>\n",
       "      <td>142594.396847</td>\n",
       "    </tr>\n",
       "    <tr>\n",
       "      <th>студент</th>\n",
       "      <td>98201.625314</td>\n",
       "    </tr>\n",
       "  </tbody>\n",
       "</table>\n",
       "</div>"
      ],
      "text/plain": [
       "                  total_income\n",
       "income_type                   \n",
       "безработный      131339.751676\n",
       "в декрете         53829.130729\n",
       "госслужащий      150447.935283\n",
       "компаньон        172357.950966\n",
       "пенсионер        118514.486412\n",
       "предприниматель  499163.144947\n",
       "сотрудник        142594.396847\n",
       "студент           98201.625314"
      ]
     },
     "metadata": {},
     "output_type": "display_data"
    }
   ],
   "source": [
    "# Перебираем типа занятости в цикле, ищем среди них пустые и присваиваем медиану из пивотной таблицы\n",
    "for i in range(len(total_income_type)):\n",
    "    total_index = total_income_type.index[i]\n",
    "    data.loc[(data['income_type'] == total_index) & (data['total_income'].isnull()), 'total_income'] = float(income_median[income_median.index == total_index]['total_income'])\n",
    "   \n",
    "# Снова проверяем значения\n",
    "total_income_type = data[data['total_income'].isna()]\n",
    "print(total_income_type['income_type'].value_counts())\n",
    "\n",
    "display(data.pivot_table(index='income_type', values='total_income', aggfunc='median'))"
   ]
  },
  {
   "cell_type": "markdown",
   "id": "nMfl-W8yAXgy",
   "metadata": {
    "id": "nMfl-W8yAXgy"
   },
   "source": [
    "Теперь работам с пропусками в `days_employed`"
   ]
  },
  {
   "cell_type": "code",
   "execution_count": 14,
   "id": "CWY2nDErNnh8",
   "metadata": {
    "colab": {
     "base_uri": "https://localhost:8080/"
    },
    "id": "CWY2nDErNnh8",
    "outputId": "87f66680-1470-4da8-8743-001a4bb43c3b"
   },
   "outputs": [
    {
     "name": "stdout",
     "output_type": "stream",
     "text": [
      "    children  days_employed  dob_years education  education_id  \\\n",
      "12         0            NaN         65   среднее             1   \n",
      "26         0            NaN         41   среднее             1   \n",
      "29         0            NaN         63   среднее             1   \n",
      "\n",
      "            family_status  family_status_id gender  income_type  debt  \\\n",
      "12       гражданский брак                 1      M    пенсионер     0   \n",
      "26        женат / замужем                 0      M  госслужащий     0   \n",
      "29  Не женат / не замужем                 4      F    пенсионер     0   \n",
      "\n",
      "     total_income                           purpose  \n",
      "12  118514.486412                   сыграть свадьбу  \n",
      "26  150447.935283                       образование  \n",
      "29  118514.486412  строительство жилой недвижимости  \n"
     ]
    }
   ],
   "source": [
    "# Смотрим примеры пропусков \n",
    "print(data[data['days_employed'].isnull()].head(3))"
   ]
  },
  {
   "cell_type": "code",
   "execution_count": 15,
   "id": "MKNjIeaO5g7m",
   "metadata": {
    "colab": {
     "base_uri": "https://localhost:8080/"
    },
    "id": "MKNjIeaO5g7m",
    "outputId": "feed7ea0-5615-4226-c8c0-e03c4caf6c23"
   },
   "outputs": [
    {
     "name": "stdout",
     "output_type": "stream",
     "text": [
      "0\n"
     ]
    }
   ],
   "source": [
    "# Работа с пропусками. Заполняем медианными значениями и смотрим результат (ранее было выведено количество пропусков)\n",
    "data['days_employed'] = data['days_employed'].fillna(data['days_employed'].median())\n",
    "print(data['days_employed'].isna().sum())"
   ]
  },
  {
   "cell_type": "markdown",
   "id": "78f8f2d6",
   "metadata": {
    "id": "78f8f2d6"
   },
   "source": [
    "### Шаг 2.2 Проверка данных на аномалии и исправления"
   ]
  },
  {
   "cell_type": "code",
   "execution_count": 16,
   "id": "bPCAXC88Sd_E",
   "metadata": {
    "colab": {
     "base_uri": "https://localhost:8080/",
     "height": 283
    },
    "id": "bPCAXC88Sd_E",
    "outputId": "93a7ece6-3e03-4fe5-f4c6-c9f1fe567206"
   },
   "outputs": [
    {
     "data": {
      "text/plain": [
       "<AxesSubplot:>"
      ]
     },
     "execution_count": 16,
     "metadata": {},
     "output_type": "execute_result"
    },
    {
     "data": {
      "image/png": "[encoded data removed]",
      "text/plain": [
       "<Figure size 432x288 with 1 Axes>"
      ]
     },
     "metadata": {
      "needs_background": "light"
     },
     "output_type": "display_data"
    }
   ],
   "source": [
    "# Визуализируем столбец на гистограмме, чтобы увидеть выбросы и аномалии\n",
    "\n",
    "data['days_employed'].hist(bins=10, range=(-400000, 400000))"
   ]
  },
  {
   "cell_type": "markdown",
   "id": "qISJXFnZ_5eI",
   "metadata": {
    "id": "qISJXFnZ_5eI"
   },
   "source": [
    "На гистограмме видно, что справа аномальные данные, т.к. не может быть столько рабочих дней. \n",
    "\n",
    "Ещё на графике не совсем видны отрицательные значения, а они есть судя по разведке ранее."
   ]
  },
  {
   "cell_type": "code",
   "execution_count": 17,
   "id": "83CJTqmJ2MxX",
   "metadata": {
    "colab": {
     "base_uri": "https://localhost:8080/"
    },
    "id": "83CJTqmJ2MxX",
    "outputId": "5b2d2a14-ddfe-482d-aca6-5d55a7ef0021"
   },
   "outputs": [
    {
     "name": "stdout",
     "output_type": "stream",
     "text": [
      "18080\n"
     ]
    }
   ],
   "source": [
    "# Также из разведки через head видели отрицательные значени. Посмотрим сколько их всего\n",
    "print(data.loc[data['days_employed'] < 0, 'days_employed'].count())"
   ]
  },
  {
   "cell_type": "code",
   "execution_count": 18,
   "id": "LBfM37fy2ZDT",
   "metadata": {
    "colab": {
     "base_uri": "https://localhost:8080/"
    },
    "id": "LBfM37fy2ZDT",
    "outputId": "54d7ae4a-a923-4886-9eac-b892fc4a23b9"
   },
   "outputs": [
    {
     "name": "stdout",
     "output_type": "stream",
     "text": [
      "0\n"
     ]
    }
   ],
   "source": [
    "# Убираем минус у чисел и проверяем\n",
    "data['days_employed'] = abs(data['days_employed'])\n",
    "print(data.loc[data['days_employed'] < 0, 'days_employed'].count())"
   ]
  },
  {
   "cell_type": "code",
   "execution_count": 19,
   "id": "eu2mwuzJ15Ux",
   "metadata": {
    "id": "eu2mwuzJ15Ux"
   },
   "outputs": [],
   "source": [
    "# Явно аномальные выбросы заменяем на медианные значения. Берём максимально допустимую цифру часов\n",
    "data.loc[data['days_employed'] > 25000, 'days_employed'] = data['days_employed'].median()"
   ]
  },
  {
   "cell_type": "markdown",
   "id": "-YEaXkEqAgmY",
   "metadata": {
    "id": "-YEaXkEqAgmY"
   },
   "source": [
    "При describe отображались странные аномалии в min и max у children"
   ]
  },
  {
   "cell_type": "code",
   "execution_count": 20,
   "id": "Q7EvScC0PAgU",
   "metadata": {
    "colab": {
     "base_uri": "https://localhost:8080/"
    },
    "id": "Q7EvScC0PAgU",
    "outputId": "2f7f8783-b1ec-412f-e66c-7afa4bea480e"
   },
   "outputs": [
    {
     "name": "stdout",
     "output_type": "stream",
     "text": [
      " 0     14149\n",
      " 1      4818\n",
      " 2      2055\n",
      " 3       330\n",
      " 20       76\n",
      "-1        47\n",
      " 4        41\n",
      " 5         9\n",
      "Name: children, dtype: int64\n"
     ]
    }
   ],
   "source": [
    "print(data['children'].value_counts())"
   ]
  },
  {
   "cell_type": "markdown",
   "id": "1vq2MPMcAp0I",
   "metadata": {
    "id": "1vq2MPMcAp0I"
   },
   "source": [
    "20 детей - это странное число и можно посчитать его за выбросы. А вот отрицательные значения переведем через модуль"
   ]
  },
  {
   "cell_type": "code",
   "execution_count": 21,
   "id": "U1Y4zs7JPMNx",
   "metadata": {
    "id": "U1Y4zs7JPMNx"
   },
   "outputs": [],
   "source": [
    "data['children'] = abs(data['children'])"
   ]
  },
  {
   "cell_type": "code",
   "execution_count": 22,
   "id": "w2P_sPlAAwDU",
   "metadata": {
    "colab": {
     "base_uri": "https://localhost:8080/"
    },
    "id": "w2P_sPlAAwDU",
    "outputId": "11853c67-7acb-48e8-84f9-5e2931953c73"
   },
   "outputs": [
    {
     "name": "stdout",
     "output_type": "stream",
     "text": [
      "76\n"
     ]
    }
   ],
   "source": [
    "# Смотрим какое число у параметра \"20\"\n",
    "print(data.loc[data['children'] == 20, 'children'].count())"
   ]
  },
  {
   "cell_type": "code",
   "execution_count": 23,
   "id": "hjnT-NMFnmI-",
   "metadata": {
    "colab": {
     "base_uri": "https://localhost:8080/"
    },
    "id": "hjnT-NMFnmI-",
    "outputId": "4874460f-3579-48ad-be94-93a246164b43",
    "scrolled": true
   },
   "outputs": [
    {
     "name": "stdout",
     "output_type": "stream",
     "text": [
      "0\n"
     ]
    }
   ],
   "source": [
    "# Работаем с количеством \"20\". Просто исключаем их из датасета\n",
    "\n",
    "data = data.loc[data['children'] != 20]\n",
    "print(data.loc[data['children'] == 20, 'children'].count())"
   ]
  },
  {
   "cell_type": "markdown",
   "id": "a40fdb37",
   "metadata": {
    "id": "1vq2MPMcAp0I"
   },
   "source": [
    "Посмотрим также что с возрастом. Посмотрим по гистограме, д.б. что-то вроде нормального распределения."
   ]
  },
  {
   "cell_type": "code",
   "execution_count": 24,
   "id": "950a2e44",
   "metadata": {},
   "outputs": [
    {
     "data": {
      "text/plain": [
       "<AxesSubplot:>"
      ]
     },
     "execution_count": 24,
     "metadata": {},
     "output_type": "execute_result"
    },
    {
     "data": {
      "image/png": "[encoded data removed]",
      "text/plain": [
       "<Figure size 432x288 with 1 Axes>"
      ]
     },
     "metadata": {
      "needs_background": "light"
     },
     "output_type": "display_data"
    }
   ],
   "source": [
    "data['dob_years'].hist()"
   ]
  },
  {
   "cell_type": "markdown",
   "id": "e5b10d43",
   "metadata": {
    "id": "1vq2MPMcAp0I"
   },
   "source": [
    "Видно, что есть странный выброс около нуля. Посмотрим на несовершеннолетних:"
   ]
  },
  {
   "cell_type": "code",
   "execution_count": 25,
   "id": "6a3648f7",
   "metadata": {
    "scrolled": false
   },
   "outputs": [
    {
     "name": "stdout",
     "output_type": "stream",
     "text": [
      "0    100\n",
      "Name: dob_years, dtype: int64\n"
     ]
    }
   ],
   "source": [
    "dob_years = data.query('dob_years < 18')\n",
    "\n",
    "print(dob_years['dob_years'].value_counts())"
   ]
  },
  {
   "cell_type": "markdown",
   "id": "d7aa9bcf",
   "metadata": {
    "id": "1vq2MPMcAp0I"
   },
   "source": [
    "Ошибка могла быть из-за чего угодно - например, промахнуть по цифре круглого возраста. Просто уберём:"
   ]
  },
  {
   "cell_type": "code",
   "execution_count": 26,
   "id": "4ca4815f",
   "metadata": {},
   "outputs": [
    {
     "name": "stdout",
     "output_type": "stream",
     "text": [
      "35    615\n",
      "41    605\n",
      "40    605\n",
      "34    600\n",
      "38    597\n",
      "42    594\n",
      "33    579\n",
      "39    572\n",
      "31    558\n",
      "36    553\n",
      "44    545\n",
      "29    543\n",
      "48    537\n",
      "30    537\n",
      "37    533\n",
      "43    511\n",
      "50    511\n",
      "32    508\n",
      "49    505\n",
      "28    503\n",
      "45    494\n",
      "27    491\n",
      "52    483\n",
      "56    482\n",
      "47    480\n",
      "54    478\n",
      "46    472\n",
      "58    461\n",
      "57    459\n",
      "53    458\n",
      "51    447\n",
      "55    442\n",
      "59    442\n",
      "26    407\n",
      "60    376\n",
      "25    356\n",
      "61    354\n",
      "62    351\n",
      "63    269\n",
      "64    264\n",
      "24    263\n",
      "23    253\n",
      "65    194\n",
      "22    183\n",
      "66    183\n",
      "67    167\n",
      "21    110\n",
      "68     99\n",
      "69     84\n",
      "70     65\n",
      "71     58\n",
      "20     51\n",
      "72     33\n",
      "19     14\n",
      "73      8\n",
      "74      6\n",
      "75      1\n",
      "Name: dob_years, dtype: int64\n"
     ]
    },
    {
     "data": {
      "text/plain": [
       "<AxesSubplot:>"
      ]
     },
     "execution_count": 26,
     "metadata": {},
     "output_type": "execute_result"
    },
    {
     "data": {
      "image/png": "[encoded data removed]",
      "text/plain": [
       "<Figure size 432x288 with 1 Axes>"
      ]
     },
     "metadata": {
      "needs_background": "light"
     },
     "output_type": "display_data"
    }
   ],
   "source": [
    "data = data.query('dob_years >= 18')\n",
    "\n",
    "print(data['dob_years'].value_counts())\n",
    "\n",
    "data['dob_years'].hist()"
   ]
  },
  {
   "cell_type": "markdown",
   "id": "a475f216",
   "metadata": {
    "id": "a475f216"
   },
   "source": [
    "### Шаг 2.3. Изменение типов данных\n"
   ]
  },
  {
   "cell_type": "code",
   "execution_count": 27,
   "id": "e9d88471",
   "metadata": {
    "colab": {
     "base_uri": "https://localhost:8080/"
    },
    "id": "e9d88471",
    "outputId": "87d63389-0151-4e74-859d-a562915ba6d2"
   },
   "outputs": [
    {
     "name": "stdout",
     "output_type": "stream",
     "text": [
      "int64\n"
     ]
    }
   ],
   "source": [
    "# Меняем тип данных на integer (целочисленный) у total_income и проверяем\n",
    "data['total_income'] = data['total_income'].astype('int64')\n",
    "print(data['total_income'].dtypes)"
   ]
  },
  {
   "cell_type": "markdown",
   "id": "dfaff47c",
   "metadata": {
    "id": "dfaff47c"
   },
   "source": [
    "### Шаг 2.4. Удаление дубликатов."
   ]
  },
  {
   "cell_type": "markdown",
   "id": "5OWCepdVBRhg",
   "metadata": {
    "id": "5OWCepdVBRhg"
   },
   "source": [
    "Посмотрим сколько дубликатов у полей, где это возможно."
   ]
  },
  {
   "cell_type": "code",
   "execution_count": 28,
   "id": "xsZMTwAxqmW9",
   "metadata": {
    "colab": {
     "base_uri": "https://localhost:8080/"
    },
    "id": "xsZMTwAxqmW9",
    "outputId": "64ba2745-8d29-4a46-a6dc-8e73bc384752"
   },
   "outputs": [
    {
     "name": "stdout",
     "output_type": "stream",
     "text": [
      "среднее                13640\n",
      "высшее                  4674\n",
      "СРЕДНЕЕ                  768\n",
      "Среднее                  702\n",
      "неоконченное высшее      664\n",
      "ВЫСШЕЕ                   271\n",
      "Высшее                   266\n",
      "начальное                250\n",
      "Неоконченное высшее       47\n",
      "НЕОКОНЧЕННОЕ ВЫСШЕЕ       29\n",
      "НАЧАЛЬНОЕ                 17\n",
      "Начальное                 15\n",
      "ученая степень             4\n",
      "УЧЕНАЯ СТЕПЕНЬ             1\n",
      "Ученая степень             1\n",
      "Name: education, dtype: int64\n"
     ]
    }
   ],
   "source": [
    "print(data['education'].value_counts())"
   ]
  },
  {
   "cell_type": "markdown",
   "id": "pJhHY43_BZ0u",
   "metadata": {
    "id": "pJhHY43_BZ0u"
   },
   "source": [
    "Явные проблемы с регистром. Одна из причин - человеческий фактор и отсутствия фильтрации данных на вводе. Разработчики не предусмотрели этого."
   ]
  },
  {
   "cell_type": "code",
   "execution_count": 29,
   "id": "e8148e90",
   "metadata": {
    "colab": {
     "base_uri": "https://localhost:8080/"
    },
    "id": "e8148e90",
    "outputId": "124ae377-f274-42c2-c3e2-91a690b33f84"
   },
   "outputs": [
    {
     "name": "stdout",
     "output_type": "stream",
     "text": [
      "среднее                15110\n",
      "высшее                  5211\n",
      "неоконченное высшее      740\n",
      "начальное                282\n",
      "ученая степень             6\n",
      "Name: education, dtype: int64\n"
     ]
    }
   ],
   "source": [
    "# Уравниваем регистр и проверяем на результат\n",
    "data['education'] = data['education'].str.lower()\n",
    "print(data['education'].value_counts())"
   ]
  },
  {
   "cell_type": "code",
   "execution_count": 30,
   "id": "uYQasfzZN87m",
   "metadata": {
    "colab": {
     "base_uri": "https://localhost:8080/"
    },
    "id": "uYQasfzZN87m",
    "outputId": "dc2dc480-7cb7-4be8-ae9f-bef5aad1f2ad"
   },
   "outputs": [
    {
     "name": "stdout",
     "output_type": "stream",
     "text": [
      "сотрудник          11022\n",
      "компаньон           5043\n",
      "пенсионер           3827\n",
      "госслужащий         1451\n",
      "предприниматель        2\n",
      "безработный            2\n",
      "в декрете              1\n",
      "студент                1\n",
      "Name: income_type, dtype: int64\n"
     ]
    }
   ],
   "source": [
    "# Смотрим на предмет регистра в других столбцах\n",
    "print(data['income_type'].value_counts())"
   ]
  },
  {
   "cell_type": "code",
   "execution_count": 31,
   "id": "k1HAyqhnOY-V",
   "metadata": {
    "colab": {
     "base_uri": "https://localhost:8080/"
    },
    "id": "k1HAyqhnOY-V",
    "outputId": "35f7953d-6628-413c-e6bf-a3581999e9fd"
   },
   "outputs": [
    {
     "name": "stdout",
     "output_type": "stream",
     "text": [
      "женат / замужем          12283\n",
      "гражданский брак          4144\n",
      "Не женат / не замужем     2788\n",
      "в разводе                 1183\n",
      "вдовец / вдова             951\n",
      "Name: family_status, dtype: int64\n"
     ]
    }
   ],
   "source": [
    "print(data['family_status'].value_counts())"
   ]
  },
  {
   "cell_type": "markdown",
   "id": "f32335b1",
   "metadata": {
    "id": "pJhHY43_BZ0u"
   },
   "source": [
    "Посмотрим на общие дубликаты строк."
   ]
  },
  {
   "cell_type": "code",
   "execution_count": 32,
   "id": "06159257",
   "metadata": {},
   "outputs": [
    {
     "name": "stdout",
     "output_type": "stream",
     "text": [
      "71\n"
     ]
    }
   ],
   "source": [
    "# Смотрим на дубликаты строк\n",
    "print(data.duplicated().sum())"
   ]
  },
  {
   "cell_type": "markdown",
   "id": "7fa7c770",
   "metadata": {
    "id": "pJhHY43_BZ0u"
   },
   "source": [
    "Рассмотрим подробнее:"
   ]
  },
  {
   "cell_type": "code",
   "execution_count": 33,
   "id": "8c0c3a90",
   "metadata": {
    "scrolled": false
   },
   "outputs": [
    {
     "data": {
      "text/html": [
       "<div>\n",
       "<style scoped>\n",
       "    .dataframe tbody tr th:only-of-type {\n",
       "        vertical-align: middle;\n",
       "    }\n",
       "\n",
       "    .dataframe tbody tr th {\n",
       "        vertical-align: top;\n",
       "    }\n",
       "\n",
       "    .dataframe thead th {\n",
       "        text-align: right;\n",
       "    }\n",
       "</style>\n",
       "<table border=\"1\" class=\"dataframe\">\n",
       "  <thead>\n",
       "    <tr style=\"text-align: right;\">\n",
       "      <th></th>\n",
       "      <th>children</th>\n",
       "      <th>days_employed</th>\n",
       "      <th>dob_years</th>\n",
       "      <th>education</th>\n",
       "      <th>education_id</th>\n",
       "      <th>family_status</th>\n",
       "      <th>family_status_id</th>\n",
       "      <th>gender</th>\n",
       "      <th>income_type</th>\n",
       "      <th>debt</th>\n",
       "      <th>total_income</th>\n",
       "      <th>purpose</th>\n",
       "    </tr>\n",
       "  </thead>\n",
       "  <tbody>\n",
       "    <tr>\n",
       "      <th>19321</th>\n",
       "      <td>0</td>\n",
       "      <td>1203.369529</td>\n",
       "      <td>23</td>\n",
       "      <td>среднее</td>\n",
       "      <td>1</td>\n",
       "      <td>Не женат / не замужем</td>\n",
       "      <td>4</td>\n",
       "      <td>F</td>\n",
       "      <td>сотрудник</td>\n",
       "      <td>0</td>\n",
       "      <td>142594</td>\n",
       "      <td>сделка с подержанным автомобилем</td>\n",
       "    </tr>\n",
       "    <tr>\n",
       "      <th>20297</th>\n",
       "      <td>1</td>\n",
       "      <td>1203.369529</td>\n",
       "      <td>23</td>\n",
       "      <td>среднее</td>\n",
       "      <td>1</td>\n",
       "      <td>гражданский брак</td>\n",
       "      <td>1</td>\n",
       "      <td>F</td>\n",
       "      <td>сотрудник</td>\n",
       "      <td>0</td>\n",
       "      <td>142594</td>\n",
       "      <td>сыграть свадьбу</td>\n",
       "    </tr>\n",
       "    <tr>\n",
       "      <th>18328</th>\n",
       "      <td>0</td>\n",
       "      <td>1203.369529</td>\n",
       "      <td>29</td>\n",
       "      <td>высшее</td>\n",
       "      <td>0</td>\n",
       "      <td>женат / замужем</td>\n",
       "      <td>0</td>\n",
       "      <td>M</td>\n",
       "      <td>сотрудник</td>\n",
       "      <td>0</td>\n",
       "      <td>142594</td>\n",
       "      <td>покупка жилой недвижимости</td>\n",
       "    </tr>\n",
       "    <tr>\n",
       "      <th>18349</th>\n",
       "      <td>1</td>\n",
       "      <td>1203.369529</td>\n",
       "      <td>30</td>\n",
       "      <td>высшее</td>\n",
       "      <td>0</td>\n",
       "      <td>женат / замужем</td>\n",
       "      <td>0</td>\n",
       "      <td>F</td>\n",
       "      <td>госслужащий</td>\n",
       "      <td>0</td>\n",
       "      <td>150447</td>\n",
       "      <td>покупка жилья для семьи</td>\n",
       "    </tr>\n",
       "    <tr>\n",
       "      <th>21281</th>\n",
       "      <td>1</td>\n",
       "      <td>1203.369529</td>\n",
       "      <td>30</td>\n",
       "      <td>высшее</td>\n",
       "      <td>0</td>\n",
       "      <td>женат / замужем</td>\n",
       "      <td>0</td>\n",
       "      <td>F</td>\n",
       "      <td>сотрудник</td>\n",
       "      <td>0</td>\n",
       "      <td>142594</td>\n",
       "      <td>покупка коммерческой недвижимости</td>\n",
       "    </tr>\n",
       "    <tr>\n",
       "      <th>6312</th>\n",
       "      <td>0</td>\n",
       "      <td>1203.369529</td>\n",
       "      <td>30</td>\n",
       "      <td>среднее</td>\n",
       "      <td>1</td>\n",
       "      <td>женат / замужем</td>\n",
       "      <td>0</td>\n",
       "      <td>M</td>\n",
       "      <td>сотрудник</td>\n",
       "      <td>0</td>\n",
       "      <td>142594</td>\n",
       "      <td>строительство жилой недвижимости</td>\n",
       "    </tr>\n",
       "    <tr>\n",
       "      <th>13878</th>\n",
       "      <td>1</td>\n",
       "      <td>1203.369529</td>\n",
       "      <td>31</td>\n",
       "      <td>среднее</td>\n",
       "      <td>1</td>\n",
       "      <td>женат / замужем</td>\n",
       "      <td>0</td>\n",
       "      <td>F</td>\n",
       "      <td>компаньон</td>\n",
       "      <td>0</td>\n",
       "      <td>172357</td>\n",
       "      <td>покупка жилья</td>\n",
       "    </tr>\n",
       "    <tr>\n",
       "      <th>16904</th>\n",
       "      <td>1</td>\n",
       "      <td>1203.369529</td>\n",
       "      <td>32</td>\n",
       "      <td>высшее</td>\n",
       "      <td>0</td>\n",
       "      <td>женат / замужем</td>\n",
       "      <td>0</td>\n",
       "      <td>F</td>\n",
       "      <td>сотрудник</td>\n",
       "      <td>0</td>\n",
       "      <td>142594</td>\n",
       "      <td>на покупку подержанного автомобиля</td>\n",
       "    </tr>\n",
       "    <tr>\n",
       "      <th>9238</th>\n",
       "      <td>2</td>\n",
       "      <td>1203.369529</td>\n",
       "      <td>34</td>\n",
       "      <td>среднее</td>\n",
       "      <td>1</td>\n",
       "      <td>женат / замужем</td>\n",
       "      <td>0</td>\n",
       "      <td>F</td>\n",
       "      <td>сотрудник</td>\n",
       "      <td>0</td>\n",
       "      <td>142594</td>\n",
       "      <td>покупка жилья для сдачи</td>\n",
       "    </tr>\n",
       "    <tr>\n",
       "      <th>4182</th>\n",
       "      <td>1</td>\n",
       "      <td>1203.369529</td>\n",
       "      <td>34</td>\n",
       "      <td>высшее</td>\n",
       "      <td>0</td>\n",
       "      <td>гражданский брак</td>\n",
       "      <td>1</td>\n",
       "      <td>F</td>\n",
       "      <td>сотрудник</td>\n",
       "      <td>0</td>\n",
       "      <td>142594</td>\n",
       "      <td>свадьба</td>\n",
       "    </tr>\n",
       "    <tr>\n",
       "      <th>13773</th>\n",
       "      <td>0</td>\n",
       "      <td>1203.369529</td>\n",
       "      <td>35</td>\n",
       "      <td>среднее</td>\n",
       "      <td>1</td>\n",
       "      <td>гражданский брак</td>\n",
       "      <td>1</td>\n",
       "      <td>F</td>\n",
       "      <td>сотрудник</td>\n",
       "      <td>0</td>\n",
       "      <td>142594</td>\n",
       "      <td>сыграть свадьбу</td>\n",
       "    </tr>\n",
       "    <tr>\n",
       "      <th>14432</th>\n",
       "      <td>2</td>\n",
       "      <td>1203.369529</td>\n",
       "      <td>36</td>\n",
       "      <td>высшее</td>\n",
       "      <td>0</td>\n",
       "      <td>женат / замужем</td>\n",
       "      <td>0</td>\n",
       "      <td>F</td>\n",
       "      <td>госслужащий</td>\n",
       "      <td>0</td>\n",
       "      <td>150447</td>\n",
       "      <td>получение образования</td>\n",
       "    </tr>\n",
       "    <tr>\n",
       "      <th>12375</th>\n",
       "      <td>1</td>\n",
       "      <td>1203.369529</td>\n",
       "      <td>37</td>\n",
       "      <td>среднее</td>\n",
       "      <td>1</td>\n",
       "      <td>женат / замужем</td>\n",
       "      <td>0</td>\n",
       "      <td>F</td>\n",
       "      <td>сотрудник</td>\n",
       "      <td>0</td>\n",
       "      <td>142594</td>\n",
       "      <td>покупка недвижимости</td>\n",
       "    </tr>\n",
       "    <tr>\n",
       "      <th>19387</th>\n",
       "      <td>0</td>\n",
       "      <td>1203.369529</td>\n",
       "      <td>38</td>\n",
       "      <td>высшее</td>\n",
       "      <td>0</td>\n",
       "      <td>гражданский брак</td>\n",
       "      <td>1</td>\n",
       "      <td>F</td>\n",
       "      <td>компаньон</td>\n",
       "      <td>0</td>\n",
       "      <td>172357</td>\n",
       "      <td>на проведение свадьбы</td>\n",
       "    </tr>\n",
       "    <tr>\n",
       "      <th>16902</th>\n",
       "      <td>2</td>\n",
       "      <td>1203.369529</td>\n",
       "      <td>39</td>\n",
       "      <td>среднее</td>\n",
       "      <td>1</td>\n",
       "      <td>гражданский брак</td>\n",
       "      <td>1</td>\n",
       "      <td>F</td>\n",
       "      <td>сотрудник</td>\n",
       "      <td>0</td>\n",
       "      <td>142594</td>\n",
       "      <td>сыграть свадьбу</td>\n",
       "    </tr>\n",
       "  </tbody>\n",
       "</table>\n",
       "</div>"
      ],
      "text/plain": [
       "       children  days_employed  dob_years education  education_id  \\\n",
       "19321         0    1203.369529         23   среднее             1   \n",
       "20297         1    1203.369529         23   среднее             1   \n",
       "18328         0    1203.369529         29    высшее             0   \n",
       "18349         1    1203.369529         30    высшее             0   \n",
       "21281         1    1203.369529         30    высшее             0   \n",
       "6312          0    1203.369529         30   среднее             1   \n",
       "13878         1    1203.369529         31   среднее             1   \n",
       "16904         1    1203.369529         32    высшее             0   \n",
       "9238          2    1203.369529         34   среднее             1   \n",
       "4182          1    1203.369529         34    высшее             0   \n",
       "13773         0    1203.369529         35   среднее             1   \n",
       "14432         2    1203.369529         36    высшее             0   \n",
       "12375         1    1203.369529         37   среднее             1   \n",
       "19387         0    1203.369529         38    высшее             0   \n",
       "16902         2    1203.369529         39   среднее             1   \n",
       "\n",
       "               family_status  family_status_id gender  income_type  debt  \\\n",
       "19321  Не женат / не замужем                 4      F    сотрудник     0   \n",
       "20297       гражданский брак                 1      F    сотрудник     0   \n",
       "18328        женат / замужем                 0      M    сотрудник     0   \n",
       "18349        женат / замужем                 0      F  госслужащий     0   \n",
       "21281        женат / замужем                 0      F    сотрудник     0   \n",
       "6312         женат / замужем                 0      M    сотрудник     0   \n",
       "13878        женат / замужем                 0      F    компаньон     0   \n",
       "16904        женат / замужем                 0      F    сотрудник     0   \n",
       "9238         женат / замужем                 0      F    сотрудник     0   \n",
       "4182        гражданский брак                 1      F    сотрудник     0   \n",
       "13773       гражданский брак                 1      F    сотрудник     0   \n",
       "14432        женат / замужем                 0      F  госслужащий     0   \n",
       "12375        женат / замужем                 0      F    сотрудник     0   \n",
       "19387       гражданский брак                 1      F    компаньон     0   \n",
       "16902       гражданский брак                 1      F    сотрудник     0   \n",
       "\n",
       "       total_income                             purpose  \n",
       "19321        142594    сделка с подержанным автомобилем  \n",
       "20297        142594                     сыграть свадьбу  \n",
       "18328        142594          покупка жилой недвижимости  \n",
       "18349        150447             покупка жилья для семьи  \n",
       "21281        142594   покупка коммерческой недвижимости  \n",
       "6312         142594    строительство жилой недвижимости  \n",
       "13878        172357                       покупка жилья  \n",
       "16904        142594  на покупку подержанного автомобиля  \n",
       "9238         142594             покупка жилья для сдачи  \n",
       "4182         142594                             свадьба  \n",
       "13773        142594                     сыграть свадьбу  \n",
       "14432        150447               получение образования  \n",
       "12375        142594                покупка недвижимости  \n",
       "19387        172357               на проведение свадьбы  \n",
       "16902        142594                     сыграть свадьбу  "
      ]
     },
     "execution_count": 33,
     "metadata": {},
     "output_type": "execute_result"
    }
   ],
   "source": [
    "data[data.duplicated()].sort_values(by=['days_employed', 'dob_years', 'purpose', 'education', 'children']).head(15)"
   ]
  },
  {
   "cell_type": "markdown",
   "id": "5c9a43d2",
   "metadata": {
    "id": "pJhHY43_BZ0u"
   },
   "source": [
    "Несколько странно выглядят дубликаты, которые дубликами и не кажутся. Не думаю, что их стоит как-то обрабатывать дополнительно."
   ]
  },
  {
   "cell_type": "markdown",
   "id": "00107591",
   "metadata": {
    "id": "00107591"
   },
   "source": [
    "### Шаг 2.5. Формирование дополнительных датафреймов словарей, декомпозиция исходного датафрейма"
   ]
  },
  {
   "cell_type": "code",
   "execution_count": 34,
   "id": "615003c7",
   "metadata": {
    "colab": {
     "base_uri": "https://localhost:8080/",
     "height": 206
    },
    "id": "615003c7",
    "outputId": "170e9a5d-1dd2-4287-96ba-2c478f6e0e99"
   },
   "outputs": [
    {
     "data": {
      "text/html": [
       "<div>\n",
       "<style scoped>\n",
       "    .dataframe tbody tr th:only-of-type {\n",
       "        vertical-align: middle;\n",
       "    }\n",
       "\n",
       "    .dataframe tbody tr th {\n",
       "        vertical-align: top;\n",
       "    }\n",
       "\n",
       "    .dataframe thead th {\n",
       "        text-align: right;\n",
       "    }\n",
       "</style>\n",
       "<table border=\"1\" class=\"dataframe\">\n",
       "  <thead>\n",
       "    <tr style=\"text-align: right;\">\n",
       "      <th></th>\n",
       "      <th>education</th>\n",
       "      <th>education_id</th>\n",
       "    </tr>\n",
       "  </thead>\n",
       "  <tbody>\n",
       "    <tr>\n",
       "      <th>0</th>\n",
       "      <td>высшее</td>\n",
       "      <td>0</td>\n",
       "    </tr>\n",
       "    <tr>\n",
       "      <th>1</th>\n",
       "      <td>среднее</td>\n",
       "      <td>1</td>\n",
       "    </tr>\n",
       "    <tr>\n",
       "      <th>13</th>\n",
       "      <td>неоконченное высшее</td>\n",
       "      <td>2</td>\n",
       "    </tr>\n",
       "    <tr>\n",
       "      <th>31</th>\n",
       "      <td>начальное</td>\n",
       "      <td>3</td>\n",
       "    </tr>\n",
       "    <tr>\n",
       "      <th>2963</th>\n",
       "      <td>ученая степень</td>\n",
       "      <td>4</td>\n",
       "    </tr>\n",
       "  </tbody>\n",
       "</table>\n",
       "</div>"
      ],
      "text/plain": [
       "                education  education_id\n",
       "0                  высшее             0\n",
       "1                 среднее             1\n",
       "13    неоконченное высшее             2\n",
       "31              начальное             3\n",
       "2963       ученая степень             4"
      ]
     },
     "metadata": {},
     "output_type": "display_data"
    }
   ],
   "source": [
    "#data_education = pd.DataFrame({'education': data['education'].unique(),\n",
    "#                              'education_id': data['education_id'].unique()})\n",
    "\n",
    "# Создаём Датафрейм education, копируем столбцы и дропаем дубликаты\n",
    "#data_education = pd.DataFrame()\n",
    "#data_education['education'] = data['education']\n",
    "#data_education['education_id'] = data['education_id']\n",
    "\n",
    "data_education = data[['education', 'education_id']].drop_duplicates()\n",
    "        \n",
    "# Проверяем результат\n",
    "display(data_education.head(10))"
   ]
  },
  {
   "cell_type": "code",
   "execution_count": 35,
   "id": "AbgnEAEtW636",
   "metadata": {
    "colab": {
     "base_uri": "https://localhost:8080/",
     "height": 206
    },
    "id": "AbgnEAEtW636",
    "outputId": "a353cb2e-1827-4822-9af7-5ade783417e6"
   },
   "outputs": [
    {
     "data": {
      "text/html": [
       "<div>\n",
       "<style scoped>\n",
       "    .dataframe tbody tr th:only-of-type {\n",
       "        vertical-align: middle;\n",
       "    }\n",
       "\n",
       "    .dataframe tbody tr th {\n",
       "        vertical-align: top;\n",
       "    }\n",
       "\n",
       "    .dataframe thead th {\n",
       "        text-align: right;\n",
       "    }\n",
       "</style>\n",
       "<table border=\"1\" class=\"dataframe\">\n",
       "  <thead>\n",
       "    <tr style=\"text-align: right;\">\n",
       "      <th></th>\n",
       "      <th>family_status</th>\n",
       "      <th>family_status_id</th>\n",
       "    </tr>\n",
       "  </thead>\n",
       "  <tbody>\n",
       "    <tr>\n",
       "      <th>0</th>\n",
       "      <td>женат / замужем</td>\n",
       "      <td>0</td>\n",
       "    </tr>\n",
       "    <tr>\n",
       "      <th>4</th>\n",
       "      <td>гражданский брак</td>\n",
       "      <td>1</td>\n",
       "    </tr>\n",
       "    <tr>\n",
       "      <th>18</th>\n",
       "      <td>вдовец / вдова</td>\n",
       "      <td>2</td>\n",
       "    </tr>\n",
       "    <tr>\n",
       "      <th>19</th>\n",
       "      <td>в разводе</td>\n",
       "      <td>3</td>\n",
       "    </tr>\n",
       "    <tr>\n",
       "      <th>24</th>\n",
       "      <td>Не женат / не замужем</td>\n",
       "      <td>4</td>\n",
       "    </tr>\n",
       "  </tbody>\n",
       "</table>\n",
       "</div>"
      ],
      "text/plain": [
       "            family_status  family_status_id\n",
       "0         женат / замужем                 0\n",
       "4        гражданский брак                 1\n",
       "18         вдовец / вдова                 2\n",
       "19              в разводе                 3\n",
       "24  Не женат / не замужем                 4"
      ]
     },
     "metadata": {},
     "output_type": "display_data"
    }
   ],
   "source": [
    "#data_family = pd.DataFrame({'family_status': data['family_status'].unique(),\n",
    "#                              'family_status_id': data['family_status_id'].unique()})\n",
    "#display(data_family.head())\n",
    "\n",
    "# Создаём Датафрейм family, копируем столбцы и дропаем дубликаты\n",
    "#data_family = pd.DataFrame()\n",
    "#data_family['family_status'] = data['family_status']\n",
    "#data_family['family_status_id'] = data['family_status_id']\n",
    "\n",
    "data_family = data[['family_status', 'family_status_id']].drop_duplicates()\n",
    "        \n",
    "# Проверяем результат\n",
    "display(data_family.head(10))"
   ]
  },
  {
   "cell_type": "code",
   "execution_count": 36,
   "id": "Ra1D4ikpXg6U",
   "metadata": {
    "colab": {
     "base_uri": "https://localhost:8080/",
     "height": 143
    },
    "id": "Ra1D4ikpXg6U",
    "outputId": "107db376-b208-47ee-9796-037c75dbd3f0"
   },
   "outputs": [
    {
     "data": {
      "text/html": [
       "<div>\n",
       "<style scoped>\n",
       "    .dataframe tbody tr th:only-of-type {\n",
       "        vertical-align: middle;\n",
       "    }\n",
       "\n",
       "    .dataframe tbody tr th {\n",
       "        vertical-align: top;\n",
       "    }\n",
       "\n",
       "    .dataframe thead th {\n",
       "        text-align: right;\n",
       "    }\n",
       "</style>\n",
       "<table border=\"1\" class=\"dataframe\">\n",
       "  <thead>\n",
       "    <tr style=\"text-align: right;\">\n",
       "      <th></th>\n",
       "      <th>children</th>\n",
       "      <th>days_employed</th>\n",
       "      <th>dob_years</th>\n",
       "      <th>education_id</th>\n",
       "      <th>family_status_id</th>\n",
       "      <th>gender</th>\n",
       "      <th>income_type</th>\n",
       "      <th>debt</th>\n",
       "      <th>total_income</th>\n",
       "      <th>purpose</th>\n",
       "    </tr>\n",
       "  </thead>\n",
       "  <tbody>\n",
       "    <tr>\n",
       "      <th>0</th>\n",
       "      <td>1</td>\n",
       "      <td>8437.673028</td>\n",
       "      <td>42</td>\n",
       "      <td>0</td>\n",
       "      <td>0</td>\n",
       "      <td>F</td>\n",
       "      <td>сотрудник</td>\n",
       "      <td>0</td>\n",
       "      <td>253875</td>\n",
       "      <td>покупка жилья</td>\n",
       "    </tr>\n",
       "    <tr>\n",
       "      <th>1</th>\n",
       "      <td>1</td>\n",
       "      <td>4024.803754</td>\n",
       "      <td>36</td>\n",
       "      <td>1</td>\n",
       "      <td>0</td>\n",
       "      <td>F</td>\n",
       "      <td>сотрудник</td>\n",
       "      <td>0</td>\n",
       "      <td>112080</td>\n",
       "      <td>приобретение автомобиля</td>\n",
       "    </tr>\n",
       "    <tr>\n",
       "      <th>2</th>\n",
       "      <td>0</td>\n",
       "      <td>5623.422610</td>\n",
       "      <td>33</td>\n",
       "      <td>1</td>\n",
       "      <td>0</td>\n",
       "      <td>M</td>\n",
       "      <td>сотрудник</td>\n",
       "      <td>0</td>\n",
       "      <td>145885</td>\n",
       "      <td>покупка жилья</td>\n",
       "    </tr>\n",
       "  </tbody>\n",
       "</table>\n",
       "</div>"
      ],
      "text/plain": [
       "   children  days_employed  dob_years  education_id  family_status_id gender  \\\n",
       "0         1    8437.673028         42             0                 0      F   \n",
       "1         1    4024.803754         36             1                 0      F   \n",
       "2         0    5623.422610         33             1                 0      M   \n",
       "\n",
       "  income_type  debt  total_income                  purpose  \n",
       "0   сотрудник     0        253875            покупка жилья  \n",
       "1   сотрудник     0        112080  приобретение автомобиля  \n",
       "2   сотрудник     0        145885            покупка жилья  "
      ]
     },
     "metadata": {},
     "output_type": "display_data"
    }
   ],
   "source": [
    "# Удаляем уже ненужные столбцы\n",
    "data = data.drop(columns=['education', 'family_status'])\n",
    "display(data.head(3))"
   ]
  },
  {
   "cell_type": "markdown",
   "id": "d2288caf",
   "metadata": {
    "id": "d2288caf"
   },
   "source": [
    "### Шаг 2.6. Категоризация дохода."
   ]
  },
  {
   "cell_type": "markdown",
   "id": "wGAIh9KfByV-",
   "metadata": {
    "id": "wGAIh9KfByV-"
   },
   "source": [
    "Присвоим разным диапазоном дохода метки, чтобы было удобно анализировать и отвечать на поставленные вопросы."
   ]
  },
  {
   "cell_type": "code",
   "execution_count": 37,
   "id": "aeff5ada",
   "metadata": {
    "colab": {
     "base_uri": "https://localhost:8080/"
    },
    "id": "aeff5ada",
    "outputId": "d5581068-035f-4870-8e92-8997a91e682e"
   },
   "outputs": [
    {
     "name": "stdout",
     "output_type": "stream",
     "text": [
      "C    15958\n",
      "B     4996\n",
      "D      348\n",
      "A       25\n",
      "E       22\n",
      "Name: total_income_category, dtype: int64\n"
     ]
    }
   ],
   "source": [
    "# Пишем функция, чтобы её потом применить к таблице\n",
    "def def_income(row):\n",
    "  if row['total_income'] <= 30000:\n",
    "    return 'E'\n",
    "  elif row['total_income'] > 30000 and row['total_income'] <= 50000:\n",
    "    return 'D'\n",
    "  elif row['total_income'] > 50000 and row['total_income'] <= 200000:\n",
    "    return 'C'\n",
    "  elif row['total_income'] > 200000 and row['total_income'] <= 1000000:\n",
    "    return 'B'\n",
    "  else:\n",
    "    return 'A'\n",
    "\n",
    "# Применяем через apply\n",
    "data['total_income_category'] = data.apply(def_income, axis=1)\n",
    "\n",
    "# Проверяем результат\n",
    "print(data['total_income_category'].value_counts())"
   ]
  },
  {
   "cell_type": "markdown",
   "id": "yoXHeK0xvswO",
   "metadata": {
    "id": "yoXHeK0xvswO"
   },
   "source": [
    "Средней категории явно больше."
   ]
  },
  {
   "cell_type": "markdown",
   "id": "6458ecd1",
   "metadata": {
    "id": "6458ecd1"
   },
   "source": [
    "### Шаг 2.7. Категоризация целей кредита"
   ]
  },
  {
   "cell_type": "markdown",
   "id": "bovsEsVpCDxq",
   "metadata": {
    "id": "bovsEsVpCDxq"
   },
   "source": [
    "Из разведки ранее было видно, что нет единого стандарта и категорий в `purpose`. Устраняем этот недастаток."
   ]
  },
  {
   "cell_type": "code",
   "execution_count": 38,
   "id": "hnIVcIOWpOFh",
   "metadata": {
    "colab": {
     "base_uri": "https://localhost:8080/"
    },
    "id": "hnIVcIOWpOFh",
    "outputId": "cf0fd84e-30ce-4a87-e8d4-b64b362a104d"
   },
   "outputs": [
    {
     "name": "stdout",
     "output_type": "stream",
     "text": [
      "свадьба                                   791\n",
      "на проведение свадьбы                     769\n",
      "сыграть свадьбу                           765\n",
      "операции с недвижимостью                  672\n",
      "покупка коммерческой недвижимости         658\n",
      "покупка жилья для сдачи                   650\n",
      "операции с коммерческой недвижимостью     645\n",
      "операции с жильем                         643\n",
      "покупка жилья для семьи                   639\n",
      "покупка жилья                             638\n",
      "жилье                                     637\n",
      "операции со своей недвижимостью           629\n",
      "недвижимость                              629\n",
      "строительство собственной недвижимости    627\n",
      "строительство жилой недвижимости          622\n",
      "строительство недвижимости                620\n",
      "покупка недвижимости                      619\n",
      "покупка своего жилья                      619\n",
      "ремонт жилью                              608\n",
      "покупка жилой недвижимости                602\n",
      "на покупку своего автомобиля              502\n",
      "заняться высшим образованием              493\n",
      "автомобиль                                490\n",
      "сделка с подержанным автомобилем          483\n",
      "автомобили                                475\n",
      "свой автомобиль                           474\n",
      "на покупку подержанного автомобиля        473\n",
      "на покупку автомобиля                     467\n",
      "приобретение автомобиля                   460\n",
      "дополнительное образование                457\n",
      "сделка с автомобилем                      454\n",
      "высшее образование                        445\n",
      "получение дополнительного образования     444\n",
      "образование                               442\n",
      "получение образования                     441\n",
      "профильное образование                    433\n",
      "получение высшего образования             423\n",
      "заняться образованием                     411\n",
      "Name: purpose, dtype: int64\n"
     ]
    }
   ],
   "source": [
    "print(data['purpose'].value_counts())"
   ]
  },
  {
   "cell_type": "code",
   "execution_count": 39,
   "id": "c31374f1",
   "metadata": {
    "colab": {
     "base_uri": "https://localhost:8080/",
     "height": 109
    },
    "id": "c31374f1",
    "outputId": "d9741c2d-4fe9-4221-8aea-0e2605ebd3b4"
   },
   "outputs": [
    {
     "data": {
      "text/plain": [
       "операции с недвижимостью    10757\n",
       "операции с автомобилем       4278\n",
       "получение образования        3989\n",
       "проведение свадьбы           2325\n",
       "Name: purpose_category, dtype: int64"
      ]
     },
     "metadata": {},
     "output_type": "display_data"
    }
   ],
   "source": [
    "# Функция категоризации по целям кредита\n",
    "def def_purpose(row):\n",
    "  # Проверяем значение на вхождение ключевых слов и присваиваем категорию\n",
    "  if 'автомобил' in row['purpose']:\n",
    "    return 'операции с автомобилем'\n",
    "  elif 'жиль' in row['purpose'] or 'недвижим' in row['purpose']:\n",
    "    return 'операции с недвижимостью'\n",
    "  elif 'свадьб' in row['purpose']:\n",
    "    return 'проведение свадьбы'\n",
    "  elif 'образов' in row['purpose']:\n",
    "    return 'получение образования'\n",
    "\n",
    "# Применяем функцию\n",
    "data['purpose_category'] = data.apply(def_purpose, axis=1)\n",
    "\n",
    "# Проверяем результат\n",
    "display(data['purpose_category'].value_counts())"
   ]
  },
  {
   "cell_type": "markdown",
   "id": "7a277cb1",
   "metadata": {
    "id": "bovsEsVpCDxq"
   },
   "source": [
    "#### Выводы предобработки:\n",
    "\n",
    "Были странные, но терпимые по доли выбросы в доходе и возрасте. Также ошибки с отрицательными значениями, которые удалось поправить через модуль.\n",
    "\n",
    "Решена проблема с регистром значений.\n",
    "\n",
    "Неоднородные категории в целях кредита, которые пришлось объединить в общие категории.\n",
    "\n",
    "Два столбца вынесены в отдельные словари.\n"
   ]
  },
  {
   "cell_type": "markdown",
   "id": "42123ace",
   "metadata": {
    "id": "42123ace"
   },
   "source": [
    "### Ответы на вопросы"
   ]
  },
  {
   "cell_type": "markdown",
   "id": "85a966ba",
   "metadata": {
    "id": "85a966ba"
   },
   "source": [
    "##### Вопрос 1: **Есть ли зависимость между количеством детей и возвратом кредита в срок?**\n"
   ]
  },
  {
   "cell_type": "code",
   "execution_count": 40,
   "id": "KpiCJBGVyOys",
   "metadata": {
    "colab": {
     "base_uri": "https://localhost:8080/",
     "height": 426
    },
    "id": "KpiCJBGVyOys",
    "outputId": "ac12c164-ec7d-4d45-8aef-ad2ee5bc8fc1"
   },
   "outputs": [
    {
     "name": "stdout",
     "output_type": "stream",
     "text": [
      "   children   sum    len  mean\n",
      "0         0  1058  14080  7.51\n",
      "1         1   442   4849  9.12\n",
      "2         2   194   2042  9.50\n",
      "3         3    27    328  8.23\n",
      "4         4     4     41  9.76\n"
     ]
    },
    {
     "data": {
      "text/plain": [
       "<AxesSubplot:xlabel='children', ylabel='mean'>"
      ]
     },
     "execution_count": 40,
     "metadata": {},
     "output_type": "execute_result"
    },
    {
     "data": {
      "image/png": "[encoded data removed]",
      "text/plain": [
       "<Figure size 432x288 with 1 Axes>"
      ]
     },
     "metadata": {
      "needs_background": "light"
     },
     "output_type": "display_data"
    }
   ],
   "source": [
    "import seaborn as sb\n",
    "\n",
    "# Сведём таблицу, чтобы писать меньше кода и просуммировать значения\n",
    "data_pivot = data.pivot_table(index='children', values='debt', aggfunc=[sum, len, 'mean']).reset_index()\n",
    "data_pivot.columns = ['children', 'sum', 'len', 'mean']\n",
    "data_pivot['mean'] = round(data_pivot['mean'] * 100, 2)\n",
    "# Выносим коэффициент просрочек\n",
    "#data_pivot['ratio'] = round(data_pivot['sum'] / data_pivot['len'] * 100, 2)\n",
    "\n",
    "# Выводим результат в графике и таблице\n",
    "print(data_pivot.head())\n",
    "sb.barplot(x='children', y='mean', data=data_pivot)"
   ]
  },
  {
   "cell_type": "markdown",
   "id": "6c8ee816",
   "metadata": {
    "id": "6c8ee816"
   },
   "source": [
    "##### Вывод 1:"
   ]
  },
  {
   "cell_type": "markdown",
   "id": "75ce46f4",
   "metadata": {
    "id": "75ce46f4"
   },
   "source": [
    "Зависимость минимальная. Но на графике видно, что у бездетных больше вероятности отдать кредит без просрочек, чем у тех, у кого есть дети. При четырёх детях - риски максимальные."
   ]
  },
  {
   "cell_type": "markdown",
   "id": "oGN2hmr8SjTV",
   "metadata": {
    "id": "oGN2hmr8SjTV"
   },
   "source": [
    "##### Вопрос 2: **Есть ли зависимость между семейным положением и возвратом кредита в срок?**\n"
   ]
  },
  {
   "cell_type": "code",
   "execution_count": 41,
   "id": "8YFonqfASzIE",
   "metadata": {
    "colab": {
     "base_uri": "https://localhost:8080/",
     "height": 298
    },
    "id": "8YFonqfASzIE",
    "outputId": "fa67ee62-860f-4346-8ea6-3ba173a8c58f"
   },
   "outputs": [
    {
     "name": "stdout",
     "output_type": "stream",
     "text": [
      "   family_status_id  sum    len  mean          family_status\n",
      "4                 4  272   2788  9.76  Не женат / не замужем\n",
      "1                 1  383   4144  9.24       гражданский брак\n",
      "0                 0  924  12283  7.52        женат / замужем\n",
      "3                 3   84   1183  7.10              в разводе\n",
      "2                 2   62    951  6.52         вдовец / вдова\n"
     ]
    }
   ],
   "source": [
    "# Импртируем либу, чтобы поправить легенду\n",
    "import matplotlib.pyplot as plt\n",
    "\n",
    "# Сведём таблицу, чтобы писать меньше кода и просуммировать значения\n",
    "data_pivot = data.pivot_table(index='family_status_id', values='debt', aggfunc=[sum, len, 'mean']).reset_index()\n",
    "data_pivot.columns = ['family_status_id', 'sum', 'len', 'mean']\n",
    "data_pivot['mean'] = round(data_pivot['mean'] * 100, 2)\n",
    "\n",
    "# Выносим коэффициент просрочек\n",
    "#data_pivot['ratio'] = round(data_pivot['sum'] / data_pivot['len'] * 100, 2)\n",
    "\n",
    "data_pivot = data_pivot.merge(data_family, on='family_status_id', how='left')\n",
    "\n",
    "# Сортируем и выводом\n",
    "print(data_pivot.sort_values('mean', ascending=False).head())\n",
    "\n"
   ]
  },
  {
   "cell_type": "markdown",
   "id": "Chtj26i0C5qM",
   "metadata": {
    "id": "Chtj26i0C5qM"
   },
   "source": [
    "##### Вывод 2:"
   ]
  },
  {
   "cell_type": "markdown",
   "id": "PEchhVyuC-UG",
   "metadata": {
    "id": "PEchhVyuC-UG"
   },
   "source": [
    "Зависимость также минимальная. В таблице видно, что меньше рисков у потерявших партнёра и тех, кто в разводе, т.е. у тех, кто был в браке. \n",
    "\n",
    "У холостых - риски больше всего."
   ]
  },
  {
   "cell_type": "markdown",
   "id": "LASnz9pwT9_n",
   "metadata": {
    "id": "LASnz9pwT9_n"
   },
   "source": [
    "##### Вопрос 3: **Есть ли зависимость между уровнем дохода и возвратом кредита в срок?**"
   ]
  },
  {
   "cell_type": "code",
   "execution_count": 42,
   "id": "m7bi3ThFUdZV",
   "metadata": {
    "colab": {
     "base_uri": "https://localhost:8080/",
     "height": 427
    },
    "id": "m7bi3ThFUdZV",
    "outputId": "ace277d9-29d3-427b-b836-10d45b50ca3b"
   },
   "outputs": [
    {
     "name": "stdout",
     "output_type": "stream",
     "text": [
      "  total_income_category   sum    len  mean\n",
      "4                     E     2     22  9.09\n",
      "2                     C  1347  15958  8.44\n",
      "0                     A     2     25  8.00\n",
      "1                     B   353   4996  7.07\n",
      "3                     D    21    348  6.03\n"
     ]
    },
    {
     "data": {
      "text/plain": [
       "<AxesSubplot:xlabel='total_income_category', ylabel='mean'>"
      ]
     },
     "execution_count": 42,
     "metadata": {},
     "output_type": "execute_result"
    },
    {
     "data": {
      "image/png": "[encoded data removed]",
      "text/plain": [
       "<Figure size 432x288 with 1 Axes>"
      ]
     },
     "metadata": {
      "needs_background": "light"
     },
     "output_type": "display_data"
    }
   ],
   "source": [
    "data_pivot = data.pivot_table(index='total_income_category', values='debt', aggfunc=[sum, len, 'mean']).reset_index()\n",
    "#data_pivot['ratio'] = round(data_pivot['sum'] / data_pivot['len'] * 100, 2)\n",
    "data_pivot.columns = ['total_income_category', 'sum', 'len', 'mean']\n",
    "data_pivot['mean'] = round(data_pivot['mean'] * 100, 2)\n",
    "\n",
    "print(data_pivot.sort_values('mean', ascending=False).head())\n",
    "sb.barplot(x='total_income_category', y='mean', data=data_pivot)\n"
   ]
  },
  {
   "cell_type": "markdown",
   "id": "aTnD23UTDWGN",
   "metadata": {
    "id": "aTnD23UTDWGN"
   },
   "source": [
    "##### Вывод 3:"
   ]
  },
  {
   "cell_type": "markdown",
   "id": "RK1do1-yDZZG",
   "metadata": {
    "id": "RK1do1-yDZZG"
   },
   "source": [
    "У людей с низким уровнем дохода выше всего. Меньше всего у людей с доходом между 30000 и 50000 рублей."
   ]
  },
  {
   "cell_type": "markdown",
   "id": "15IhZfHSVbl1",
   "metadata": {
    "id": "15IhZfHSVbl1"
   },
   "source": [
    "##### Вопрос 4: **Как разные цели кредита влияют на его возврат в срок?**"
   ]
  },
  {
   "cell_type": "code",
   "execution_count": 43,
   "id": "IkNno-rTVgsQ",
   "metadata": {
    "colab": {
     "base_uri": "https://localhost:8080/",
     "height": 399
    },
    "id": "IkNno-rTVgsQ",
    "outputId": "cb7e97c2-061a-4470-9a38-41aaf16c8869"
   },
   "outputs": [
    {
     "name": "stdout",
     "output_type": "stream",
     "text": [
      "           purpose_category  sum    len  mean\n",
      "0    операции с автомобилем  398   4278  9.30\n",
      "2     получение образования  369   3989  9.25\n",
      "3        проведение свадьбы  181   2325  7.78\n",
      "1  операции с недвижимостью  777  10757  7.22\n"
     ]
    },
    {
     "data": {
      "text/plain": [
       "<matplotlib.legend.Legend at 0x7f01e896c7f0>"
      ]
     },
     "execution_count": 43,
     "metadata": {},
     "output_type": "execute_result"
    },
    {
     "data": {
      "image/png": "[encoded data removed]",
      "text/plain": [
       "<Figure size 432x288 with 1 Axes>"
      ]
     },
     "metadata": {
      "needs_background": "light"
     },
     "output_type": "display_data"
    }
   ],
   "source": [
    "data_pivot = data.pivot_table(index='purpose_category', values='debt', aggfunc=[sum, len, 'mean']).reset_index()\n",
    "data_pivot.columns = ['purpose_category', 'sum', 'len', 'mean']\n",
    "data_pivot['mean'] = round(data_pivot['mean'] * 100, 2)\n",
    "print(data_pivot.sort_values('mean', ascending=False).head())\n",
    "\n",
    "graph = sb.barplot(x='purpose_category', y='mean', data=data_pivot, hue='purpose_category')\n",
    "# Убираем подписи из-за нечетабельности\n",
    "graph.set(xticklabels=[])  \n",
    "# Выносим легенду за график для читаемости\n",
    "plt.legend(bbox_to_anchor=(1.05, 1), loc=2, borderaxespad=0.)\n"
   ]
  },
  {
   "cell_type": "markdown",
   "id": "i2nFvPgXD3X5",
   "metadata": {
    "id": "i2nFvPgXD3X5"
   },
   "source": [
    "##### Вывод 4:"
   ]
  },
  {
   "cell_type": "markdown",
   "id": "upOgITP2D5wL",
   "metadata": {
    "id": "upOgITP2D5wL"
   },
   "source": [
    "Риск просрочить меньше всего у тех, кто берёт кредит на недвижимость. Больше всего у тех, кто берёт на автомобиль или образование."
   ]
  },
  {
   "cell_type": "markdown",
   "id": "fda8065e",
   "metadata": {
    "id": "fda8065e"
   },
   "source": [
    "## Общий вывод:"
   ]
  },
  {
   "cell_type": "markdown",
   "id": "fac79453",
   "metadata": {
    "id": "fac79453"
   },
   "source": [
    "* Сначала выполнили обзор, проверили корректность столбцов и измерили количество строк со столбцами\n",
    "* Сделали предобработку данных, устранив дубликаты, регистр, пропуски и выбросы\n",
    "* Провели исследование и ответили на поставленные вопросы\n",
    "\n",
    "\n",
    "## Выводы исследования\n",
    "\n",
    "Опишем персонажа у которого риски просрочек по базе максимальные:\n",
    "* У человека четверо детей\n",
    "* При этом он в гражданском браке или холост\n",
    "* С минимальным уровнем дохода (меньше 30 т.р.)\n",
    "* Деньги взяты на автомобиль или образование\n",
    "\n",
    "Меньше всего у человека:\n",
    "* Бездетного\n",
    "* В разводе или вдова/вдовец\n",
    "* Зарабатывает от 30 до 50 т.р.\n",
    "* Деньги взяты на недвижимость\n",
    "\n",
    "Но ещё раз напишу, что зависимость минимальная.\n",
    "\n",
    "\n",
    "### Рекомендации\n",
    "\n",
    "* Унифицировать категории в колонке целях кредита `purpose`\n",
    "* Ввести проверку на ошибки в вводе данных, особенно с отрицательными значениями"
   ]
  },
  {
   "cell_type": "code",
   "execution_count": 44,
   "id": "7U7k75vxE300",
   "metadata": {
    "colab": {
     "base_uri": "https://localhost:8080/",
     "height": 269
    },
    "id": "7U7k75vxE300",
    "outputId": "1c68c272-3e9f-4215-8186-5157d0354f7c"
   },
   "outputs": [
    {
     "data": {
      "text/html": [
       "<div>\n",
       "<style scoped>\n",
       "    .dataframe tbody tr th:only-of-type {\n",
       "        vertical-align: middle;\n",
       "    }\n",
       "\n",
       "    .dataframe tbody tr th {\n",
       "        vertical-align: top;\n",
       "    }\n",
       "\n",
       "    .dataframe thead th {\n",
       "        text-align: right;\n",
       "    }\n",
       "</style>\n",
       "<table border=\"1\" class=\"dataframe\">\n",
       "  <thead>\n",
       "    <tr style=\"text-align: right;\">\n",
       "      <th></th>\n",
       "      <th>children</th>\n",
       "      <th>days_employed</th>\n",
       "      <th>dob_years</th>\n",
       "      <th>education_id</th>\n",
       "      <th>family_status_id</th>\n",
       "      <th>debt</th>\n",
       "      <th>total_income</th>\n",
       "    </tr>\n",
       "  </thead>\n",
       "  <tbody>\n",
       "    <tr>\n",
       "      <th>children</th>\n",
       "      <td>1.000000</td>\n",
       "      <td>-0.033584</td>\n",
       "      <td>-0.320915</td>\n",
       "      <td>-0.027555</td>\n",
       "      <td>-0.158335</td>\n",
       "      <td>0.024898</td>\n",
       "      <td>0.032289</td>\n",
       "    </tr>\n",
       "    <tr>\n",
       "      <th>days_employed</th>\n",
       "      <td>-0.033584</td>\n",
       "      <td>1.000000</td>\n",
       "      <td>0.174517</td>\n",
       "      <td>-0.019115</td>\n",
       "      <td>-0.065565</td>\n",
       "      <td>-0.056403</td>\n",
       "      <td>0.049155</td>\n",
       "    </tr>\n",
       "    <tr>\n",
       "      <th>dob_years</th>\n",
       "      <td>-0.320915</td>\n",
       "      <td>0.174517</td>\n",
       "      <td>1.000000</td>\n",
       "      <td>0.065372</td>\n",
       "      <td>-0.068803</td>\n",
       "      <td>-0.072198</td>\n",
       "      <td>-0.061502</td>\n",
       "    </tr>\n",
       "    <tr>\n",
       "      <th>education_id</th>\n",
       "      <td>-0.027555</td>\n",
       "      <td>-0.019115</td>\n",
       "      <td>0.065372</td>\n",
       "      <td>1.000000</td>\n",
       "      <td>0.009281</td>\n",
       "      <td>0.052396</td>\n",
       "      <td>-0.172268</td>\n",
       "    </tr>\n",
       "    <tr>\n",
       "      <th>family_status_id</th>\n",
       "      <td>-0.158335</td>\n",
       "      <td>-0.065565</td>\n",
       "      <td>-0.068803</td>\n",
       "      <td>0.009281</td>\n",
       "      <td>1.000000</td>\n",
       "      <td>0.020656</td>\n",
       "      <td>-0.007514</td>\n",
       "    </tr>\n",
       "    <tr>\n",
       "      <th>debt</th>\n",
       "      <td>0.024898</td>\n",
       "      <td>-0.056403</td>\n",
       "      <td>-0.072198</td>\n",
       "      <td>0.052396</td>\n",
       "      <td>0.020656</td>\n",
       "      <td>1.000000</td>\n",
       "      <td>-0.012304</td>\n",
       "    </tr>\n",
       "    <tr>\n",
       "      <th>total_income</th>\n",
       "      <td>0.032289</td>\n",
       "      <td>0.049155</td>\n",
       "      <td>-0.061502</td>\n",
       "      <td>-0.172268</td>\n",
       "      <td>-0.007514</td>\n",
       "      <td>-0.012304</td>\n",
       "      <td>1.000000</td>\n",
       "    </tr>\n",
       "  </tbody>\n",
       "</table>\n",
       "</div>"
      ],
      "text/plain": [
       "                  children  days_employed  dob_years  education_id  \\\n",
       "children          1.000000      -0.033584  -0.320915     -0.027555   \n",
       "days_employed    -0.033584       1.000000   0.174517     -0.019115   \n",
       "dob_years        -0.320915       0.174517   1.000000      0.065372   \n",
       "education_id     -0.027555      -0.019115   0.065372      1.000000   \n",
       "family_status_id -0.158335      -0.065565  -0.068803      0.009281   \n",
       "debt              0.024898      -0.056403  -0.072198      0.052396   \n",
       "total_income      0.032289       0.049155  -0.061502     -0.172268   \n",
       "\n",
       "                  family_status_id      debt  total_income  \n",
       "children                 -0.158335  0.024898      0.032289  \n",
       "days_employed            -0.065565 -0.056403      0.049155  \n",
       "dob_years                -0.068803 -0.072198     -0.061502  \n",
       "education_id              0.009281  0.052396     -0.172268  \n",
       "family_status_id          1.000000  0.020656     -0.007514  \n",
       "debt                      0.020656  1.000000     -0.012304  \n",
       "total_income             -0.007514 -0.012304      1.000000  "
      ]
     },
     "metadata": {},
     "output_type": "display_data"
    }
   ],
   "source": [
    "# Вопрос для развития - можно ли по корреляции определить зависимости и ответить на главные вопросы исследования?\n",
    "display(data.corr())"
   ]
  }
 ],
 "metadata": {
  "ExecuteTimeLog": [
   {
    "duration": 600,
    "start_time": "2022-03-31T14:23:36.015Z"
   },
   {
    "duration": 89,
    "start_time": "2022-03-31T14:23:41.918Z"
   },
   {
    "duration": 81,
    "start_time": "2022-03-31T14:23:51.595Z"
   },
   {
    "duration": 90,
    "start_time": "2022-03-31T14:23:57.015Z"
   },
   {
    "duration": 76,
    "start_time": "2022-03-31T14:24:03.243Z"
   },
   {
    "duration": 21,
    "start_time": "2022-03-31T14:24:09.864Z"
   },
   {
    "duration": 20,
    "start_time": "2022-03-31T14:24:37.989Z"
   },
   {
    "duration": 31,
    "start_time": "2022-03-31T14:26:07.318Z"
   },
   {
    "duration": 26,
    "start_time": "2022-03-31T14:26:11.038Z"
   },
   {
    "duration": 19,
    "start_time": "2022-03-31T14:26:15.590Z"
   },
   {
    "duration": 19,
    "start_time": "2022-03-31T14:26:19.963Z"
   },
   {
    "duration": 20,
    "start_time": "2022-03-31T14:26:23.366Z"
   },
   {
    "duration": 6,
    "start_time": "2022-03-31T14:27:32.568Z"
   },
   {
    "duration": 18,
    "start_time": "2022-03-31T14:29:04.815Z"
   },
   {
    "duration": 23,
    "start_time": "2022-03-31T14:29:09.730Z"
   },
   {
    "duration": 102,
    "start_time": "2022-03-31T14:29:18.670Z"
   },
   {
    "duration": 30,
    "start_time": "2022-03-31T14:29:24.602Z"
   },
   {
    "duration": 19,
    "start_time": "2022-03-31T14:29:30.016Z"
   },
   {
    "duration": 14,
    "start_time": "2022-03-31T14:29:35.283Z"
   },
   {
    "duration": 6,
    "start_time": "2022-03-31T14:29:43.578Z"
   },
   {
    "duration": 5,
    "start_time": "2022-03-31T14:32:18.666Z"
   },
   {
    "duration": 10,
    "start_time": "2022-03-31T14:32:40.985Z"
   },
   {
    "duration": 22,
    "start_time": "2022-03-31T14:32:46.817Z"
   },
   {
    "duration": 8,
    "start_time": "2022-03-31T14:33:04.098Z"
   },
   {
    "duration": 5,
    "start_time": "2022-03-31T14:34:24.037Z"
   },
   {
    "duration": 5,
    "start_time": "2022-03-31T14:34:26.517Z"
   },
   {
    "duration": 212,
    "start_time": "2022-03-31T14:34:35.168Z"
   },
   {
    "duration": 7,
    "start_time": "2022-03-31T14:34:37.187Z"
   },
   {
    "duration": 6,
    "start_time": "2022-03-31T14:34:44.680Z"
   },
   {
    "duration": 6,
    "start_time": "2022-03-31T14:34:48.670Z"
   },
   {
    "duration": 9,
    "start_time": "2022-03-31T14:35:10.578Z"
   },
   {
    "duration": 5,
    "start_time": "2022-03-31T14:35:14.795Z"
   },
   {
    "duration": 7,
    "start_time": "2022-03-31T14:35:38.366Z"
   },
   {
    "duration": 43,
    "start_time": "2022-04-01T10:40:50.950Z"
   },
   {
    "duration": 5,
    "start_time": "2022-04-01T10:40:55.825Z"
   },
   {
    "duration": 5,
    "start_time": "2022-04-01T10:40:57.266Z"
   },
   {
    "duration": 399,
    "start_time": "2022-04-01T10:41:00.732Z"
   },
   {
    "duration": 15,
    "start_time": "2022-04-01T10:41:02.564Z"
   },
   {
    "duration": 4,
    "start_time": "2022-04-01T10:41:04.442Z"
   },
   {
    "duration": 3,
    "start_time": "2022-04-01T10:42:01.761Z"
   },
   {
    "duration": 10,
    "start_time": "2022-04-01T10:42:04.594Z"
   },
   {
    "duration": 375,
    "start_time": "2022-04-01T10:45:54.932Z"
   },
   {
    "duration": 4,
    "start_time": "2022-04-01T10:46:03.505Z"
   },
   {
    "duration": 4,
    "start_time": "2022-04-01T10:46:20.797Z"
   },
   {
    "duration": 13,
    "start_time": "2022-04-01T10:46:36.147Z"
   },
   {
    "duration": 11,
    "start_time": "2022-04-01T10:46:41.521Z"
   },
   {
    "duration": 18,
    "start_time": "2022-04-01T10:46:47.778Z"
   },
   {
    "duration": 67,
    "start_time": "2022-04-01T10:49:49.716Z"
   },
   {
    "duration": 13,
    "start_time": "2022-04-01T10:49:51.664Z"
   },
   {
    "duration": 4,
    "start_time": "2022-04-01T10:49:53.523Z"
   },
   {
    "duration": 10,
    "start_time": "2022-04-01T10:49:55.329Z"
   },
   {
    "duration": 9,
    "start_time": "2022-04-01T10:49:58.193Z"
   },
   {
    "duration": 14,
    "start_time": "2022-04-01T10:50:20.053Z"
   },
   {
    "duration": 5,
    "start_time": "2022-04-01T10:50:28.263Z"
   },
   {
    "duration": 4,
    "start_time": "2022-04-01T10:50:31.615Z"
   },
   {
    "duration": 164,
    "start_time": "2022-04-01T10:51:05.762Z"
   },
   {
    "duration": 4,
    "start_time": "2022-04-01T10:51:20.619Z"
   },
   {
    "duration": 4,
    "start_time": "2022-04-01T10:51:27.106Z"
   },
   {
    "duration": 3,
    "start_time": "2022-04-01T10:51:41.630Z"
   },
   {
    "duration": 5,
    "start_time": "2022-04-01T10:51:43.135Z"
   },
   {
    "duration": 56,
    "start_time": "2022-04-01T10:51:59.291Z"
   },
   {
    "duration": 14,
    "start_time": "2022-04-01T10:52:00.942Z"
   },
   {
    "duration": 11,
    "start_time": "2022-04-01T10:52:03.782Z"
   },
   {
    "duration": 9,
    "start_time": "2022-04-01T10:52:06.766Z"
   },
   {
    "duration": 5,
    "start_time": "2022-04-01T10:52:38.844Z"
   },
   {
    "duration": 5,
    "start_time": "2022-04-01T10:52:59.101Z"
   },
   {
    "duration": 11,
    "start_time": "2022-04-01T10:53:04.282Z"
   },
   {
    "duration": 13,
    "start_time": "2022-04-01T10:53:07.158Z"
   },
   {
    "duration": 12,
    "start_time": "2022-04-01T10:53:24.527Z"
   },
   {
    "duration": 13,
    "start_time": "2022-04-01T10:53:35.064Z"
   },
   {
    "duration": 6,
    "start_time": "2022-04-01T10:55:35.530Z"
   },
   {
    "duration": 4,
    "start_time": "2022-04-01T13:31:22.794Z"
   },
   {
    "duration": 57,
    "start_time": "2022-04-01T13:33:02.003Z"
   },
   {
    "duration": 7,
    "start_time": "2022-04-01T13:33:07.654Z"
   },
   {
    "duration": 10,
    "start_time": "2022-04-01T13:33:41.103Z"
   },
   {
    "duration": 11,
    "start_time": "2022-04-01T13:33:44.409Z"
   },
   {
    "duration": 3,
    "start_time": "2022-04-01T13:38:52.141Z"
   },
   {
    "duration": 57,
    "start_time": "2022-04-01T13:38:54.890Z"
   },
   {
    "duration": 4,
    "start_time": "2022-04-01T13:38:58.477Z"
   },
   {
    "duration": 165,
    "start_time": "2022-04-01T13:39:16.752Z"
   },
   {
    "duration": 161,
    "start_time": "2022-04-01T13:39:41.267Z"
   },
   {
    "duration": 370,
    "start_time": "2022-04-01T13:40:18.813Z"
   },
   {
    "duration": 1731,
    "start_time": "2022-04-01T13:40:25.321Z"
   },
   {
    "duration": 4,
    "start_time": "2022-04-01T13:40:50.069Z"
   },
   {
    "duration": 5,
    "start_time": "2022-04-01T13:40:57.299Z"
   },
   {
    "duration": 4,
    "start_time": "2022-04-01T13:41:48.956Z"
   },
   {
    "duration": 4,
    "start_time": "2022-04-01T13:41:59.654Z"
   },
   {
    "duration": 3,
    "start_time": "2022-04-01T13:42:05.509Z"
   },
   {
    "duration": 4,
    "start_time": "2022-04-01T13:42:11.285Z"
   },
   {
    "duration": 4,
    "start_time": "2022-04-01T13:42:18.260Z"
   },
   {
    "duration": 20,
    "start_time": "2022-04-01T13:47:14.249Z"
   },
   {
    "duration": 11,
    "start_time": "2022-04-01T13:47:20.425Z"
   },
   {
    "duration": 2882,
    "start_time": "2022-04-01T13:47:35.727Z"
   },
   {
    "duration": 2510,
    "start_time": "2022-04-01T13:47:39.144Z"
   },
   {
    "duration": 7,
    "start_time": "2022-04-01T13:47:50.170Z"
   },
   {
    "duration": 5,
    "start_time": "2022-04-01T13:47:56.731Z"
   },
   {
    "duration": 6,
    "start_time": "2022-04-01T13:48:03.914Z"
   },
   {
    "duration": 5,
    "start_time": "2022-04-01T13:48:07.160Z"
   },
   {
    "duration": 17,
    "start_time": "2022-04-01T13:48:10.457Z"
   },
   {
    "duration": 17,
    "start_time": "2022-04-01T13:49:50.558Z"
   },
   {
    "duration": 11,
    "start_time": "2022-04-01T13:50:13.276Z"
   },
   {
    "duration": 10,
    "start_time": "2022-04-01T13:51:39.191Z"
   },
   {
    "duration": 58,
    "start_time": "2022-04-01T13:51:43.980Z"
   },
   {
    "duration": 11,
    "start_time": "2022-04-01T13:51:49.765Z"
   },
   {
    "duration": 11,
    "start_time": "2022-04-01T13:52:30.442Z"
   },
   {
    "duration": 10,
    "start_time": "2022-04-01T13:52:33.757Z"
   },
   {
    "duration": 11,
    "start_time": "2022-04-01T13:52:42.574Z"
   },
   {
    "duration": 34,
    "start_time": "2022-04-01T13:52:45.100Z"
   },
   {
    "duration": 642,
    "start_time": "2022-04-01T13:52:54.667Z"
   },
   {
    "duration": 691,
    "start_time": "2022-04-01T13:52:59.258Z"
   },
   {
    "duration": 56,
    "start_time": "2022-04-01T13:53:07.078Z"
   },
   {
    "duration": 15,
    "start_time": "2022-04-01T13:55:00.739Z"
   },
   {
    "duration": 14,
    "start_time": "2022-04-01T13:55:11.022Z"
   },
   {
    "duration": 19,
    "start_time": "2022-04-01T13:55:15.330Z"
   },
   {
    "duration": 11,
    "start_time": "2022-04-01T13:56:35.283Z"
   },
   {
    "duration": 23,
    "start_time": "2022-04-01T13:56:40.946Z"
   },
   {
    "duration": 21,
    "start_time": "2022-04-01T13:57:23.743Z"
   },
   {
    "duration": 27,
    "start_time": "2022-04-01T13:57:30.509Z"
   },
   {
    "duration": 24,
    "start_time": "2022-04-01T13:57:37.561Z"
   },
   {
    "duration": 21,
    "start_time": "2022-04-01T13:57:50.844Z"
   },
   {
    "duration": 3,
    "start_time": "2022-04-01T13:58:15.576Z"
   },
   {
    "duration": 6,
    "start_time": "2022-04-01T13:58:18.144Z"
   },
   {
    "duration": 5,
    "start_time": "2022-04-01T14:02:18.801Z"
   },
   {
    "duration": 169,
    "start_time": "2022-04-01T14:02:28.548Z"
   },
   {
    "duration": 5,
    "start_time": "2022-04-01T14:02:32.444Z"
   },
   {
    "duration": 4,
    "start_time": "2022-04-01T14:02:40.689Z"
   },
   {
    "duration": 5,
    "start_time": "2022-04-01T14:02:52.878Z"
   },
   {
    "duration": 16,
    "start_time": "2022-04-01T14:02:55.370Z"
   },
   {
    "duration": 8,
    "start_time": "2022-04-01T14:02:57.465Z"
   },
   {
    "duration": 4,
    "start_time": "2022-04-01T14:03:02.745Z"
   },
   {
    "duration": 5,
    "start_time": "2022-04-01T14:03:24.256Z"
   },
   {
    "duration": 4,
    "start_time": "2022-04-01T14:03:33.542Z"
   },
   {
    "duration": 19,
    "start_time": "2022-04-01T14:03:45.131Z"
   },
   {
    "duration": 24,
    "start_time": "2022-04-01T14:04:00.331Z"
   },
   {
    "duration": 25,
    "start_time": "2022-04-01T14:04:10.707Z"
   },
   {
    "duration": 21,
    "start_time": "2022-04-01T14:05:58.133Z"
   },
   {
    "duration": 17,
    "start_time": "2022-04-01T14:06:02.576Z"
   },
   {
    "duration": 3,
    "start_time": "2022-04-01T14:06:17.949Z"
   },
   {
    "duration": 36,
    "start_time": "2022-04-01T14:06:20.035Z"
   },
   {
    "duration": 32,
    "start_time": "2022-04-01T14:06:27.724Z"
   },
   {
    "duration": 39,
    "start_time": "2022-04-01T14:06:39.811Z"
   },
   {
    "duration": 17,
    "start_time": "2022-04-01T14:07:09.093Z"
   },
   {
    "duration": 18,
    "start_time": "2022-04-01T14:07:21.191Z"
   },
   {
    "duration": 6,
    "start_time": "2022-04-01T14:07:31.183Z"
   },
   {
    "duration": 19,
    "start_time": "2022-04-01T14:07:35.500Z"
   },
   {
    "duration": 17,
    "start_time": "2022-04-01T14:07:46.377Z"
   },
   {
    "duration": 16,
    "start_time": "2022-04-01T14:09:51.670Z"
   },
   {
    "duration": 17,
    "start_time": "2022-04-01T14:10:02.940Z"
   },
   {
    "duration": 20,
    "start_time": "2022-04-01T14:10:06.227Z"
   },
   {
    "duration": 18,
    "start_time": "2022-04-01T14:10:08.160Z"
   },
   {
    "duration": 16,
    "start_time": "2022-04-01T14:10:17.863Z"
   },
   {
    "duration": 29,
    "start_time": "2022-04-01T14:10:42.829Z"
   },
   {
    "duration": 24,
    "start_time": "2022-04-01T14:11:05.077Z"
   },
   {
    "duration": 16,
    "start_time": "2022-04-01T14:11:18.579Z"
   },
   {
    "duration": 15,
    "start_time": "2022-04-01T14:11:46.686Z"
   },
   {
    "duration": 20,
    "start_time": "2022-04-01T14:12:04.956Z"
   },
   {
    "duration": 30,
    "start_time": "2022-04-01T14:12:31.439Z"
   },
   {
    "duration": 26,
    "start_time": "2022-04-01T14:13:02.519Z"
   },
   {
    "duration": 2575,
    "start_time": "2022-04-01T14:13:29.791Z"
   },
   {
    "duration": 2608,
    "start_time": "2022-04-01T14:13:36.668Z"
   },
   {
    "duration": 29,
    "start_time": "2022-04-01T14:13:48.648Z"
   },
   {
    "duration": 2789,
    "start_time": "2022-04-01T14:13:58.860Z"
   },
   {
    "duration": 2609,
    "start_time": "2022-04-01T14:14:03.596Z"
   },
   {
    "duration": 2521,
    "start_time": "2022-04-01T14:14:07.336Z"
   },
   {
    "duration": 214,
    "start_time": "2022-04-01T14:14:16.553Z"
   },
   {
    "duration": 2613,
    "start_time": "2022-04-01T14:14:19.078Z"
   },
   {
    "duration": 1292,
    "start_time": "2022-04-01T14:14:31.492Z"
   },
   {
    "duration": 0,
    "start_time": "2022-04-01T14:14:59.103Z"
   },
   {
    "duration": 2694,
    "start_time": "2022-04-01T14:15:02.682Z"
   },
   {
    "duration": 24,
    "start_time": "2022-04-01T14:15:07.087Z"
   },
   {
    "duration": 16,
    "start_time": "2022-04-01T14:15:19.453Z"
   },
   {
    "duration": 29,
    "start_time": "2022-04-01T14:15:28.504Z"
   },
   {
    "duration": 36,
    "start_time": "2022-04-01T14:16:17.640Z"
   },
   {
    "duration": 34,
    "start_time": "2022-04-01T14:17:08.330Z"
   },
   {
    "duration": 36,
    "start_time": "2022-04-01T14:17:14.665Z"
   },
   {
    "duration": 17,
    "start_time": "2022-04-01T14:18:57.473Z"
   },
   {
    "duration": 16,
    "start_time": "2022-04-01T14:19:02.517Z"
   },
   {
    "duration": 16,
    "start_time": "2022-04-01T14:19:10.564Z"
   },
   {
    "duration": 455,
    "start_time": "2022-04-04T11:23:05.861Z"
   },
   {
    "duration": 17,
    "start_time": "2022-04-04T11:24:29.696Z"
   },
   {
    "duration": 5,
    "start_time": "2022-04-04T11:24:32.592Z"
   },
   {
    "duration": 13,
    "start_time": "2022-04-04T11:24:35.677Z"
   },
   {
    "duration": 10,
    "start_time": "2022-04-04T11:24:40.620Z"
   },
   {
    "duration": 4,
    "start_time": "2022-04-04T11:24:44.482Z"
   },
   {
    "duration": 7,
    "start_time": "2022-04-04T11:25:01.155Z"
   },
   {
    "duration": 22,
    "start_time": "2022-04-04T11:47:43.597Z"
   },
   {
    "duration": 23,
    "start_time": "2022-04-04T11:47:55.402Z"
   },
   {
    "duration": 18,
    "start_time": "2022-04-04T11:48:02.838Z"
   },
   {
    "duration": 21,
    "start_time": "2022-04-04T11:49:02.314Z"
   },
   {
    "duration": 22,
    "start_time": "2022-04-04T11:49:33.326Z"
   },
   {
    "duration": 72,
    "start_time": "2022-04-04T13:13:20.923Z"
   },
   {
    "duration": 15,
    "start_time": "2022-04-04T13:13:22.676Z"
   },
   {
    "duration": 6,
    "start_time": "2022-04-04T13:13:25.032Z"
   },
   {
    "duration": 12,
    "start_time": "2022-04-04T13:13:26.895Z"
   },
   {
    "duration": 20,
    "start_time": "2022-04-04T13:13:39.786Z"
   },
   {
    "duration": 5517,
    "start_time": "2022-04-04T13:15:05.883Z"
   },
   {
    "duration": 15,
    "start_time": "2022-04-18T12:14:27.395Z"
   },
   {
    "duration": 501,
    "start_time": "2022-04-18T12:14:27.412Z"
   },
   {
    "duration": 16,
    "start_time": "2022-04-18T12:14:27.915Z"
   },
   {
    "duration": 20,
    "start_time": "2022-04-18T12:14:27.933Z"
   },
   {
    "duration": 57,
    "start_time": "2022-04-18T12:14:27.955Z"
   },
   {
    "duration": 9,
    "start_time": "2022-04-18T12:14:28.014Z"
   },
   {
    "duration": 13,
    "start_time": "2022-04-18T12:14:28.025Z"
   },
   {
    "duration": 5,
    "start_time": "2022-04-18T12:14:28.039Z"
   },
   {
    "duration": 14,
    "start_time": "2022-04-18T12:14:28.045Z"
   },
   {
    "duration": 35,
    "start_time": "2022-04-18T12:14:28.062Z"
   },
   {
    "duration": 8,
    "start_time": "2022-04-18T12:14:28.101Z"
   },
   {
    "duration": 440,
    "start_time": "2022-04-18T12:14:28.111Z"
   },
   {
    "duration": 6,
    "start_time": "2022-04-18T12:14:28.552Z"
   },
   {
    "duration": 6,
    "start_time": "2022-04-18T12:14:28.560Z"
   },
   {
    "duration": 26,
    "start_time": "2022-04-18T12:14:28.568Z"
   },
   {
    "duration": 11,
    "start_time": "2022-04-18T12:14:28.597Z"
   },
   {
    "duration": 4,
    "start_time": "2022-04-18T12:14:28.610Z"
   },
   {
    "duration": 5,
    "start_time": "2022-04-18T12:14:28.616Z"
   },
   {
    "duration": 10,
    "start_time": "2022-04-18T12:14:28.623Z"
   },
   {
    "duration": 5,
    "start_time": "2022-04-18T12:14:28.636Z"
   },
   {
    "duration": 11,
    "start_time": "2022-04-18T12:14:28.643Z"
   },
   {
    "duration": 60,
    "start_time": "2022-04-18T12:14:28.656Z"
   },
   {
    "duration": 7,
    "start_time": "2022-04-18T12:14:28.718Z"
   },
   {
    "duration": 14,
    "start_time": "2022-04-18T12:14:28.727Z"
   },
   {
    "duration": 18,
    "start_time": "2022-04-18T12:14:28.743Z"
   },
   {
    "duration": 31,
    "start_time": "2022-04-18T12:14:28.763Z"
   },
   {
    "duration": 18,
    "start_time": "2022-04-18T12:14:28.796Z"
   },
   {
    "duration": 458,
    "start_time": "2022-04-18T12:14:28.817Z"
   },
   {
    "duration": 7,
    "start_time": "2022-04-18T12:14:29.277Z"
   },
   {
    "duration": 282,
    "start_time": "2022-04-18T12:14:29.293Z"
   },
   {
    "duration": 708,
    "start_time": "2022-04-18T12:14:29.576Z"
   },
   {
    "duration": 269,
    "start_time": "2022-04-18T12:14:30.286Z"
   },
   {
    "duration": 166,
    "start_time": "2022-04-18T12:14:30.557Z"
   },
   {
    "duration": 243,
    "start_time": "2022-04-18T12:14:30.725Z"
   },
   {
    "duration": 28,
    "start_time": "2022-04-18T12:14:30.970Z"
   },
   {
    "duration": 117,
    "start_time": "2022-04-18T12:17:56.535Z"
   },
   {
    "duration": 67,
    "start_time": "2022-04-18T12:18:28.136Z"
   },
   {
    "duration": 11,
    "start_time": "2022-04-18T12:18:54.275Z"
   },
   {
    "duration": 12,
    "start_time": "2022-04-18T12:19:28.816Z"
   },
   {
    "duration": 12,
    "start_time": "2022-04-18T12:20:01.571Z"
   },
   {
    "duration": 7,
    "start_time": "2022-04-18T12:20:24.449Z"
   },
   {
    "duration": 2217,
    "start_time": "2022-04-18T12:31:48.677Z"
   },
   {
    "duration": 6,
    "start_time": "2022-04-18T12:32:04.014Z"
   },
   {
    "duration": 495,
    "start_time": "2022-04-26T08:47:07.058Z"
   },
   {
    "duration": 4,
    "start_time": "2022-04-26T08:47:24.470Z"
   },
   {
    "duration": 66,
    "start_time": "2022-04-26T08:47:26.771Z"
   },
   {
    "duration": 15,
    "start_time": "2022-04-27T11:03:23.831Z"
   },
   {
    "duration": 556,
    "start_time": "2022-04-27T11:03:24.806Z"
   },
   {
    "duration": 23,
    "start_time": "2022-04-27T11:03:28.604Z"
   },
   {
    "duration": 31,
    "start_time": "2022-04-27T11:03:31.887Z"
   },
   {
    "duration": 77,
    "start_time": "2022-04-27T11:03:35.383Z"
   },
   {
    "duration": 23,
    "start_time": "2022-04-27T11:05:12.178Z"
   },
   {
    "duration": 18,
    "start_time": "2022-04-27T11:05:29.319Z"
   },
   {
    "duration": 4,
    "start_time": "2022-04-27T11:05:32.037Z"
   },
   {
    "duration": 6,
    "start_time": "2022-04-27T11:06:09.240Z"
   },
   {
    "duration": 4,
    "start_time": "2022-04-27T11:06:18.715Z"
   },
   {
    "duration": 5,
    "start_time": "2022-04-27T11:07:34.484Z"
   },
   {
    "duration": 7,
    "start_time": "2022-04-27T11:07:51.173Z"
   },
   {
    "duration": 1412,
    "start_time": "2022-04-27T12:30:48.331Z"
   },
   {
    "duration": 309,
    "start_time": "2022-04-27T12:31:05.297Z"
   },
   {
    "duration": 266,
    "start_time": "2022-04-27T12:31:13.726Z"
   },
   {
    "duration": 479,
    "start_time": "2022-04-27T12:31:18.073Z"
   },
   {
    "duration": 290,
    "start_time": "2022-04-27T12:31:22.690Z"
   },
   {
    "duration": 465,
    "start_time": "2022-04-27T12:31:25.253Z"
   },
   {
    "duration": 263,
    "start_time": "2022-04-27T12:31:28.032Z"
   },
   {
    "duration": 376,
    "start_time": "2022-04-27T12:31:33.487Z"
   },
   {
    "duration": 294,
    "start_time": "2022-04-27T12:31:35.908Z"
   },
   {
    "duration": 286,
    "start_time": "2022-04-27T12:31:38.579Z"
   },
   {
    "duration": 380,
    "start_time": "2022-04-27T12:31:41.839Z"
   },
   {
    "duration": 11,
    "start_time": "2022-04-27T12:42:53.452Z"
   },
   {
    "duration": 312,
    "start_time": "2022-04-27T12:43:11.403Z"
   },
   {
    "duration": 78,
    "start_time": "2022-04-27T12:49:51.839Z"
   },
   {
    "duration": 7,
    "start_time": "2022-04-27T12:50:08.744Z"
   },
   {
    "duration": 637,
    "start_time": "2022-04-27T12:50:08.754Z"
   },
   {
    "duration": 23,
    "start_time": "2022-04-27T12:50:09.394Z"
   },
   {
    "duration": 62,
    "start_time": "2022-04-27T12:50:09.420Z"
   },
   {
    "duration": 48,
    "start_time": "2022-04-27T12:50:09.485Z"
   },
   {
    "duration": 20,
    "start_time": "2022-04-27T12:50:09.555Z"
   },
   {
    "duration": 32,
    "start_time": "2022-04-27T12:50:09.578Z"
   },
   {
    "duration": 7,
    "start_time": "2022-04-27T12:50:09.613Z"
   },
   {
    "duration": 17,
    "start_time": "2022-04-27T12:50:09.653Z"
   },
   {
    "duration": 31,
    "start_time": "2022-04-27T12:50:09.672Z"
   },
   {
    "duration": 30,
    "start_time": "2022-04-27T12:50:09.706Z"
   },
   {
    "duration": 934,
    "start_time": "2022-04-27T12:50:09.739Z"
   },
   {
    "duration": 9,
    "start_time": "2022-04-27T12:50:10.677Z"
   },
   {
    "duration": 9,
    "start_time": "2022-04-27T12:50:10.689Z"
   },
   {
    "duration": 7,
    "start_time": "2022-04-27T12:50:10.700Z"
   },
   {
    "duration": 49,
    "start_time": "2022-04-27T12:50:10.709Z"
   },
   {
    "duration": 20,
    "start_time": "2022-04-27T12:50:10.760Z"
   },
   {
    "duration": 8,
    "start_time": "2022-04-27T12:50:10.783Z"
   },
   {
    "duration": 18,
    "start_time": "2022-04-27T12:50:10.794Z"
   },
   {
    "duration": 261,
    "start_time": "2022-04-27T12:50:10.814Z"
   },
   {
    "duration": 7,
    "start_time": "2022-04-27T12:50:11.077Z"
   },
   {
    "duration": 9,
    "start_time": "2022-04-27T12:50:11.087Z"
   },
   {
    "duration": 15,
    "start_time": "2022-04-27T12:50:11.099Z"
   },
   {
    "duration": 28,
    "start_time": "2022-04-27T12:50:11.152Z"
   },
   {
    "duration": 8,
    "start_time": "2022-04-27T12:50:11.183Z"
   },
   {
    "duration": 9,
    "start_time": "2022-04-27T12:50:11.193Z"
   },
   {
    "duration": 66,
    "start_time": "2022-04-27T12:50:11.205Z"
   },
   {
    "duration": 14,
    "start_time": "2022-04-27T12:50:11.274Z"
   },
   {
    "duration": 18,
    "start_time": "2022-04-27T12:50:11.291Z"
   },
   {
    "duration": 716,
    "start_time": "2022-04-27T12:50:11.312Z"
   },
   {
    "duration": 9,
    "start_time": "2022-04-27T12:50:12.030Z"
   },
   {
    "duration": 445,
    "start_time": "2022-04-27T12:50:12.060Z"
   },
   {
    "duration": 1033,
    "start_time": "2022-04-27T12:50:12.509Z"
   },
   {
    "duration": 398,
    "start_time": "2022-04-27T12:50:13.545Z"
   },
   {
    "duration": 248,
    "start_time": "2022-04-27T12:50:13.945Z"
   },
   {
    "duration": 356,
    "start_time": "2022-04-27T12:50:14.196Z"
   },
   {
    "duration": 23,
    "start_time": "2022-04-27T12:50:14.555Z"
   },
   {
    "duration": 118,
    "start_time": "2022-04-27T12:50:50.076Z"
   },
   {
    "duration": 9,
    "start_time": "2022-04-27T12:51:00.876Z"
   },
   {
    "duration": 11,
    "start_time": "2022-04-27T12:51:04.764Z"
   },
   {
    "duration": 275,
    "start_time": "2022-04-27T12:51:06.949Z"
   },
   {
    "duration": 5,
    "start_time": "2022-04-27T12:51:10.149Z"
   },
   {
    "duration": 7,
    "start_time": "2022-04-27T12:51:11.949Z"
   },
   {
    "duration": 11,
    "start_time": "2022-04-27T12:51:13.268Z"
   },
   {
    "duration": 7,
    "start_time": "2022-04-27T12:51:17.493Z"
   },
   {
    "duration": 6,
    "start_time": "2022-04-27T12:51:19.332Z"
   },
   {
    "duration": 6,
    "start_time": "2022-04-27T12:51:21.100Z"
   },
   {
    "duration": 13,
    "start_time": "2022-04-27T12:51:24.953Z"
   },
   {
    "duration": 219,
    "start_time": "2022-04-27T12:51:27.293Z"
   },
   {
    "duration": 8,
    "start_time": "2022-04-27T12:51:29.808Z"
   },
   {
    "duration": 131,
    "start_time": "2022-04-27T12:52:00.145Z"
   },
   {
    "duration": 45,
    "start_time": "2022-04-27T12:52:20.636Z"
   },
   {
    "duration": 11,
    "start_time": "2022-04-27T12:52:53.710Z"
   },
   {
    "duration": 106,
    "start_time": "2022-04-27T12:58:09.034Z"
   },
   {
    "duration": 15,
    "start_time": "2022-04-27T12:58:22.104Z"
   },
   {
    "duration": 10,
    "start_time": "2022-04-27T13:00:22.905Z"
   },
   {
    "duration": 31,
    "start_time": "2022-04-27T13:00:25.231Z"
   },
   {
    "duration": 84,
    "start_time": "2022-04-27T13:02:55.632Z"
   },
   {
    "duration": 22,
    "start_time": "2022-04-27T13:02:58.649Z"
   },
   {
    "duration": 20,
    "start_time": "2022-04-27T13:03:00.617Z"
   },
   {
    "duration": 47,
    "start_time": "2022-04-27T13:03:04.579Z"
   },
   {
    "duration": 18,
    "start_time": "2022-04-27T13:03:09.269Z"
   },
   {
    "duration": 22,
    "start_time": "2022-04-27T13:03:11.247Z"
   },
   {
    "duration": 6,
    "start_time": "2022-04-27T13:03:13.671Z"
   },
   {
    "duration": 7,
    "start_time": "2022-04-27T13:03:16.380Z"
   },
   {
    "duration": 15,
    "start_time": "2022-04-27T13:03:19.345Z"
   },
   {
    "duration": 14,
    "start_time": "2022-04-27T13:03:21.761Z"
   },
   {
    "duration": 284,
    "start_time": "2022-04-27T13:03:26.250Z"
   },
   {
    "duration": 6,
    "start_time": "2022-04-27T13:03:30.177Z"
   },
   {
    "duration": 9,
    "start_time": "2022-04-27T13:03:32.423Z"
   },
   {
    "duration": 7,
    "start_time": "2022-04-27T13:03:34.668Z"
   },
   {
    "duration": 6,
    "start_time": "2022-04-27T13:03:37.769Z"
   },
   {
    "duration": 8,
    "start_time": "2022-04-27T13:03:39.726Z"
   },
   {
    "duration": 5,
    "start_time": "2022-04-27T13:03:41.685Z"
   },
   {
    "duration": 11,
    "start_time": "2022-04-27T13:03:43.130Z"
   },
   {
    "duration": 207,
    "start_time": "2022-04-27T13:03:45.198Z"
   },
   {
    "duration": 11,
    "start_time": "2022-04-27T13:03:47.531Z"
   },
   {
    "duration": 15,
    "start_time": "2022-04-27T13:03:49.392Z"
   },
   {
    "duration": 223,
    "start_time": "2022-04-27T13:04:04.261Z"
   },
   {
    "duration": 219,
    "start_time": "2022-04-27T13:04:09.669Z"
   },
   {
    "duration": 7,
    "start_time": "2022-04-27T13:04:20.765Z"
   },
   {
    "duration": 10,
    "start_time": "2022-04-27T13:04:22.795Z"
   },
   {
    "duration": 30,
    "start_time": "2022-04-27T13:04:24.851Z"
   },
   {
    "duration": 9,
    "start_time": "2022-04-27T13:04:28.150Z"
   },
   {
    "duration": 11,
    "start_time": "2022-04-27T13:04:30.724Z"
   },
   {
    "duration": 37,
    "start_time": "2022-04-27T13:08:48.332Z"
   },
   {
    "duration": 26,
    "start_time": "2022-04-27T13:08:51.394Z"
   },
   {
    "duration": 27,
    "start_time": "2022-04-27T13:09:18.584Z"
   },
   {
    "duration": 25,
    "start_time": "2022-04-27T13:36:27.245Z"
   },
   {
    "duration": 28,
    "start_time": "2022-04-27T13:36:30.801Z"
   },
   {
    "duration": 26,
    "start_time": "2022-04-27T13:36:34.472Z"
   },
   {
    "duration": 40,
    "start_time": "2022-04-27T13:36:52.109Z"
   },
   {
    "duration": 32,
    "start_time": "2022-04-27T13:37:01.332Z"
   },
   {
    "duration": 30,
    "start_time": "2022-04-27T13:37:04.807Z"
   },
   {
    "duration": 26,
    "start_time": "2022-04-27T13:37:11.229Z"
   },
   {
    "duration": 40,
    "start_time": "2022-04-27T13:37:16.282Z"
   },
   {
    "duration": 58,
    "start_time": "2022-04-27T13:37:44.279Z"
   },
   {
    "duration": 42,
    "start_time": "2022-04-27T13:38:23.236Z"
   },
   {
    "duration": 28,
    "start_time": "2022-04-27T13:54:41.287Z"
   },
   {
    "duration": 29,
    "start_time": "2022-04-27T13:54:49.347Z"
   },
   {
    "duration": 117,
    "start_time": "2022-04-27T13:55:33.742Z"
   },
   {
    "duration": 149,
    "start_time": "2022-04-27T13:55:39.241Z"
   },
   {
    "duration": 137,
    "start_time": "2022-04-27T13:55:44.369Z"
   },
   {
    "duration": 118,
    "start_time": "2022-04-27T13:56:35.407Z"
   },
   {
    "duration": 135,
    "start_time": "2022-04-27T13:57:22.736Z"
   },
   {
    "duration": 64,
    "start_time": "2022-04-27T13:57:27.259Z"
   },
   {
    "duration": 126,
    "start_time": "2022-04-27T13:57:53.779Z"
   },
   {
    "duration": 66,
    "start_time": "2022-04-27T13:58:00.789Z"
   },
   {
    "duration": 72,
    "start_time": "2022-04-27T13:58:16.909Z"
   },
   {
    "duration": 77,
    "start_time": "2022-04-27T14:00:41.948Z"
   },
   {
    "duration": 82,
    "start_time": "2022-04-27T14:01:19.050Z"
   },
   {
    "duration": 53,
    "start_time": "2022-04-27T14:01:37.551Z"
   },
   {
    "duration": 80,
    "start_time": "2022-04-27T14:02:14.861Z"
   },
   {
    "duration": 51,
    "start_time": "2022-04-27T14:02:23.844Z"
   },
   {
    "duration": 49,
    "start_time": "2022-04-27T14:04:29.971Z"
   },
   {
    "duration": 71,
    "start_time": "2022-04-27T14:04:53.581Z"
   },
   {
    "duration": 50,
    "start_time": "2022-04-27T14:04:58.771Z"
   },
   {
    "duration": 41,
    "start_time": "2022-04-27T14:08:36.042Z"
   },
   {
    "duration": 1839,
    "start_time": "2022-04-27T14:08:41.445Z"
   },
   {
    "duration": 1881,
    "start_time": "2022-04-27T14:08:59.299Z"
   },
   {
    "duration": 921,
    "start_time": "2022-04-27T14:09:07.444Z"
   },
   {
    "duration": 2372,
    "start_time": "2022-04-27T14:09:17.347Z"
   },
   {
    "duration": 6,
    "start_time": "2022-04-27T14:09:26.287Z"
   },
   {
    "duration": 37,
    "start_time": "2022-04-27T14:09:30.348Z"
   },
   {
    "duration": 47,
    "start_time": "2022-04-27T14:09:42.890Z"
   },
   {
    "duration": 48,
    "start_time": "2022-04-27T14:09:48.715Z"
   },
   {
    "duration": 30,
    "start_time": "2022-04-27T14:09:51.605Z"
   },
   {
    "duration": 35,
    "start_time": "2022-04-27T14:10:00.703Z"
   },
   {
    "duration": 41,
    "start_time": "2022-04-27T14:10:07.579Z"
   },
   {
    "duration": 61,
    "start_time": "2022-04-27T14:10:14.237Z"
   },
   {
    "duration": 594,
    "start_time": "2022-04-27T18:39:12.916Z"
   },
   {
    "duration": 7,
    "start_time": "2022-04-27T18:40:35.615Z"
   },
   {
    "duration": 71,
    "start_time": "2022-04-27T18:41:53.249Z"
   },
   {
    "duration": 22,
    "start_time": "2022-04-27T18:42:11.400Z"
   },
   {
    "duration": 16,
    "start_time": "2022-04-27T18:42:43.313Z"
   },
   {
    "duration": 18,
    "start_time": "2022-04-27T18:42:49.530Z"
   },
   {
    "duration": 26,
    "start_time": "2022-04-27T18:43:02.373Z"
   },
   {
    "duration": 11,
    "start_time": "2022-04-27T18:43:41.033Z"
   },
   {
    "duration": 45,
    "start_time": "2022-04-27T18:44:24.659Z"
   },
   {
    "duration": 17,
    "start_time": "2022-04-27T18:44:34.640Z"
   },
   {
    "duration": 7,
    "start_time": "2022-04-27T18:45:00.781Z"
   },
   {
    "duration": 43,
    "start_time": "2022-04-27T18:45:06.150Z"
   },
   {
    "duration": 10,
    "start_time": "2022-04-27T18:45:21.773Z"
   },
   {
    "duration": 110,
    "start_time": "2022-04-27T18:46:14.714Z"
   },
   {
    "duration": 29,
    "start_time": "2022-04-27T18:46:19.188Z"
   },
   {
    "duration": 2051,
    "start_time": "2022-04-27T18:46:43.060Z"
   },
   {
    "duration": 2096,
    "start_time": "2022-04-27T18:47:05.685Z"
   },
   {
    "duration": 30,
    "start_time": "2022-04-27T18:47:11.291Z"
   },
   {
    "duration": 31,
    "start_time": "2022-04-27T18:47:20.601Z"
   },
   {
    "duration": 24,
    "start_time": "2022-04-27T18:47:22.973Z"
   },
   {
    "duration": 10,
    "start_time": "2022-04-27T18:48:17.887Z"
   },
   {
    "duration": 31,
    "start_time": "2022-04-27T18:48:24.689Z"
   },
   {
    "duration": 28,
    "start_time": "2022-04-27T18:48:36.070Z"
   },
   {
    "duration": 47,
    "start_time": "2022-04-27T18:48:38.271Z"
   },
   {
    "duration": 9,
    "start_time": "2022-04-27T18:50:33.464Z"
   },
   {
    "duration": 4,
    "start_time": "2022-04-27T18:51:01.090Z"
   },
   {
    "duration": 3,
    "start_time": "2022-04-27T18:51:09.547Z"
   },
   {
    "duration": 4,
    "start_time": "2022-04-27T18:51:13.049Z"
   },
   {
    "duration": 4,
    "start_time": "2022-04-27T18:51:14.844Z"
   },
   {
    "duration": 9,
    "start_time": "2022-04-27T18:51:21.469Z"
   },
   {
    "duration": 5,
    "start_time": "2022-04-27T18:51:32.376Z"
   },
   {
    "duration": 4,
    "start_time": "2022-04-27T18:51:39.256Z"
   },
   {
    "duration": 4,
    "start_time": "2022-04-27T18:51:53.169Z"
   },
   {
    "duration": 4,
    "start_time": "2022-04-27T18:51:58.775Z"
   },
   {
    "duration": 4,
    "start_time": "2022-04-27T18:52:07.738Z"
   },
   {
    "duration": 3,
    "start_time": "2022-04-27T18:52:16.062Z"
   },
   {
    "duration": 7,
    "start_time": "2022-04-27T18:52:31.080Z"
   },
   {
    "duration": 7,
    "start_time": "2022-04-27T18:52:38.356Z"
   },
   {
    "duration": 10,
    "start_time": "2022-04-27T18:53:06.706Z"
   },
   {
    "duration": 10,
    "start_time": "2022-04-27T18:53:11.022Z"
   },
   {
    "duration": 10,
    "start_time": "2022-04-27T18:53:13.679Z"
   },
   {
    "duration": 10,
    "start_time": "2022-04-27T18:53:18.997Z"
   },
   {
    "duration": 9,
    "start_time": "2022-04-27T18:53:21.397Z"
   },
   {
    "duration": 9,
    "start_time": "2022-04-27T18:53:27.168Z"
   },
   {
    "duration": 6,
    "start_time": "2022-04-27T18:53:31.274Z"
   },
   {
    "duration": 6,
    "start_time": "2022-04-27T18:53:35.095Z"
   },
   {
    "duration": 49,
    "start_time": "2022-04-27T18:55:51.278Z"
   },
   {
    "duration": 82,
    "start_time": "2022-04-27T18:56:24.630Z"
   },
   {
    "duration": 61,
    "start_time": "2022-04-27T18:56:32.246Z"
   },
   {
    "duration": 14,
    "start_time": "2022-04-27T18:57:01.546Z"
   },
   {
    "duration": 40,
    "start_time": "2022-04-27T18:57:10.311Z"
   },
   {
    "duration": 52,
    "start_time": "2022-04-27T19:03:06.843Z"
   },
   {
    "duration": 24,
    "start_time": "2022-04-27T19:03:29.416Z"
   },
   {
    "duration": 38,
    "start_time": "2022-04-27T19:03:31.840Z"
   },
   {
    "duration": 38,
    "start_time": "2022-04-27T19:03:36.247Z"
   },
   {
    "duration": 50,
    "start_time": "2022-04-27T19:03:42.533Z"
   },
   {
    "duration": 80,
    "start_time": "2022-04-27T19:03:54.130Z"
   },
   {
    "duration": 2188,
    "start_time": "2022-04-27T19:04:57.136Z"
   },
   {
    "duration": 28,
    "start_time": "2022-04-27T19:05:02.182Z"
   },
   {
    "duration": 1268,
    "start_time": "2022-04-27T19:05:14.843Z"
   },
   {
    "duration": 136,
    "start_time": "2022-04-27T19:07:26.400Z"
   },
   {
    "duration": 119,
    "start_time": "2022-04-27T19:07:32.986Z"
   },
   {
    "duration": 24,
    "start_time": "2022-04-27T19:07:37.755Z"
   },
   {
    "duration": 32,
    "start_time": "2022-04-27T19:07:44.326Z"
   },
   {
    "duration": 2138,
    "start_time": "2022-04-27T19:07:56.340Z"
   },
   {
    "duration": 23,
    "start_time": "2022-04-27T19:08:00.968Z"
   },
   {
    "duration": 24,
    "start_time": "2022-04-27T19:08:06.986Z"
   },
   {
    "duration": 117,
    "start_time": "2022-04-27T19:08:20.146Z"
   },
   {
    "duration": 22,
    "start_time": "2022-04-27T19:08:24.268Z"
   },
   {
    "duration": 133,
    "start_time": "2022-04-27T19:08:57.239Z"
   },
   {
    "duration": 125,
    "start_time": "2022-04-27T19:09:00.719Z"
   },
   {
    "duration": 40,
    "start_time": "2022-04-27T19:09:04.453Z"
   },
   {
    "duration": 6,
    "start_time": "2022-04-27T19:12:09.512Z"
   },
   {
    "duration": 22,
    "start_time": "2022-04-27T19:12:44.305Z"
   },
   {
    "duration": 20,
    "start_time": "2022-04-27T19:12:58.877Z"
   },
   {
    "duration": 130,
    "start_time": "2022-04-27T19:13:19.577Z"
   },
   {
    "duration": 21,
    "start_time": "2022-04-27T19:13:34.923Z"
   },
   {
    "duration": 70,
    "start_time": "2022-04-27T19:14:00.525Z"
   },
   {
    "duration": 18,
    "start_time": "2022-04-27T19:14:08.499Z"
   },
   {
    "duration": 21,
    "start_time": "2022-04-27T19:14:19.830Z"
   },
   {
    "duration": 39,
    "start_time": "2022-04-27T19:14:41.504Z"
   },
   {
    "duration": 2320,
    "start_time": "2022-04-27T19:14:48.532Z"
   },
   {
    "duration": 2326,
    "start_time": "2022-04-27T19:14:51.512Z"
   },
   {
    "duration": 23,
    "start_time": "2022-04-27T19:14:54.364Z"
   },
   {
    "duration": 22,
    "start_time": "2022-04-27T19:15:07.362Z"
   },
   {
    "duration": 223,
    "start_time": "2022-04-27T19:15:11.007Z"
   },
   {
    "duration": 24,
    "start_time": "2022-04-27T19:15:16.400Z"
   },
   {
    "duration": 24,
    "start_time": "2022-04-27T19:15:26.108Z"
   },
   {
    "duration": 133,
    "start_time": "2022-04-27T19:15:46.656Z"
   },
   {
    "duration": 169,
    "start_time": "2022-04-27T19:15:52.584Z"
   },
   {
    "duration": 24,
    "start_time": "2022-04-27T19:15:56.686Z"
   },
   {
    "duration": 22,
    "start_time": "2022-04-27T19:16:04.410Z"
   },
   {
    "duration": 28,
    "start_time": "2022-04-27T19:16:14.042Z"
   },
   {
    "duration": 23,
    "start_time": "2022-04-27T19:16:19.784Z"
   },
   {
    "duration": 22,
    "start_time": "2022-04-27T19:16:26.957Z"
   },
   {
    "duration": 30,
    "start_time": "2022-04-27T19:16:33.501Z"
   },
   {
    "duration": 2309,
    "start_time": "2022-04-27T19:16:43.464Z"
   },
   {
    "duration": 2101,
    "start_time": "2022-04-27T19:16:47.480Z"
   },
   {
    "duration": 2066,
    "start_time": "2022-04-27T19:16:54.935Z"
   },
   {
    "duration": 1932,
    "start_time": "2022-04-27T19:16:58.671Z"
   },
   {
    "duration": 23,
    "start_time": "2022-04-27T19:17:02.256Z"
   },
   {
    "duration": 29,
    "start_time": "2022-04-27T19:17:49.589Z"
   },
   {
    "duration": 23,
    "start_time": "2022-04-27T19:17:55.436Z"
   },
   {
    "duration": 40,
    "start_time": "2022-04-27T19:17:59.816Z"
   },
   {
    "duration": 22,
    "start_time": "2022-04-27T19:18:26.874Z"
   },
   {
    "duration": 119,
    "start_time": "2022-04-27T19:19:24.944Z"
   },
   {
    "duration": 160,
    "start_time": "2022-04-27T19:19:35.260Z"
   },
   {
    "duration": 23,
    "start_time": "2022-04-27T19:20:07.594Z"
   },
   {
    "duration": 21,
    "start_time": "2022-04-27T19:20:18.928Z"
   },
   {
    "duration": 52,
    "start_time": "2022-04-27T19:20:55.937Z"
   },
   {
    "duration": 76,
    "start_time": "2022-04-27T19:21:07.013Z"
   },
   {
    "duration": 12,
    "start_time": "2022-04-27T19:21:14.691Z"
   },
   {
    "duration": 6,
    "start_time": "2022-04-27T19:21:18.714Z"
   },
   {
    "duration": 10,
    "start_time": "2022-04-27T19:21:21.301Z"
   },
   {
    "duration": 22,
    "start_time": "2022-04-27T19:21:30.434Z"
   },
   {
    "duration": 51,
    "start_time": "2022-04-27T19:21:47.602Z"
   },
   {
    "duration": 13,
    "start_time": "2022-04-27T19:21:54.424Z"
   },
   {
    "duration": 10,
    "start_time": "2022-04-27T19:22:10.539Z"
   },
   {
    "duration": 30,
    "start_time": "2022-04-27T19:23:01.592Z"
   },
   {
    "duration": 75,
    "start_time": "2022-04-27T19:23:50.253Z"
   },
   {
    "duration": 10,
    "start_time": "2022-04-27T19:23:59.500Z"
   },
   {
    "duration": 27,
    "start_time": "2022-04-27T19:24:01.347Z"
   },
   {
    "duration": 98,
    "start_time": "2022-04-27T19:24:03.835Z"
   },
   {
    "duration": 100,
    "start_time": "2022-04-27T19:26:05.069Z"
   },
   {
    "duration": 25,
    "start_time": "2022-04-27T19:26:10.661Z"
   },
   {
    "duration": 72,
    "start_time": "2022-04-27T19:26:27.289Z"
   },
   {
    "duration": 26,
    "start_time": "2022-04-27T19:27:26.717Z"
   },
   {
    "duration": 43,
    "start_time": "2022-04-27T19:28:00.743Z"
   },
   {
    "duration": 79,
    "start_time": "2022-04-27T19:28:55.666Z"
   },
   {
    "duration": 11,
    "start_time": "2022-04-27T19:29:01.745Z"
   },
   {
    "duration": 20,
    "start_time": "2022-04-27T19:29:03.380Z"
   },
   {
    "duration": 64,
    "start_time": "2022-04-27T19:29:08.778Z"
   },
   {
    "duration": 68,
    "start_time": "2022-04-27T19:30:05.413Z"
   },
   {
    "duration": 8,
    "start_time": "2022-04-27T19:30:15.232Z"
   },
   {
    "duration": 23,
    "start_time": "2022-04-27T19:30:18.912Z"
   },
   {
    "duration": 45,
    "start_time": "2022-04-27T19:30:21.938Z"
   },
   {
    "duration": 32,
    "start_time": "2022-04-27T19:31:13.518Z"
   },
   {
    "duration": 28,
    "start_time": "2022-04-27T19:31:27.055Z"
   },
   {
    "duration": 25,
    "start_time": "2022-04-27T19:31:32.148Z"
   },
   {
    "duration": 33,
    "start_time": "2022-04-27T19:31:36.531Z"
   },
   {
    "duration": 68,
    "start_time": "2022-04-27T19:31:43.503Z"
   },
   {
    "duration": 10,
    "start_time": "2022-04-27T19:31:54.513Z"
   },
   {
    "duration": 18,
    "start_time": "2022-04-27T19:32:02.789Z"
   },
   {
    "duration": 11,
    "start_time": "2022-04-27T19:32:09.846Z"
   },
   {
    "duration": 43,
    "start_time": "2022-04-27T19:32:34.330Z"
   },
   {
    "duration": 15,
    "start_time": "2022-04-28T07:28:56.007Z"
   },
   {
    "duration": 2064,
    "start_time": "2022-04-28T07:31:17.716Z"
   },
   {
    "duration": 32,
    "start_time": "2022-04-28T07:31:28.520Z"
   },
   {
    "duration": 28,
    "start_time": "2022-04-28T07:31:35.029Z"
   },
   {
    "duration": 5,
    "start_time": "2022-04-28T07:31:40.698Z"
   },
   {
    "duration": 33,
    "start_time": "2022-04-28T07:33:37.756Z"
   },
   {
    "duration": 29,
    "start_time": "2022-04-28T07:33:43.712Z"
   },
   {
    "duration": 11,
    "start_time": "2022-04-28T07:33:47.554Z"
   },
   {
    "duration": 21,
    "start_time": "2022-04-28T07:37:41.345Z"
   },
   {
    "duration": 42,
    "start_time": "2022-04-28T07:37:45.543Z"
   },
   {
    "duration": 869,
    "start_time": "2022-04-28T07:46:17.164Z"
   },
   {
    "duration": 7,
    "start_time": "2022-04-28T07:46:22.278Z"
   },
   {
    "duration": 7,
    "start_time": "2022-04-28T07:46:24.362Z"
   },
   {
    "duration": 9,
    "start_time": "2022-04-28T07:46:26.741Z"
   },
   {
    "duration": 6,
    "start_time": "2022-04-28T07:46:34.568Z"
   },
   {
    "duration": 7,
    "start_time": "2022-04-28T07:46:36.365Z"
   },
   {
    "duration": 11,
    "start_time": "2022-04-28T07:46:38.316Z"
   },
   {
    "duration": 277,
    "start_time": "2022-04-28T07:46:39.974Z"
   },
   {
    "duration": 16,
    "start_time": "2022-04-28T07:46:42.721Z"
   },
   {
    "duration": 338,
    "start_time": "2022-04-28T07:46:44.264Z"
   },
   {
    "duration": 8,
    "start_time": "2022-04-28T07:46:51.148Z"
   },
   {
    "duration": 12,
    "start_time": "2022-04-28T07:46:55.028Z"
   },
   {
    "duration": 36,
    "start_time": "2022-04-28T07:46:57.009Z"
   },
   {
    "duration": 11,
    "start_time": "2022-04-28T07:46:59.091Z"
   },
   {
    "duration": 9,
    "start_time": "2022-04-28T07:47:04.658Z"
   },
   {
    "duration": 28,
    "start_time": "2022-04-28T07:47:11.351Z"
   },
   {
    "duration": 26,
    "start_time": "2022-04-28T07:49:49.542Z"
   },
   {
    "duration": 50,
    "start_time": "2022-04-28T07:50:21.317Z"
   },
   {
    "duration": 180,
    "start_time": "2022-04-28T07:54:02.967Z"
   },
   {
    "duration": 14,
    "start_time": "2022-04-28T07:56:54.360Z"
   },
   {
    "duration": 15,
    "start_time": "2022-04-28T07:56:57.979Z"
   },
   {
    "duration": 3016,
    "start_time": "2022-04-28T08:02:29.367Z"
   },
   {
    "duration": 23,
    "start_time": "2022-04-28T08:02:46.070Z"
   },
   {
    "duration": 18,
    "start_time": "2022-04-28T08:03:12.602Z"
   },
   {
    "duration": 14,
    "start_time": "2022-04-28T08:03:21.662Z"
   },
   {
    "duration": 22,
    "start_time": "2022-04-28T08:03:25.786Z"
   },
   {
    "duration": 23,
    "start_time": "2022-04-28T08:03:28.495Z"
   },
   {
    "duration": 23,
    "start_time": "2022-04-28T08:03:50.415Z"
   },
   {
    "duration": 21,
    "start_time": "2022-04-28T08:05:11.577Z"
   },
   {
    "duration": 18,
    "start_time": "2022-04-28T08:05:31.377Z"
   },
   {
    "duration": 636,
    "start_time": "2022-04-28T08:09:58.042Z"
   },
   {
    "duration": 9,
    "start_time": "2022-04-28T08:10:27.125Z"
   },
   {
    "duration": 398,
    "start_time": "2022-04-28T08:10:29.167Z"
   },
   {
    "duration": 946,
    "start_time": "2022-04-28T08:10:36.066Z"
   },
   {
    "duration": 524,
    "start_time": "2022-04-28T08:10:52.039Z"
   },
   {
    "duration": 214,
    "start_time": "2022-04-28T08:11:23.509Z"
   },
   {
    "duration": 213,
    "start_time": "2022-04-28T08:14:46.944Z"
   },
   {
    "duration": 563,
    "start_time": "2022-04-28T08:14:51.708Z"
   },
   {
    "duration": 5,
    "start_time": "2022-04-28T09:22:30.218Z"
   },
   {
    "duration": 119,
    "start_time": "2022-04-28T09:22:31.437Z"
   },
   {
    "duration": 23,
    "start_time": "2022-04-28T09:22:33.420Z"
   },
   {
    "duration": 43,
    "start_time": "2022-04-28T09:22:36.853Z"
   },
   {
    "duration": 17,
    "start_time": "2022-04-28T09:22:39.553Z"
   },
   {
    "duration": 19,
    "start_time": "2022-04-28T09:22:41.478Z"
   },
   {
    "duration": 6,
    "start_time": "2022-04-28T09:22:43.557Z"
   },
   {
    "duration": 9,
    "start_time": "2022-04-28T09:22:46.299Z"
   },
   {
    "duration": 21,
    "start_time": "2022-04-28T09:22:49.004Z"
   },
   {
    "duration": 42,
    "start_time": "2022-04-28T09:22:53.701Z"
   },
   {
    "duration": 13,
    "start_time": "2022-04-28T09:23:01.513Z"
   },
   {
    "duration": 242,
    "start_time": "2022-04-28T09:23:28.302Z"
   },
   {
    "duration": 8,
    "start_time": "2022-04-28T09:23:36.350Z"
   },
   {
    "duration": 9,
    "start_time": "2022-04-28T09:23:37.906Z"
   },
   {
    "duration": 7,
    "start_time": "2022-04-28T09:23:39.422Z"
   },
   {
    "duration": 6,
    "start_time": "2022-04-28T09:23:42.259Z"
   },
   {
    "duration": 5,
    "start_time": "2022-04-28T09:23:44.269Z"
   },
   {
    "duration": 7,
    "start_time": "2022-04-28T09:23:46.013Z"
   },
   {
    "duration": 12,
    "start_time": "2022-04-28T09:23:48.387Z"
   },
   {
    "duration": 193,
    "start_time": "2022-04-28T09:23:50.322Z"
   },
   {
    "duration": 11,
    "start_time": "2022-04-28T09:24:00.536Z"
   },
   {
    "duration": 204,
    "start_time": "2022-04-28T09:24:04.114Z"
   },
   {
    "duration": 8,
    "start_time": "2022-04-28T09:24:11.087Z"
   },
   {
    "duration": 11,
    "start_time": "2022-04-28T09:24:14.528Z"
   },
   {
    "duration": 21,
    "start_time": "2022-04-28T09:24:16.606Z"
   },
   {
    "duration": 8,
    "start_time": "2022-04-28T09:24:19.169Z"
   },
   {
    "duration": 8,
    "start_time": "2022-04-28T09:24:21.046Z"
   },
   {
    "duration": 28,
    "start_time": "2022-04-28T09:24:29.564Z"
   },
   {
    "duration": 44,
    "start_time": "2022-04-28T09:24:32.754Z"
   },
   {
    "duration": 23,
    "start_time": "2022-04-28T09:24:40.962Z"
   },
   {
    "duration": 28,
    "start_time": "2022-04-28T09:24:54.390Z"
   },
   {
    "duration": 25,
    "start_time": "2022-04-28T09:25:09.043Z"
   },
   {
    "duration": 644,
    "start_time": "2022-04-28T09:25:15.509Z"
   },
   {
    "duration": 8,
    "start_time": "2022-04-28T09:25:18.978Z"
   },
   {
    "duration": 402,
    "start_time": "2022-04-28T09:25:21.283Z"
   },
   {
    "duration": 223,
    "start_time": "2022-04-28T09:25:26.676Z"
   },
   {
    "duration": 347,
    "start_time": "2022-04-28T09:25:30.913Z"
   },
   {
    "duration": 586,
    "start_time": "2022-04-28T09:26:21.287Z"
   },
   {
    "duration": 341,
    "start_time": "2022-04-28T09:26:31.830Z"
   },
   {
    "duration": 680,
    "start_time": "2022-04-28T09:26:33.965Z"
   },
   {
    "duration": 510,
    "start_time": "2022-04-28T09:26:37.945Z"
   },
   {
    "duration": 581,
    "start_time": "2022-04-28T09:26:42.303Z"
   },
   {
    "duration": 4,
    "start_time": "2022-04-28T09:31:19.022Z"
   },
   {
    "duration": 83,
    "start_time": "2022-04-28T09:31:19.029Z"
   },
   {
    "duration": 26,
    "start_time": "2022-04-28T09:31:19.115Z"
   },
   {
    "duration": 52,
    "start_time": "2022-04-28T09:31:19.144Z"
   },
   {
    "duration": 44,
    "start_time": "2022-04-28T09:31:19.199Z"
   },
   {
    "duration": 54,
    "start_time": "2022-04-28T09:31:19.246Z"
   },
   {
    "duration": 25,
    "start_time": "2022-04-28T09:31:19.303Z"
   },
   {
    "duration": 8,
    "start_time": "2022-04-28T09:31:19.332Z"
   },
   {
    "duration": 49,
    "start_time": "2022-04-28T09:31:19.343Z"
   },
   {
    "duration": 21,
    "start_time": "2022-04-28T09:31:19.395Z"
   },
   {
    "duration": 46,
    "start_time": "2022-04-28T09:31:19.418Z"
   },
   {
    "duration": 13,
    "start_time": "2022-04-28T09:31:19.494Z"
   },
   {
    "duration": 11,
    "start_time": "2022-04-28T09:31:19.509Z"
   },
   {
    "duration": 283,
    "start_time": "2022-04-28T09:31:19.527Z"
   },
   {
    "duration": 8,
    "start_time": "2022-04-28T09:31:19.812Z"
   },
   {
    "duration": 14,
    "start_time": "2022-04-28T09:31:19.822Z"
   },
   {
    "duration": 13,
    "start_time": "2022-04-28T09:31:19.838Z"
   },
   {
    "duration": 6,
    "start_time": "2022-04-28T09:31:19.854Z"
   },
   {
    "duration": 33,
    "start_time": "2022-04-28T09:31:19.862Z"
   },
   {
    "duration": 8,
    "start_time": "2022-04-28T09:31:19.897Z"
   },
   {
    "duration": 17,
    "start_time": "2022-04-28T09:31:19.908Z"
   },
   {
    "duration": 232,
    "start_time": "2022-04-28T09:31:19.929Z"
   },
   {
    "duration": 11,
    "start_time": "2022-04-28T09:31:20.164Z"
   },
   {
    "duration": 224,
    "start_time": "2022-04-28T09:31:20.193Z"
   },
   {
    "duration": 7,
    "start_time": "2022-04-28T09:31:20.420Z"
   },
   {
    "duration": 17,
    "start_time": "2022-04-28T09:31:20.429Z"
   },
   {
    "duration": 46,
    "start_time": "2022-04-28T09:31:20.448Z"
   },
   {
    "duration": 13,
    "start_time": "2022-04-28T09:31:20.497Z"
   },
   {
    "duration": 13,
    "start_time": "2022-04-28T09:31:20.513Z"
   },
   {
    "duration": 34,
    "start_time": "2022-04-28T09:31:20.528Z"
   },
   {
    "duration": 86,
    "start_time": "2022-04-28T09:31:20.565Z"
   },
   {
    "duration": 41,
    "start_time": "2022-04-28T09:31:20.654Z"
   },
   {
    "duration": 23,
    "start_time": "2022-04-28T09:31:20.698Z"
   },
   {
    "duration": 18,
    "start_time": "2022-04-28T09:31:20.723Z"
   },
   {
    "duration": 665,
    "start_time": "2022-04-28T09:31:20.743Z"
   },
   {
    "duration": 8,
    "start_time": "2022-04-28T09:31:21.410Z"
   },
   {
    "duration": 419,
    "start_time": "2022-04-28T09:31:21.420Z"
   },
   {
    "duration": 240,
    "start_time": "2022-04-28T09:31:21.841Z"
   },
   {
    "duration": 428,
    "start_time": "2022-04-28T09:31:22.083Z"
   },
   {
    "duration": 483,
    "start_time": "2022-04-28T09:31:22.513Z"
   },
   {
    "duration": 413,
    "start_time": "2022-04-28T09:31:23.005Z"
   },
   {
    "duration": 28,
    "start_time": "2022-04-28T09:31:23.421Z"
   },
   {
    "duration": 500,
    "start_time": "2022-04-28T09:31:50.160Z"
   },
   {
    "duration": 499,
    "start_time": "2022-04-28T09:32:01.121Z"
   },
   {
    "duration": 498,
    "start_time": "2022-04-28T09:32:33.531Z"
   },
   {
    "duration": 837,
    "start_time": "2022-04-28T09:33:04.087Z"
   },
   {
    "duration": 802,
    "start_time": "2022-04-28T09:33:15.672Z"
   },
   {
    "duration": 412,
    "start_time": "2022-04-28T09:33:24.550Z"
   },
   {
    "duration": 533,
    "start_time": "2022-04-28T09:33:39.030Z"
   },
   {
    "duration": 363,
    "start_time": "2022-04-28T09:33:42.105Z"
   },
   {
    "duration": 345,
    "start_time": "2022-04-28T09:33:46.055Z"
   },
   {
    "duration": 554,
    "start_time": "2022-04-28T09:33:56.811Z"
   },
   {
    "duration": 51,
    "start_time": "2022-04-28T09:34:33.354Z"
   },
   {
    "duration": 61,
    "start_time": "2022-04-28T09:34:37.021Z"
   },
   {
    "duration": 730,
    "start_time": "2022-04-28T09:34:46.114Z"
   },
   {
    "duration": 235,
    "start_time": "2022-04-28T09:35:00.184Z"
   },
   {
    "duration": 373,
    "start_time": "2022-04-28T09:35:02.860Z"
   },
   {
    "duration": 753,
    "start_time": "2022-04-28T09:35:05.111Z"
   },
   {
    "duration": 355,
    "start_time": "2022-04-28T09:35:09.128Z"
   },
   {
    "duration": 33,
    "start_time": "2022-04-28T09:35:36.099Z"
   },
   {
    "duration": 78,
    "start_time": "2022-04-28T09:37:03.695Z"
   },
   {
    "duration": 522,
    "start_time": "2022-04-28T09:37:07.045Z"
   },
   {
    "duration": 222,
    "start_time": "2022-04-28T09:38:06.235Z"
   },
   {
    "duration": 649,
    "start_time": "2022-04-28T09:38:09.170Z"
   },
   {
    "duration": 678,
    "start_time": "2022-04-28T09:38:23.528Z"
   },
   {
    "duration": 529,
    "start_time": "2022-04-28T09:38:29.182Z"
   },
   {
    "duration": 36,
    "start_time": "2022-04-28T09:38:31.418Z"
   },
   {
    "duration": 39,
    "start_time": "2022-04-28T09:39:37.298Z"
   },
   {
    "duration": 422,
    "start_time": "2022-04-28T09:39:59.646Z"
   },
   {
    "duration": 529,
    "start_time": "2022-04-28T09:40:04.095Z"
   },
   {
    "duration": 52,
    "start_time": "2022-04-28T09:40:09.235Z"
   },
   {
    "duration": 400,
    "start_time": "2022-04-28T09:40:16.270Z"
   },
   {
    "duration": 309,
    "start_time": "2022-04-28T09:40:26.244Z"
   },
   {
    "duration": 15,
    "start_time": "2022-04-28T09:50:00.016Z"
   },
   {
    "duration": 51,
    "start_time": "2022-04-28T09:50:14.019Z"
   },
   {
    "duration": 13,
    "start_time": "2022-04-28T09:50:17.776Z"
   },
   {
    "duration": 39,
    "start_time": "2022-04-28T09:50:23.918Z"
   },
   {
    "duration": 52,
    "start_time": "2022-04-28T09:50:29.025Z"
   },
   {
    "duration": 60,
    "start_time": "2022-04-28T09:52:19.864Z"
   },
   {
    "duration": 59,
    "start_time": "2022-04-28T09:52:26.060Z"
   },
   {
    "duration": 55,
    "start_time": "2022-04-28T09:52:30.366Z"
   },
   {
    "duration": 53,
    "start_time": "2022-04-28T09:52:56.431Z"
   },
   {
    "duration": 232,
    "start_time": "2022-04-28T09:53:00.561Z"
   },
   {
    "duration": 235,
    "start_time": "2022-04-28T09:53:41.812Z"
   },
   {
    "duration": 234,
    "start_time": "2022-04-28T09:54:17.276Z"
   },
   {
    "duration": 209,
    "start_time": "2022-04-28T09:54:28.726Z"
   },
   {
    "duration": 48,
    "start_time": "2022-04-28T09:54:52.614Z"
   },
   {
    "duration": 43,
    "start_time": "2022-04-28T09:54:56.975Z"
   },
   {
    "duration": 369,
    "start_time": "2022-04-28T09:55:04.896Z"
   },
   {
    "duration": 47,
    "start_time": "2022-04-28T09:55:13.129Z"
   },
   {
    "duration": 61,
    "start_time": "2022-04-28T09:55:25.071Z"
   },
   {
    "duration": 51,
    "start_time": "2022-04-28T09:55:46.984Z"
   },
   {
    "duration": 207,
    "start_time": "2022-04-28T09:55:53.126Z"
   },
   {
    "duration": 305,
    "start_time": "2022-04-28T09:56:32.155Z"
   },
   {
    "duration": 44,
    "start_time": "2022-04-29T07:15:50.542Z"
   },
   {
    "duration": 7,
    "start_time": "2022-04-29T07:16:07.557Z"
   },
   {
    "duration": 4,
    "start_time": "2022-04-29T07:16:23.464Z"
   },
   {
    "duration": 437,
    "start_time": "2022-04-29T07:16:23.469Z"
   },
   {
    "duration": 16,
    "start_time": "2022-04-29T07:16:23.908Z"
   },
   {
    "duration": 23,
    "start_time": "2022-04-29T07:16:23.925Z"
   },
   {
    "duration": 30,
    "start_time": "2022-04-29T07:16:23.950Z"
   },
   {
    "duration": 9,
    "start_time": "2022-04-29T07:16:23.982Z"
   },
   {
    "duration": 12,
    "start_time": "2022-04-29T07:16:23.992Z"
   },
   {
    "duration": 4,
    "start_time": "2022-04-29T07:16:24.006Z"
   },
   {
    "duration": 35,
    "start_time": "2022-04-29T07:16:24.012Z"
   },
   {
    "duration": 15,
    "start_time": "2022-04-29T07:16:24.049Z"
   },
   {
    "duration": 26,
    "start_time": "2022-04-29T07:16:24.067Z"
   },
   {
    "duration": 7,
    "start_time": "2022-04-29T07:16:24.095Z"
   },
   {
    "duration": 7,
    "start_time": "2022-04-29T07:16:24.103Z"
   },
   {
    "duration": 582,
    "start_time": "2022-04-29T07:16:24.112Z"
   },
   {
    "duration": 4,
    "start_time": "2022-04-29T07:16:24.696Z"
   },
   {
    "duration": 6,
    "start_time": "2022-04-29T07:16:24.702Z"
   },
   {
    "duration": 7,
    "start_time": "2022-04-29T07:16:24.710Z"
   },
   {
    "duration": 6,
    "start_time": "2022-04-29T07:16:24.718Z"
   },
   {
    "duration": 23,
    "start_time": "2022-04-29T07:16:24.725Z"
   },
   {
    "duration": 4,
    "start_time": "2022-04-29T07:16:24.750Z"
   },
   {
    "duration": 9,
    "start_time": "2022-04-29T07:16:24.755Z"
   },
   {
    "duration": 127,
    "start_time": "2022-04-29T07:16:24.765Z"
   },
   {
    "duration": 7,
    "start_time": "2022-04-29T07:16:24.894Z"
   },
   {
    "duration": 132,
    "start_time": "2022-04-29T07:16:24.902Z"
   },
   {
    "duration": 15,
    "start_time": "2022-04-29T07:16:25.035Z"
   },
   {
    "duration": 9,
    "start_time": "2022-04-29T07:16:25.051Z"
   },
   {
    "duration": 17,
    "start_time": "2022-04-29T07:16:25.061Z"
   },
   {
    "duration": 12,
    "start_time": "2022-04-29T07:16:25.080Z"
   },
   {
    "duration": 11,
    "start_time": "2022-04-29T07:16:25.095Z"
   },
   {
    "duration": 25,
    "start_time": "2022-04-29T07:16:25.108Z"
   },
   {
    "duration": 41,
    "start_time": "2022-04-29T07:16:25.135Z"
   },
   {
    "duration": 10,
    "start_time": "2022-04-29T07:16:25.177Z"
   },
   {
    "duration": 11,
    "start_time": "2022-04-29T07:16:25.189Z"
   },
   {
    "duration": 10,
    "start_time": "2022-04-29T07:16:25.201Z"
   },
   {
    "duration": 343,
    "start_time": "2022-04-29T07:16:25.213Z"
   },
   {
    "duration": 6,
    "start_time": "2022-04-29T07:16:25.557Z"
   },
   {
    "duration": 222,
    "start_time": "2022-04-29T07:16:25.564Z"
   },
   {
    "duration": 573,
    "start_time": "2022-04-29T07:16:25.788Z"
   },
   {
    "duration": 30,
    "start_time": "2022-04-29T07:16:26.363Z"
   },
   {
    "duration": 127,
    "start_time": "2022-04-29T07:16:26.395Z"
   },
   {
    "duration": 196,
    "start_time": "2022-04-29T07:16:26.524Z"
   },
   {
    "duration": 13,
    "start_time": "2022-04-29T07:16:26.721Z"
   }
  ],
  "colab": {
   "collapsed_sections": [
    "a475f216",
    "dfaff47c",
    "00107591",
    "d2288caf",
    "6458ecd1",
    "42123ace"
   ],
   "name": "Яндекс_Практикум_2_й_проект.ipynb",
   "provenance": []
  },
  "kernelspec": {
   "display_name": "Python 3 (ipykernel)",
   "language": "python",
   "name": "python3"
  },
  "language_info": {
   "codemirror_mode": {
    "name": "ipython",
    "version": 3
   },
   "file_extension": ".py",
   "mimetype": "text/x-python",
   "name": "python",
   "nbconvert_exporter": "python",
   "pygments_lexer": "ipython3",
   "version": "3.9.12"
  },
  "toc": {
   "base_numbering": 1,
   "nav_menu": {},
   "number_sections": false,
   "sideBar": true,
   "skip_h1_title": false,
   "title_cell": "Table of Contents",
   "title_sidebar": "Contents",
   "toc_cell": false,
   "toc_position": {
    "height": "calc(100% - 180px)",
    "left": "10px",
    "top": "150px",
    "width": "165px"
   },
   "toc_section_display": true,
   "toc_window_display": false
  }
 },
 "nbformat": 4,
 "nbformat_minor": 5
}
