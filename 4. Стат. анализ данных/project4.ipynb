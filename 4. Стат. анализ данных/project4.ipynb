{
 "cells": [
  {
   "cell_type": "markdown",
   "metadata": {
    "id": "zkuOW9YNUBqI"
   },
   "source": [
    "# Определение перспективного тарифа для телеком-компании"
   ]
  },
  {
   "cell_type": "markdown",
   "metadata": {
    "id": "u0v8WKTyUFx2"
   },
   "source": [
    "## Описание проекта\n",
    "\n",
    "Вы аналитик компании «Мегалайн» — федерального оператора сотовой связи. Клиентам предлагают два тарифных плана: «Смарт» и «Ультра». Чтобы скорректировать рекламный бюджет, коммерческий департамент хочет понять, какой тариф приносит больше денег.\n",
    "Вам предстоит сделать предварительный анализ тарифов на небольшой выборке клиентов. В вашем распоряжении данные 500 пользователей «Мегалайна»: кто они, откуда, каким тарифом пользуются, сколько звонков и сообщений каждый отправил за 2018 год. Нужно проанализировать поведение клиентов и сделать вывод — какой тариф лучше.\n",
    "\n",
    "## Описание тарифов\n",
    "\n",
    "### Тариф «Смарт»\n",
    "1. Ежемесячная плата: 550 рублей\n",
    "2. Включено 500 минут разговора, 50 сообщений и 15 Гб интернет-трафика\n",
    "3. Стоимость услуг сверх тарифного пакета:\n",
    "* минута разговора: 3 рубля\n",
    "* сообщение: 3 рубля\n",
    "* 1 Гб интернет-трафика: 200 рублей\n",
    "\n",
    "### Тариф «Ультра»\n",
    "1. Ежемесячная плата: 1950 рублей\n",
    "2. Включено 3000 минут разговора, 1000 сообщений и 30 Гб интернет-трафика\n",
    "3. Стоимость услуг сверх тарифного пакета:\n",
    "* минута разговора: 1 рубль\n",
    "* сообщение: 1 рубль\n",
    "* 1 Гб интернет-трафика: 150 рублей"
   ]
  },
  {
   "cell_type": "markdown",
   "metadata": {
    "id": "8WC3tk8RU8C1"
   },
   "source": [
    "## Описание данных\n",
    "\n",
    "**Таблица `users` (информация о пользователях):**\n",
    "* `user_id` — уникальный идентификатор пользователя\n",
    "* `first_name` — имя пользователя\n",
    "* `last_name` — фамилия пользователя\n",
    "* `age` — возраст пользователя (годы)\n",
    "* `reg_date` — дата подключения тарифа (день, месяц, год)\n",
    "* `churn_date` — дата прекращения пользования тарифом (если значение пропущено, то тариф ещё действовал на момент выгрузки данных)\n",
    "* `city` — город проживания пользователя\n",
    "* `tariff` — название тарифного плана\n",
    "\n",
    "**Таблица `calls` (информация о звонках):**\n",
    "* `id` — уникальный номер звонка\n",
    "* `call_date` — дата звонка\n",
    "* `duration` — длительность звонка в минутах\n",
    "* `user_id` — идентификатор пользователя, сделавшего звонок\n",
    "\n",
    "**Таблица `messages` (информация о сообщениях):**\n",
    "* `id` — уникальный номер сообщения\n",
    "* `message_date` — дата сообщения\n",
    "* `user_id` — идентификатор пользователя, отправившего сообщение\n",
    "\n",
    "**Таблица internet (информация об интернет-сессиях):**\n",
    "* `id` — уникальный номер сессии\n",
    "* `mb_used` — объём потраченного за сессию интернет-трафика (в мегабайтах)\n",
    "* `session_date` — дата интернет-сессии\n",
    "* `user_id` — идентификатор пользователя\n",
    "\n",
    "**Таблица tariffs (информация о тарифах):**\n",
    "* `tariff_name` — название тарифа\n",
    "* `rub_monthly_fee` — ежемесячная абонентская плата в рублях\n",
    "* `minutes_included` — количество минут разговора в месяц, включённых в абонентскую плату\n",
    "* `messages_included` — количество сообщений в месяц, включённых в абонентскую плату\n",
    "* `mb_per_month_included` — объём интернет-трафика, включённого в абонентскую плату (в мегабайтах)\n",
    "* `rub_per_minute` — стоимость минуты разговора сверх тарифного пакета (например, если в тарифе 100 минут разговора в месяц, то со 101 минуты будет взиматься плата)\n",
    "* `rub_per_message` — стоимость отправки сообщения сверх тарифного пакета\n",
    "* `rub_per_gb` — стоимость дополнительного гигабайта интернет-трафика сверх тарифного пакета (1 гигабайт = 1024 мегабайта)"
   ]
  },
  {
   "cell_type": "markdown",
   "metadata": {},
   "source": [
    "## План работ\n",
    "\n",
    "[**Шаг 1. Открытие файла с данными и изучение общей информации**](#level1)\n",
    "<br />\n",
    "Загрузка и обзор датасетов, проверка корректности названия столбцов и типов данных.\n",
    "\n",
    "[**Шаг 2. Подготовка данных**](#level2)\n",
    "<br />\n",
    "Обработка пропусков, проверка на дубликаты, рассчёты выручки.\n",
    "\n",
    "[**Шаг 3. Анализ поведения**](#level3)\n",
    "<br />\n",
    "Сравнение поведения пользователей в двух тарифах. Обзор звонков, сообщений, трафика, выручки.\n",
    "\n",
    "[**Шаг 4. Проверка гипотез**](#level4)\n",
    "<br />\n",
    "Проверка поставленных гипотез."
   ]
  },
  {
   "cell_type": "code",
   "execution_count": 1,
   "metadata": {
    "id": "Td2g3Q_DQRie"
   },
   "outputs": [],
   "source": [
    "# Включаем библиотеки, кот. могут понадобиться\n",
    "\n",
    "import pandas as pd\n",
    "import math\n",
    "import numpy as np\n",
    "import seaborn as sns\n",
    "from scipy import stats as st\n",
    "#import matplotlib.pyplot as plt"
   ]
  },
  {
   "cell_type": "markdown",
   "metadata": {
    "id": "0riRtU_AT8p2"
   },
   "source": [
    "### Шаг 1. Открытие файла с данными и изучение общей информации\n",
    "<a id='level1'></a>"
   ]
  },
  {
   "cell_type": "code",
   "execution_count": 2,
   "metadata": {
    "colab": {
     "base_uri": "https://localhost:8080/"
    },
    "id": "lT4xtWgRQXS7",
    "outputId": "5f796c8f-debe-4fea-99d9-134a42680b04"
   },
   "outputs": [
    {
     "name": "stdout",
     "output_type": "stream",
     "text": [
      "(202607, 4) (149396, 4) (123036, 3) (500, 8) (2, 8)\n"
     ]
    }
   ],
   "source": [
    "try:\n",
    "  # Сразу парсим данные\n",
    "  data_calls = pd.read_csv(\"calls.csv\", parse_dates=['call_date'])\n",
    "  data_internet = pd.read_csv(\"internet.csv\", parse_dates=['session_date'], index_col=0)\n",
    "  data_messages = pd.read_csv(\"messages.csv\", parse_dates=['message_date'])\n",
    "  data_tariffs = pd.read_csv(\"tariffs.csv\")\n",
    "  data_users = pd.read_csv(\"users.csv\", parse_dates=['reg_date', 'churn_date'])\n",
    "\n",
    "# Пробуем другой путь, если проект открывается не local\n",
    "except:\n",
    "  data_calls = pd.read_csv(\"/datasets/calls.csv\", parse_dates=['call_date'])\n",
    "  data_internet = pd.read_csv(\"/datasets/internet.csv\", parse_dates=['session_date'], index_col=0)\n",
    "  data_messages = pd.read_csv(\"/datasets/messages.csv\", parse_dates=['message_date'])\n",
    "  data_tariffs = pd.read_csv(\"/datasets/tariffs.csv\")\n",
    "  data_users = pd.read_csv(\"/datasets/users.csv\", parse_dates=['reg_date', 'churn_date'])\n",
    "\n",
    "# Настройка, чтобы отображались все столбцы при обзоре\n",
    "pd.options.display.max_columns = 50\n",
    "# Уберем навязчивые варнинги\n",
    "pd.options.mode.chained_assignment = None \n",
    "\n",
    "# Проверяем подключение файла, осматриваемся\n",
    "print(data_calls.shape, data_internet.shape, data_messages.shape, data_users.shape, data_tariffs.shape)"
   ]
  },
  {
   "cell_type": "code",
   "execution_count": 3,
   "metadata": {
    "colab": {
     "base_uri": "https://localhost:8080/"
    },
    "id": "2lIZ5Wp8R9s0",
    "outputId": "e0cc94a6-fe8b-45ac-a69f-ddc36cf6ecb2",
    "scrolled": false
   },
   "outputs": [
    {
     "name": "stdout",
     "output_type": "stream",
     "text": [
      "--calls--\n",
      "<class 'pandas.core.frame.DataFrame'>\n",
      "RangeIndex: 202607 entries, 0 to 202606\n",
      "Data columns (total 4 columns):\n",
      " #   Column     Non-Null Count   Dtype         \n",
      "---  ------     --------------   -----         \n",
      " 0   id         202607 non-null  object        \n",
      " 1   call_date  202607 non-null  datetime64[ns]\n",
      " 2   duration   202607 non-null  float64       \n",
      " 3   user_id    202607 non-null  int64         \n",
      "dtypes: datetime64[ns](1), float64(1), int64(1), object(1)\n",
      "memory usage: 6.2+ MB\n",
      "\n",
      "--internet--\n",
      "<class 'pandas.core.frame.DataFrame'>\n",
      "Int64Index: 149396 entries, 0 to 149395\n",
      "Data columns (total 4 columns):\n",
      " #   Column        Non-Null Count   Dtype         \n",
      "---  ------        --------------   -----         \n",
      " 0   id            149396 non-null  object        \n",
      " 1   mb_used       149396 non-null  float64       \n",
      " 2   session_date  149396 non-null  datetime64[ns]\n",
      " 3   user_id       149396 non-null  int64         \n",
      "dtypes: datetime64[ns](1), float64(1), int64(1), object(1)\n",
      "memory usage: 5.7+ MB\n",
      "\n",
      "--messages--\n",
      "<class 'pandas.core.frame.DataFrame'>\n",
      "RangeIndex: 123036 entries, 0 to 123035\n",
      "Data columns (total 3 columns):\n",
      " #   Column        Non-Null Count   Dtype         \n",
      "---  ------        --------------   -----         \n",
      " 0   id            123036 non-null  object        \n",
      " 1   message_date  123036 non-null  datetime64[ns]\n",
      " 2   user_id       123036 non-null  int64         \n",
      "dtypes: datetime64[ns](1), int64(1), object(1)\n",
      "memory usage: 2.8+ MB\n",
      "\n",
      "--user--:\n",
      "<class 'pandas.core.frame.DataFrame'>\n",
      "RangeIndex: 500 entries, 0 to 499\n",
      "Data columns (total 8 columns):\n",
      " #   Column      Non-Null Count  Dtype         \n",
      "---  ------      --------------  -----         \n",
      " 0   user_id     500 non-null    int64         \n",
      " 1   age         500 non-null    int64         \n",
      " 2   churn_date  38 non-null     datetime64[ns]\n",
      " 3   city        500 non-null    object        \n",
      " 4   first_name  500 non-null    object        \n",
      " 5   last_name   500 non-null    object        \n",
      " 6   reg_date    500 non-null    datetime64[ns]\n",
      " 7   tariff      500 non-null    object        \n",
      "dtypes: datetime64[ns](2), int64(2), object(4)\n",
      "memory usage: 31.4+ KB\n",
      "\n",
      "--tariffs--\n",
      "<class 'pandas.core.frame.DataFrame'>\n",
      "RangeIndex: 2 entries, 0 to 1\n",
      "Data columns (total 8 columns):\n",
      " #   Column                 Non-Null Count  Dtype \n",
      "---  ------                 --------------  ----- \n",
      " 0   messages_included      2 non-null      int64 \n",
      " 1   mb_per_month_included  2 non-null      int64 \n",
      " 2   minutes_included       2 non-null      int64 \n",
      " 3   rub_monthly_fee        2 non-null      int64 \n",
      " 4   rub_per_gb             2 non-null      int64 \n",
      " 5   rub_per_message        2 non-null      int64 \n",
      " 6   rub_per_minute         2 non-null      int64 \n",
      " 7   tariff_name            2 non-null      object\n",
      "dtypes: int64(7), object(1)\n",
      "memory usage: 256.0+ bytes\n"
     ]
    }
   ],
   "source": [
    "# Сделаем обзор всех датасетов\n",
    "\n",
    "print('--calls--')\n",
    "data_calls.info()\n",
    "print()\n",
    "print('--internet--')\n",
    "data_internet.info()\n",
    "print()\n",
    "print('--messages--')\n",
    "data_messages.info()\n",
    "print()\n",
    "print('--user--:')\n",
    "data_users.info()\n",
    "print()\n",
    "print('--tariffs--')\n",
    "data_tariffs.info()"
   ]
  },
  {
   "cell_type": "markdown",
   "metadata": {
    "id": "sMj8vpdwS8lP"
   },
   "source": [
    "На вид - пустых значений нет. Везде ровное распределение, кроме `churn_date` в `users`.\n",
    "\n",
    "Есть проблемы в `internet` - странная неназванная колонка.\n",
    "\n",
    "Количество строк в таблицах разные и это логично - звонков больше всего."
   ]
  },
  {
   "cell_type": "markdown",
   "metadata": {
    "id": "ihXdf46cWPei"
   },
   "source": [
    "Посмотрим на данные в каждой таблице:"
   ]
  },
  {
   "cell_type": "code",
   "execution_count": 4,
   "metadata": {
    "colab": {
     "base_uri": "https://localhost:8080/",
     "height": 206
    },
    "id": "cmKxRzoyWHEI",
    "outputId": "204f1954-8f76-4877-de3d-8de897df8b59"
   },
   "outputs": [
    {
     "data": {
      "text/html": [
       "<div>\n",
       "<style scoped>\n",
       "    .dataframe tbody tr th:only-of-type {\n",
       "        vertical-align: middle;\n",
       "    }\n",
       "\n",
       "    .dataframe tbody tr th {\n",
       "        vertical-align: top;\n",
       "    }\n",
       "\n",
       "    .dataframe thead th {\n",
       "        text-align: right;\n",
       "    }\n",
       "</style>\n",
       "<table border=\"1\" class=\"dataframe\">\n",
       "  <thead>\n",
       "    <tr style=\"text-align: right;\">\n",
       "      <th></th>\n",
       "      <th>id</th>\n",
       "      <th>call_date</th>\n",
       "      <th>duration</th>\n",
       "      <th>user_id</th>\n",
       "    </tr>\n",
       "  </thead>\n",
       "  <tbody>\n",
       "    <tr>\n",
       "      <th>178784</th>\n",
       "      <td>1446_69</td>\n",
       "      <td>2018-10-25</td>\n",
       "      <td>0.01</td>\n",
       "      <td>1446</td>\n",
       "    </tr>\n",
       "    <tr>\n",
       "      <th>80502</th>\n",
       "      <td>1200_405</td>\n",
       "      <td>2018-06-18</td>\n",
       "      <td>9.25</td>\n",
       "      <td>1200</td>\n",
       "    </tr>\n",
       "    <tr>\n",
       "      <th>16007</th>\n",
       "      <td>1044_113</td>\n",
       "      <td>2018-12-17</td>\n",
       "      <td>13.62</td>\n",
       "      <td>1044</td>\n",
       "    </tr>\n",
       "    <tr>\n",
       "      <th>72215</th>\n",
       "      <td>1179_487</td>\n",
       "      <td>2018-08-15</td>\n",
       "      <td>10.68</td>\n",
       "      <td>1179</td>\n",
       "    </tr>\n",
       "    <tr>\n",
       "      <th>108278</th>\n",
       "      <td>1280_197</td>\n",
       "      <td>2018-10-23</td>\n",
       "      <td>9.91</td>\n",
       "      <td>1280</td>\n",
       "    </tr>\n",
       "  </tbody>\n",
       "</table>\n",
       "</div>"
      ],
      "text/plain": [
       "              id  call_date  duration  user_id\n",
       "178784   1446_69 2018-10-25      0.01     1446\n",
       "80502   1200_405 2018-06-18      9.25     1200\n",
       "16007   1044_113 2018-12-17     13.62     1044\n",
       "72215   1179_487 2018-08-15     10.68     1179\n",
       "108278  1280_197 2018-10-23      9.91     1280"
      ]
     },
     "execution_count": 4,
     "metadata": {},
     "output_type": "execute_result"
    }
   ],
   "source": [
    "data_calls.sample(5)"
   ]
  },
  {
   "cell_type": "markdown",
   "metadata": {
    "id": "SPbsyB9sWeFM"
   },
   "source": [
    "Колонку с датой мы уже преобразовали при парсинге. Остальные колонки вылядят нормально."
   ]
  },
  {
   "cell_type": "code",
   "execution_count": 5,
   "metadata": {},
   "outputs": [
    {
     "name": "stdout",
     "output_type": "stream",
     "text": [
      "2018-01-01 00:00:00\n",
      "2018-12-31 00:00:00\n"
     ]
    }
   ],
   "source": [
    "# Диапазон дат\n",
    "\n",
    "print(data_calls['call_date'].min())\n",
    "print(data_calls['call_date'].max())"
   ]
  },
  {
   "cell_type": "code",
   "execution_count": 6,
   "metadata": {
    "colab": {
     "base_uri": "https://localhost:8080/",
     "height": 206
    },
    "id": "hMeMqcDhWtAK",
    "outputId": "f333a023-174a-4fb7-b1e2-7ffa810ceb8d",
    "scrolled": true
   },
   "outputs": [
    {
     "data": {
      "text/html": [
       "<div>\n",
       "<style scoped>\n",
       "    .dataframe tbody tr th:only-of-type {\n",
       "        vertical-align: middle;\n",
       "    }\n",
       "\n",
       "    .dataframe tbody tr th {\n",
       "        vertical-align: top;\n",
       "    }\n",
       "\n",
       "    .dataframe thead th {\n",
       "        text-align: right;\n",
       "    }\n",
       "</style>\n",
       "<table border=\"1\" class=\"dataframe\">\n",
       "  <thead>\n",
       "    <tr style=\"text-align: right;\">\n",
       "      <th></th>\n",
       "      <th>id</th>\n",
       "      <th>mb_used</th>\n",
       "      <th>session_date</th>\n",
       "      <th>user_id</th>\n",
       "    </tr>\n",
       "  </thead>\n",
       "  <tbody>\n",
       "    <tr>\n",
       "      <th>46990</th>\n",
       "      <td>1161_10</td>\n",
       "      <td>311.10</td>\n",
       "      <td>2018-09-26</td>\n",
       "      <td>1161</td>\n",
       "    </tr>\n",
       "    <tr>\n",
       "      <th>94124</th>\n",
       "      <td>1318_138</td>\n",
       "      <td>0.00</td>\n",
       "      <td>2018-06-22</td>\n",
       "      <td>1318</td>\n",
       "    </tr>\n",
       "    <tr>\n",
       "      <th>67664</th>\n",
       "      <td>1228_449</td>\n",
       "      <td>398.24</td>\n",
       "      <td>2018-04-29</td>\n",
       "      <td>1228</td>\n",
       "    </tr>\n",
       "    <tr>\n",
       "      <th>5453</th>\n",
       "      <td>1015_461</td>\n",
       "      <td>451.67</td>\n",
       "      <td>2018-09-30</td>\n",
       "      <td>1015</td>\n",
       "    </tr>\n",
       "    <tr>\n",
       "      <th>7053</th>\n",
       "      <td>1024_108</td>\n",
       "      <td>428.43</td>\n",
       "      <td>2018-12-12</td>\n",
       "      <td>1024</td>\n",
       "    </tr>\n",
       "  </tbody>\n",
       "</table>\n",
       "</div>"
      ],
      "text/plain": [
       "             id  mb_used session_date  user_id\n",
       "46990   1161_10   311.10   2018-09-26     1161\n",
       "94124  1318_138     0.00   2018-06-22     1318\n",
       "67664  1228_449   398.24   2018-04-29     1228\n",
       "5453   1015_461   451.67   2018-09-30     1015\n",
       "7053   1024_108   428.43   2018-12-12     1024"
      ]
     },
     "execution_count": 6,
     "metadata": {},
     "output_type": "execute_result"
    }
   ],
   "source": [
    "data_internet.sample(5)"
   ]
  },
  {
   "cell_type": "markdown",
   "metadata": {},
   "source": [
    "Посмотрим на аномалии в трафике:"
   ]
  },
  {
   "cell_type": "code",
   "execution_count": 7,
   "metadata": {
    "scrolled": true
   },
   "outputs": [
    {
     "data": {
      "image/png": "[encoded data removed]",
      "text/plain": [
       "<Figure size 432x288 with 1 Axes>"
      ]
     },
     "metadata": {
      "needs_background": "light"
     },
     "output_type": "display_data"
    }
   ],
   "source": [
    "data_internet['mb_used'].hist(bins=50);"
   ]
  },
  {
   "cell_type": "markdown",
   "metadata": {},
   "source": [
    "Среди нормального распределения есть ноль. Посмотрим на процентное соотношение:"
   ]
  },
  {
   "cell_type": "code",
   "execution_count": 8,
   "metadata": {},
   "outputs": [
    {
     "data": {
      "text/plain": [
       "id              13.118156\n",
       "mb_used         13.118156\n",
       "session_date    13.118156\n",
       "user_id         13.118156\n",
       "dtype: float64"
      ]
     },
     "execution_count": 8,
     "metadata": {},
     "output_type": "execute_result"
    }
   ],
   "source": [
    "data_internet.query('mb_used == 0').count() / data_internet.count() * 100"
   ]
  },
  {
   "cell_type": "markdown",
   "metadata": {},
   "source": [
    "13% данных содержит 0 трафика. Значит, в этом месяце трафиком не пользовались."
   ]
  },
  {
   "cell_type": "code",
   "execution_count": 9,
   "metadata": {
    "colab": {
     "base_uri": "https://localhost:8080/"
    },
    "id": "0q_Wt97oXG1N",
    "outputId": "308c048f-dd08-4c58-d16b-3b14e6de5bd9"
   },
   "outputs": [],
   "source": [
    "# Удаляем столбец и проверяем\n",
    "#data_internet = data_internet.drop(columns='Unnamed: 0')\n",
    "#data_internet.info()"
   ]
  },
  {
   "cell_type": "markdown",
   "metadata": {
    "id": "0ZDZq5V5XxVR"
   },
   "source": [
    "Здесь всё в порядке. Посмотрим на юзеров:"
   ]
  },
  {
   "cell_type": "code",
   "execution_count": 10,
   "metadata": {
    "colab": {
     "base_uri": "https://localhost:8080/",
     "height": 206
    },
    "id": "vDN6jcijX9kT",
    "outputId": "07ad8f9e-b735-4351-802d-d64f901bb59b"
   },
   "outputs": [
    {
     "data": {
      "text/html": [
       "<div>\n",
       "<style scoped>\n",
       "    .dataframe tbody tr th:only-of-type {\n",
       "        vertical-align: middle;\n",
       "    }\n",
       "\n",
       "    .dataframe tbody tr th {\n",
       "        vertical-align: top;\n",
       "    }\n",
       "\n",
       "    .dataframe thead th {\n",
       "        text-align: right;\n",
       "    }\n",
       "</style>\n",
       "<table border=\"1\" class=\"dataframe\">\n",
       "  <thead>\n",
       "    <tr style=\"text-align: right;\">\n",
       "      <th></th>\n",
       "      <th>user_id</th>\n",
       "      <th>age</th>\n",
       "      <th>churn_date</th>\n",
       "      <th>city</th>\n",
       "      <th>first_name</th>\n",
       "      <th>last_name</th>\n",
       "      <th>reg_date</th>\n",
       "      <th>tariff</th>\n",
       "    </tr>\n",
       "  </thead>\n",
       "  <tbody>\n",
       "    <tr>\n",
       "      <th>294</th>\n",
       "      <td>1294</td>\n",
       "      <td>66</td>\n",
       "      <td>NaT</td>\n",
       "      <td>Владивосток</td>\n",
       "      <td>Дебора</td>\n",
       "      <td>Асафьева</td>\n",
       "      <td>2018-02-20</td>\n",
       "      <td>ultra</td>\n",
       "    </tr>\n",
       "    <tr>\n",
       "      <th>176</th>\n",
       "      <td>1176</td>\n",
       "      <td>37</td>\n",
       "      <td>NaT</td>\n",
       "      <td>Волгоград</td>\n",
       "      <td>Радим</td>\n",
       "      <td>Куприянов</td>\n",
       "      <td>2018-01-20</td>\n",
       "      <td>smart</td>\n",
       "    </tr>\n",
       "    <tr>\n",
       "      <th>72</th>\n",
       "      <td>1072</td>\n",
       "      <td>49</td>\n",
       "      <td>NaT</td>\n",
       "      <td>Уфа</td>\n",
       "      <td>Андрей</td>\n",
       "      <td>Андрейкин</td>\n",
       "      <td>2018-02-20</td>\n",
       "      <td>smart</td>\n",
       "    </tr>\n",
       "    <tr>\n",
       "      <th>333</th>\n",
       "      <td>1333</td>\n",
       "      <td>58</td>\n",
       "      <td>NaT</td>\n",
       "      <td>Москва</td>\n",
       "      <td>Вера</td>\n",
       "      <td>Антонова</td>\n",
       "      <td>2018-09-28</td>\n",
       "      <td>ultra</td>\n",
       "    </tr>\n",
       "    <tr>\n",
       "      <th>203</th>\n",
       "      <td>1203</td>\n",
       "      <td>39</td>\n",
       "      <td>NaT</td>\n",
       "      <td>Москва</td>\n",
       "      <td>Владимир</td>\n",
       "      <td>Григорьев</td>\n",
       "      <td>2018-03-13</td>\n",
       "      <td>ultra</td>\n",
       "    </tr>\n",
       "  </tbody>\n",
       "</table>\n",
       "</div>"
      ],
      "text/plain": [
       "     user_id  age churn_date         city first_name  last_name   reg_date  \\\n",
       "294     1294   66        NaT  Владивосток     Дебора   Асафьева 2018-02-20   \n",
       "176     1176   37        NaT    Волгоград      Радим  Куприянов 2018-01-20   \n",
       "72      1072   49        NaT          Уфа     Андрей  Андрейкин 2018-02-20   \n",
       "333     1333   58        NaT       Москва       Вера   Антонова 2018-09-28   \n",
       "203     1203   39        NaT       Москва   Владимир  Григорьев 2018-03-13   \n",
       "\n",
       "    tariff  \n",
       "294  ultra  \n",
       "176  smart  \n",
       "72   smart  \n",
       "333  ultra  \n",
       "203  ultra  "
      ]
     },
     "execution_count": 10,
     "metadata": {},
     "output_type": "execute_result"
    }
   ],
   "source": [
    "data_users.sample(5)"
   ]
  },
  {
   "cell_type": "markdown",
   "metadata": {
    "id": "zpfwbjCGmfa0"
   },
   "source": [
    "В `churn_date` есть пропуски, но это не страшно, т.к. абоненты являются ещё клиентами."
   ]
  },
  {
   "cell_type": "code",
   "execution_count": 11,
   "metadata": {},
   "outputs": [
    {
     "name": "stdout",
     "output_type": "stream",
     "text": [
      "2018-01-01 00:00:00\n",
      "2018-12-31 00:00:00\n"
     ]
    }
   ],
   "source": [
    "# Диапазон дат\n",
    "print(data_users['reg_date'].min())\n",
    "print(data_users['reg_date'].max())"
   ]
  },
  {
   "cell_type": "code",
   "execution_count": 12,
   "metadata": {
    "colab": {
     "base_uri": "https://localhost:8080/"
    },
    "id": "xB8XXOG-YVlH",
    "outputId": "af2f6b42-a9ec-4b26-a239-36c7afa0d6ef"
   },
   "outputs": [
    {
     "name": "stdout",
     "output_type": "stream",
     "text": [
      "['Архангельск', 'Астрахань', 'Балашиха', 'Барнаул', 'Белгород', 'Брянск', 'Владивосток', 'Владикавказ', 'Владимир', 'Волгоград', 'Волжский', 'Вологда', 'Воронеж', 'Грозный', 'Екатеринбург', 'Иваново', 'Ижевск', 'Иркутск', 'Казань', 'Калининград', 'Калуга', 'Кемерово', 'Киров', 'Кострома', 'Краснодар', 'Красноярск', 'Курган', 'Курск', 'Липецк', 'Магнитогорск', 'Махачкала', 'Москва', 'Мурманск', 'Набережные Челны', 'Нижневартовск', 'Нижний Новгород', 'Нижний Тагил', 'Новокузнецк', 'Новороссийск', 'Новосибирск', 'Омск', 'Оренбург', 'Орёл', 'Пенза', 'Пермь', 'Петрозаводск', 'Подольск', 'Ростов-на-Дону', 'Рязань', 'Самара', 'Санкт-Петербург', 'Саранск', 'Саратов', 'Севастополь', 'Смоленск', 'Сочи', 'Ставрополь', 'Стерлитамак', 'Сургут', 'Тамбов', 'Тверь', 'Тольятти', 'Томск', 'Тула', 'Тюмень', 'Улан-Удэ', 'Ульяновск', 'Уфа', 'Хабаровск', 'Химки', 'Чебоксары', 'Челябинск', 'Череповец', 'Чита', 'Якутск', 'Ярославль']\n"
     ]
    }
   ],
   "source": [
    "# Проверим дубликаты и регистры в городах. Уникализируем и сортируем\n",
    "city = data_users['city'].unique().tolist()\n",
    "city.sort()\n",
    "\n",
    "print(city)"
   ]
  },
  {
   "cell_type": "markdown",
   "metadata": {
    "id": "orEYaTutm1s6"
   },
   "source": [
    "Посмотрим на статистику users, особенно на возраст:"
   ]
  },
  {
   "cell_type": "code",
   "execution_count": 13,
   "metadata": {
    "colab": {
     "base_uri": "https://localhost:8080/",
     "height": 300
    },
    "id": "FPpAYM4Ymwgy",
    "outputId": "0f49ad84-aa1c-4aea-e26f-d53c7f5569b5"
   },
   "outputs": [
    {
     "data": {
      "text/html": [
       "<div>\n",
       "<style scoped>\n",
       "    .dataframe tbody tr th:only-of-type {\n",
       "        vertical-align: middle;\n",
       "    }\n",
       "\n",
       "    .dataframe tbody tr th {\n",
       "        vertical-align: top;\n",
       "    }\n",
       "\n",
       "    .dataframe thead th {\n",
       "        text-align: right;\n",
       "    }\n",
       "</style>\n",
       "<table border=\"1\" class=\"dataframe\">\n",
       "  <thead>\n",
       "    <tr style=\"text-align: right;\">\n",
       "      <th></th>\n",
       "      <th>user_id</th>\n",
       "      <th>age</th>\n",
       "    </tr>\n",
       "  </thead>\n",
       "  <tbody>\n",
       "    <tr>\n",
       "      <th>count</th>\n",
       "      <td>500.000000</td>\n",
       "      <td>500.00000</td>\n",
       "    </tr>\n",
       "    <tr>\n",
       "      <th>mean</th>\n",
       "      <td>1249.500000</td>\n",
       "      <td>46.58800</td>\n",
       "    </tr>\n",
       "    <tr>\n",
       "      <th>std</th>\n",
       "      <td>144.481833</td>\n",
       "      <td>16.66763</td>\n",
       "    </tr>\n",
       "    <tr>\n",
       "      <th>min</th>\n",
       "      <td>1000.000000</td>\n",
       "      <td>18.00000</td>\n",
       "    </tr>\n",
       "    <tr>\n",
       "      <th>25%</th>\n",
       "      <td>1124.750000</td>\n",
       "      <td>32.00000</td>\n",
       "    </tr>\n",
       "    <tr>\n",
       "      <th>50%</th>\n",
       "      <td>1249.500000</td>\n",
       "      <td>46.00000</td>\n",
       "    </tr>\n",
       "    <tr>\n",
       "      <th>75%</th>\n",
       "      <td>1374.250000</td>\n",
       "      <td>62.00000</td>\n",
       "    </tr>\n",
       "    <tr>\n",
       "      <th>max</th>\n",
       "      <td>1499.000000</td>\n",
       "      <td>75.00000</td>\n",
       "    </tr>\n",
       "  </tbody>\n",
       "</table>\n",
       "</div>"
      ],
      "text/plain": [
       "           user_id        age\n",
       "count   500.000000  500.00000\n",
       "mean   1249.500000   46.58800\n",
       "std     144.481833   16.66763\n",
       "min    1000.000000   18.00000\n",
       "25%    1124.750000   32.00000\n",
       "50%    1249.500000   46.00000\n",
       "75%    1374.250000   62.00000\n",
       "max    1499.000000   75.00000"
      ]
     },
     "execution_count": 13,
     "metadata": {},
     "output_type": "execute_result"
    }
   ],
   "source": [
    "data_users.describe()"
   ]
  },
  {
   "cell_type": "code",
   "execution_count": 14,
   "metadata": {
    "colab": {
     "base_uri": "https://localhost:8080/",
     "height": 265
    },
    "id": "McnL4IGdnC-6",
    "outputId": "bcc5de43-e1e1-47fd-dee8-d6f1c7228f34"
   },
   "outputs": [
    {
     "data": {
      "image/png": "[encoded data removed]",
      "text/plain": [
       "<Figure size 432x288 with 1 Axes>"
      ]
     },
     "metadata": {
      "needs_background": "light"
     },
     "output_type": "display_data"
    }
   ],
   "source": [
    "data_users['age'].hist(bins=50);"
   ]
  },
  {
   "cell_type": "markdown",
   "metadata": {
    "id": "SzIE2Vn4nMJU"
   },
   "source": [
    "Пик графика на возрасте 46 лет. Вторая мода на уровне 26-28 лет.\n",
    "\n",
    "Посмотрим на соотношения тарифов:"
   ]
  },
  {
   "cell_type": "code",
   "execution_count": 15,
   "metadata": {
    "colab": {
     "base_uri": "https://localhost:8080/",
     "height": 295
    },
    "id": "Mjofmx5Jn217",
    "outputId": "6b2f4962-34da-4077-ac84-b4a9e0a40173"
   },
   "outputs": [
    {
     "data": {
      "image/png": "[encoded data removed]",
      "text/plain": [
       "<Figure size 432x288 with 1 Axes>"
      ]
     },
     "metadata": {
      "needs_background": "light"
     },
     "output_type": "display_data"
    }
   ],
   "source": [
    "sns.histplot(data=data_users, x=\"tariff\", bins=40).set_title('Соотношения тарифов');"
   ]
  },
  {
   "cell_type": "markdown",
   "metadata": {
    "id": "I0j8y36MoU6E"
   },
   "source": [
    "Тарифа smart гораздо больше, что логично - он дешевле."
   ]
  },
  {
   "cell_type": "markdown",
   "metadata": {
    "id": "snM5fAdt2MG_"
   },
   "source": [
    "Посмотрим тарифы:"
   ]
  },
  {
   "cell_type": "code",
   "execution_count": 16,
   "metadata": {
    "colab": {
     "base_uri": "https://localhost:8080/"
    },
    "id": "iiTUW69GZk--",
    "outputId": "93e580ca-59f0-41ee-edfe-9bb5a85f0976"
   },
   "outputs": [
    {
     "data": {
      "text/plain": [
       "['ultra', 'smart']"
      ]
     },
     "execution_count": 16,
     "metadata": {},
     "output_type": "execute_result"
    }
   ],
   "source": [
    "# Проверим тарифы\n",
    "data_users['tariff'].unique().tolist()"
   ]
  },
  {
   "cell_type": "code",
   "execution_count": 17,
   "metadata": {
    "colab": {
     "base_uri": "https://localhost:8080/",
     "height": 176
    },
    "id": "sxXdVUGXaMuE",
    "outputId": "02408f7e-cd6d-47ef-9935-969f7ae62f11",
    "scrolled": true
   },
   "outputs": [
    {
     "data": {
      "text/html": [
       "<div>\n",
       "<style scoped>\n",
       "    .dataframe tbody tr th:only-of-type {\n",
       "        vertical-align: middle;\n",
       "    }\n",
       "\n",
       "    .dataframe tbody tr th {\n",
       "        vertical-align: top;\n",
       "    }\n",
       "\n",
       "    .dataframe thead th {\n",
       "        text-align: right;\n",
       "    }\n",
       "</style>\n",
       "<table border=\"1\" class=\"dataframe\">\n",
       "  <thead>\n",
       "    <tr style=\"text-align: right;\">\n",
       "      <th></th>\n",
       "      <th>messages_included</th>\n",
       "      <th>mb_per_month_included</th>\n",
       "      <th>minutes_included</th>\n",
       "      <th>rub_monthly_fee</th>\n",
       "      <th>rub_per_gb</th>\n",
       "      <th>rub_per_message</th>\n",
       "      <th>rub_per_minute</th>\n",
       "      <th>tariff_name</th>\n",
       "    </tr>\n",
       "  </thead>\n",
       "  <tbody>\n",
       "    <tr>\n",
       "      <th>0</th>\n",
       "      <td>50</td>\n",
       "      <td>15360</td>\n",
       "      <td>500</td>\n",
       "      <td>550</td>\n",
       "      <td>200</td>\n",
       "      <td>3</td>\n",
       "      <td>3</td>\n",
       "      <td>smart</td>\n",
       "    </tr>\n",
       "    <tr>\n",
       "      <th>1</th>\n",
       "      <td>1000</td>\n",
       "      <td>30720</td>\n",
       "      <td>3000</td>\n",
       "      <td>1950</td>\n",
       "      <td>150</td>\n",
       "      <td>1</td>\n",
       "      <td>1</td>\n",
       "      <td>ultra</td>\n",
       "    </tr>\n",
       "  </tbody>\n",
       "</table>\n",
       "</div>"
      ],
      "text/plain": [
       "   messages_included  mb_per_month_included  minutes_included  \\\n",
       "0                 50                  15360               500   \n",
       "1               1000                  30720              3000   \n",
       "\n",
       "   rub_monthly_fee  rub_per_gb  rub_per_message  rub_per_minute tariff_name  \n",
       "0              550         200                3               3       smart  \n",
       "1             1950         150                1               1       ultra  "
      ]
     },
     "execution_count": 17,
     "metadata": {},
     "output_type": "execute_result"
    }
   ],
   "source": [
    "data_tariffs.head()"
   ]
  },
  {
   "cell_type": "code",
   "execution_count": 18,
   "metadata": {
    "scrolled": true
   },
   "outputs": [
    {
     "name": "stdout",
     "output_type": "stream",
     "text": [
      "{1473, 1091, 1128, 1231, 1328, 1489, 1106, 1371}\n",
      "{1024, 1152, 1153, 1157, 1162, 1290, 1291, 1292, 1040, 1297, 1428, 1301, 1429, 1175, 1049, 1177, 1179, 1305, 1053, 1306, 1435, 1185, 1442, 1063, 1322, 1195, 1456, 1201, 1204, 1078, 1334, 1208, 1462, 1210, 1339, 1466, 1085, 1469, 1220, 1095, 1224, 1225, 1479, 1228, 1101, 1360, 1107, 1363, 1494, 1367, 1240, 1114, 1242, 1116, 1117, 1118, 1370, 1120, 1248, 1371, 1376, 1254, 1255, 1128, 1001, 1129, 1132, 1260, 1006, 1388, 1010, 1397, 1143, 1017}\n",
      "{1128, 1273, 1371}\n"
     ]
    }
   ],
   "source": [
    "# Проверим на пересечение уникальны user_id\n",
    "\n",
    "#id_calls = data_calls['user_id'].unique()\n",
    "#id_messages = data_messages['user_id'].unique()\n",
    "\n",
    "#print(data_messages.query('user_id not in @id_calls')['user_id'].unique())\n",
    "#print(data_internet.query('user_id not in @id_calls')['user_id'].unique())\n",
    "#print(data_users.query('user_id not in @id_calls')['user_id'].unique())\n",
    "\n",
    "#print(data_calls.query('user_id not in @id_messages')['user_id'].unique())\n",
    "\n",
    "print(set(data_users.user_id) - set(data_calls.user_id))\n",
    "print(set(data_users.user_id) - set(data_messages.user_id))\n",
    "print(set(data_users.user_id) - set(data_internet.user_id))"
   ]
  },
  {
   "cell_type": "markdown",
   "metadata": {},
   "source": [
    "Есть user_id, которых нет в других таблицах, но я не вижу ничего страшного. Объединение происходит методом outer, поэтому все user_id попадут в итоговую таблицу. А недостающие поля буду заполнены нулями."
   ]
  },
  {
   "cell_type": "markdown",
   "metadata": {},
   "source": [
    "**Выводы:**\n",
    "\n",
    "* Пустых значений нет. Везде ровное распределение, кроме churn_date в users, но там пропуски умышленные.\n",
    "* Были проблемы в internet - странная неназванная колонка, которую удалили.\n",
    "* Количество строк в датасетах разные и это логично - звонков больше всего.\n",
    "* Тип колонки с датой преобразованы при парсинге. Остальные типы колонок вылядят нормально.\n",
    "* Категориальная колонка city не дублируются, регистр в норме.\n",
    "* Возраст пользователей начинается с 18 лет. Основной возраст - от 18 до 62 лет. Пик графика на возрасте 46 лет. Вторая мода на уровне 26-28 лет.\n",
    "Самому старому клиенту 75 лет.\n",
    "* 13% данных содержит 0 трафика. Значит, в этом месяце трафиком не пользовались.\n"
   ]
  },
  {
   "cell_type": "code",
   "execution_count": 19,
   "metadata": {},
   "outputs": [
    {
     "name": "stdout",
     "output_type": "stream",
     "text": [
      "{1473, 1091, 1128, 1231, 1328, 1489, 1106, 1371}\n"
     ]
    }
   ],
   "source": [
    "# check\n",
    "print(set(data_users.user_id) - set(data_calls.user_id))"
   ]
  },
  {
   "cell_type": "markdown",
   "metadata": {
    "id": "IVFMZmosZxOz"
   },
   "source": [
    "### Шаг 2. Подготовка данных\n",
    "<a id='level2'></a>"
   ]
  },
  {
   "cell_type": "markdown",
   "metadata": {
    "id": "EXGFIsZZzwSB"
   },
   "source": [
    "#### Проверка на пропуски"
   ]
  },
  {
   "cell_type": "code",
   "execution_count": 20,
   "metadata": {
    "colab": {
     "base_uri": "https://localhost:8080/",
     "height": 742
    },
    "id": "xkSIClYnZz3f",
    "outputId": "7cc83582-e601-4d64-8551-286e45c40a97"
   },
   "outputs": [
    {
     "data": {
      "text/html": [
       "<div>\n",
       "<style scoped>\n",
       "    .dataframe tbody tr th:only-of-type {\n",
       "        vertical-align: middle;\n",
       "    }\n",
       "\n",
       "    .dataframe tbody tr th {\n",
       "        vertical-align: top;\n",
       "    }\n",
       "\n",
       "    .dataframe thead th {\n",
       "        text-align: right;\n",
       "    }\n",
       "</style>\n",
       "<table border=\"1\" class=\"dataframe\">\n",
       "  <thead>\n",
       "    <tr style=\"text-align: right;\">\n",
       "      <th></th>\n",
       "      <th>num_missing</th>\n",
       "      <th>percent_missing</th>\n",
       "    </tr>\n",
       "  </thead>\n",
       "  <tbody>\n",
       "    <tr>\n",
       "      <th>churn_date</th>\n",
       "      <td>462</td>\n",
       "      <td>92.4</td>\n",
       "    </tr>\n",
       "    <tr>\n",
       "      <th>user_id</th>\n",
       "      <td>0</td>\n",
       "      <td>0.0</td>\n",
       "    </tr>\n",
       "    <tr>\n",
       "      <th>age</th>\n",
       "      <td>0</td>\n",
       "      <td>0.0</td>\n",
       "    </tr>\n",
       "    <tr>\n",
       "      <th>city</th>\n",
       "      <td>0</td>\n",
       "      <td>0.0</td>\n",
       "    </tr>\n",
       "    <tr>\n",
       "      <th>first_name</th>\n",
       "      <td>0</td>\n",
       "      <td>0.0</td>\n",
       "    </tr>\n",
       "    <tr>\n",
       "      <th>last_name</th>\n",
       "      <td>0</td>\n",
       "      <td>0.0</td>\n",
       "    </tr>\n",
       "    <tr>\n",
       "      <th>reg_date</th>\n",
       "      <td>0</td>\n",
       "      <td>0.0</td>\n",
       "    </tr>\n",
       "    <tr>\n",
       "      <th>tariff</th>\n",
       "      <td>0</td>\n",
       "      <td>0.0</td>\n",
       "    </tr>\n",
       "  </tbody>\n",
       "</table>\n",
       "</div>"
      ],
      "text/plain": [
       "            num_missing  percent_missing\n",
       "churn_date          462             92.4\n",
       "user_id               0              0.0\n",
       "age                   0              0.0\n",
       "city                  0              0.0\n",
       "first_name            0              0.0\n",
       "last_name             0              0.0\n",
       "reg_date              0              0.0\n",
       "tariff                0              0.0"
      ]
     },
     "metadata": {},
     "output_type": "display_data"
    },
    {
     "data": {
      "text/html": [
       "<div>\n",
       "<style scoped>\n",
       "    .dataframe tbody tr th:only-of-type {\n",
       "        vertical-align: middle;\n",
       "    }\n",
       "\n",
       "    .dataframe tbody tr th {\n",
       "        vertical-align: top;\n",
       "    }\n",
       "\n",
       "    .dataframe thead th {\n",
       "        text-align: right;\n",
       "    }\n",
       "</style>\n",
       "<table border=\"1\" class=\"dataframe\">\n",
       "  <thead>\n",
       "    <tr style=\"text-align: right;\">\n",
       "      <th></th>\n",
       "      <th>num_missing</th>\n",
       "      <th>percent_missing</th>\n",
       "    </tr>\n",
       "  </thead>\n",
       "  <tbody>\n",
       "    <tr>\n",
       "      <th>id</th>\n",
       "      <td>0</td>\n",
       "      <td>0.0</td>\n",
       "    </tr>\n",
       "    <tr>\n",
       "      <th>mb_used</th>\n",
       "      <td>0</td>\n",
       "      <td>0.0</td>\n",
       "    </tr>\n",
       "    <tr>\n",
       "      <th>session_date</th>\n",
       "      <td>0</td>\n",
       "      <td>0.0</td>\n",
       "    </tr>\n",
       "    <tr>\n",
       "      <th>user_id</th>\n",
       "      <td>0</td>\n",
       "      <td>0.0</td>\n",
       "    </tr>\n",
       "  </tbody>\n",
       "</table>\n",
       "</div>"
      ],
      "text/plain": [
       "              num_missing  percent_missing\n",
       "id                      0              0.0\n",
       "mb_used                 0              0.0\n",
       "session_date            0              0.0\n",
       "user_id                 0              0.0"
      ]
     },
     "metadata": {},
     "output_type": "display_data"
    },
    {
     "data": {
      "text/html": [
       "<div>\n",
       "<style scoped>\n",
       "    .dataframe tbody tr th:only-of-type {\n",
       "        vertical-align: middle;\n",
       "    }\n",
       "\n",
       "    .dataframe tbody tr th {\n",
       "        vertical-align: top;\n",
       "    }\n",
       "\n",
       "    .dataframe thead th {\n",
       "        text-align: right;\n",
       "    }\n",
       "</style>\n",
       "<table border=\"1\" class=\"dataframe\">\n",
       "  <thead>\n",
       "    <tr style=\"text-align: right;\">\n",
       "      <th></th>\n",
       "      <th>num_missing</th>\n",
       "      <th>percent_missing</th>\n",
       "    </tr>\n",
       "  </thead>\n",
       "  <tbody>\n",
       "    <tr>\n",
       "      <th>id</th>\n",
       "      <td>0</td>\n",
       "      <td>0.0</td>\n",
       "    </tr>\n",
       "    <tr>\n",
       "      <th>call_date</th>\n",
       "      <td>0</td>\n",
       "      <td>0.0</td>\n",
       "    </tr>\n",
       "    <tr>\n",
       "      <th>duration</th>\n",
       "      <td>0</td>\n",
       "      <td>0.0</td>\n",
       "    </tr>\n",
       "    <tr>\n",
       "      <th>user_id</th>\n",
       "      <td>0</td>\n",
       "      <td>0.0</td>\n",
       "    </tr>\n",
       "  </tbody>\n",
       "</table>\n",
       "</div>"
      ],
      "text/plain": [
       "           num_missing  percent_missing\n",
       "id                   0              0.0\n",
       "call_date            0              0.0\n",
       "duration             0              0.0\n",
       "user_id              0              0.0"
      ]
     },
     "metadata": {},
     "output_type": "display_data"
    },
    {
     "data": {
      "text/html": [
       "<div>\n",
       "<style scoped>\n",
       "    .dataframe tbody tr th:only-of-type {\n",
       "        vertical-align: middle;\n",
       "    }\n",
       "\n",
       "    .dataframe tbody tr th {\n",
       "        vertical-align: top;\n",
       "    }\n",
       "\n",
       "    .dataframe thead th {\n",
       "        text-align: right;\n",
       "    }\n",
       "</style>\n",
       "<table border=\"1\" class=\"dataframe\">\n",
       "  <thead>\n",
       "    <tr style=\"text-align: right;\">\n",
       "      <th></th>\n",
       "      <th>num_missing</th>\n",
       "      <th>percent_missing</th>\n",
       "    </tr>\n",
       "  </thead>\n",
       "  <tbody>\n",
       "    <tr>\n",
       "      <th>id</th>\n",
       "      <td>0</td>\n",
       "      <td>0.0</td>\n",
       "    </tr>\n",
       "    <tr>\n",
       "      <th>message_date</th>\n",
       "      <td>0</td>\n",
       "      <td>0.0</td>\n",
       "    </tr>\n",
       "    <tr>\n",
       "      <th>user_id</th>\n",
       "      <td>0</td>\n",
       "      <td>0.0</td>\n",
       "    </tr>\n",
       "  </tbody>\n",
       "</table>\n",
       "</div>"
      ],
      "text/plain": [
       "              num_missing  percent_missing\n",
       "id                      0              0.0\n",
       "message_date            0              0.0\n",
       "user_id                 0              0.0"
      ]
     },
     "metadata": {},
     "output_type": "display_data"
    }
   ],
   "source": [
    "# Функция для отображения пропусков в количестве и процентах\n",
    "def nan_values(df):\n",
    "    count_missing = df.isna().sum()\n",
    "    percent_missing = round(df.isna().sum() * 100 / len(df), 2)\n",
    "    \n",
    "    missing_value_df = pd.DataFrame({'num_missing': count_missing,\n",
    "                                     'percent_missing': percent_missing})\n",
    "    \n",
    "    return missing_value_df.sort_values('num_missing', ascending=False)\n",
    "\n",
    "display(nan_values(data_users))\n",
    "display(nan_values(data_internet))\n",
    "display(nan_values(data_calls))\n",
    "display(nan_values(data_messages))"
   ]
  },
  {
   "cell_type": "markdown",
   "metadata": {
    "id": "x-ZSQiHWaURr"
   },
   "source": [
    "Пропусков нет. Идеально)"
   ]
  },
  {
   "cell_type": "code",
   "execution_count": 21,
   "metadata": {
    "colab": {
     "base_uri": "https://localhost:8080/"
    },
    "id": "co3LcjDroq9Z",
    "outputId": "4e85392a-d2de-4508-b6f8-21c2a575ba0a"
   },
   "outputs": [
    {
     "name": "stdout",
     "output_type": "stream",
     "text": [
      "0\n",
      "0\n",
      "0\n",
      "0\n"
     ]
    }
   ],
   "source": [
    "# А дубликатов?\n",
    "print(data_users.duplicated().sum())\n",
    "print(data_calls.duplicated().sum())\n",
    "print(data_messages.duplicated().sum())\n",
    "print(data_internet.duplicated().sum())"
   ]
  },
  {
   "cell_type": "markdown",
   "metadata": {
    "id": "555C9KptpKMe"
   },
   "source": [
    "Дубликатов строк тоже нет."
   ]
  },
  {
   "cell_type": "markdown",
   "metadata": {
    "id": "SgzRqpM_dhL9"
   },
   "source": [
    "#### Произведём расчёты по пользователям и месяцам:"
   ]
  },
  {
   "cell_type": "code",
   "execution_count": 22,
   "metadata": {
    "colab": {
     "base_uri": "https://localhost:8080/",
     "height": 206
    },
    "id": "c8PjmwJCaWTk",
    "outputId": "a334abfd-e7db-43e5-954a-6e5a9ed5443f",
    "scrolled": true
   },
   "outputs": [
    {
     "data": {
      "text/html": [
       "<div>\n",
       "<style scoped>\n",
       "    .dataframe tbody tr th:only-of-type {\n",
       "        vertical-align: middle;\n",
       "    }\n",
       "\n",
       "    .dataframe tbody tr th {\n",
       "        vertical-align: top;\n",
       "    }\n",
       "\n",
       "    .dataframe thead th {\n",
       "        text-align: right;\n",
       "    }\n",
       "</style>\n",
       "<table border=\"1\" class=\"dataframe\">\n",
       "  <thead>\n",
       "    <tr style=\"text-align: right;\">\n",
       "      <th></th>\n",
       "      <th>id</th>\n",
       "      <th>call_date</th>\n",
       "      <th>duration</th>\n",
       "      <th>user_id</th>\n",
       "      <th>month</th>\n",
       "    </tr>\n",
       "  </thead>\n",
       "  <tbody>\n",
       "    <tr>\n",
       "      <th>140217</th>\n",
       "      <td>1357_175</td>\n",
       "      <td>2018-10-30</td>\n",
       "      <td>11.02</td>\n",
       "      <td>1357</td>\n",
       "      <td>10</td>\n",
       "    </tr>\n",
       "    <tr>\n",
       "      <th>81547</th>\n",
       "      <td>1203_120</td>\n",
       "      <td>2018-11-26</td>\n",
       "      <td>7.76</td>\n",
       "      <td>1203</td>\n",
       "      <td>11</td>\n",
       "    </tr>\n",
       "    <tr>\n",
       "      <th>19528</th>\n",
       "      <td>1053_149</td>\n",
       "      <td>2018-12-28</td>\n",
       "      <td>7.09</td>\n",
       "      <td>1053</td>\n",
       "      <td>12</td>\n",
       "    </tr>\n",
       "    <tr>\n",
       "      <th>32268</th>\n",
       "      <td>1080_63</td>\n",
       "      <td>2018-11-20</td>\n",
       "      <td>5.81</td>\n",
       "      <td>1080</td>\n",
       "      <td>11</td>\n",
       "    </tr>\n",
       "    <tr>\n",
       "      <th>52272</th>\n",
       "      <td>1130_560</td>\n",
       "      <td>2018-10-21</td>\n",
       "      <td>0.81</td>\n",
       "      <td>1130</td>\n",
       "      <td>10</td>\n",
       "    </tr>\n",
       "  </tbody>\n",
       "</table>\n",
       "</div>"
      ],
      "text/plain": [
       "              id  call_date  duration  user_id  month\n",
       "140217  1357_175 2018-10-30     11.02     1357     10\n",
       "81547   1203_120 2018-11-26      7.76     1203     11\n",
       "19528   1053_149 2018-12-28      7.09     1053     12\n",
       "32268    1080_63 2018-11-20      5.81     1080     11\n",
       "52272   1130_560 2018-10-21      0.81     1130     10"
      ]
     },
     "execution_count": 22,
     "metadata": {},
     "output_type": "execute_result"
    }
   ],
   "source": [
    "# Добавим месяц в таблицу звонков\n",
    "data_calls['call_date'] = pd.to_datetime(data_calls['call_date'], format=\"\")\n",
    "\n",
    "data_calls['month'] = data_calls['call_date'].dt.month\n",
    "data_calls.sample(5)"
   ]
  },
  {
   "cell_type": "code",
   "execution_count": 23,
   "metadata": {},
   "outputs": [
    {
     "data": {
      "text/html": [
       "<div>\n",
       "<style scoped>\n",
       "    .dataframe tbody tr th:only-of-type {\n",
       "        vertical-align: middle;\n",
       "    }\n",
       "\n",
       "    .dataframe tbody tr th {\n",
       "        vertical-align: top;\n",
       "    }\n",
       "\n",
       "    .dataframe thead th {\n",
       "        text-align: right;\n",
       "    }\n",
       "</style>\n",
       "<table border=\"1\" class=\"dataframe\">\n",
       "  <thead>\n",
       "    <tr style=\"text-align: right;\">\n",
       "      <th></th>\n",
       "      <th>id</th>\n",
       "      <th>call_date</th>\n",
       "      <th>duration</th>\n",
       "      <th>user_id</th>\n",
       "      <th>month</th>\n",
       "      <th>call_sum</th>\n",
       "    </tr>\n",
       "  </thead>\n",
       "  <tbody>\n",
       "    <tr>\n",
       "      <th>80902</th>\n",
       "      <td>1201_103</td>\n",
       "      <td>2018-09-01</td>\n",
       "      <td>10.83</td>\n",
       "      <td>1201</td>\n",
       "      <td>9</td>\n",
       "      <td>11.0</td>\n",
       "    </tr>\n",
       "    <tr>\n",
       "      <th>127792</th>\n",
       "      <td>1327_367</td>\n",
       "      <td>2018-08-20</td>\n",
       "      <td>7.41</td>\n",
       "      <td>1327</td>\n",
       "      <td>8</td>\n",
       "      <td>8.0</td>\n",
       "    </tr>\n",
       "    <tr>\n",
       "      <th>120710</th>\n",
       "      <td>1312_40</td>\n",
       "      <td>2018-09-27</td>\n",
       "      <td>6.60</td>\n",
       "      <td>1312</td>\n",
       "      <td>9</td>\n",
       "      <td>7.0</td>\n",
       "    </tr>\n",
       "    <tr>\n",
       "      <th>60338</th>\n",
       "      <td>1152_35</td>\n",
       "      <td>2018-07-25</td>\n",
       "      <td>7.61</td>\n",
       "      <td>1152</td>\n",
       "      <td>7</td>\n",
       "      <td>8.0</td>\n",
       "    </tr>\n",
       "    <tr>\n",
       "      <th>170257</th>\n",
       "      <td>1419_330</td>\n",
       "      <td>2018-09-04</td>\n",
       "      <td>1.98</td>\n",
       "      <td>1419</td>\n",
       "      <td>9</td>\n",
       "      <td>2.0</td>\n",
       "    </tr>\n",
       "    <tr>\n",
       "      <th>93909</th>\n",
       "      <td>1238_10</td>\n",
       "      <td>2018-04-01</td>\n",
       "      <td>7.32</td>\n",
       "      <td>1238</td>\n",
       "      <td>4</td>\n",
       "      <td>8.0</td>\n",
       "    </tr>\n",
       "    <tr>\n",
       "      <th>149262</th>\n",
       "      <td>1377_109</td>\n",
       "      <td>2018-04-01</td>\n",
       "      <td>0.00</td>\n",
       "      <td>1377</td>\n",
       "      <td>4</td>\n",
       "      <td>0.0</td>\n",
       "    </tr>\n",
       "    <tr>\n",
       "      <th>36318</th>\n",
       "      <td>1090_142</td>\n",
       "      <td>2018-11-03</td>\n",
       "      <td>0.00</td>\n",
       "      <td>1090</td>\n",
       "      <td>11</td>\n",
       "      <td>0.0</td>\n",
       "    </tr>\n",
       "    <tr>\n",
       "      <th>165962</th>\n",
       "      <td>1409_587</td>\n",
       "      <td>2018-10-21</td>\n",
       "      <td>9.78</td>\n",
       "      <td>1409</td>\n",
       "      <td>10</td>\n",
       "      <td>10.0</td>\n",
       "    </tr>\n",
       "    <tr>\n",
       "      <th>37138</th>\n",
       "      <td>1093_416</td>\n",
       "      <td>2018-09-23</td>\n",
       "      <td>0.00</td>\n",
       "      <td>1093</td>\n",
       "      <td>9</td>\n",
       "      <td>0.0</td>\n",
       "    </tr>\n",
       "  </tbody>\n",
       "</table>\n",
       "</div>"
      ],
      "text/plain": [
       "              id  call_date  duration  user_id  month  call_sum\n",
       "80902   1201_103 2018-09-01     10.83     1201      9      11.0\n",
       "127792  1327_367 2018-08-20      7.41     1327      8       8.0\n",
       "120710   1312_40 2018-09-27      6.60     1312      9       7.0\n",
       "60338    1152_35 2018-07-25      7.61     1152      7       8.0\n",
       "170257  1419_330 2018-09-04      1.98     1419      9       2.0\n",
       "93909    1238_10 2018-04-01      7.32     1238      4       8.0\n",
       "149262  1377_109 2018-04-01      0.00     1377      4       0.0\n",
       "36318   1090_142 2018-11-03      0.00     1090     11       0.0\n",
       "165962  1409_587 2018-10-21      9.78     1409     10      10.0\n",
       "37138   1093_416 2018-09-23      0.00     1093      9       0.0"
      ]
     },
     "execution_count": 23,
     "metadata": {},
     "output_type": "execute_result"
    }
   ],
   "source": [
    "# Округляем секунды до минут в большую сторону\n",
    "data_calls['call_sum'] = np.ceil(data_calls['duration'])\n",
    "data_calls.sample(10)"
   ]
  },
  {
   "cell_type": "code",
   "execution_count": 24,
   "metadata": {
    "colab": {
     "base_uri": "https://localhost:8080/",
     "height": 363
    },
    "id": "GyDunXjFdoJQ",
    "outputId": "488aeb42-f540-40b2-b1db-84d6acfc4b3e"
   },
   "outputs": [
    {
     "data": {
      "text/html": [
       "<div>\n",
       "<style scoped>\n",
       "    .dataframe tbody tr th:only-of-type {\n",
       "        vertical-align: middle;\n",
       "    }\n",
       "\n",
       "    .dataframe tbody tr th {\n",
       "        vertical-align: top;\n",
       "    }\n",
       "\n",
       "    .dataframe thead th {\n",
       "        text-align: right;\n",
       "    }\n",
       "</style>\n",
       "<table border=\"1\" class=\"dataframe\">\n",
       "  <thead>\n",
       "    <tr style=\"text-align: right;\">\n",
       "      <th></th>\n",
       "      <th>user_id</th>\n",
       "      <th>month</th>\n",
       "      <th>call_sum</th>\n",
       "      <th>call_count</th>\n",
       "    </tr>\n",
       "  </thead>\n",
       "  <tbody>\n",
       "    <tr>\n",
       "      <th>0</th>\n",
       "      <td>1000</td>\n",
       "      <td>5</td>\n",
       "      <td>159.0</td>\n",
       "      <td>22</td>\n",
       "    </tr>\n",
       "    <tr>\n",
       "      <th>1</th>\n",
       "      <td>1000</td>\n",
       "      <td>6</td>\n",
       "      <td>172.0</td>\n",
       "      <td>43</td>\n",
       "    </tr>\n",
       "    <tr>\n",
       "      <th>2</th>\n",
       "      <td>1000</td>\n",
       "      <td>7</td>\n",
       "      <td>340.0</td>\n",
       "      <td>47</td>\n",
       "    </tr>\n",
       "    <tr>\n",
       "      <th>3</th>\n",
       "      <td>1000</td>\n",
       "      <td>8</td>\n",
       "      <td>408.0</td>\n",
       "      <td>52</td>\n",
       "    </tr>\n",
       "    <tr>\n",
       "      <th>4</th>\n",
       "      <td>1000</td>\n",
       "      <td>9</td>\n",
       "      <td>466.0</td>\n",
       "      <td>58</td>\n",
       "    </tr>\n",
       "    <tr>\n",
       "      <th>5</th>\n",
       "      <td>1000</td>\n",
       "      <td>10</td>\n",
       "      <td>350.0</td>\n",
       "      <td>57</td>\n",
       "    </tr>\n",
       "    <tr>\n",
       "      <th>6</th>\n",
       "      <td>1000</td>\n",
       "      <td>11</td>\n",
       "      <td>338.0</td>\n",
       "      <td>43</td>\n",
       "    </tr>\n",
       "    <tr>\n",
       "      <th>7</th>\n",
       "      <td>1000</td>\n",
       "      <td>12</td>\n",
       "      <td>333.0</td>\n",
       "      <td>46</td>\n",
       "    </tr>\n",
       "    <tr>\n",
       "      <th>8</th>\n",
       "      <td>1001</td>\n",
       "      <td>11</td>\n",
       "      <td>430.0</td>\n",
       "      <td>59</td>\n",
       "    </tr>\n",
       "    <tr>\n",
       "      <th>9</th>\n",
       "      <td>1001</td>\n",
       "      <td>12</td>\n",
       "      <td>414.0</td>\n",
       "      <td>63</td>\n",
       "    </tr>\n",
       "  </tbody>\n",
       "</table>\n",
       "</div>"
      ],
      "text/plain": [
       "   user_id  month  call_sum  call_count\n",
       "0     1000      5     159.0          22\n",
       "1     1000      6     172.0          43\n",
       "2     1000      7     340.0          47\n",
       "3     1000      8     408.0          52\n",
       "4     1000      9     466.0          58\n",
       "5     1000     10     350.0          57\n",
       "6     1000     11     338.0          43\n",
       "7     1000     12     333.0          46\n",
       "8     1001     11     430.0          59\n",
       "9     1001     12     414.0          63"
      ]
     },
     "execution_count": 24,
     "metadata": {},
     "output_type": "execute_result"
    }
   ],
   "source": [
    "# Группируем таблицу по тому сколько потратил каждый пользователь в конкретный месяц\n",
    "data_calls_month = data_calls.pivot_table(index=['user_id', 'month'], values='call_sum', aggfunc=['sum', 'count']).reset_index()\n",
    "data_calls_month.columns = ['user_id', 'month', 'call_sum', 'call_count']\n",
    "data_calls_month.head(10)"
   ]
  },
  {
   "cell_type": "markdown",
   "metadata": {
    "id": "kNSA8UlBfShF"
   },
   "source": [
    "Получили таблицу с суммой звонков, где индексы - айди юзера и месяц. А значение - сумма за месяц у юзера."
   ]
  },
  {
   "cell_type": "code",
   "execution_count": 25,
   "metadata": {
    "colab": {
     "base_uri": "https://localhost:8080/",
     "height": 363
    },
    "id": "h-MnH8Z-eKjj",
    "outputId": "6c5a8881-3757-478f-ef9a-377583b1c682"
   },
   "outputs": [
    {
     "data": {
      "text/html": [
       "<div>\n",
       "<style scoped>\n",
       "    .dataframe tbody tr th:only-of-type {\n",
       "        vertical-align: middle;\n",
       "    }\n",
       "\n",
       "    .dataframe tbody tr th {\n",
       "        vertical-align: top;\n",
       "    }\n",
       "\n",
       "    .dataframe thead th {\n",
       "        text-align: right;\n",
       "    }\n",
       "</style>\n",
       "<table border=\"1\" class=\"dataframe\">\n",
       "  <thead>\n",
       "    <tr style=\"text-align: right;\">\n",
       "      <th></th>\n",
       "      <th>user_id</th>\n",
       "      <th>month</th>\n",
       "      <th>message_count</th>\n",
       "    </tr>\n",
       "  </thead>\n",
       "  <tbody>\n",
       "    <tr>\n",
       "      <th>0</th>\n",
       "      <td>1000</td>\n",
       "      <td>5</td>\n",
       "      <td>22</td>\n",
       "    </tr>\n",
       "    <tr>\n",
       "      <th>1</th>\n",
       "      <td>1000</td>\n",
       "      <td>6</td>\n",
       "      <td>60</td>\n",
       "    </tr>\n",
       "    <tr>\n",
       "      <th>2</th>\n",
       "      <td>1000</td>\n",
       "      <td>7</td>\n",
       "      <td>75</td>\n",
       "    </tr>\n",
       "    <tr>\n",
       "      <th>3</th>\n",
       "      <td>1000</td>\n",
       "      <td>8</td>\n",
       "      <td>81</td>\n",
       "    </tr>\n",
       "    <tr>\n",
       "      <th>4</th>\n",
       "      <td>1000</td>\n",
       "      <td>9</td>\n",
       "      <td>57</td>\n",
       "    </tr>\n",
       "    <tr>\n",
       "      <th>5</th>\n",
       "      <td>1000</td>\n",
       "      <td>10</td>\n",
       "      <td>73</td>\n",
       "    </tr>\n",
       "    <tr>\n",
       "      <th>6</th>\n",
       "      <td>1000</td>\n",
       "      <td>11</td>\n",
       "      <td>58</td>\n",
       "    </tr>\n",
       "    <tr>\n",
       "      <th>7</th>\n",
       "      <td>1000</td>\n",
       "      <td>12</td>\n",
       "      <td>70</td>\n",
       "    </tr>\n",
       "    <tr>\n",
       "      <th>8</th>\n",
       "      <td>1002</td>\n",
       "      <td>6</td>\n",
       "      <td>4</td>\n",
       "    </tr>\n",
       "    <tr>\n",
       "      <th>9</th>\n",
       "      <td>1002</td>\n",
       "      <td>7</td>\n",
       "      <td>11</td>\n",
       "    </tr>\n",
       "  </tbody>\n",
       "</table>\n",
       "</div>"
      ],
      "text/plain": [
       "   user_id  month  message_count\n",
       "0     1000      5             22\n",
       "1     1000      6             60\n",
       "2     1000      7             75\n",
       "3     1000      8             81\n",
       "4     1000      9             57\n",
       "5     1000     10             73\n",
       "6     1000     11             58\n",
       "7     1000     12             70\n",
       "8     1002      6              4\n",
       "9     1002      7             11"
      ]
     },
     "execution_count": 25,
     "metadata": {},
     "output_type": "execute_result"
    }
   ],
   "source": [
    "# Добавим месяц в таблицу SMS\n",
    "data_messages['message_date'] = pd.to_datetime(data_messages['message_date'], format=\"\")\n",
    "data_messages['month'] = data_messages['message_date'].dt.month\n",
    "\n",
    "# Группируем таблицу по тому сколько потратил каждый пользователь в конкретный месяц\n",
    "data_messages_month = data_messages.pivot_table(index=['user_id', 'month'], values='id', aggfunc='count').reset_index()\n",
    "data_messages_month.columns = ['user_id', 'month', 'message_count']\n",
    "data_messages_month.head(10)"
   ]
  },
  {
   "cell_type": "code",
   "execution_count": 26,
   "metadata": {
    "colab": {
     "base_uri": "https://localhost:8080/",
     "height": 363
    },
    "id": "gCji5bvAfa5J",
    "outputId": "a6b846fd-1ea5-4736-f0ee-f3268ebc26b9"
   },
   "outputs": [
    {
     "data": {
      "text/html": [
       "<div>\n",
       "<style scoped>\n",
       "    .dataframe tbody tr th:only-of-type {\n",
       "        vertical-align: middle;\n",
       "    }\n",
       "\n",
       "    .dataframe tbody tr th {\n",
       "        vertical-align: top;\n",
       "    }\n",
       "\n",
       "    .dataframe thead th {\n",
       "        text-align: right;\n",
       "    }\n",
       "</style>\n",
       "<table border=\"1\" class=\"dataframe\">\n",
       "  <thead>\n",
       "    <tr style=\"text-align: right;\">\n",
       "      <th></th>\n",
       "      <th>user_id</th>\n",
       "      <th>month</th>\n",
       "      <th>mb_used</th>\n",
       "      <th>mb_used_gb</th>\n",
       "    </tr>\n",
       "  </thead>\n",
       "  <tbody>\n",
       "    <tr>\n",
       "      <th>0</th>\n",
       "      <td>1000</td>\n",
       "      <td>5</td>\n",
       "      <td>2253.49</td>\n",
       "      <td>3.0</td>\n",
       "    </tr>\n",
       "    <tr>\n",
       "      <th>1</th>\n",
       "      <td>1000</td>\n",
       "      <td>6</td>\n",
       "      <td>23233.77</td>\n",
       "      <td>23.0</td>\n",
       "    </tr>\n",
       "    <tr>\n",
       "      <th>2</th>\n",
       "      <td>1000</td>\n",
       "      <td>7</td>\n",
       "      <td>14003.64</td>\n",
       "      <td>14.0</td>\n",
       "    </tr>\n",
       "    <tr>\n",
       "      <th>3</th>\n",
       "      <td>1000</td>\n",
       "      <td>8</td>\n",
       "      <td>14055.93</td>\n",
       "      <td>14.0</td>\n",
       "    </tr>\n",
       "    <tr>\n",
       "      <th>4</th>\n",
       "      <td>1000</td>\n",
       "      <td>9</td>\n",
       "      <td>14568.91</td>\n",
       "      <td>15.0</td>\n",
       "    </tr>\n",
       "    <tr>\n",
       "      <th>5</th>\n",
       "      <td>1000</td>\n",
       "      <td>10</td>\n",
       "      <td>14702.49</td>\n",
       "      <td>15.0</td>\n",
       "    </tr>\n",
       "    <tr>\n",
       "      <th>6</th>\n",
       "      <td>1000</td>\n",
       "      <td>11</td>\n",
       "      <td>14756.47</td>\n",
       "      <td>15.0</td>\n",
       "    </tr>\n",
       "    <tr>\n",
       "      <th>7</th>\n",
       "      <td>1000</td>\n",
       "      <td>12</td>\n",
       "      <td>9817.61</td>\n",
       "      <td>10.0</td>\n",
       "    </tr>\n",
       "    <tr>\n",
       "      <th>8</th>\n",
       "      <td>1001</td>\n",
       "      <td>11</td>\n",
       "      <td>18429.34</td>\n",
       "      <td>18.0</td>\n",
       "    </tr>\n",
       "    <tr>\n",
       "      <th>9</th>\n",
       "      <td>1001</td>\n",
       "      <td>12</td>\n",
       "      <td>14036.66</td>\n",
       "      <td>14.0</td>\n",
       "    </tr>\n",
       "  </tbody>\n",
       "</table>\n",
       "</div>"
      ],
      "text/plain": [
       "   user_id  month   mb_used  mb_used_gb\n",
       "0     1000      5   2253.49         3.0\n",
       "1     1000      6  23233.77        23.0\n",
       "2     1000      7  14003.64        14.0\n",
       "3     1000      8  14055.93        14.0\n",
       "4     1000      9  14568.91        15.0\n",
       "5     1000     10  14702.49        15.0\n",
       "6     1000     11  14756.47        15.0\n",
       "7     1000     12   9817.61        10.0\n",
       "8     1001     11  18429.34        18.0\n",
       "9     1001     12  14036.66        14.0"
      ]
     },
     "execution_count": 26,
     "metadata": {},
     "output_type": "execute_result"
    }
   ],
   "source": [
    "# Добавим месяц в таблицу Интернет\n",
    "data_internet['month'] = pd.DatetimeIndex(data_internet['session_date']).month\n",
    "\n",
    "# data_internet['month'] = data_internet['session_date'].dt.month\n",
    "\n",
    "# Группируем таблицу по тому сколько потратил каждый пользователь в конкретный месяц\n",
    "data_internet_month = data_internet.pivot_table(index=['user_id', 'month'], values='mb_used', aggfunc='sum').reset_index()\n",
    "\n",
    "# Переводим в Гб и округляем в большую сторону\n",
    "data_internet_month['mb_used_gb'] = data_internet_month['mb_used'] / 1024\n",
    "data_internet_month['mb_used_gb'] = np.ceil(data_internet_month['mb_used_gb'])\n",
    "\n",
    "data_internet_month.head(10)"
   ]
  },
  {
   "cell_type": "markdown",
   "metadata": {
    "id": "shoDGVHM18AT"
   },
   "source": [
    "Сделаем одну общую таблицу и замерджим остальные:"
   ]
  },
  {
   "cell_type": "code",
   "execution_count": 27,
   "metadata": {
    "colab": {
     "base_uri": "https://localhost:8080/",
     "height": 357
    },
    "id": "5wmlhnTA6MOq",
    "outputId": "aa46e3e4-e13f-4dd6-f928-2b29588e37e1"
   },
   "outputs": [
    {
     "data": {
      "text/html": [
       "<div>\n",
       "<style scoped>\n",
       "    .dataframe tbody tr th:only-of-type {\n",
       "        vertical-align: middle;\n",
       "    }\n",
       "\n",
       "    .dataframe tbody tr th {\n",
       "        vertical-align: top;\n",
       "    }\n",
       "\n",
       "    .dataframe thead th {\n",
       "        text-align: right;\n",
       "    }\n",
       "</style>\n",
       "<table border=\"1\" class=\"dataframe\">\n",
       "  <thead>\n",
       "    <tr style=\"text-align: right;\">\n",
       "      <th></th>\n",
       "      <th>user_id</th>\n",
       "      <th>month</th>\n",
       "      <th>call_sum</th>\n",
       "      <th>call_count</th>\n",
       "      <th>message_count</th>\n",
       "      <th>mb_used</th>\n",
       "      <th>mb_used_gb</th>\n",
       "      <th>age</th>\n",
       "      <th>churn_date</th>\n",
       "      <th>city</th>\n",
       "      <th>first_name</th>\n",
       "      <th>last_name</th>\n",
       "      <th>reg_date</th>\n",
       "      <th>tariff</th>\n",
       "      <th>messages_included</th>\n",
       "      <th>mb_per_month_included</th>\n",
       "      <th>minutes_included</th>\n",
       "      <th>rub_monthly_fee</th>\n",
       "      <th>rub_per_gb</th>\n",
       "      <th>rub_per_message</th>\n",
       "      <th>rub_per_minute</th>\n",
       "      <th>tariff_name</th>\n",
       "    </tr>\n",
       "  </thead>\n",
       "  <tbody>\n",
       "    <tr>\n",
       "      <th>0</th>\n",
       "      <td>1000</td>\n",
       "      <td>5.0</td>\n",
       "      <td>159.0</td>\n",
       "      <td>22.0</td>\n",
       "      <td>22.0</td>\n",
       "      <td>2253.49</td>\n",
       "      <td>3.0</td>\n",
       "      <td>52</td>\n",
       "      <td>NaT</td>\n",
       "      <td>Краснодар</td>\n",
       "      <td>Рафаил</td>\n",
       "      <td>Верещагин</td>\n",
       "      <td>2018-05-25</td>\n",
       "      <td>ultra</td>\n",
       "      <td>1000</td>\n",
       "      <td>30720</td>\n",
       "      <td>3000</td>\n",
       "      <td>1950</td>\n",
       "      <td>150</td>\n",
       "      <td>1</td>\n",
       "      <td>1</td>\n",
       "      <td>ultra</td>\n",
       "    </tr>\n",
       "    <tr>\n",
       "      <th>1</th>\n",
       "      <td>1000</td>\n",
       "      <td>6.0</td>\n",
       "      <td>172.0</td>\n",
       "      <td>43.0</td>\n",
       "      <td>60.0</td>\n",
       "      <td>23233.77</td>\n",
       "      <td>23.0</td>\n",
       "      <td>52</td>\n",
       "      <td>NaT</td>\n",
       "      <td>Краснодар</td>\n",
       "      <td>Рафаил</td>\n",
       "      <td>Верещагин</td>\n",
       "      <td>2018-05-25</td>\n",
       "      <td>ultra</td>\n",
       "      <td>1000</td>\n",
       "      <td>30720</td>\n",
       "      <td>3000</td>\n",
       "      <td>1950</td>\n",
       "      <td>150</td>\n",
       "      <td>1</td>\n",
       "      <td>1</td>\n",
       "      <td>ultra</td>\n",
       "    </tr>\n",
       "    <tr>\n",
       "      <th>2</th>\n",
       "      <td>1000</td>\n",
       "      <td>7.0</td>\n",
       "      <td>340.0</td>\n",
       "      <td>47.0</td>\n",
       "      <td>75.0</td>\n",
       "      <td>14003.64</td>\n",
       "      <td>14.0</td>\n",
       "      <td>52</td>\n",
       "      <td>NaT</td>\n",
       "      <td>Краснодар</td>\n",
       "      <td>Рафаил</td>\n",
       "      <td>Верещагин</td>\n",
       "      <td>2018-05-25</td>\n",
       "      <td>ultra</td>\n",
       "      <td>1000</td>\n",
       "      <td>30720</td>\n",
       "      <td>3000</td>\n",
       "      <td>1950</td>\n",
       "      <td>150</td>\n",
       "      <td>1</td>\n",
       "      <td>1</td>\n",
       "      <td>ultra</td>\n",
       "    </tr>\n",
       "    <tr>\n",
       "      <th>3</th>\n",
       "      <td>1000</td>\n",
       "      <td>8.0</td>\n",
       "      <td>408.0</td>\n",
       "      <td>52.0</td>\n",
       "      <td>81.0</td>\n",
       "      <td>14055.93</td>\n",
       "      <td>14.0</td>\n",
       "      <td>52</td>\n",
       "      <td>NaT</td>\n",
       "      <td>Краснодар</td>\n",
       "      <td>Рафаил</td>\n",
       "      <td>Верещагин</td>\n",
       "      <td>2018-05-25</td>\n",
       "      <td>ultra</td>\n",
       "      <td>1000</td>\n",
       "      <td>30720</td>\n",
       "      <td>3000</td>\n",
       "      <td>1950</td>\n",
       "      <td>150</td>\n",
       "      <td>1</td>\n",
       "      <td>1</td>\n",
       "      <td>ultra</td>\n",
       "    </tr>\n",
       "    <tr>\n",
       "      <th>4</th>\n",
       "      <td>1000</td>\n",
       "      <td>9.0</td>\n",
       "      <td>466.0</td>\n",
       "      <td>58.0</td>\n",
       "      <td>57.0</td>\n",
       "      <td>14568.91</td>\n",
       "      <td>15.0</td>\n",
       "      <td>52</td>\n",
       "      <td>NaT</td>\n",
       "      <td>Краснодар</td>\n",
       "      <td>Рафаил</td>\n",
       "      <td>Верещагин</td>\n",
       "      <td>2018-05-25</td>\n",
       "      <td>ultra</td>\n",
       "      <td>1000</td>\n",
       "      <td>30720</td>\n",
       "      <td>3000</td>\n",
       "      <td>1950</td>\n",
       "      <td>150</td>\n",
       "      <td>1</td>\n",
       "      <td>1</td>\n",
       "      <td>ultra</td>\n",
       "    </tr>\n",
       "  </tbody>\n",
       "</table>\n",
       "</div>"
      ],
      "text/plain": [
       "   user_id  month  call_sum  call_count  message_count   mb_used  mb_used_gb  \\\n",
       "0     1000    5.0     159.0        22.0           22.0   2253.49         3.0   \n",
       "1     1000    6.0     172.0        43.0           60.0  23233.77        23.0   \n",
       "2     1000    7.0     340.0        47.0           75.0  14003.64        14.0   \n",
       "3     1000    8.0     408.0        52.0           81.0  14055.93        14.0   \n",
       "4     1000    9.0     466.0        58.0           57.0  14568.91        15.0   \n",
       "\n",
       "   age churn_date       city first_name  last_name   reg_date tariff  \\\n",
       "0   52        NaT  Краснодар     Рафаил  Верещагин 2018-05-25  ultra   \n",
       "1   52        NaT  Краснодар     Рафаил  Верещагин 2018-05-25  ultra   \n",
       "2   52        NaT  Краснодар     Рафаил  Верещагин 2018-05-25  ultra   \n",
       "3   52        NaT  Краснодар     Рафаил  Верещагин 2018-05-25  ultra   \n",
       "4   52        NaT  Краснодар     Рафаил  Верещагин 2018-05-25  ultra   \n",
       "\n",
       "   messages_included  mb_per_month_included  minutes_included  \\\n",
       "0               1000                  30720              3000   \n",
       "1               1000                  30720              3000   \n",
       "2               1000                  30720              3000   \n",
       "3               1000                  30720              3000   \n",
       "4               1000                  30720              3000   \n",
       "\n",
       "   rub_monthly_fee  rub_per_gb  rub_per_message  rub_per_minute tariff_name  \n",
       "0             1950         150                1               1       ultra  \n",
       "1             1950         150                1               1       ultra  \n",
       "2             1950         150                1               1       ultra  \n",
       "3             1950         150                1               1       ultra  \n",
       "4             1950         150                1               1       ultra  "
      ]
     },
     "execution_count": 27,
     "metadata": {},
     "output_type": "execute_result"
    }
   ],
   "source": [
    "# Создаём общую таблицу\n",
    "data = data_calls_month\n",
    "# Мёрджим сначала звонки и смс\n",
    "data = data_calls_month.merge(data_messages_month, how='outer')\n",
    "# С интернетом\n",
    "data = data.merge(data_internet_month, how='outer')\n",
    "# С общей инфой \n",
    "data = data.merge(data_users, how='outer')\n",
    "# С тарифом\n",
    "data = data.merge(data_tariffs, how='outer', left_on='tariff', right_on='tariff_name')\n",
    "\n",
    "data.head()"
   ]
  },
  {
   "cell_type": "code",
   "execution_count": 28,
   "metadata": {
    "colab": {
     "base_uri": "https://localhost:8080/",
     "height": 708
    },
    "id": "ybY8G_wfBFr4",
    "outputId": "0c23de99-9d79-402b-b73d-4f74f8bf0a9f"
   },
   "outputs": [
    {
     "data": {
      "text/html": [
       "<div>\n",
       "<style scoped>\n",
       "    .dataframe tbody tr th:only-of-type {\n",
       "        vertical-align: middle;\n",
       "    }\n",
       "\n",
       "    .dataframe tbody tr th {\n",
       "        vertical-align: top;\n",
       "    }\n",
       "\n",
       "    .dataframe thead th {\n",
       "        text-align: right;\n",
       "    }\n",
       "</style>\n",
       "<table border=\"1\" class=\"dataframe\">\n",
       "  <thead>\n",
       "    <tr style=\"text-align: right;\">\n",
       "      <th></th>\n",
       "      <th>num_missing</th>\n",
       "      <th>percent_missing</th>\n",
       "    </tr>\n",
       "  </thead>\n",
       "  <tbody>\n",
       "    <tr>\n",
       "      <th>churn_date</th>\n",
       "      <td>3027</td>\n",
       "      <td>94.12</td>\n",
       "    </tr>\n",
       "    <tr>\n",
       "      <th>message_count</th>\n",
       "      <td>499</td>\n",
       "      <td>15.52</td>\n",
       "    </tr>\n",
       "    <tr>\n",
       "      <th>call_sum</th>\n",
       "      <td>42</td>\n",
       "      <td>1.31</td>\n",
       "    </tr>\n",
       "    <tr>\n",
       "      <th>call_count</th>\n",
       "      <td>42</td>\n",
       "      <td>1.31</td>\n",
       "    </tr>\n",
       "    <tr>\n",
       "      <th>mb_used</th>\n",
       "      <td>13</td>\n",
       "      <td>0.40</td>\n",
       "    </tr>\n",
       "    <tr>\n",
       "      <th>mb_used_gb</th>\n",
       "      <td>13</td>\n",
       "      <td>0.40</td>\n",
       "    </tr>\n",
       "    <tr>\n",
       "      <th>month</th>\n",
       "      <td>2</td>\n",
       "      <td>0.06</td>\n",
       "    </tr>\n",
       "    <tr>\n",
       "      <th>user_id</th>\n",
       "      <td>0</td>\n",
       "      <td>0.00</td>\n",
       "    </tr>\n",
       "    <tr>\n",
       "      <th>mb_per_month_included</th>\n",
       "      <td>0</td>\n",
       "      <td>0.00</td>\n",
       "    </tr>\n",
       "    <tr>\n",
       "      <th>rub_per_minute</th>\n",
       "      <td>0</td>\n",
       "      <td>0.00</td>\n",
       "    </tr>\n",
       "    <tr>\n",
       "      <th>rub_per_message</th>\n",
       "      <td>0</td>\n",
       "      <td>0.00</td>\n",
       "    </tr>\n",
       "    <tr>\n",
       "      <th>rub_per_gb</th>\n",
       "      <td>0</td>\n",
       "      <td>0.00</td>\n",
       "    </tr>\n",
       "    <tr>\n",
       "      <th>rub_monthly_fee</th>\n",
       "      <td>0</td>\n",
       "      <td>0.00</td>\n",
       "    </tr>\n",
       "    <tr>\n",
       "      <th>minutes_included</th>\n",
       "      <td>0</td>\n",
       "      <td>0.00</td>\n",
       "    </tr>\n",
       "    <tr>\n",
       "      <th>last_name</th>\n",
       "      <td>0</td>\n",
       "      <td>0.00</td>\n",
       "    </tr>\n",
       "    <tr>\n",
       "      <th>messages_included</th>\n",
       "      <td>0</td>\n",
       "      <td>0.00</td>\n",
       "    </tr>\n",
       "    <tr>\n",
       "      <th>tariff</th>\n",
       "      <td>0</td>\n",
       "      <td>0.00</td>\n",
       "    </tr>\n",
       "    <tr>\n",
       "      <th>reg_date</th>\n",
       "      <td>0</td>\n",
       "      <td>0.00</td>\n",
       "    </tr>\n",
       "    <tr>\n",
       "      <th>first_name</th>\n",
       "      <td>0</td>\n",
       "      <td>0.00</td>\n",
       "    </tr>\n",
       "    <tr>\n",
       "      <th>city</th>\n",
       "      <td>0</td>\n",
       "      <td>0.00</td>\n",
       "    </tr>\n",
       "    <tr>\n",
       "      <th>age</th>\n",
       "      <td>0</td>\n",
       "      <td>0.00</td>\n",
       "    </tr>\n",
       "    <tr>\n",
       "      <th>tariff_name</th>\n",
       "      <td>0</td>\n",
       "      <td>0.00</td>\n",
       "    </tr>\n",
       "  </tbody>\n",
       "</table>\n",
       "</div>"
      ],
      "text/plain": [
       "                       num_missing  percent_missing\n",
       "churn_date                    3027            94.12\n",
       "message_count                  499            15.52\n",
       "call_sum                        42             1.31\n",
       "call_count                      42             1.31\n",
       "mb_used                         13             0.40\n",
       "mb_used_gb                      13             0.40\n",
       "month                            2             0.06\n",
       "user_id                          0             0.00\n",
       "mb_per_month_included            0             0.00\n",
       "rub_per_minute                   0             0.00\n",
       "rub_per_message                  0             0.00\n",
       "rub_per_gb                       0             0.00\n",
       "rub_monthly_fee                  0             0.00\n",
       "minutes_included                 0             0.00\n",
       "last_name                        0             0.00\n",
       "messages_included                0             0.00\n",
       "tariff                           0             0.00\n",
       "reg_date                         0             0.00\n",
       "first_name                       0             0.00\n",
       "city                             0             0.00\n",
       "age                              0             0.00\n",
       "tariff_name                      0             0.00"
      ]
     },
     "metadata": {},
     "output_type": "display_data"
    }
   ],
   "source": [
    "# Посмотрим на пропущенные значения, т.к. объединяли мы по методу outer\n",
    "display(nan_values(data))"
   ]
  },
  {
   "cell_type": "markdown",
   "metadata": {
    "id": "_nETBhGFBwu2"
   },
   "source": [
    "Странно, что есть пропущенные месяца. Посмотрим:"
   ]
  },
  {
   "cell_type": "code",
   "execution_count": 29,
   "metadata": {
    "colab": {
     "base_uri": "https://localhost:8080/",
     "height": 211
    },
    "id": "w0mBx8j7BUO-",
    "outputId": "9c39e6f6-797b-459b-965f-d2c9579bf93b"
   },
   "outputs": [
    {
     "data": {
      "text/html": [
       "<div>\n",
       "<style scoped>\n",
       "    .dataframe tbody tr th:only-of-type {\n",
       "        vertical-align: middle;\n",
       "    }\n",
       "\n",
       "    .dataframe tbody tr th {\n",
       "        vertical-align: top;\n",
       "    }\n",
       "\n",
       "    .dataframe thead th {\n",
       "        text-align: right;\n",
       "    }\n",
       "</style>\n",
       "<table border=\"1\" class=\"dataframe\">\n",
       "  <thead>\n",
       "    <tr style=\"text-align: right;\">\n",
       "      <th></th>\n",
       "      <th>user_id</th>\n",
       "      <th>month</th>\n",
       "      <th>call_sum</th>\n",
       "      <th>call_count</th>\n",
       "      <th>message_count</th>\n",
       "      <th>mb_used</th>\n",
       "      <th>mb_used_gb</th>\n",
       "      <th>age</th>\n",
       "      <th>churn_date</th>\n",
       "      <th>city</th>\n",
       "      <th>first_name</th>\n",
       "      <th>last_name</th>\n",
       "      <th>reg_date</th>\n",
       "      <th>tariff</th>\n",
       "      <th>messages_included</th>\n",
       "      <th>mb_per_month_included</th>\n",
       "      <th>minutes_included</th>\n",
       "      <th>rub_monthly_fee</th>\n",
       "      <th>rub_per_gb</th>\n",
       "      <th>rub_per_message</th>\n",
       "      <th>rub_per_minute</th>\n",
       "      <th>tariff_name</th>\n",
       "    </tr>\n",
       "  </thead>\n",
       "  <tbody>\n",
       "    <tr>\n",
       "      <th>985</th>\n",
       "      <td>1128</td>\n",
       "      <td>NaN</td>\n",
       "      <td>NaN</td>\n",
       "      <td>NaN</td>\n",
       "      <td>NaN</td>\n",
       "      <td>NaN</td>\n",
       "      <td>NaN</td>\n",
       "      <td>51</td>\n",
       "      <td>2018-12-23</td>\n",
       "      <td>Волжский</td>\n",
       "      <td>Ксения</td>\n",
       "      <td>Агаева</td>\n",
       "      <td>2018-12-15</td>\n",
       "      <td>ultra</td>\n",
       "      <td>1000</td>\n",
       "      <td>30720</td>\n",
       "      <td>3000</td>\n",
       "      <td>1950</td>\n",
       "      <td>150</td>\n",
       "      <td>1</td>\n",
       "      <td>1</td>\n",
       "      <td>ultra</td>\n",
       "    </tr>\n",
       "    <tr>\n",
       "      <th>3215</th>\n",
       "      <td>1371</td>\n",
       "      <td>NaN</td>\n",
       "      <td>NaN</td>\n",
       "      <td>NaN</td>\n",
       "      <td>NaN</td>\n",
       "      <td>NaN</td>\n",
       "      <td>NaN</td>\n",
       "      <td>50</td>\n",
       "      <td>2018-12-30</td>\n",
       "      <td>Омск</td>\n",
       "      <td>Ириней</td>\n",
       "      <td>Трофимов</td>\n",
       "      <td>2018-12-25</td>\n",
       "      <td>smart</td>\n",
       "      <td>50</td>\n",
       "      <td>15360</td>\n",
       "      <td>500</td>\n",
       "      <td>550</td>\n",
       "      <td>200</td>\n",
       "      <td>3</td>\n",
       "      <td>3</td>\n",
       "      <td>smart</td>\n",
       "    </tr>\n",
       "  </tbody>\n",
       "</table>\n",
       "</div>"
      ],
      "text/plain": [
       "      user_id  month  call_sum  call_count  message_count  mb_used  \\\n",
       "985      1128    NaN       NaN         NaN            NaN      NaN   \n",
       "3215     1371    NaN       NaN         NaN            NaN      NaN   \n",
       "\n",
       "      mb_used_gb  age churn_date      city first_name last_name   reg_date  \\\n",
       "985          NaN   51 2018-12-23  Волжский     Ксения    Агаева 2018-12-15   \n",
       "3215         NaN   50 2018-12-30      Омск     Ириней  Трофимов 2018-12-25   \n",
       "\n",
       "     tariff  messages_included  mb_per_month_included  minutes_included  \\\n",
       "985   ultra               1000                  30720              3000   \n",
       "3215  smart                 50                  15360               500   \n",
       "\n",
       "      rub_monthly_fee  rub_per_gb  rub_per_message  rub_per_minute tariff_name  \n",
       "985              1950         150                1               1       ultra  \n",
       "3215              550         200                3               3       smart  "
      ]
     },
     "execution_count": 29,
     "metadata": {},
     "output_type": "execute_result"
    }
   ],
   "source": [
    "data[data['month'].isnull()].head()"
   ]
  },
  {
   "cell_type": "markdown",
   "metadata": {
    "id": "CbeIThp9BznN"
   },
   "source": [
    "Странный артефакт от кот. можно избавиться:"
   ]
  },
  {
   "cell_type": "code",
   "execution_count": 30,
   "metadata": {
    "id": "sIZkEaBRB3YX"
   },
   "outputs": [],
   "source": [
    "data = data.query('month > 0')"
   ]
  },
  {
   "cell_type": "markdown",
   "metadata": {
    "id": "_vA_jlDiDIZI"
   },
   "source": [
    "Звонки, смски и инет можно заполнить нулями:"
   ]
  },
  {
   "cell_type": "code",
   "execution_count": 31,
   "metadata": {
    "colab": {
     "base_uri": "https://localhost:8080/",
     "height": 708
    },
    "id": "5Qu0Yn9PDO7i",
    "outputId": "9c66b22a-aba8-4788-daff-d14b166828e3",
    "scrolled": false
   },
   "outputs": [
    {
     "data": {
      "text/html": [
       "<div>\n",
       "<style scoped>\n",
       "    .dataframe tbody tr th:only-of-type {\n",
       "        vertical-align: middle;\n",
       "    }\n",
       "\n",
       "    .dataframe tbody tr th {\n",
       "        vertical-align: top;\n",
       "    }\n",
       "\n",
       "    .dataframe thead th {\n",
       "        text-align: right;\n",
       "    }\n",
       "</style>\n",
       "<table border=\"1\" class=\"dataframe\">\n",
       "  <thead>\n",
       "    <tr style=\"text-align: right;\">\n",
       "      <th></th>\n",
       "      <th>num_missing</th>\n",
       "      <th>percent_missing</th>\n",
       "    </tr>\n",
       "  </thead>\n",
       "  <tbody>\n",
       "    <tr>\n",
       "      <th>churn_date</th>\n",
       "      <td>3027</td>\n",
       "      <td>94.18</td>\n",
       "    </tr>\n",
       "    <tr>\n",
       "      <th>mb_used</th>\n",
       "      <td>11</td>\n",
       "      <td>0.34</td>\n",
       "    </tr>\n",
       "    <tr>\n",
       "      <th>user_id</th>\n",
       "      <td>0</td>\n",
       "      <td>0.00</td>\n",
       "    </tr>\n",
       "    <tr>\n",
       "      <th>reg_date</th>\n",
       "      <td>0</td>\n",
       "      <td>0.00</td>\n",
       "    </tr>\n",
       "    <tr>\n",
       "      <th>rub_per_minute</th>\n",
       "      <td>0</td>\n",
       "      <td>0.00</td>\n",
       "    </tr>\n",
       "    <tr>\n",
       "      <th>rub_per_message</th>\n",
       "      <td>0</td>\n",
       "      <td>0.00</td>\n",
       "    </tr>\n",
       "    <tr>\n",
       "      <th>rub_per_gb</th>\n",
       "      <td>0</td>\n",
       "      <td>0.00</td>\n",
       "    </tr>\n",
       "    <tr>\n",
       "      <th>rub_monthly_fee</th>\n",
       "      <td>0</td>\n",
       "      <td>0.00</td>\n",
       "    </tr>\n",
       "    <tr>\n",
       "      <th>minutes_included</th>\n",
       "      <td>0</td>\n",
       "      <td>0.00</td>\n",
       "    </tr>\n",
       "    <tr>\n",
       "      <th>mb_per_month_included</th>\n",
       "      <td>0</td>\n",
       "      <td>0.00</td>\n",
       "    </tr>\n",
       "    <tr>\n",
       "      <th>messages_included</th>\n",
       "      <td>0</td>\n",
       "      <td>0.00</td>\n",
       "    </tr>\n",
       "    <tr>\n",
       "      <th>tariff</th>\n",
       "      <td>0</td>\n",
       "      <td>0.00</td>\n",
       "    </tr>\n",
       "    <tr>\n",
       "      <th>last_name</th>\n",
       "      <td>0</td>\n",
       "      <td>0.00</td>\n",
       "    </tr>\n",
       "    <tr>\n",
       "      <th>month</th>\n",
       "      <td>0</td>\n",
       "      <td>0.00</td>\n",
       "    </tr>\n",
       "    <tr>\n",
       "      <th>first_name</th>\n",
       "      <td>0</td>\n",
       "      <td>0.00</td>\n",
       "    </tr>\n",
       "    <tr>\n",
       "      <th>city</th>\n",
       "      <td>0</td>\n",
       "      <td>0.00</td>\n",
       "    </tr>\n",
       "    <tr>\n",
       "      <th>age</th>\n",
       "      <td>0</td>\n",
       "      <td>0.00</td>\n",
       "    </tr>\n",
       "    <tr>\n",
       "      <th>mb_used_gb</th>\n",
       "      <td>0</td>\n",
       "      <td>0.00</td>\n",
       "    </tr>\n",
       "    <tr>\n",
       "      <th>message_count</th>\n",
       "      <td>0</td>\n",
       "      <td>0.00</td>\n",
       "    </tr>\n",
       "    <tr>\n",
       "      <th>call_count</th>\n",
       "      <td>0</td>\n",
       "      <td>0.00</td>\n",
       "    </tr>\n",
       "    <tr>\n",
       "      <th>call_sum</th>\n",
       "      <td>0</td>\n",
       "      <td>0.00</td>\n",
       "    </tr>\n",
       "    <tr>\n",
       "      <th>tariff_name</th>\n",
       "      <td>0</td>\n",
       "      <td>0.00</td>\n",
       "    </tr>\n",
       "  </tbody>\n",
       "</table>\n",
       "</div>"
      ],
      "text/plain": [
       "                       num_missing  percent_missing\n",
       "churn_date                    3027            94.18\n",
       "mb_used                         11             0.34\n",
       "user_id                          0             0.00\n",
       "reg_date                         0             0.00\n",
       "rub_per_minute                   0             0.00\n",
       "rub_per_message                  0             0.00\n",
       "rub_per_gb                       0             0.00\n",
       "rub_monthly_fee                  0             0.00\n",
       "minutes_included                 0             0.00\n",
       "mb_per_month_included            0             0.00\n",
       "messages_included                0             0.00\n",
       "tariff                           0             0.00\n",
       "last_name                        0             0.00\n",
       "month                            0             0.00\n",
       "first_name                       0             0.00\n",
       "city                             0             0.00\n",
       "age                              0             0.00\n",
       "mb_used_gb                       0             0.00\n",
       "message_count                    0             0.00\n",
       "call_count                       0             0.00\n",
       "call_sum                         0             0.00\n",
       "tariff_name                      0             0.00"
      ]
     },
     "metadata": {},
     "output_type": "display_data"
    }
   ],
   "source": [
    "data['message_count'] = data['message_count'].fillna(0)\n",
    "data['call_sum'] = data['call_sum'].fillna(0)\n",
    "data['call_count'] = data['call_count'].fillna(0)\n",
    "data['mb_used_gb'] = data['mb_used_gb'].fillna(0)\n",
    "\n",
    "display(nan_values(data))"
   ]
  },
  {
   "cell_type": "markdown",
   "metadata": {
    "id": "ooti3PSezzYs"
   },
   "source": [
    "#### Расчёт выручки"
   ]
  },
  {
   "cell_type": "markdown",
   "metadata": {
    "id": "ySwsQUI9PK5y"
   },
   "source": [
    "Т.к. Мегалайн округляет минуты и мегабайты - создадим отдельные поля с округлёнными значениями в большую сторону"
   ]
  },
  {
   "cell_type": "code",
   "execution_count": 32,
   "metadata": {
    "colab": {
     "base_uri": "https://localhost:8080/",
     "height": 260
    },
    "id": "sAq-tnSLNYVT",
    "outputId": "83ac16aa-7574-4a2e-ac1b-20d8b622c56d"
   },
   "outputs": [],
   "source": [
    "#data['call_sum_min'] = data['call_sum'].apply(math.ceil)\n",
    "# Переводим трафик в Гб\n",
    "#data['mb_used_gb'] = data['mb_used'] / 1024\n",
    "#data['mb_used_gb'] = data['mb_used_gb'].apply(math.ceil)\n",
    "\n",
    "#data.sample(3)"
   ]
  },
  {
   "cell_type": "code",
   "execution_count": 33,
   "metadata": {
    "colab": {
     "base_uri": "https://localhost:8080/",
     "height": 357
    },
    "id": "yci4InBoI4_k",
    "outputId": "78b28f97-ae20-4ff0-c6bc-ff32f9e2de9a",
    "scrolled": true
   },
   "outputs": [
    {
     "data": {
      "text/html": [
       "<div>\n",
       "<style scoped>\n",
       "    .dataframe tbody tr th:only-of-type {\n",
       "        vertical-align: middle;\n",
       "    }\n",
       "\n",
       "    .dataframe tbody tr th {\n",
       "        vertical-align: top;\n",
       "    }\n",
       "\n",
       "    .dataframe thead th {\n",
       "        text-align: right;\n",
       "    }\n",
       "</style>\n",
       "<table border=\"1\" class=\"dataframe\">\n",
       "  <thead>\n",
       "    <tr style=\"text-align: right;\">\n",
       "      <th></th>\n",
       "      <th>user_id</th>\n",
       "      <th>month</th>\n",
       "      <th>call_sum</th>\n",
       "      <th>call_count</th>\n",
       "      <th>message_count</th>\n",
       "      <th>mb_used</th>\n",
       "      <th>mb_used_gb</th>\n",
       "      <th>age</th>\n",
       "      <th>churn_date</th>\n",
       "      <th>city</th>\n",
       "      <th>first_name</th>\n",
       "      <th>last_name</th>\n",
       "      <th>reg_date</th>\n",
       "      <th>tariff</th>\n",
       "      <th>messages_included</th>\n",
       "      <th>mb_per_month_included</th>\n",
       "      <th>minutes_included</th>\n",
       "      <th>rub_monthly_fee</th>\n",
       "      <th>rub_per_gb</th>\n",
       "      <th>rub_per_message</th>\n",
       "      <th>rub_per_minute</th>\n",
       "      <th>tariff_name</th>\n",
       "      <th>cost</th>\n",
       "    </tr>\n",
       "  </thead>\n",
       "  <tbody>\n",
       "    <tr>\n",
       "      <th>639</th>\n",
       "      <td>1360</td>\n",
       "      <td>6.0</td>\n",
       "      <td>791.0</td>\n",
       "      <td>100.0</td>\n",
       "      <td>0.0</td>\n",
       "      <td>7718.17</td>\n",
       "      <td>8.0</td>\n",
       "      <td>46</td>\n",
       "      <td>NaT</td>\n",
       "      <td>Санкт-Петербург</td>\n",
       "      <td>Лаура</td>\n",
       "      <td>Макарова</td>\n",
       "      <td>2018-03-18</td>\n",
       "      <td>ultra</td>\n",
       "      <td>1000</td>\n",
       "      <td>30720</td>\n",
       "      <td>3000</td>\n",
       "      <td>1950</td>\n",
       "      <td>150</td>\n",
       "      <td>1</td>\n",
       "      <td>1</td>\n",
       "      <td>ultra</td>\n",
       "      <td>1950.0</td>\n",
       "    </tr>\n",
       "    <tr>\n",
       "      <th>2895</th>\n",
       "      <td>1429</td>\n",
       "      <td>5.0</td>\n",
       "      <td>161.0</td>\n",
       "      <td>35.0</td>\n",
       "      <td>0.0</td>\n",
       "      <td>22498.05</td>\n",
       "      <td>22.0</td>\n",
       "      <td>54</td>\n",
       "      <td>NaT</td>\n",
       "      <td>Санкт-Петербург</td>\n",
       "      <td>Джулия</td>\n",
       "      <td>Белякова</td>\n",
       "      <td>2018-01-26</td>\n",
       "      <td>smart</td>\n",
       "      <td>50</td>\n",
       "      <td>15360</td>\n",
       "      <td>500</td>\n",
       "      <td>550</td>\n",
       "      <td>200</td>\n",
       "      <td>3</td>\n",
       "      <td>3</td>\n",
       "      <td>smart</td>\n",
       "      <td>1950.0</td>\n",
       "    </tr>\n",
       "    <tr>\n",
       "      <th>428</th>\n",
       "      <td>1259</td>\n",
       "      <td>11.0</td>\n",
       "      <td>462.0</td>\n",
       "      <td>74.0</td>\n",
       "      <td>157.0</td>\n",
       "      <td>10418.98</td>\n",
       "      <td>11.0</td>\n",
       "      <td>33</td>\n",
       "      <td>NaT</td>\n",
       "      <td>Санкт-Петербург</td>\n",
       "      <td>Эмилия</td>\n",
       "      <td>Третьякова</td>\n",
       "      <td>2018-11-04</td>\n",
       "      <td>ultra</td>\n",
       "      <td>1000</td>\n",
       "      <td>30720</td>\n",
       "      <td>3000</td>\n",
       "      <td>1950</td>\n",
       "      <td>150</td>\n",
       "      <td>1</td>\n",
       "      <td>1</td>\n",
       "      <td>ultra</td>\n",
       "      <td>1950.0</td>\n",
       "    </tr>\n",
       "    <tr>\n",
       "      <th>2882</th>\n",
       "      <td>1427</td>\n",
       "      <td>9.0</td>\n",
       "      <td>561.0</td>\n",
       "      <td>73.0</td>\n",
       "      <td>12.0</td>\n",
       "      <td>13500.95</td>\n",
       "      <td>14.0</td>\n",
       "      <td>24</td>\n",
       "      <td>NaT</td>\n",
       "      <td>Казань</td>\n",
       "      <td>Ириней</td>\n",
       "      <td>Азаров</td>\n",
       "      <td>2018-04-03</td>\n",
       "      <td>smart</td>\n",
       "      <td>50</td>\n",
       "      <td>15360</td>\n",
       "      <td>500</td>\n",
       "      <td>550</td>\n",
       "      <td>200</td>\n",
       "      <td>3</td>\n",
       "      <td>3</td>\n",
       "      <td>smart</td>\n",
       "      <td>733.0</td>\n",
       "    </tr>\n",
       "    <tr>\n",
       "      <th>2313</th>\n",
       "      <td>1290</td>\n",
       "      <td>10.0</td>\n",
       "      <td>520.0</td>\n",
       "      <td>74.0</td>\n",
       "      <td>0.0</td>\n",
       "      <td>19154.05</td>\n",
       "      <td>19.0</td>\n",
       "      <td>68</td>\n",
       "      <td>NaT</td>\n",
       "      <td>Нижний Новгород</td>\n",
       "      <td>Арсений</td>\n",
       "      <td>Безруков</td>\n",
       "      <td>2018-05-11</td>\n",
       "      <td>smart</td>\n",
       "      <td>50</td>\n",
       "      <td>15360</td>\n",
       "      <td>500</td>\n",
       "      <td>550</td>\n",
       "      <td>200</td>\n",
       "      <td>3</td>\n",
       "      <td>3</td>\n",
       "      <td>smart</td>\n",
       "      <td>1410.0</td>\n",
       "    </tr>\n",
       "  </tbody>\n",
       "</table>\n",
       "</div>"
      ],
      "text/plain": [
       "      user_id  month  call_sum  call_count  message_count   mb_used  \\\n",
       "639      1360    6.0     791.0       100.0            0.0   7718.17   \n",
       "2895     1429    5.0     161.0        35.0            0.0  22498.05   \n",
       "428      1259   11.0     462.0        74.0          157.0  10418.98   \n",
       "2882     1427    9.0     561.0        73.0           12.0  13500.95   \n",
       "2313     1290   10.0     520.0        74.0            0.0  19154.05   \n",
       "\n",
       "      mb_used_gb  age churn_date             city first_name   last_name  \\\n",
       "639          8.0   46        NaT  Санкт-Петербург      Лаура    Макарова   \n",
       "2895        22.0   54        NaT  Санкт-Петербург     Джулия    Белякова   \n",
       "428         11.0   33        NaT  Санкт-Петербург     Эмилия  Третьякова   \n",
       "2882        14.0   24        NaT           Казань     Ириней      Азаров   \n",
       "2313        19.0   68        NaT  Нижний Новгород    Арсений    Безруков   \n",
       "\n",
       "       reg_date tariff  messages_included  mb_per_month_included  \\\n",
       "639  2018-03-18  ultra               1000                  30720   \n",
       "2895 2018-01-26  smart                 50                  15360   \n",
       "428  2018-11-04  ultra               1000                  30720   \n",
       "2882 2018-04-03  smart                 50                  15360   \n",
       "2313 2018-05-11  smart                 50                  15360   \n",
       "\n",
       "      minutes_included  rub_monthly_fee  rub_per_gb  rub_per_message  \\\n",
       "639               3000             1950         150                1   \n",
       "2895               500              550         200                3   \n",
       "428               3000             1950         150                1   \n",
       "2882               500              550         200                3   \n",
       "2313               500              550         200                3   \n",
       "\n",
       "      rub_per_minute tariff_name    cost  \n",
       "639                1       ultra  1950.0  \n",
       "2895               3       smart  1950.0  \n",
       "428                1       ultra  1950.0  \n",
       "2882               3       smart   733.0  \n",
       "2313               3       smart  1410.0  "
      ]
     },
     "execution_count": 33,
     "metadata": {},
     "output_type": "execute_result"
    }
   ],
   "source": [
    "# Напишем функцию по расчётку выручки по месяцам\n",
    "\n",
    "#data['minutes_included'] = data['minutes_included'].astype('float')\n",
    "\n",
    "# Функция расчёта выручки\n",
    "def cost_calculate(row):\n",
    "  # Абонентская плата\n",
    "  cost = row['rub_monthly_fee']\n",
    "\n",
    "  # Превысил ли звонки\n",
    "  if row['call_sum'] > row['minutes_included']:\n",
    "    cost += (row['call_sum'] - row['minutes_included']) * row['rub_per_minute']\n",
    "\n",
    "  # Превысил ли смс\n",
    "  if row['message_count'] > row['messages_included']:\n",
    "    cost += (row['message_count'] - row['messages_included']) * row['rub_per_message']\n",
    "    \n",
    "  # Превысил ли инет\n",
    "  # Сверяем в Мб, т.к. лимиты указаны в них\n",
    "  if row['mb_used'] > row['mb_per_month_included']:\n",
    "    cost += np.ceil((row['mb_used'] - row['mb_per_month_included']) / 1024) * row['rub_per_gb']\n",
    "\n",
    "  # Возвращаем округлённый результат\n",
    "  return round(cost, 2)\n",
    "\n",
    "# Применяем функцию к колонке\n",
    "data['cost'] = data.apply(cost_calculate, axis=1)\n",
    "# Проверим на рандомной выборке\n",
    "data.sample(5)"
   ]
  },
  {
   "cell_type": "markdown",
   "metadata": {},
   "source": [
    "**Выводы:**\n",
    "\n",
    "* Изначально пропуски в датасетах замечены не были.\n",
    "* Дубликатов строк тоже нет.\n",
    "* Были произведены расчёт по пользователям и месяцам. Получили таблицу с суммой звонков, сообщений, трафика, выручки, где индексами были - id юзера и месяц. А значение - сумма за месяц.\n",
    "* После суммирования были обнаружены пропуски в данных. Строки с пустыми месяцами были удалены, а остальные заполнены нулями. Т.к. пустые значения, например, в SMS означает, что сообщения не были отправлены пользователем за месяц.\n",
    "* Была рассчитана выручка на каждого пользователя в каждом месяце. Были учтены превышения лимита в тарифе. Округлены звонки до минуты и трафик до Гб в большую сторону."
   ]
  },
  {
   "cell_type": "code",
   "execution_count": 34,
   "metadata": {},
   "outputs": [
    {
     "name": "stdout",
     "output_type": "stream",
     "text": [
      "<class 'pandas.core.frame.DataFrame'>\n",
      "Int64Index: 3214 entries, 0 to 3214\n",
      "Data columns (total 23 columns):\n",
      " #   Column                 Non-Null Count  Dtype         \n",
      "---  ------                 --------------  -----         \n",
      " 0   user_id                3214 non-null   int64         \n",
      " 1   month                  3214 non-null   float64       \n",
      " 2   call_sum               3214 non-null   float64       \n",
      " 3   call_count             3214 non-null   float64       \n",
      " 4   message_count          3214 non-null   float64       \n",
      " 5   mb_used                3203 non-null   float64       \n",
      " 6   mb_used_gb             3214 non-null   float64       \n",
      " 7   age                    3214 non-null   int64         \n",
      " 8   churn_date             187 non-null    datetime64[ns]\n",
      " 9   city                   3214 non-null   object        \n",
      " 10  first_name             3214 non-null   object        \n",
      " 11  last_name              3214 non-null   object        \n",
      " 12  reg_date               3214 non-null   datetime64[ns]\n",
      " 13  tariff                 3214 non-null   object        \n",
      " 14  messages_included      3214 non-null   int64         \n",
      " 15  mb_per_month_included  3214 non-null   int64         \n",
      " 16  minutes_included       3214 non-null   int64         \n",
      " 17  rub_monthly_fee        3214 non-null   int64         \n",
      " 18  rub_per_gb             3214 non-null   int64         \n",
      " 19  rub_per_message        3214 non-null   int64         \n",
      " 20  rub_per_minute         3214 non-null   int64         \n",
      " 21  tariff_name            3214 non-null   object        \n",
      " 22  cost                   3214 non-null   float64       \n",
      "dtypes: datetime64[ns](2), float64(7), int64(9), object(5)\n",
      "memory usage: 602.6+ KB\n"
     ]
    }
   ],
   "source": [
    "# check\n",
    "data.info()"
   ]
  },
  {
   "cell_type": "code",
   "execution_count": 35,
   "metadata": {},
   "outputs": [
    {
     "data": {
      "text/plain": [
       "4914451.0"
      ]
     },
     "execution_count": 35,
     "metadata": {},
     "output_type": "execute_result"
    }
   ],
   "source": [
    "# check\n",
    "data['cost'].sum()"
   ]
  },
  {
   "cell_type": "code",
   "execution_count": 36,
   "metadata": {},
   "outputs": [
    {
     "data": {
      "text/plain": [
       "Index(['user_id', 'month', 'call_sum', 'call_count', 'message_count',\n",
       "       'mb_used', 'mb_used_gb', 'age', 'churn_date', 'city', 'first_name',\n",
       "       'last_name', 'reg_date', 'tariff', 'messages_included',\n",
       "       'mb_per_month_included', 'minutes_included', 'rub_monthly_fee',\n",
       "       'rub_per_gb', 'rub_per_message', 'rub_per_minute', 'tariff_name',\n",
       "       'cost'],\n",
       "      dtype='object')"
      ]
     },
     "execution_count": 36,
     "metadata": {},
     "output_type": "execute_result"
    }
   ],
   "source": [
    "# check\n",
    "data.columns"
   ]
  },
  {
   "cell_type": "code",
   "execution_count": 37,
   "metadata": {},
   "outputs": [
    {
     "data": {
      "text/html": [
       "<div>\n",
       "<style scoped>\n",
       "    .dataframe tbody tr th:only-of-type {\n",
       "        vertical-align: middle;\n",
       "    }\n",
       "\n",
       "    .dataframe tbody tr th {\n",
       "        vertical-align: top;\n",
       "    }\n",
       "\n",
       "    .dataframe thead th {\n",
       "        text-align: right;\n",
       "    }\n",
       "</style>\n",
       "<table border=\"1\" class=\"dataframe\">\n",
       "  <thead>\n",
       "    <tr style=\"text-align: right;\">\n",
       "      <th></th>\n",
       "      <th>user_id</th>\n",
       "      <th>month</th>\n",
       "      <th>call_sum</th>\n",
       "      <th>call_count</th>\n",
       "      <th>message_count</th>\n",
       "      <th>mb_used_gb</th>\n",
       "      <th>age</th>\n",
       "      <th>tariff_name</th>\n",
       "      <th>cost</th>\n",
       "    </tr>\n",
       "  </thead>\n",
       "  <tbody>\n",
       "    <tr>\n",
       "      <th>3197</th>\n",
       "      <td>1496</td>\n",
       "      <td>11.0</td>\n",
       "      <td>662.0</td>\n",
       "      <td>80.0</td>\n",
       "      <td>46.0</td>\n",
       "      <td>25.0</td>\n",
       "      <td>36</td>\n",
       "      <td>smart</td>\n",
       "      <td>3036.0</td>\n",
       "    </tr>\n",
       "    <tr>\n",
       "      <th>3198</th>\n",
       "      <td>1496</td>\n",
       "      <td>12.0</td>\n",
       "      <td>518.0</td>\n",
       "      <td>80.0</td>\n",
       "      <td>51.0</td>\n",
       "      <td>21.0</td>\n",
       "      <td>36</td>\n",
       "      <td>smart</td>\n",
       "      <td>1807.0</td>\n",
       "    </tr>\n",
       "    <tr>\n",
       "      <th>3201</th>\n",
       "      <td>1497</td>\n",
       "      <td>12.0</td>\n",
       "      <td>545.0</td>\n",
       "      <td>71.0</td>\n",
       "      <td>17.0</td>\n",
       "      <td>20.0</td>\n",
       "      <td>32</td>\n",
       "      <td>smart</td>\n",
       "      <td>1685.0</td>\n",
       "    </tr>\n",
       "    <tr>\n",
       "      <th>3208</th>\n",
       "      <td>1499</td>\n",
       "      <td>11.0</td>\n",
       "      <td>612.0</td>\n",
       "      <td>74.0</td>\n",
       "      <td>59.0</td>\n",
       "      <td>18.0</td>\n",
       "      <td>35</td>\n",
       "      <td>smart</td>\n",
       "      <td>1513.0</td>\n",
       "    </tr>\n",
       "  </tbody>\n",
       "</table>\n",
       "</div>"
      ],
      "text/plain": [
       "      user_id  month  call_sum  call_count  message_count  mb_used_gb  age  \\\n",
       "3197     1496   11.0     662.0        80.0           46.0        25.0   36   \n",
       "3198     1496   12.0     518.0        80.0           51.0        21.0   36   \n",
       "3201     1497   12.0     545.0        71.0           17.0        20.0   32   \n",
       "3208     1499   11.0     612.0        74.0           59.0        18.0   35   \n",
       "\n",
       "     tariff_name    cost  \n",
       "3197       smart  3036.0  \n",
       "3198       smart  1807.0  \n",
       "3201       smart  1685.0  \n",
       "3208       smart  1513.0  "
      ]
     },
     "execution_count": 37,
     "metadata": {},
     "output_type": "execute_result"
    }
   ],
   "source": [
    "# check\n",
    "data[data['call_sum'] > 500][['user_id', 'month', 'call_sum', 'call_count', 'message_count',\n",
    "       'mb_used_gb', 'age', 'tariff_name', 'cost']].tail(4)"
   ]
  },
  {
   "cell_type": "markdown",
   "metadata": {
    "id": "XcpR038N6Gk0"
   },
   "source": [
    "### Шаг 3. Анализ поведения\n",
    "<a id='level3'></a>"
   ]
  },
  {
   "cell_type": "markdown",
   "metadata": {
    "id": "Oljez6186VQ5"
   },
   "source": [
    "*Опишите поведение клиентов оператора, исходя из выборки. Сколько минут разговора, сколько сообщений и какой объём интернет-трафика требуется пользователям каждого тарифа в месяц? Посчитайте среднее количество, дисперсию и стандартное отклонение. Постройте гистограммы. Опишите распределения.*"
   ]
  },
  {
   "cell_type": "markdown",
   "metadata": {
    "id": "cS3VQCEzSNqe"
   },
   "source": [
    "Сделаем два среза - в зависимости от тарифа пользователя."
   ]
  },
  {
   "cell_type": "code",
   "execution_count": 38,
   "metadata": {
    "colab": {
     "base_uri": "https://localhost:8080/"
    },
    "id": "FdBRifgbR6Oi",
    "outputId": "7df15682-67d9-4fcd-b461-a8f8cd97c43a"
   },
   "outputs": [
    {
     "name": "stdout",
     "output_type": "stream",
     "text": [
      "Ultra: 985\n",
      "Smart: 2229\n"
     ]
    }
   ],
   "source": [
    "# Сохраним в отдельные Датафреймы\n",
    "data_tariff_smart = data.query('tariff == \"smart\"')\n",
    "data_tariff_ultra = data.query('tariff == \"ultra\"')\n",
    "\n",
    "print('Ultra:', data_tariff_ultra['tariff'].count())\n",
    "print('Smart:', data_tariff_smart['tariff'].count())"
   ]
  },
  {
   "cell_type": "markdown",
   "metadata": {
    "id": "cIs77pdR5pk2"
   },
   "source": [
    "Посмотрим статистику общей выручки:"
   ]
  },
  {
   "cell_type": "code",
   "execution_count": 39,
   "metadata": {
    "colab": {
     "base_uri": "https://localhost:8080/"
    },
    "id": "8gx59EJVMXqr",
    "outputId": "76ce4c87-91c3-4d8c-edf5-fafb001b0122"
   },
   "outputs": [
    {
     "data": {
      "text/plain": [
       "count    3214.000000\n",
       "mean     1529.076229\n",
       "std       798.251091\n",
       "min       550.000000\n",
       "25%       750.000000\n",
       "50%      1653.500000\n",
       "75%      1950.000000\n",
       "max      6770.000000\n",
       "Name: cost, dtype: float64"
      ]
     },
     "execution_count": 39,
     "metadata": {},
     "output_type": "execute_result"
    }
   ],
   "source": [
    "data['cost'].describe()"
   ]
  },
  {
   "cell_type": "markdown",
   "metadata": {
    "id": "EB3lfem75z1p"
   },
   "source": [
    "Медиана - 1653 руб. за месяц. Максимальная сумма - 6770 руб., а минимальная на уровне стоимость тарифа - 550 руб."
   ]
  },
  {
   "cell_type": "code",
   "execution_count": 40,
   "metadata": {
    "colab": {
     "base_uri": "https://localhost:8080/",
     "height": 295
    },
    "id": "DWo4Xmc76dSU",
    "outputId": "4bf2d2ee-b5cc-4cea-c65f-214c6ed74bd7"
   },
   "outputs": [
    {
     "data": {
      "image/png": "[encoded data removed]",
      "text/plain": [
       "<Figure size 432x288 with 1 Axes>"
      ]
     },
     "metadata": {
      "needs_background": "light"
     },
     "output_type": "display_data"
    }
   ],
   "source": [
    "sns.histplot(data=data, x=\"cost\").set_title('Траты пользователей в месяц');"
   ]
  },
  {
   "cell_type": "markdown",
   "metadata": {
    "id": "8PZcXabQ649n"
   },
   "source": [
    "На графике две моды: обе соответствуют стоимость тарифов smart (550 руб.) и ultra (1950 руб.).\n",
    "\n",
    "Основная сумма трат - до 2000 руб."
   ]
  },
  {
   "cell_type": "code",
   "execution_count": 41,
   "metadata": {
    "colab": {
     "base_uri": "https://localhost:8080/",
     "height": 281
    },
    "id": "am6jiJRC7F38",
    "outputId": "ec7d67d1-23b7-41c7-864f-dcadc49e3532"
   },
   "outputs": [],
   "source": [
    "# Откроем ящик с усами и посмотрим на выбросы\n",
    "#data.boxplot('cost').set_title('Траты пользователей в месяц');"
   ]
  },
  {
   "cell_type": "markdown",
   "metadata": {
    "id": "YqXA7-6DR0dz"
   },
   "source": [
    "Теперь посмотрим внутри каждого тарифа:"
   ]
  },
  {
   "cell_type": "code",
   "execution_count": 42,
   "metadata": {
    "colab": {
     "base_uri": "https://localhost:8080/"
    },
    "id": "6E4DNNB2T7Z6",
    "outputId": "059c4bb8-1101-49c1-b3ed-e81a9e79ec58"
   },
   "outputs": [
    {
     "name": "stdout",
     "output_type": "stream",
     "text": [
      "count    2229.000000\n",
      "mean     1289.973531\n",
      "std       818.404367\n",
      "min       550.000000\n",
      "25%       550.000000\n",
      "50%      1023.000000\n",
      "75%      1750.000000\n",
      "max      6770.000000\n",
      "Name: cost, dtype: float64\n",
      "\n",
      "count     985.000000\n",
      "mean     2070.152284\n",
      "std       376.187114\n",
      "min      1950.000000\n",
      "25%      1950.000000\n",
      "50%      1950.000000\n",
      "75%      1950.000000\n",
      "max      4800.000000\n",
      "Name: cost, dtype: float64\n"
     ]
    }
   ],
   "source": [
    "# Посмотрим на разность тарифов\n",
    "\n",
    "print(data_tariff_smart['cost'].describe())\n",
    "print()\n",
    "print(data_tariff_ultra['cost'].describe())"
   ]
  },
  {
   "cell_type": "markdown",
   "metadata": {},
   "source": [
    "В smart медиана в два раза выше абон. платы. Это говорит о том, что пользователи smart активно платят за превышение лимита.\n",
    "\n",
    "В ultra центр нормального распределение - в рамках абон. платы."
   ]
  },
  {
   "cell_type": "code",
   "execution_count": 43,
   "metadata": {},
   "outputs": [
    {
     "name": "stdout",
     "output_type": "stream",
     "text": [
      "smart суммарная: 2875351.0\n",
      "ultra суммарная: 2039100.0\n"
     ]
    }
   ],
   "source": [
    "# Суммарная выручка\n",
    "print('smart суммарная:', data_tariff_smart['cost'].sum())\n",
    "print('ultra суммарная:', data_tariff_ultra['cost'].sum())"
   ]
  },
  {
   "cell_type": "markdown",
   "metadata": {},
   "source": [
    "Суммарно тариф smart в выборке приносит больше денег, несмотря на то что абон. плата ниже. В т.ч. за месяц."
   ]
  },
  {
   "cell_type": "code",
   "execution_count": 44,
   "metadata": {
    "scrolled": true
   },
   "outputs": [
    {
     "name": "stdout",
     "output_type": "stream",
     "text": [
      "Выручка smart в месяц: 239612.58333333334\n",
      "Выручка ultra в месяц: 169925.0\n"
     ]
    }
   ],
   "source": [
    "# Кто приносит больше выручки в месяц\n",
    "\n",
    "print('Выручка smart в месяц:', data_tariff_smart.pivot_table(index='month', values='cost', aggfunc='sum')['cost'].mean())\n",
    "print('Выручка ultra в месяц:', data_tariff_ultra.pivot_table(index='month', values='cost', aggfunc='sum')['cost'].mean())"
   ]
  },
  {
   "cell_type": "code",
   "execution_count": 45,
   "metadata": {},
   "outputs": [
    {
     "name": "stdout",
     "output_type": "stream",
     "text": [
      "Выручка smart в месяц на пользователя: 1289.9735307312696\n",
      "Выручка ultra в месяц на пользователя: 2070.1522842639592\n"
     ]
    }
   ],
   "source": [
    "print('Выручка smart в месяц на пользователя:', data_tariff_smart.pivot_table(index=['user_id', 'month'], values='cost', aggfunc='sum')['cost'].mean())\n",
    "print('Выручка ultra в месяц на пользователя:', data_tariff_ultra.pivot_table(index=['user_id', 'month'], values='cost', aggfunc='sum')['cost'].mean())"
   ]
  },
  {
   "cell_type": "markdown",
   "metadata": {},
   "source": [
    "Выручка ultra на пользователя в месяц гораздо больше: 2070 руб. против 1290 руб."
   ]
  },
  {
   "cell_type": "code",
   "execution_count": 46,
   "metadata": {},
   "outputs": [
    {
     "name": "stdout",
     "output_type": "stream",
     "text": [
      "smart cost дисперсия:  669785.7080064242\n",
      "smart cost std:  818.4043670499469\n",
      "ultra cost дисперсия:  141516.7450786183\n",
      "ultra cost std:  376.1871144505328\n"
     ]
    }
   ],
   "source": [
    "# Считаем дисперсию выборки и std\n",
    "\n",
    "print('smart cost дисперсия: ', np.var(data_tariff_smart['cost'], ddof=1))\n",
    "print('smart cost std: ', np.sqrt(np.var(data_tariff_smart['cost'], ddof=1)))\n",
    "\n",
    "print('ultra cost дисперсия: ', np.var(data_tariff_ultra['cost'], ddof=1))\n",
    "print('ultra cost std: ', np.sqrt(np.var(data_tariff_ultra['cost'], ddof=1)))\n",
    "\n",
    "# Знаю, что можно юзать np.std или посмотреть describe, но решил так, чтобы закрепить, что это кв. корень."
   ]
  },
  {
   "cell_type": "markdown",
   "metadata": {},
   "source": [
    "В ultra разброс выручка в два раза меньше."
   ]
  },
  {
   "cell_type": "code",
   "execution_count": 47,
   "metadata": {
    "colab": {
     "base_uri": "https://localhost:8080/",
     "height": 265
    },
    "id": "6Md1PKtaUA0j",
    "outputId": "10d8b324-8d9e-4a49-9f17-6f2aba5b63e4"
   },
   "outputs": [
    {
     "data": {
      "image/png": "[encoded data removed]",
      "text/plain": [
       "<Figure size 432x288 with 1 Axes>"
      ]
     },
     "metadata": {
      "needs_background": "light"
     },
     "output_type": "display_data"
    }
   ],
   "source": [
    "ax = data_tariff_smart['cost'].hist(bins=[0, 500, 1000, 1500, 2000, 2500, 3000, 3500, 4000, 4500, 5000, 6000], alpha=0.5);\n",
    "ax2 = data_tariff_ultra['cost'].hist(bins=[0, 500, 1000, 1500, 2000, 2500, 3000, 3500, 4000, 4500, 5000, 6000], alpha=0.5);\n",
    "\n",
    "ax.set_title('Выручка тарифов');\n",
    "ax.set_xlabel('руб.');\n",
    "ax.set_ylabel('количество');"
   ]
  },
  {
   "cell_type": "markdown",
   "metadata": {
    "id": "XHitW_Zg7zH1"
   },
   "source": [
    "Посмотрим на округлённые минуты разговора:"
   ]
  },
  {
   "cell_type": "code",
   "execution_count": 48,
   "metadata": {
    "colab": {
     "base_uri": "https://localhost:8080/",
     "height": 296
    },
    "id": "krfWZlYk79dC",
    "outputId": "18446d15-db8e-4597-ef59-cbb1df7c1f65"
   },
   "outputs": [
    {
     "data": {
      "image/png": "[encoded data removed]",
      "text/plain": [
       "<Figure size 432x288 with 1 Axes>"
      ]
     },
     "metadata": {
      "needs_background": "light"
     },
     "output_type": "display_data"
    }
   ],
   "source": [
    "# Звонки\n",
    "sns.histplot(data=data, x=\"call_sum\").set_title('Количество потраченных минут на звонки в месяц');"
   ]
  },
  {
   "cell_type": "markdown",
   "metadata": {
    "id": "Uth9F0vM8geM"
   },
   "source": [
    "Вполне нормально распределение."
   ]
  },
  {
   "cell_type": "code",
   "execution_count": 49,
   "metadata": {
    "colab": {
     "base_uri": "https://localhost:8080/",
     "height": 265
    },
    "id": "nywlwv7LJVOO",
    "outputId": "09abb32c-cda4-47d5-eb8f-6f7650b54cc8"
   },
   "outputs": [
    {
     "data": {
      "image/png": "[encoded data removed]",
      "text/plain": [
       "<Figure size 432x288 with 1 Axes>"
      ]
     },
     "metadata": {
      "needs_background": "light"
     },
     "output_type": "display_data"
    }
   ],
   "source": [
    "# Посмотрим на минуты с помощью гистограммы плотности\n",
    "data['call_sum'].hist(bins=[0, 250, 500, 750, 1000, 1250, 1500, 2000]);"
   ]
  },
  {
   "cell_type": "code",
   "execution_count": 50,
   "metadata": {
    "colab": {
     "base_uri": "https://localhost:8080/"
    },
    "id": "pPXLbBUL8a1L",
    "outputId": "60027c96-ae85-4abc-f451-f40efd3ec4d5"
   },
   "outputs": [
    {
     "data": {
      "text/plain": [
       "count    3214.000000\n",
       "mean      451.244866\n",
       "std       241.909978\n",
       "min         0.000000\n",
       "25%       282.000000\n",
       "50%       443.000000\n",
       "75%       589.000000\n",
       "max      1673.000000\n",
       "Name: call_sum, dtype: float64"
      ]
     },
     "execution_count": 50,
     "metadata": {},
     "output_type": "execute_result"
    }
   ],
   "source": [
    "data['call_sum'].describe()"
   ]
  },
  {
   "cell_type": "markdown",
   "metadata": {
    "id": "BU1oOXeZ8kfo"
   },
   "source": [
    "В среднем пользователи тратят 443 минуты (медиана) - это около 7 часов разговоров. Ноль минут - это пропущенные звонки.\n",
    "\n",
    "Большинство пользователей тратит на разговоры от 280 до 580 минут в месяц."
   ]
  },
  {
   "cell_type": "markdown",
   "metadata": {
    "id": "32ex9D6eVVRr"
   },
   "source": [
    "Статистика по звонкам внутри тарифов:"
   ]
  },
  {
   "cell_type": "code",
   "execution_count": 51,
   "metadata": {
    "colab": {
     "base_uri": "https://localhost:8080/"
    },
    "id": "Nm7RSFEYV8Oa",
    "outputId": "398fa8fd-0fed-47a0-a6e2-4222382a2977",
    "scrolled": false
   },
   "outputs": [
    {
     "name": "stdout",
     "output_type": "stream",
     "text": [
      "count    2229.000000\n",
      "mean      417.934948\n",
      "std       190.313730\n",
      "min         0.000000\n",
      "25%       282.000000\n",
      "50%       422.000000\n",
      "75%       545.000000\n",
      "max      1435.000000\n",
      "Name: call_sum, dtype: float64\n",
      "\n",
      "count     985.000000\n",
      "mean      526.623350\n",
      "std       317.606098\n",
      "min         0.000000\n",
      "25%       284.000000\n",
      "50%       518.000000\n",
      "75%       752.000000\n",
      "max      1673.000000\n",
      "Name: call_sum, dtype: float64\n"
     ]
    }
   ],
   "source": [
    "# Посмотрим на разность тарифов\n",
    "\n",
    "print(data_tariff_smart['call_sum'].describe())\n",
    "print()\n",
    "print(data_tariff_ultra['call_sum'].describe())"
   ]
  },
  {
   "cell_type": "markdown",
   "metadata": {},
   "source": [
    "В ultra не превышают лимит в 3000, в отличие от smart, но тратят в среднем больше времени на разговоры (518 против 422 минут).\n",
    "\n",
    "В smart в среднем не превышают лимит в 500 минут.\n",
    "\n",
    "В ultra больше разброс (std) между месяцами. "
   ]
  },
  {
   "cell_type": "code",
   "execution_count": 52,
   "metadata": {},
   "outputs": [
    {
     "name": "stdout",
     "output_type": "stream",
     "text": [
      "smart call_sum_min дисперсия:  36219.31578434428\n",
      "smart call_sum_min std:  190.27103471651876\n",
      "ultra call_sum_min дисперсия:  100873.63339730098\n",
      "ultra call_sum_min std:  317.44483554974113\n"
     ]
    }
   ],
   "source": [
    "# Считаем дисперсию выборки и std\n",
    "\n",
    "print('smart call_sum_min дисперсия: ', np.var(data_tariff_smart['call_sum'], ddof=1))\n",
    "print('smart call_sum_min std: ', np.std(data_tariff_smart['call_sum']))\n",
    "\n",
    "print('ultra call_sum_min дисперсия: ', np.var(data_tariff_ultra['call_sum'], ddof=1))\n",
    "print('ultra call_sum_min std: ', np.std(data_tariff_ultra['call_sum']))"
   ]
  },
  {
   "cell_type": "code",
   "execution_count": 53,
   "metadata": {
    "colab": {
     "base_uri": "https://localhost:8080/",
     "height": 265
    },
    "id": "wMT9XkhuVZEd",
    "outputId": "b78891b0-b118-43b5-9d74-5bd0e7d5aa6f"
   },
   "outputs": [
    {
     "data": {
      "image/png": "[encoded data removed]",
      "text/plain": [
       "<Figure size 432x288 with 1 Axes>"
      ]
     },
     "metadata": {
      "needs_background": "light"
     },
     "output_type": "display_data"
    }
   ],
   "source": [
    "# Посмотрим на минуты с помощью гистограммы плотности\n",
    "ax = data_tariff_smart['call_sum'].hist(alpha=0.7);\n",
    "ax2 = data_tariff_ultra['call_sum'].hist(alpha=0.5);\n",
    "\n",
    "ax.set_title('Потраченных минут на звонки');\n",
    "ax.set_xlabel('мин.');\n",
    "ax.set_ylabel('количество');"
   ]
  },
  {
   "cell_type": "code",
   "execution_count": 54,
   "metadata": {},
   "outputs": [
    {
     "data": {
      "text/plain": [
       "33.82682817406909"
      ]
     },
     "execution_count": 54,
     "metadata": {},
     "output_type": "execute_result"
    }
   ],
   "source": [
    "# Посмотрим как часто превышают лимит\n",
    "data_tariff_smart.query('call_sum > 500')['user_id'].count() / data_tariff_smart['user_id'].count() * 100"
   ]
  },
  {
   "cell_type": "markdown",
   "metadata": {},
   "source": [
    "В 33% случаев пользователи тарифа Smart превышают месячный лимит и доплачивают за минуты."
   ]
  },
  {
   "cell_type": "code",
   "execution_count": 55,
   "metadata": {
    "colab": {
     "base_uri": "https://localhost:8080/",
     "height": 296
    },
    "id": "-UiM152iAVKt",
    "outputId": "b973f1c6-0104-4244-95b2-7cc18ca10756"
   },
   "outputs": [
    {
     "data": {
      "image/png": "[encoded data removed]",
      "text/plain": [
       "<Figure size 432x288 with 1 Axes>"
      ]
     },
     "metadata": {
      "needs_background": "light"
     },
     "output_type": "display_data"
    }
   ],
   "source": [
    "# СМС\n",
    "sns.histplot(data=data, x=\"message_count\").set_title('Количество потраченных SMS в месяц');"
   ]
  },
  {
   "cell_type": "markdown",
   "metadata": {
    "id": "sNI_twIpArxP"
   },
   "source": [
    "Получили распределение Пуассона. Мода на 0 - много тех, кто не отправляют смски.\n"
   ]
  },
  {
   "cell_type": "code",
   "execution_count": 56,
   "metadata": {
    "colab": {
     "base_uri": "https://localhost:8080/"
    },
    "id": "9I1K532OAucj",
    "outputId": "872f86c2-0591-4d10-a8c8-ae3eb6c441d9"
   },
   "outputs": [
    {
     "data": {
      "text/plain": [
       "count    3214.000000\n",
       "mean       38.281269\n",
       "std        36.148326\n",
       "min         0.000000\n",
       "25%         9.000000\n",
       "50%        30.000000\n",
       "75%        57.000000\n",
       "max       224.000000\n",
       "Name: message_count, dtype: float64"
      ]
     },
     "execution_count": 56,
     "metadata": {},
     "output_type": "execute_result"
    }
   ],
   "source": [
    "data['message_count'].describe()"
   ]
  },
  {
   "cell_type": "markdown",
   "metadata": {
    "id": "h4ivMl2qA1mT"
   },
   "source": [
    "В среднем пользователи отправляют 30 сообщений (медиана) в месяц. "
   ]
  },
  {
   "cell_type": "code",
   "execution_count": 57,
   "metadata": {
    "colab": {
     "base_uri": "https://localhost:8080/"
    },
    "id": "Tau3YdEEcxUt",
    "outputId": "df2caba5-1bf6-4503-9d37-95af2bcc6067"
   },
   "outputs": [
    {
     "name": "stdout",
     "output_type": "stream",
     "text": [
      "count    2229.000000\n",
      "mean       33.384029\n",
      "std        28.227876\n",
      "min         0.000000\n",
      "25%        10.000000\n",
      "50%        28.000000\n",
      "75%        51.000000\n",
      "max       143.000000\n",
      "Name: message_count, dtype: float64\n",
      "\n",
      "count    985.000000\n",
      "mean      49.363452\n",
      "std       47.804457\n",
      "min        0.000000\n",
      "25%        6.000000\n",
      "50%       38.000000\n",
      "75%       79.000000\n",
      "max      224.000000\n",
      "Name: message_count, dtype: float64\n"
     ]
    }
   ],
   "source": [
    "# Посмотрим на разность тарифов\n",
    "\n",
    "print(data_tariff_smart['message_count'].describe())\n",
    "print()\n",
    "print(data_tariff_ultra['message_count'].describe())"
   ]
  },
  {
   "cell_type": "code",
   "execution_count": 58,
   "metadata": {},
   "outputs": [
    {
     "name": "stdout",
     "output_type": "stream",
     "text": [
      "smart message_count дисперсия:  796.8129584480083\n",
      "smart message_count std:  28.221542886898938\n",
      "ultra message_count дисперсия:  2285.2661425446736\n",
      "ultra message_count std:  47.78018496610161\n"
     ]
    }
   ],
   "source": [
    "# Считаем дисперсию выборки и std\n",
    "\n",
    "print('smart message_count дисперсия: ', np.var(data_tariff_smart['message_count'], ddof=1))\n",
    "print('smart message_count std: ', np.std(data_tariff_smart['message_count']))\n",
    "\n",
    "print('ultra message_count дисперсия: ', np.var(data_tariff_ultra['message_count'], ddof=1))\n",
    "print('ultra message_count std: ', np.std(data_tariff_ultra['message_count']))"
   ]
  },
  {
   "cell_type": "code",
   "execution_count": 59,
   "metadata": {
    "colab": {
     "base_uri": "https://localhost:8080/",
     "height": 265
    },
    "id": "H3hOl1nYc2YU",
    "outputId": "c1e2478b-335c-4a59-8ab4-e4a1fb945801"
   },
   "outputs": [
    {
     "data": {
      "image/png": "[encoded data removed]",
      "text/plain": [
       "<Figure size 432x288 with 1 Axes>"
      ]
     },
     "metadata": {
      "needs_background": "light"
     },
     "output_type": "display_data"
    }
   ],
   "source": [
    "# Посмотрим на SMS с помощью гистограммы плотности\n",
    "ax = data_tariff_smart['message_count'].hist(bins=[0, 10, 25, 50, 75, 100, 125, 150, 200, 250], alpha=0.5);\n",
    "ax2 = data_tariff_ultra['message_count'].hist(bins=[0, 10, 25, 50, 75, 100, 125, 150, 200, 250], alpha=0.5);\n",
    "\n",
    "ax.set_title('Потраченных SMS');\n",
    "ax.set_xlabel('SMS');\n",
    "ax.set_ylabel('Пользователей');"
   ]
  },
  {
   "cell_type": "code",
   "execution_count": 60,
   "metadata": {},
   "outputs": [
    {
     "data": {
      "text/plain": [
       "25.3028263795424"
      ]
     },
     "execution_count": 60,
     "metadata": {},
     "output_type": "execute_result"
    }
   ],
   "source": [
    "# Посмотрим какой процент в smart превышает лимит SMS\n",
    "data_tariff_smart.query('message_count > 50')['user_id'].count() / data_tariff_smart['message_count'].count() * 100"
   ]
  },
  {
   "cell_type": "markdown",
   "metadata": {},
   "source": [
    "На графике в тарифе \"ultra\" видна мода на нулевом значении, т.е. немалое количество людей на этом тарифе не пользуются SMS.\n",
    "\n",
    "Но в среднем, в ultra отправляют больше sms: 38 против 28. Это видно также на графике, в диапазоне от 100 до 200 сообщений. Максимум - 224 сообщения, планку в 1000 никто не достигает.\n",
    "\n",
    "В smart, в 25% случаев превышают лимит SMS и доплачивают за сообщения.\n",
    "\n",
    "Разброс в ultra по sms больше: 47 против 28\n"
   ]
  },
  {
   "cell_type": "code",
   "execution_count": 61,
   "metadata": {
    "colab": {
     "base_uri": "https://localhost:8080/",
     "height": 296
    },
    "id": "I03e3YnpLMV7",
    "outputId": "0c531b94-b1ad-46b3-d581-05ad9309482d",
    "scrolled": true
   },
   "outputs": [
    {
     "data": {
      "image/png": "[encoded data removed]",
      "text/plain": [
       "<Figure size 432x288 with 1 Axes>"
      ]
     },
     "metadata": {
      "needs_background": "light"
     },
     "output_type": "display_data"
    }
   ],
   "source": [
    "# Траты на интернет с уже округлёнными значениями\n",
    "sns.histplot(data=data, x=\"mb_used_gb\").set_title('Количество затраченных Гб на звонки в месяц');"
   ]
  },
  {
   "cell_type": "code",
   "execution_count": 62,
   "metadata": {},
   "outputs": [
    {
     "data": {
      "text/plain": [
       "0    17.0\n",
       "dtype: float64"
      ]
     },
     "execution_count": 62,
     "metadata": {},
     "output_type": "execute_result"
    }
   ],
   "source": [
    "data['mb_used_gb'].mode()"
   ]
  },
  {
   "cell_type": "markdown",
   "metadata": {
    "id": "HiuMyUduRP-x"
   },
   "source": [
    "График имеет вид нормального распределения. Отчётливая мода на графике - 17 Гб."
   ]
  },
  {
   "cell_type": "code",
   "execution_count": 63,
   "metadata": {
    "colab": {
     "base_uri": "https://localhost:8080/"
    },
    "id": "S5SO1u9QLSqI",
    "outputId": "dd305859-d871-47a1-cb9b-d4ce80d4bfce"
   },
   "outputs": [
    {
     "data": {
      "text/plain": [
       "count    3214.000000\n",
       "mean       17.299004\n",
       "std         7.400584\n",
       "min         0.000000\n",
       "25%        13.000000\n",
       "50%        17.000000\n",
       "75%        21.000000\n",
       "max        49.000000\n",
       "Name: mb_used_gb, dtype: float64"
      ]
     },
     "execution_count": 63,
     "metadata": {},
     "output_type": "execute_result"
    }
   ],
   "source": [
    "data['mb_used_gb'].describe()"
   ]
  },
  {
   "cell_type": "code",
   "execution_count": 64,
   "metadata": {
    "colab": {
     "base_uri": "https://localhost:8080/"
    },
    "id": "sgw8kWqAeEVj",
    "outputId": "2f724a01-4f90-4137-fe1a-fc40e9cc37b2"
   },
   "outputs": [
    {
     "name": "stdout",
     "output_type": "stream",
     "text": [
      "count    2229.000000\n",
      "mean       16.328847\n",
      "std         5.747061\n",
      "min         0.000000\n",
      "25%        13.000000\n",
      "50%        17.000000\n",
      "75%        20.000000\n",
      "max        38.000000\n",
      "Name: mb_used_gb, dtype: float64\n",
      "\n",
      "count    985.000000\n",
      "mean      19.494416\n",
      "std        9.853511\n",
      "min        0.000000\n",
      "25%       12.000000\n",
      "50%       19.000000\n",
      "75%       27.000000\n",
      "max       49.000000\n",
      "Name: mb_used_gb, dtype: float64\n"
     ]
    }
   ],
   "source": [
    "# Посмотрим на разность тарифов\n",
    "\n",
    "print(data_tariff_smart['mb_used_gb'].describe())\n",
    "print()\n",
    "print(data_tariff_ultra['mb_used_gb'].describe())"
   ]
  },
  {
   "cell_type": "markdown",
   "metadata": {},
   "source": [
    "В ultra в среднем используют больше трафика: 19 Гб против 17 Гб. "
   ]
  },
  {
   "cell_type": "code",
   "execution_count": 65,
   "metadata": {
    "scrolled": false
   },
   "outputs": [
    {
     "name": "stdout",
     "output_type": "stream",
     "text": [
      "В smart: 58.50157021085689\n",
      "В ultra: 13.604060913705585\n"
     ]
    }
   ],
   "source": [
    "# Сколько превышают лимит в Smart и Ultra\n",
    "print('В smart:', data_tariff_smart.query('mb_used_gb > 15')['user_id'].count() / data_tariff_smart['user_id'].count() * 100)\n",
    "print('В ultra:', data_tariff_ultra.query('mb_used_gb > 30')['user_id'].count() / data_tariff_ultra['user_id'].count() * 100)"
   ]
  },
  {
   "cell_type": "markdown",
   "metadata": {},
   "source": [
    "Пользователи всех тарифов превышают месячный лимит тарифа. В smart больше половины - 58%. В ultra всего лишь 13%."
   ]
  },
  {
   "cell_type": "code",
   "execution_count": 66,
   "metadata": {},
   "outputs": [
    {
     "data": {
      "text/plain": [
       "64.46700507614213"
      ]
     },
     "execution_count": 66,
     "metadata": {},
     "output_type": "execute_result"
    }
   ],
   "source": [
    "# Сколько в ultra превысили 15гб лимита\n",
    "data_tariff_ultra.query('mb_used_gb > 15')['user_id'].count() / data_tariff_ultra['user_id'].count() * 100"
   ]
  },
  {
   "cell_type": "markdown",
   "metadata": {},
   "source": [
    "Если бы пользователи ultra перешли бы в smart, то в 64% случаев они превышали бы лимит в 15 Гб."
   ]
  },
  {
   "cell_type": "code",
   "execution_count": 67,
   "metadata": {},
   "outputs": [
    {
     "name": "stdout",
     "output_type": "stream",
     "text": [
      "smart mb_used_gb дисперсия:  33.02870517811161\n",
      "smart mb_used_gb std:  5.745771267187499\n",
      "ultra mb_used_gb дисперсия:  97.09168626965459\n",
      "ultra mb_used_gb std:  9.848508314957495\n"
     ]
    }
   ],
   "source": [
    "# Считаем дисперсию выборки и std\n",
    "\n",
    "print('smart mb_used_gb дисперсия: ', np.var(data_tariff_smart['mb_used_gb'], ddof=1))\n",
    "print('smart mb_used_gb std: ', np.std(data_tariff_smart['mb_used_gb']))\n",
    "\n",
    "print('ultra mb_used_gb дисперсия: ', np.var(data_tariff_ultra['mb_used_gb'], ddof=1))\n",
    "print('ultra mb_used_gb std: ', np.std(data_tariff_ultra['mb_used_gb']))"
   ]
  },
  {
   "cell_type": "code",
   "execution_count": 68,
   "metadata": {
    "colab": {
     "base_uri": "https://localhost:8080/",
     "height": 265
    },
    "id": "efdO28NneKoa",
    "outputId": "9d8b36d4-11aa-45cb-a4cd-e5f5c3b49c0f"
   },
   "outputs": [
    {
     "data": {
      "image/png": "[encoded data removed]",
      "text/plain": [
       "<Figure size 432x288 with 1 Axes>"
      ]
     },
     "metadata": {
      "needs_background": "light"
     },
     "output_type": "display_data"
    }
   ],
   "source": [
    "# Посмотрим на Интернет с помощью гистограммы плотности\n",
    "ax = data_tariff_smart['mb_used_gb'].hist(bins=[0, 5, 10, 15, 20, 25, 30, 35, 40, 50], alpha=0.5);\n",
    "ax = data_tariff_ultra['mb_used_gb'].hist(bins=[0, 5, 10, 15, 20, 25, 30, 35, 40, 50], alpha=0.5);\n",
    "\n",
    "ax.set_title('Трафик');\n",
    "ax.set_xlabel('Гб');\n",
    "ax.set_ylabel('Пользователей');"
   ]
  },
  {
   "cell_type": "markdown",
   "metadata": {},
   "source": [
    "**Выводы:**\n",
    "\n",
    "* Созданые два датафрейма со срезами данных по тарифам.\n",
    "\n",
    "\n",
    "* **Выводы по выручке**:\n",
    "* Медиана - 1653 руб. за месяц. Максимальная сумма - 6770 руб., а минимальная на уровне стоимость тарифа - 550 руб.\n",
    "* На графике две моды: обе соответствуют стоимость тарифов smart (550 руб.) и ultra (1950 руб.). Основная сумма трат - до 2000 руб.\n",
    "* В smart медиана в два раза выше абон. платы. Это говорит о том, что пользователи smart активно платят за превышение лимита.\n",
    "В ultra центр нормального распределение - в рамках абон. платы.\n",
    "* Суммарно тариф smart в выборке приносит больше денег, несмотря на то что абон. плата ниже. В т.ч. за месяц.\n",
    "* Выручка ultra на пользователя в месяц гораздо больше: 2070 руб. против 1290 руб.\n",
    "* В ultra разброс выручка в два раза меньше.\n",
    "    \n",
    "    \n",
    "* **Выводы по звонкам**:\n",
    "* В среднем пользователи тратят 443 минуты (медиана) - это около 7 часов разговоров. Ноль минут - это пропущенные звонки.\n",
    "Большинство пользователей тратит на разговоры от 280 до 580 минут в месяц.\n",
    "* В ultra не превышают лимит в 3000, в отличие от smart, но тратят в среднем больше времени на разговоры (518 против 422 минут).\n",
    "* В smart в среднем не превышают лимит в 500 минут.\n",
    "* В ultra больше разброс (std) между месяцами.\n",
    "* В 33% случаев пользователи тарифа Smart превышают месячный лимит и доплачивают за минуты.\n",
    "* Получили распределение Пуассона. Мода на 0 - много тех, кто не отправляют смски.\n",
    "* В среднем пользователи отправляют 30 сообщений (медиана) в месяц.\n",
    "\n",
    "\n",
    "* **Выводы по сообщениям**:\n",
    "* График имеет вид распределения Пуассона. Мода в графике на 0 - большое количество пользователей, кот. не отправляют смс.\n",
    "* В среднем пользователи отправляют 30 сообщений (медиана) в месяц.\n",
    "* На графике в тарифе \"ultra\" видна мода на нулевом значении, т.е. немалое количество людей на этом тарифе не пользуются SMS.\n",
    "* Но в среднем, в ultra отправляют больше sms: 38 против 28. Это видно также на графике, в диапазоне от 100 до 200 сообщений. Максимум - 224 сообщения, планку в 1000 никто не достигает.\n",
    "* В smart, в 25% случаев превышают лимит SMS и доплачивают за сообщения.\n",
    "* Разброс в ultra по sms больше: 47 против 28\n",
    "\n",
    "\n",
    "* **Выводы по трафику**:\n",
    "* График имеет вид нормального распределения. Отчётливая мода на графике - 17 Гб.\n",
    "* В ultra в среднем используют больше трафика: 19 Гб против 17 Гб.\n",
    "* Пользователи всех тарифов превышают месячный лимит тарифа. В smart больше половины - 58%. В ultra всего лишь 13%.\n",
    "* Если бы пользователи ultra перешли бы в smart, то в 64% случаев они превышали бы лимит в 15 Гб."
   ]
  },
  {
   "cell_type": "markdown",
   "metadata": {
    "id": "jV1fd5BxetG2"
   },
   "source": [
    "### Шаг 4. Проверка гипотез\n",
    "<a id='level4'></a>"
   ]
  },
  {
   "cell_type": "markdown",
   "metadata": {
    "id": "7HuJJVlje2mL"
   },
   "source": [
    "Гипотезы:\n",
    "\n",
    "* средняя выручка пользователей тарифов «Ультра» и «Смарт» различаются;\n",
    "* средняя выручка пользователей из Москвы отличается от выручки пользователей из других регионов."
   ]
  },
  {
   "cell_type": "markdown",
   "metadata": {},
   "source": [
    "Возьмём первую гипотезу. \n",
    "\n",
    "Нулевая гипотеза: средняя выручка пользователей тарифов «Ультра» и «Смарт» не различаются. \n",
    "\n",
    "Альтернативная гипотеза: средняя выручка пользователей тарифов «Ультра» и «Смарт» различаются. "
   ]
  },
  {
   "cell_type": "code",
   "execution_count": 69,
   "metadata": {},
   "outputs": [
    {
     "name": "stdout",
     "output_type": "stream",
     "text": [
      "p-значение: 4.2606313931076085e-250\n",
      "Отвергаем нулевую гипотезу\n"
     ]
    }
   ],
   "source": [
    "# Установим параметр чувствительности поменьше - в 0.01%\n",
    "alpha = .01\n",
    "\n",
    "# Выключаем equal_var, т.к. количество строк разные и дисперсия тоже\n",
    "results = st.ttest_ind(\n",
    "    data_tariff_smart['cost'], \n",
    "    data_tariff_ultra['cost'], \n",
    "    equal_var = False)\n",
    "\n",
    "print('p-значение:', results.pvalue)\n",
    "\n",
    "if results.pvalue < alpha:\n",
    "    print(\"Отвергаем нулевую гипотезу\")\n",
    "else:\n",
    "    print(\"Не получилось отвергнуть нулевую гипотезу\") "
   ]
  },
  {
   "cell_type": "markdown",
   "metadata": {},
   "source": [
    "Итог: Не отвергаем нулевую гипотезу - средняя выручка пользователей тарифов «Ультра» и «Смарт» различаются. Даже если повысим пороговое значение."
   ]
  },
  {
   "cell_type": "markdown",
   "metadata": {},
   "source": [
    "**Вторая гипотеза**\n",
    "\n",
    "Нулевая гипотеза: средняя выручка пользователей из Москвы не отличается от выручки пользователей из других регионов.\n",
    "\n",
    "Альтернативная гипотеза: средняя выручка пользователей из Москвы отличается от выручки пользователей из других регионов. "
   ]
  },
  {
   "cell_type": "code",
   "execution_count": 70,
   "metadata": {},
   "outputs": [
    {
     "name": "stdout",
     "output_type": "stream",
     "text": [
      "p-значение: 0.5257376663729298\n",
      "Не получилось отвергнуть нулевую гипотезу\n",
      "Москва: 1750.0\n",
      "Регионы: 1583.0\n"
     ]
    }
   ],
   "source": [
    "# Сделаем срез данных по гео\n",
    "data_msc = data.query('city == \"Москва\"')\n",
    "data_regions = data.query('city != \"Москва\"')\n",
    "\n",
    "alpha = .05\n",
    "\n",
    "# Здесь тоже выключим equal_var - выборки разные по размеру\n",
    "results = st.ttest_ind(\n",
    "    data_msc['cost'], \n",
    "    data_regions['cost'], \n",
    "    equal_var = False)\n",
    "\n",
    "print('p-значение:', results.pvalue)\n",
    "\n",
    "if results.pvalue < alpha:\n",
    "    print(\"Отвергаем нулевую гипотезу\")\n",
    "else:\n",
    "    print(\"Не получилось отвергнуть нулевую гипотезу\") \n",
    "    \n",
    "print('Москва:', data_msc['cost'].median())\n",
    "print('Регионы:', data_regions['cost'].median())"
   ]
  },
  {
   "cell_type": "markdown",
   "metadata": {},
   "source": [
    "Нулевую гипотезу не удалось отвергнуть.\n",
    "\n",
    "Полученное значение p-value говорит о том, что хотя средний чек в регионах разный, с вероятностью в почти 52% такое или большее различие можно получить случайно. Это очень большая вероятность, чтобы делать вывод о значимом различии между средними чеками.\n",
    "\n",
    "Пороговое значение на результат не влияет."
   ]
  },
  {
   "cell_type": "code",
   "execution_count": 71,
   "metadata": {},
   "outputs": [
    {
     "name": "stdout",
     "output_type": "stream",
     "text": [
      "p-значение: 0.1912450522572209\n",
      "Не получилось отвергнуть нулевую гипотезу\n"
     ]
    }
   ],
   "source": [
    "# Приведены два датасета: сумма покупок, совершённых за месяц посетителями ...\n",
    "\n",
    "sample_1 = [3071, 3636, 3454, 3151, 2185, 3259, 1727, 2263, 2015,\n",
    "2582, 4815, 633, 3186, 887, 2028, 3589, 2564, 1422, 1785,\n",
    "3180, 1770, 2716, 2546, 1848, 4644, 3134, 475, 2686,\n",
    "1838, 3352]\n",
    "sample_2 = [1211, 1228, 2157, 3699, 600, 1898, 1688, 1420, 5048, 3007,\n",
    "509, 3777, 5583, 3949, 121, 1674, 4300, 1338, 3066,\n",
    "3562, 1010, 2311, 462, 863, 2021, 528, 1849, 255,\n",
    "1740, 2596]\n",
    "alpha = .05 # критический уровень статистической значимости\n",
    "# если p-value окажется меньше него - отвергнем гипотезу\n",
    "results = st.ttest_ind(\n",
    "sample_1,\n",
    "sample_2)\n",
    "print('p-значение:', results.pvalue)\n",
    "if (results.pvalue < alpha):\n",
    "    print(\"Отвергаем нулевую гипотезу\")\n",
    "else:\n",
    "\n",
    "    print(\"Не получилось отвергнуть нулевую гипотезу\")\n",
    "    "
   ]
  },
  {
   "cell_type": "markdown",
   "metadata": {},
   "source": [
    "## Общие выводы"
   ]
  },
  {
   "cell_type": "markdown",
   "metadata": {},
   "source": [
    "* Изначально было мало ошибок в данных и отсутствовали пропущенные значения, дубликаты. Была выполнена проверка на дубликаты категориальных значений.\n",
    "* Возраст пользователей начинается с 18 лет. Основной возраст - от 18 до 62 лет. Пик графика на возрасте 46 лет. Вторая мода на уровне 26-28 лет. Самому старому клиенту 75 лет.\n",
    "* Были произведены расчёт по пользователям и месяцам. Получили таблицу с суммой звонков, сообщений, трафика, выручки, где индексами были - id юзера и месяц. А значение - сумма за месяц.\n",
    "* В тарифе smart едиана в два раза выше от абонентской платы и составляет 1023 руб. Значит пользователи этого тарифа больше платят за превышение лимита. Это видно по стандартному отклонению. В smart = 818 руб. Ultra = 376 руб.\n",
    "* Средняя выручка (медиана) за месяц в ultra больше: 1950 руб. против 1023 руб.\n",
    "* Суммарная выручка в smart, в выборке, больше почти на 800 т.р. Соотношение с выручкой в месяц примерно такое же.\n",
    "* В среднем, в ultra отправляют больше sms: 38 против 28.\n",
    "* В smart, в 25% случаев превышают лимит SMS и доплачивают за сообщения.\n",
    "* В Smart гораздо чаще превышают лимит тариф на трафик - в 58% случаев. В ultra лишь в 13%.\n",
    "* В Ultra, в среднем тратят на 2Гб больше трафика. 64% пользователей ultra превышают лимит 15 гб, кот. у smart. Можно сказать, что пользователи ultra пользуются, в большей степени, расширенным лимитом трафика, чем звонками и смс.\n",
    "* Были проверены две гипотезы. Результаты: Средняя выручка пользователей тарифов «Ультра» и «Смарт» различаются. А средняя выручка пользователей из Москвы не отличается от выручки пользователей из других регионов"
   ]
  },
  {
   "cell_type": "markdown",
   "metadata": {},
   "source": [
    "**Выводы по сравнению выручек:**\n",
    "\n",
    "* Smart суммарно принесла больше денег в выборке: **2 875 351 руб.** против **2 039 100 руб.**\n",
    "* Выручка ultra в месяц: **239 612** руб. Smart: **169 925** руб.\n",
    "* Выручка smart в месяц на пользователя: **1290 руб.** Выручка ultra в месяц на пользователя: **2070 руб.**\n",
    "\n",
    "* Smart в выборке принесла больше денег, несмотря на то что абон. плата в ultra выше. Компании выгоднее оставлять пользователей на тарифе smart и брать экстра-оплату. Либо предлагать перейти на ultra, если важна лояльность, а не выручка компании."
   ]
  }
 ],
 "metadata": {
  "ExecuteTimeLog": [
   {
    "duration": 1138,
    "start_time": "2022-06-01T18:17:47.460Z"
   },
   {
    "duration": 1649,
    "start_time": "2022-06-01T18:17:48.600Z"
   },
   {
    "duration": 71,
    "start_time": "2022-06-01T18:17:50.251Z"
   },
   {
    "duration": 17,
    "start_time": "2022-06-01T18:17:50.324Z"
   },
   {
    "duration": 27,
    "start_time": "2022-06-01T18:17:50.344Z"
   },
   {
    "duration": 26,
    "start_time": "2022-06-01T18:17:50.374Z"
   },
   {
    "duration": 9,
    "start_time": "2022-06-01T18:17:50.402Z"
   },
   {
    "duration": 14,
    "start_time": "2022-06-01T18:17:50.412Z"
   },
   {
    "duration": 9,
    "start_time": "2022-06-01T18:17:50.427Z"
   },
   {
    "duration": 42,
    "start_time": "2022-06-01T18:17:50.437Z"
   },
   {
    "duration": 291,
    "start_time": "2022-06-01T18:17:50.480Z"
   },
   {
    "duration": 124,
    "start_time": "2022-06-01T18:17:50.773Z"
   },
   {
    "duration": 4,
    "start_time": "2022-06-01T18:17:50.899Z"
   },
   {
    "duration": 25,
    "start_time": "2022-06-01T18:17:50.906Z"
   },
   {
    "duration": 108,
    "start_time": "2022-06-01T18:17:50.934Z"
   },
   {
    "duration": 209,
    "start_time": "2022-06-01T18:17:51.044Z"
   },
   {
    "duration": 117,
    "start_time": "2022-06-01T18:17:51.255Z"
   },
   {
    "duration": 0,
    "start_time": "2022-06-01T18:17:51.374Z"
   },
   {
    "duration": 0,
    "start_time": "2022-06-01T18:17:51.375Z"
   },
   {
    "duration": 0,
    "start_time": "2022-06-01T18:17:51.376Z"
   },
   {
    "duration": 0,
    "start_time": "2022-06-01T18:17:51.377Z"
   },
   {
    "duration": 0,
    "start_time": "2022-06-01T18:17:51.378Z"
   },
   {
    "duration": 0,
    "start_time": "2022-06-01T18:17:51.379Z"
   },
   {
    "duration": 0,
    "start_time": "2022-06-01T18:17:51.381Z"
   },
   {
    "duration": 0,
    "start_time": "2022-06-01T18:17:51.382Z"
   },
   {
    "duration": 0,
    "start_time": "2022-06-01T18:17:51.383Z"
   },
   {
    "duration": 0,
    "start_time": "2022-06-01T18:17:51.384Z"
   },
   {
    "duration": 0,
    "start_time": "2022-06-01T18:17:51.385Z"
   },
   {
    "duration": 0,
    "start_time": "2022-06-01T18:17:51.386Z"
   },
   {
    "duration": 0,
    "start_time": "2022-06-01T18:17:51.387Z"
   },
   {
    "duration": 0,
    "start_time": "2022-06-01T18:17:51.388Z"
   },
   {
    "duration": 0,
    "start_time": "2022-06-01T18:17:51.389Z"
   },
   {
    "duration": 0,
    "start_time": "2022-06-01T18:17:51.390Z"
   },
   {
    "duration": 0,
    "start_time": "2022-06-01T18:17:51.391Z"
   },
   {
    "duration": 0,
    "start_time": "2022-06-01T18:17:51.392Z"
   },
   {
    "duration": 0,
    "start_time": "2022-06-01T18:17:51.393Z"
   },
   {
    "duration": 0,
    "start_time": "2022-06-01T18:17:51.394Z"
   },
   {
    "duration": 0,
    "start_time": "2022-06-01T18:17:51.395Z"
   },
   {
    "duration": 0,
    "start_time": "2022-06-01T18:17:51.396Z"
   },
   {
    "duration": 0,
    "start_time": "2022-06-01T18:17:51.397Z"
   },
   {
    "duration": 0,
    "start_time": "2022-06-01T18:17:51.398Z"
   },
   {
    "duration": 0,
    "start_time": "2022-06-01T18:17:51.399Z"
   },
   {
    "duration": 0,
    "start_time": "2022-06-01T18:17:51.400Z"
   },
   {
    "duration": 0,
    "start_time": "2022-06-01T18:17:51.401Z"
   },
   {
    "duration": 0,
    "start_time": "2022-06-01T18:17:51.402Z"
   },
   {
    "duration": 0,
    "start_time": "2022-06-01T18:17:51.403Z"
   },
   {
    "duration": 0,
    "start_time": "2022-06-01T18:17:51.404Z"
   },
   {
    "duration": 0,
    "start_time": "2022-06-01T18:17:51.406Z"
   },
   {
    "duration": 0,
    "start_time": "2022-06-01T18:17:51.407Z"
   },
   {
    "duration": 0,
    "start_time": "2022-06-01T18:17:51.407Z"
   },
   {
    "duration": 0,
    "start_time": "2022-06-01T18:17:51.465Z"
   },
   {
    "duration": 0,
    "start_time": "2022-06-01T18:17:51.467Z"
   },
   {
    "duration": 0,
    "start_time": "2022-06-01T18:17:51.467Z"
   },
   {
    "duration": 0,
    "start_time": "2022-06-01T18:17:51.469Z"
   },
   {
    "duration": 0,
    "start_time": "2022-06-01T18:17:51.469Z"
   },
   {
    "duration": 0,
    "start_time": "2022-06-01T18:17:51.470Z"
   },
   {
    "duration": 0,
    "start_time": "2022-06-01T18:17:51.472Z"
   },
   {
    "duration": 0,
    "start_time": "2022-06-01T18:17:51.473Z"
   },
   {
    "duration": 0,
    "start_time": "2022-06-01T18:17:51.474Z"
   },
   {
    "duration": 51,
    "start_time": "2022-06-01T18:19:24.254Z"
   },
   {
    "duration": 1157,
    "start_time": "2022-06-01T18:20:53.325Z"
   },
   {
    "duration": 903,
    "start_time": "2022-06-01T18:20:54.483Z"
   },
   {
    "duration": 53,
    "start_time": "2022-06-01T18:20:55.388Z"
   },
   {
    "duration": 16,
    "start_time": "2022-06-01T18:20:55.443Z"
   },
   {
    "duration": 28,
    "start_time": "2022-06-01T18:20:55.460Z"
   },
   {
    "duration": 20,
    "start_time": "2022-06-01T18:20:55.490Z"
   },
   {
    "duration": 10,
    "start_time": "2022-06-01T18:20:55.512Z"
   },
   {
    "duration": 18,
    "start_time": "2022-06-01T18:20:55.523Z"
   },
   {
    "duration": 7,
    "start_time": "2022-06-01T18:20:55.543Z"
   },
   {
    "duration": 24,
    "start_time": "2022-06-01T18:20:55.553Z"
   },
   {
    "duration": 270,
    "start_time": "2022-06-01T18:20:55.578Z"
   },
   {
    "duration": 119,
    "start_time": "2022-06-01T18:20:55.849Z"
   },
   {
    "duration": 5,
    "start_time": "2022-06-01T18:20:55.969Z"
   },
   {
    "duration": 12,
    "start_time": "2022-06-01T18:20:55.975Z"
   },
   {
    "duration": 87,
    "start_time": "2022-06-01T18:20:55.989Z"
   },
   {
    "duration": 169,
    "start_time": "2022-06-01T18:20:56.078Z"
   },
   {
    "duration": 42,
    "start_time": "2022-06-01T18:20:56.248Z"
   },
   {
    "duration": 47,
    "start_time": "2022-06-01T18:20:56.291Z"
   },
   {
    "duration": 53,
    "start_time": "2022-06-01T18:20:56.340Z"
   },
   {
    "duration": 35,
    "start_time": "2022-06-01T18:20:56.395Z"
   },
   {
    "duration": 52,
    "start_time": "2022-06-01T18:20:56.432Z"
   },
   {
    "duration": 14,
    "start_time": "2022-06-01T18:20:56.486Z"
   },
   {
    "duration": 15,
    "start_time": "2022-06-01T18:20:56.502Z"
   },
   {
    "duration": 12,
    "start_time": "2022-06-01T18:20:56.518Z"
   },
   {
    "duration": 37,
    "start_time": "2022-06-01T18:20:56.531Z"
   },
   {
    "duration": 17,
    "start_time": "2022-06-01T18:20:56.570Z"
   },
   {
    "duration": 20,
    "start_time": "2022-06-01T18:20:56.589Z"
   },
   {
    "duration": 161,
    "start_time": "2022-06-01T18:20:56.612Z"
   },
   {
    "duration": 10,
    "start_time": "2022-06-01T18:20:56.775Z"
   },
   {
    "duration": 12,
    "start_time": "2022-06-01T18:20:56.786Z"
   },
   {
    "duration": 367,
    "start_time": "2022-06-01T18:20:56.800Z"
   },
   {
    "duration": 210,
    "start_time": "2022-06-01T18:20:57.169Z"
   },
   {
    "duration": 14,
    "start_time": "2022-06-01T18:20:57.381Z"
   },
   {
    "duration": 4,
    "start_time": "2022-06-01T18:20:57.397Z"
   },
   {
    "duration": 75,
    "start_time": "2022-06-01T18:20:57.403Z"
   },
   {
    "duration": 7,
    "start_time": "2022-06-01T18:20:57.479Z"
   },
   {
    "duration": 297,
    "start_time": "2022-06-01T18:20:57.487Z"
   },
   {
    "duration": 393,
    "start_time": "2022-06-01T18:20:57.786Z"
   },
   {
    "duration": 286,
    "start_time": "2022-06-01T18:20:58.181Z"
   },
   {
    "duration": 8,
    "start_time": "2022-06-01T18:20:58.469Z"
   },
   {
    "duration": 15,
    "start_time": "2022-06-01T18:20:58.478Z"
   },
   {
    "duration": 6,
    "start_time": "2022-06-01T18:20:58.495Z"
   },
   {
    "duration": 208,
    "start_time": "2022-06-01T18:20:58.502Z"
   },
   {
    "duration": 7,
    "start_time": "2022-06-01T18:20:58.712Z"
   },
   {
    "duration": 215,
    "start_time": "2022-06-01T18:20:58.721Z"
   },
   {
    "duration": 9,
    "start_time": "2022-06-01T18:20:58.938Z"
   },
   {
    "duration": 24,
    "start_time": "2022-06-01T18:20:58.949Z"
   },
   {
    "duration": 10,
    "start_time": "2022-06-01T18:20:58.976Z"
   },
   {
    "duration": 187,
    "start_time": "2022-06-01T18:20:58.990Z"
   },
   {
    "duration": 8,
    "start_time": "2022-06-01T18:20:59.179Z"
   },
   {
    "duration": 279,
    "start_time": "2022-06-01T18:20:59.189Z"
   },
   {
    "duration": 9,
    "start_time": "2022-06-01T18:20:59.470Z"
   },
   {
    "duration": 11,
    "start_time": "2022-06-01T18:20:59.481Z"
   },
   {
    "duration": 10,
    "start_time": "2022-06-01T18:20:59.494Z"
   },
   {
    "duration": 7,
    "start_time": "2022-06-01T18:20:59.507Z"
   },
   {
    "duration": 10,
    "start_time": "2022-06-01T18:20:59.516Z"
   },
   {
    "duration": 162,
    "start_time": "2022-06-01T18:20:59.564Z"
   },
   {
    "duration": 5,
    "start_time": "2022-06-01T18:20:59.728Z"
   },
   {
    "duration": 29,
    "start_time": "2022-06-01T18:20:59.735Z"
   },
   {
    "duration": 4,
    "start_time": "2022-06-01T18:23:21.077Z"
   },
   {
    "duration": 1126,
    "start_time": "2022-06-01T18:24:30.783Z"
   },
   {
    "duration": 919,
    "start_time": "2022-06-01T18:24:31.911Z"
   },
   {
    "duration": 57,
    "start_time": "2022-06-01T18:24:32.831Z"
   },
   {
    "duration": 16,
    "start_time": "2022-06-01T18:24:32.890Z"
   },
   {
    "duration": 12,
    "start_time": "2022-06-01T18:24:32.908Z"
   },
   {
    "duration": 45,
    "start_time": "2022-06-01T18:24:32.922Z"
   },
   {
    "duration": 12,
    "start_time": "2022-06-01T18:24:32.969Z"
   },
   {
    "duration": 13,
    "start_time": "2022-06-01T18:24:32.982Z"
   },
   {
    "duration": 4,
    "start_time": "2022-06-01T18:24:32.997Z"
   },
   {
    "duration": 14,
    "start_time": "2022-06-01T18:24:33.005Z"
   },
   {
    "duration": 281,
    "start_time": "2022-06-01T18:24:33.021Z"
   },
   {
    "duration": 121,
    "start_time": "2022-06-01T18:24:33.304Z"
   },
   {
    "duration": 5,
    "start_time": "2022-06-01T18:24:33.427Z"
   },
   {
    "duration": 9,
    "start_time": "2022-06-01T18:24:33.434Z"
   },
   {
    "duration": 66,
    "start_time": "2022-06-01T18:24:33.464Z"
   },
   {
    "duration": 197,
    "start_time": "2022-06-01T18:24:33.532Z"
   },
   {
    "duration": 42,
    "start_time": "2022-06-01T18:24:33.731Z"
   },
   {
    "duration": 47,
    "start_time": "2022-06-01T18:24:33.775Z"
   },
   {
    "duration": 53,
    "start_time": "2022-06-01T18:24:33.824Z"
   },
   {
    "duration": 38,
    "start_time": "2022-06-01T18:24:33.878Z"
   },
   {
    "duration": 50,
    "start_time": "2022-06-01T18:24:33.917Z"
   },
   {
    "duration": 14,
    "start_time": "2022-06-01T18:24:33.968Z"
   },
   {
    "duration": 18,
    "start_time": "2022-06-01T18:24:33.983Z"
   },
   {
    "duration": 6,
    "start_time": "2022-06-01T18:24:34.003Z"
   },
   {
    "duration": 18,
    "start_time": "2022-06-01T18:24:34.011Z"
   },
   {
    "duration": 52,
    "start_time": "2022-06-01T18:24:34.031Z"
   },
   {
    "duration": 134,
    "start_time": "2022-06-01T18:24:34.084Z"
   },
   {
    "duration": 4,
    "start_time": "2022-06-01T18:24:34.222Z"
   },
   {
    "duration": 12,
    "start_time": "2022-06-01T18:24:34.228Z"
   },
   {
    "duration": 23,
    "start_time": "2022-06-01T18:24:34.242Z"
   },
   {
    "duration": 190,
    "start_time": "2022-06-01T18:24:34.267Z"
   },
   {
    "duration": 118,
    "start_time": "2022-06-01T18:24:34.464Z"
   },
   {
    "duration": 25,
    "start_time": "2022-06-01T18:24:34.583Z"
   },
   {
    "duration": 12,
    "start_time": "2022-06-01T18:24:34.609Z"
   },
   {
    "duration": 20,
    "start_time": "2022-06-01T18:24:34.623Z"
   },
   {
    "duration": 8,
    "start_time": "2022-06-01T18:24:34.644Z"
   },
   {
    "duration": 227,
    "start_time": "2022-06-01T18:24:34.665Z"
   },
   {
    "duration": 400,
    "start_time": "2022-06-01T18:24:34.894Z"
   },
   {
    "duration": 286,
    "start_time": "2022-06-01T18:24:35.295Z"
   },
   {
    "duration": 8,
    "start_time": "2022-06-01T18:24:35.583Z"
   },
   {
    "duration": 12,
    "start_time": "2022-06-01T18:24:35.592Z"
   },
   {
    "duration": 62,
    "start_time": "2022-06-01T18:24:35.605Z"
   },
   {
    "duration": 243,
    "start_time": "2022-06-01T18:24:35.669Z"
   },
   {
    "duration": 8,
    "start_time": "2022-06-01T18:24:35.965Z"
   },
   {
    "duration": 325,
    "start_time": "2022-06-01T18:24:35.975Z"
   },
   {
    "duration": 11,
    "start_time": "2022-06-01T18:24:36.301Z"
   },
   {
    "duration": 62,
    "start_time": "2022-06-01T18:24:36.313Z"
   },
   {
    "duration": 7,
    "start_time": "2022-06-01T18:24:36.377Z"
   },
   {
    "duration": 246,
    "start_time": "2022-06-01T18:24:36.385Z"
   },
   {
    "duration": 7,
    "start_time": "2022-06-01T18:24:36.632Z"
   },
   {
    "duration": 295,
    "start_time": "2022-06-01T18:24:36.641Z"
   },
   {
    "duration": 7,
    "start_time": "2022-06-01T18:24:36.938Z"
   },
   {
    "duration": 23,
    "start_time": "2022-06-01T18:24:36.947Z"
   },
   {
    "duration": 9,
    "start_time": "2022-06-01T18:24:36.972Z"
   },
   {
    "duration": 8,
    "start_time": "2022-06-01T18:24:36.983Z"
   },
   {
    "duration": 7,
    "start_time": "2022-06-01T18:24:36.992Z"
   },
   {
    "duration": 172,
    "start_time": "2022-06-01T18:24:37.000Z"
   },
   {
    "duration": 5,
    "start_time": "2022-06-01T18:24:37.174Z"
   },
   {
    "duration": 14,
    "start_time": "2022-06-01T18:24:37.180Z"
   },
   {
    "duration": 1093,
    "start_time": "2022-06-01T18:32:30.488Z"
   },
   {
    "duration": 910,
    "start_time": "2022-06-01T18:32:31.583Z"
   },
   {
    "duration": 49,
    "start_time": "2022-06-01T18:32:32.495Z"
   },
   {
    "duration": 17,
    "start_time": "2022-06-01T18:32:32.546Z"
   },
   {
    "duration": 21,
    "start_time": "2022-06-01T18:32:32.565Z"
   },
   {
    "duration": 24,
    "start_time": "2022-06-01T18:32:32.588Z"
   },
   {
    "duration": 11,
    "start_time": "2022-06-01T18:32:32.614Z"
   },
   {
    "duration": 9,
    "start_time": "2022-06-01T18:32:32.626Z"
   },
   {
    "duration": 29,
    "start_time": "2022-06-01T18:32:32.637Z"
   },
   {
    "duration": 15,
    "start_time": "2022-06-01T18:32:32.668Z"
   },
   {
    "duration": 259,
    "start_time": "2022-06-01T18:32:32.684Z"
   },
   {
    "duration": 124,
    "start_time": "2022-06-01T18:32:32.944Z"
   },
   {
    "duration": 4,
    "start_time": "2022-06-01T18:32:33.069Z"
   },
   {
    "duration": 12,
    "start_time": "2022-06-01T18:32:33.074Z"
   },
   {
    "duration": 90,
    "start_time": "2022-06-01T18:32:33.088Z"
   },
   {
    "duration": 171,
    "start_time": "2022-06-01T18:32:33.180Z"
   },
   {
    "duration": 36,
    "start_time": "2022-06-01T18:32:33.353Z"
   },
   {
    "duration": 45,
    "start_time": "2022-06-01T18:32:33.390Z"
   },
   {
    "duration": 57,
    "start_time": "2022-06-01T18:32:33.436Z"
   },
   {
    "duration": 33,
    "start_time": "2022-06-01T18:32:33.494Z"
   },
   {
    "duration": 48,
    "start_time": "2022-06-01T18:32:33.529Z"
   },
   {
    "duration": 15,
    "start_time": "2022-06-01T18:32:33.579Z"
   },
   {
    "duration": 17,
    "start_time": "2022-06-01T18:32:33.596Z"
   },
   {
    "duration": 6,
    "start_time": "2022-06-01T18:32:33.614Z"
   },
   {
    "duration": 16,
    "start_time": "2022-06-01T18:32:33.622Z"
   },
   {
    "duration": 24,
    "start_time": "2022-06-01T18:32:33.665Z"
   },
   {
    "duration": 142,
    "start_time": "2022-06-01T18:32:33.691Z"
   },
   {
    "duration": 4,
    "start_time": "2022-06-01T18:32:33.837Z"
   },
   {
    "duration": 12,
    "start_time": "2022-06-01T18:32:33.842Z"
   },
   {
    "duration": 16,
    "start_time": "2022-06-01T18:32:33.865Z"
   },
   {
    "duration": 177,
    "start_time": "2022-06-01T18:32:33.883Z"
   },
   {
    "duration": 104,
    "start_time": "2022-06-01T18:32:34.062Z"
   },
   {
    "duration": 11,
    "start_time": "2022-06-01T18:32:34.167Z"
   },
   {
    "duration": 5,
    "start_time": "2022-06-01T18:32:34.179Z"
   },
   {
    "duration": 18,
    "start_time": "2022-06-01T18:32:34.185Z"
   },
   {
    "duration": 7,
    "start_time": "2022-06-01T18:32:34.204Z"
   },
   {
    "duration": 163,
    "start_time": "2022-06-01T18:32:34.213Z"
   },
   {
    "duration": 178,
    "start_time": "2022-06-01T18:32:34.378Z"
   },
   {
    "duration": 143,
    "start_time": "2022-06-01T18:32:34.564Z"
   },
   {
    "duration": 8,
    "start_time": "2022-06-01T18:32:34.709Z"
   },
   {
    "duration": 13,
    "start_time": "2022-06-01T18:32:34.718Z"
   },
   {
    "duration": 7,
    "start_time": "2022-06-01T18:32:34.732Z"
   },
   {
    "duration": 171,
    "start_time": "2022-06-01T18:32:34.740Z"
   },
   {
    "duration": 8,
    "start_time": "2022-06-01T18:32:34.913Z"
   },
   {
    "duration": 191,
    "start_time": "2022-06-01T18:32:34.922Z"
   },
   {
    "duration": 9,
    "start_time": "2022-06-01T18:32:35.115Z"
   },
   {
    "duration": 12,
    "start_time": "2022-06-01T18:32:35.125Z"
   },
   {
    "duration": 25,
    "start_time": "2022-06-01T18:32:35.139Z"
   },
   {
    "duration": 136,
    "start_time": "2022-06-01T18:32:35.166Z"
   },
   {
    "duration": 7,
    "start_time": "2022-06-01T18:32:35.303Z"
   },
   {
    "duration": 294,
    "start_time": "2022-06-01T18:32:35.312Z"
   },
   {
    "duration": 8,
    "start_time": "2022-06-01T18:32:35.608Z"
   },
   {
    "duration": 11,
    "start_time": "2022-06-01T18:32:35.618Z"
   },
   {
    "duration": 9,
    "start_time": "2022-06-01T18:32:35.631Z"
   },
   {
    "duration": 27,
    "start_time": "2022-06-01T18:32:35.642Z"
   },
   {
    "duration": 7,
    "start_time": "2022-06-01T18:32:35.671Z"
   },
   {
    "duration": 153,
    "start_time": "2022-06-01T18:32:35.680Z"
   },
   {
    "duration": 5,
    "start_time": "2022-06-01T18:32:35.835Z"
   },
   {
    "duration": 12,
    "start_time": "2022-06-01T18:32:35.841Z"
   },
   {
    "duration": 1127,
    "start_time": "2022-06-01T18:43:44.357Z"
   },
   {
    "duration": 902,
    "start_time": "2022-06-01T18:43:45.486Z"
   },
   {
    "duration": 55,
    "start_time": "2022-06-01T18:43:46.390Z"
   },
   {
    "duration": 20,
    "start_time": "2022-06-01T18:43:46.448Z"
   },
   {
    "duration": 13,
    "start_time": "2022-06-01T18:43:46.470Z"
   },
   {
    "duration": 24,
    "start_time": "2022-06-01T18:43:46.485Z"
   },
   {
    "duration": 12,
    "start_time": "2022-06-01T18:43:46.511Z"
   },
   {
    "duration": 25,
    "start_time": "2022-06-01T18:43:46.524Z"
   },
   {
    "duration": 5,
    "start_time": "2022-06-01T18:43:46.571Z"
   },
   {
    "duration": 25,
    "start_time": "2022-06-01T18:43:46.579Z"
   },
   {
    "duration": 264,
    "start_time": "2022-06-01T18:43:46.606Z"
   },
   {
    "duration": 127,
    "start_time": "2022-06-01T18:43:46.872Z"
   },
   {
    "duration": 5,
    "start_time": "2022-06-01T18:43:47.001Z"
   },
   {
    "duration": 10,
    "start_time": "2022-06-01T18:43:47.008Z"
   },
   {
    "duration": 107,
    "start_time": "2022-06-01T18:43:47.019Z"
   },
   {
    "duration": 190,
    "start_time": "2022-06-01T18:43:47.128Z"
   },
   {
    "duration": 46,
    "start_time": "2022-06-01T18:43:47.320Z"
   },
   {
    "duration": 49,
    "start_time": "2022-06-01T18:43:47.368Z"
   },
   {
    "duration": 64,
    "start_time": "2022-06-01T18:43:47.419Z"
   },
   {
    "duration": 37,
    "start_time": "2022-06-01T18:43:47.486Z"
   },
   {
    "duration": 56,
    "start_time": "2022-06-01T18:43:47.524Z"
   },
   {
    "duration": 17,
    "start_time": "2022-06-01T18:43:47.582Z"
   },
   {
    "duration": 16,
    "start_time": "2022-06-01T18:43:47.601Z"
   },
   {
    "duration": 6,
    "start_time": "2022-06-01T18:43:47.619Z"
   },
   {
    "duration": 50,
    "start_time": "2022-06-01T18:43:47.626Z"
   },
   {
    "duration": 23,
    "start_time": "2022-06-01T18:43:47.677Z"
   },
   {
    "duration": 135,
    "start_time": "2022-06-01T18:43:47.701Z"
   },
   {
    "duration": 5,
    "start_time": "2022-06-01T18:43:47.839Z"
   },
   {
    "duration": 24,
    "start_time": "2022-06-01T18:43:47.846Z"
   },
   {
    "duration": 8,
    "start_time": "2022-06-01T18:43:47.873Z"
   },
   {
    "duration": 195,
    "start_time": "2022-06-01T18:43:47.882Z"
   },
   {
    "duration": 111,
    "start_time": "2022-06-01T18:43:48.079Z"
   },
   {
    "duration": 11,
    "start_time": "2022-06-01T18:43:48.192Z"
   },
   {
    "duration": 4,
    "start_time": "2022-06-01T18:43:48.204Z"
   },
   {
    "duration": 22,
    "start_time": "2022-06-01T18:43:48.210Z"
   },
   {
    "duration": 32,
    "start_time": "2022-06-01T18:43:48.233Z"
   },
   {
    "duration": 151,
    "start_time": "2022-06-01T18:43:48.267Z"
   },
   {
    "duration": 222,
    "start_time": "2022-06-01T18:43:48.420Z"
   },
   {
    "duration": 150,
    "start_time": "2022-06-01T18:43:48.643Z"
   },
   {
    "duration": 10,
    "start_time": "2022-06-01T18:43:48.795Z"
   },
   {
    "duration": 13,
    "start_time": "2022-06-01T18:43:48.807Z"
   },
   {
    "duration": 9,
    "start_time": "2022-06-01T18:43:48.821Z"
   },
   {
    "duration": 238,
    "start_time": "2022-06-01T18:43:48.832Z"
   },
   {
    "duration": 13,
    "start_time": "2022-06-01T18:43:49.072Z"
   },
   {
    "duration": 237,
    "start_time": "2022-06-01T18:43:49.088Z"
   },
   {
    "duration": 10,
    "start_time": "2022-06-01T18:43:49.327Z"
   },
   {
    "duration": 29,
    "start_time": "2022-06-01T18:43:49.339Z"
   },
   {
    "duration": 9,
    "start_time": "2022-06-01T18:43:49.371Z"
   },
   {
    "duration": 180,
    "start_time": "2022-06-01T18:43:49.382Z"
   },
   {
    "duration": 8,
    "start_time": "2022-06-01T18:43:49.565Z"
   },
   {
    "duration": 314,
    "start_time": "2022-06-01T18:43:49.575Z"
   },
   {
    "duration": 9,
    "start_time": "2022-06-01T18:43:49.891Z"
   },
   {
    "duration": 18,
    "start_time": "2022-06-01T18:43:49.901Z"
   },
   {
    "duration": 13,
    "start_time": "2022-06-01T18:43:49.921Z"
   },
   {
    "duration": 35,
    "start_time": "2022-06-01T18:43:49.935Z"
   },
   {
    "duration": 38,
    "start_time": "2022-06-01T18:43:49.972Z"
   },
   {
    "duration": 195,
    "start_time": "2022-06-01T18:43:50.012Z"
   },
   {
    "duration": 8,
    "start_time": "2022-06-01T18:43:50.209Z"
   },
   {
    "duration": 20,
    "start_time": "2022-06-01T18:43:50.219Z"
   },
   {
    "duration": 1235,
    "start_time": "2022-06-02T03:16:34.123Z"
   },
   {
    "duration": 936,
    "start_time": "2022-06-02T03:16:35.360Z"
   },
   {
    "duration": 64,
    "start_time": "2022-06-02T03:16:36.297Z"
   },
   {
    "duration": 15,
    "start_time": "2022-06-02T03:16:36.363Z"
   },
   {
    "duration": 11,
    "start_time": "2022-06-02T03:16:36.391Z"
   },
   {
    "duration": 25,
    "start_time": "2022-06-02T03:16:36.403Z"
   },
   {
    "duration": 9,
    "start_time": "2022-06-02T03:16:36.429Z"
   },
   {
    "duration": 10,
    "start_time": "2022-06-02T03:16:36.439Z"
   },
   {
    "duration": 5,
    "start_time": "2022-06-02T03:16:36.450Z"
   },
   {
    "duration": 42,
    "start_time": "2022-06-02T03:16:36.457Z"
   },
   {
    "duration": 226,
    "start_time": "2022-06-02T03:16:36.501Z"
   },
   {
    "duration": 110,
    "start_time": "2022-06-02T03:16:36.728Z"
   },
   {
    "duration": 4,
    "start_time": "2022-06-02T03:16:36.840Z"
   },
   {
    "duration": 15,
    "start_time": "2022-06-02T03:16:36.845Z"
   },
   {
    "duration": 107,
    "start_time": "2022-06-02T03:16:36.861Z"
   },
   {
    "duration": 176,
    "start_time": "2022-06-02T03:16:36.969Z"
   },
   {
    "duration": 111,
    "start_time": "2022-06-02T03:16:37.147Z"
   },
   {
    "duration": 0,
    "start_time": "2022-06-02T03:16:37.260Z"
   },
   {
    "duration": 0,
    "start_time": "2022-06-02T03:16:37.261Z"
   },
   {
    "duration": 0,
    "start_time": "2022-06-02T03:16:37.262Z"
   },
   {
    "duration": 0,
    "start_time": "2022-06-02T03:16:37.264Z"
   },
   {
    "duration": 0,
    "start_time": "2022-06-02T03:16:37.265Z"
   },
   {
    "duration": 0,
    "start_time": "2022-06-02T03:16:37.266Z"
   },
   {
    "duration": 0,
    "start_time": "2022-06-02T03:16:37.267Z"
   },
   {
    "duration": 0,
    "start_time": "2022-06-02T03:16:37.268Z"
   },
   {
    "duration": 0,
    "start_time": "2022-06-02T03:16:37.269Z"
   },
   {
    "duration": 0,
    "start_time": "2022-06-02T03:16:37.270Z"
   },
   {
    "duration": 0,
    "start_time": "2022-06-02T03:16:37.271Z"
   },
   {
    "duration": 0,
    "start_time": "2022-06-02T03:16:37.272Z"
   },
   {
    "duration": 0,
    "start_time": "2022-06-02T03:16:37.291Z"
   },
   {
    "duration": 0,
    "start_time": "2022-06-02T03:16:37.293Z"
   },
   {
    "duration": 0,
    "start_time": "2022-06-02T03:16:37.294Z"
   },
   {
    "duration": 0,
    "start_time": "2022-06-02T03:16:37.295Z"
   },
   {
    "duration": 0,
    "start_time": "2022-06-02T03:16:37.296Z"
   },
   {
    "duration": 0,
    "start_time": "2022-06-02T03:16:37.297Z"
   },
   {
    "duration": 0,
    "start_time": "2022-06-02T03:16:37.298Z"
   },
   {
    "duration": 0,
    "start_time": "2022-06-02T03:16:37.299Z"
   },
   {
    "duration": 0,
    "start_time": "2022-06-02T03:16:37.300Z"
   },
   {
    "duration": 0,
    "start_time": "2022-06-02T03:16:37.301Z"
   },
   {
    "duration": 0,
    "start_time": "2022-06-02T03:16:37.302Z"
   },
   {
    "duration": 0,
    "start_time": "2022-06-02T03:16:37.303Z"
   },
   {
    "duration": 0,
    "start_time": "2022-06-02T03:16:37.304Z"
   },
   {
    "duration": 0,
    "start_time": "2022-06-02T03:16:37.305Z"
   },
   {
    "duration": 0,
    "start_time": "2022-06-02T03:16:37.306Z"
   },
   {
    "duration": 1,
    "start_time": "2022-06-02T03:16:37.307Z"
   },
   {
    "duration": 0,
    "start_time": "2022-06-02T03:16:37.308Z"
   },
   {
    "duration": 0,
    "start_time": "2022-06-02T03:16:37.310Z"
   },
   {
    "duration": 0,
    "start_time": "2022-06-02T03:16:37.311Z"
   },
   {
    "duration": 0,
    "start_time": "2022-06-02T03:16:37.312Z"
   },
   {
    "duration": 0,
    "start_time": "2022-06-02T03:16:37.313Z"
   },
   {
    "duration": 1,
    "start_time": "2022-06-02T03:16:37.313Z"
   },
   {
    "duration": 0,
    "start_time": "2022-06-02T03:16:37.314Z"
   },
   {
    "duration": 0,
    "start_time": "2022-06-02T03:16:37.315Z"
   },
   {
    "duration": 0,
    "start_time": "2022-06-02T03:16:37.316Z"
   },
   {
    "duration": 0,
    "start_time": "2022-06-02T03:16:37.317Z"
   },
   {
    "duration": 0,
    "start_time": "2022-06-02T03:16:37.318Z"
   },
   {
    "duration": 0,
    "start_time": "2022-06-02T03:16:37.319Z"
   },
   {
    "duration": 0,
    "start_time": "2022-06-02T03:16:37.320Z"
   },
   {
    "duration": 0,
    "start_time": "2022-06-02T03:16:37.321Z"
   },
   {
    "duration": 44,
    "start_time": "2022-06-11T02:38:34.124Z"
   },
   {
    "duration": 1036,
    "start_time": "2022-06-11T02:38:41.626Z"
   },
   {
    "duration": 1282,
    "start_time": "2022-06-11T02:38:42.664Z"
   },
   {
    "duration": 65,
    "start_time": "2022-06-11T02:38:43.948Z"
   },
   {
    "duration": 15,
    "start_time": "2022-06-11T02:38:44.015Z"
   },
   {
    "duration": 39,
    "start_time": "2022-06-11T02:38:44.032Z"
   },
   {
    "duration": 12,
    "start_time": "2022-06-11T02:38:44.072Z"
   },
   {
    "duration": 181,
    "start_time": "2022-06-11T02:38:44.085Z"
   },
   {
    "duration": 27,
    "start_time": "2022-06-11T02:38:44.267Z"
   },
   {
    "duration": 2,
    "start_time": "2022-06-11T02:38:44.295Z"
   },
   {
    "duration": 15,
    "start_time": "2022-06-11T02:38:44.300Z"
   },
   {
    "duration": 7,
    "start_time": "2022-06-11T02:38:44.317Z"
   },
   {
    "duration": 19,
    "start_time": "2022-06-11T02:38:44.325Z"
   },
   {
    "duration": 28,
    "start_time": "2022-06-11T02:38:44.345Z"
   },
   {
    "duration": 161,
    "start_time": "2022-06-11T02:38:44.375Z"
   },
   {
    "duration": 113,
    "start_time": "2022-06-11T02:38:44.537Z"
   },
   {
    "duration": 4,
    "start_time": "2022-06-11T02:38:44.658Z"
   },
   {
    "duration": 11,
    "start_time": "2022-06-11T02:38:44.663Z"
   },
   {
    "duration": 21,
    "start_time": "2022-06-11T02:38:44.675Z"
   },
   {
    "duration": 17,
    "start_time": "2022-06-11T02:38:44.698Z"
   },
   {
    "duration": 119,
    "start_time": "2022-06-11T02:38:44.716Z"
   },
   {
    "duration": 207,
    "start_time": "2022-06-11T02:38:44.836Z"
   },
   {
    "duration": 100,
    "start_time": "2022-06-11T02:38:45.044Z"
   },
   {
    "duration": 0,
    "start_time": "2022-06-11T02:38:45.146Z"
   },
   {
    "duration": 0,
    "start_time": "2022-06-11T02:38:45.147Z"
   },
   {
    "duration": 0,
    "start_time": "2022-06-11T02:38:45.149Z"
   },
   {
    "duration": 0,
    "start_time": "2022-06-11T02:38:45.150Z"
   },
   {
    "duration": 0,
    "start_time": "2022-06-11T02:38:45.158Z"
   },
   {
    "duration": 0,
    "start_time": "2022-06-11T02:38:45.159Z"
   },
   {
    "duration": 0,
    "start_time": "2022-06-11T02:38:45.161Z"
   },
   {
    "duration": 0,
    "start_time": "2022-06-11T02:38:45.161Z"
   },
   {
    "duration": 0,
    "start_time": "2022-06-11T02:38:45.162Z"
   },
   {
    "duration": 0,
    "start_time": "2022-06-11T02:38:45.163Z"
   },
   {
    "duration": 0,
    "start_time": "2022-06-11T02:38:45.164Z"
   },
   {
    "duration": 0,
    "start_time": "2022-06-11T02:38:45.165Z"
   },
   {
    "duration": 0,
    "start_time": "2022-06-11T02:38:45.166Z"
   },
   {
    "duration": 0,
    "start_time": "2022-06-11T02:38:45.167Z"
   },
   {
    "duration": 0,
    "start_time": "2022-06-11T02:38:45.168Z"
   },
   {
    "duration": 0,
    "start_time": "2022-06-11T02:38:45.169Z"
   },
   {
    "duration": 0,
    "start_time": "2022-06-11T02:38:45.170Z"
   },
   {
    "duration": 0,
    "start_time": "2022-06-11T02:38:45.170Z"
   },
   {
    "duration": 0,
    "start_time": "2022-06-11T02:38:45.171Z"
   },
   {
    "duration": 0,
    "start_time": "2022-06-11T02:38:45.172Z"
   },
   {
    "duration": 0,
    "start_time": "2022-06-11T02:38:45.173Z"
   },
   {
    "duration": 0,
    "start_time": "2022-06-11T02:38:45.174Z"
   },
   {
    "duration": 0,
    "start_time": "2022-06-11T02:38:45.175Z"
   },
   {
    "duration": 0,
    "start_time": "2022-06-11T02:38:45.175Z"
   },
   {
    "duration": 0,
    "start_time": "2022-06-11T02:38:45.176Z"
   },
   {
    "duration": 0,
    "start_time": "2022-06-11T02:38:45.177Z"
   },
   {
    "duration": 0,
    "start_time": "2022-06-11T02:38:45.178Z"
   },
   {
    "duration": 0,
    "start_time": "2022-06-11T02:38:45.179Z"
   },
   {
    "duration": 0,
    "start_time": "2022-06-11T02:38:45.180Z"
   },
   {
    "duration": 0,
    "start_time": "2022-06-11T02:38:45.181Z"
   },
   {
    "duration": 0,
    "start_time": "2022-06-11T02:38:45.182Z"
   },
   {
    "duration": 0,
    "start_time": "2022-06-11T02:38:45.183Z"
   },
   {
    "duration": 1,
    "start_time": "2022-06-11T02:38:45.183Z"
   },
   {
    "duration": 0,
    "start_time": "2022-06-11T02:38:45.184Z"
   },
   {
    "duration": 0,
    "start_time": "2022-06-11T02:38:45.185Z"
   },
   {
    "duration": 0,
    "start_time": "2022-06-11T02:38:45.186Z"
   },
   {
    "duration": 0,
    "start_time": "2022-06-11T02:38:45.187Z"
   },
   {
    "duration": 0,
    "start_time": "2022-06-11T02:38:45.188Z"
   },
   {
    "duration": 0,
    "start_time": "2022-06-11T02:38:45.189Z"
   },
   {
    "duration": 1,
    "start_time": "2022-06-11T02:38:45.189Z"
   },
   {
    "duration": 0,
    "start_time": "2022-06-11T02:38:45.191Z"
   },
   {
    "duration": 0,
    "start_time": "2022-06-11T02:38:45.191Z"
   },
   {
    "duration": 0,
    "start_time": "2022-06-11T02:38:45.192Z"
   },
   {
    "duration": 11,
    "start_time": "2022-06-11T02:41:45.706Z"
   },
   {
    "duration": 30,
    "start_time": "2022-06-11T08:44:27.477Z"
   },
   {
    "duration": 71,
    "start_time": "2022-06-11T08:46:36.106Z"
   },
   {
    "duration": 75,
    "start_time": "2022-06-11T08:47:14.731Z"
   },
   {
    "duration": 12,
    "start_time": "2022-06-11T08:47:57.901Z"
   },
   {
    "duration": 67,
    "start_time": "2022-06-11T08:48:20.613Z"
   },
   {
    "duration": 1151,
    "start_time": "2022-06-11T08:48:30.183Z"
   },
   {
    "duration": 953,
    "start_time": "2022-06-11T08:48:31.336Z"
   },
   {
    "duration": 66,
    "start_time": "2022-06-11T08:48:32.291Z"
   },
   {
    "duration": 22,
    "start_time": "2022-06-11T08:48:32.359Z"
   },
   {
    "duration": 25,
    "start_time": "2022-06-11T08:48:32.384Z"
   },
   {
    "duration": 13,
    "start_time": "2022-06-11T08:48:32.411Z"
   },
   {
    "duration": 217,
    "start_time": "2022-06-11T08:48:32.425Z"
   },
   {
    "duration": 36,
    "start_time": "2022-06-11T08:48:32.644Z"
   },
   {
    "duration": 2,
    "start_time": "2022-06-11T08:48:32.682Z"
   },
   {
    "duration": 12,
    "start_time": "2022-06-11T08:48:32.686Z"
   },
   {
    "duration": 7,
    "start_time": "2022-06-11T08:48:32.700Z"
   },
   {
    "duration": 9,
    "start_time": "2022-06-11T08:48:32.708Z"
   },
   {
    "duration": 14,
    "start_time": "2022-06-11T08:48:32.719Z"
   },
   {
    "duration": 188,
    "start_time": "2022-06-11T08:48:32.758Z"
   },
   {
    "duration": 137,
    "start_time": "2022-06-11T08:48:32.949Z"
   },
   {
    "duration": 5,
    "start_time": "2022-06-11T08:48:33.089Z"
   },
   {
    "duration": 13,
    "start_time": "2022-06-11T08:48:33.096Z"
   },
   {
    "duration": 51,
    "start_time": "2022-06-11T08:48:33.111Z"
   },
   {
    "duration": 30,
    "start_time": "2022-06-11T08:48:33.164Z"
   },
   {
    "duration": 124,
    "start_time": "2022-06-11T08:48:33.196Z"
   },
   {
    "duration": 216,
    "start_time": "2022-06-11T08:48:33.322Z"
   },
   {
    "duration": 73,
    "start_time": "2022-06-11T08:48:33.539Z"
   },
   {
    "duration": 19,
    "start_time": "2022-06-11T08:48:33.613Z"
   },
   {
    "duration": 60,
    "start_time": "2022-06-11T08:48:33.634Z"
   },
   {
    "duration": 64,
    "start_time": "2022-06-11T08:48:33.696Z"
   },
   {
    "duration": 64,
    "start_time": "2022-06-11T08:48:33.761Z"
   },
   {
    "duration": 51,
    "start_time": "2022-06-11T08:48:33.827Z"
   },
   {
    "duration": 16,
    "start_time": "2022-06-11T08:48:33.880Z"
   },
   {
    "duration": 16,
    "start_time": "2022-06-11T08:48:33.897Z"
   },
   {
    "duration": 7,
    "start_time": "2022-06-11T08:48:33.915Z"
   },
   {
    "duration": 46,
    "start_time": "2022-06-11T08:48:33.923Z"
   },
   {
    "duration": 3,
    "start_time": "2022-06-11T08:48:33.970Z"
   },
   {
    "duration": 108,
    "start_time": "2022-06-11T08:48:33.975Z"
   },
   {
    "duration": 11,
    "start_time": "2022-06-11T08:48:34.085Z"
   },
   {
    "duration": 8,
    "start_time": "2022-06-11T08:48:34.097Z"
   },
   {
    "duration": 187,
    "start_time": "2022-06-11T08:48:34.107Z"
   },
   {
    "duration": 3,
    "start_time": "2022-06-11T08:48:34.296Z"
   },
   {
    "duration": 20,
    "start_time": "2022-06-11T08:48:34.301Z"
   },
   {
    "duration": 5,
    "start_time": "2022-06-11T08:48:34.324Z"
   },
   {
    "duration": 38,
    "start_time": "2022-06-11T08:48:34.331Z"
   },
   {
    "duration": 18,
    "start_time": "2022-06-11T08:48:34.373Z"
   },
   {
    "duration": 7,
    "start_time": "2022-06-11T08:48:34.394Z"
   },
   {
    "duration": 179,
    "start_time": "2022-06-11T08:48:34.402Z"
   },
   {
    "duration": 191,
    "start_time": "2022-06-11T08:48:34.582Z"
   },
   {
    "duration": 143,
    "start_time": "2022-06-11T08:48:34.774Z"
   },
   {
    "duration": 9,
    "start_time": "2022-06-11T08:48:34.919Z"
   },
   {
    "duration": 10,
    "start_time": "2022-06-11T08:48:34.930Z"
   },
   {
    "duration": 35,
    "start_time": "2022-06-11T08:48:34.942Z"
   },
   {
    "duration": 263,
    "start_time": "2022-06-11T08:48:34.978Z"
   },
   {
    "duration": 7,
    "start_time": "2022-06-11T08:48:35.242Z"
   },
   {
    "duration": 188,
    "start_time": "2022-06-11T08:48:35.269Z"
   },
   {
    "duration": 15,
    "start_time": "2022-06-11T08:48:35.459Z"
   },
   {
    "duration": 28,
    "start_time": "2022-06-11T08:48:35.476Z"
   },
   {
    "duration": 13,
    "start_time": "2022-06-11T08:48:35.506Z"
   },
   {
    "duration": 177,
    "start_time": "2022-06-11T08:48:35.521Z"
   },
   {
    "duration": 8,
    "start_time": "2022-06-11T08:48:35.699Z"
   },
   {
    "duration": 191,
    "start_time": "2022-06-11T08:48:35.708Z"
   },
   {
    "duration": 8,
    "start_time": "2022-06-11T08:48:35.901Z"
   },
   {
    "duration": 13,
    "start_time": "2022-06-11T08:48:35.911Z"
   },
   {
    "duration": 13,
    "start_time": "2022-06-11T08:48:35.925Z"
   },
   {
    "duration": 35,
    "start_time": "2022-06-11T08:48:35.939Z"
   },
   {
    "duration": 8,
    "start_time": "2022-06-11T08:48:35.976Z"
   },
   {
    "duration": 160,
    "start_time": "2022-06-11T08:48:35.985Z"
   },
   {
    "duration": 5,
    "start_time": "2022-06-11T08:48:36.146Z"
   },
   {
    "duration": 31,
    "start_time": "2022-06-11T08:48:36.152Z"
   },
   {
    "duration": 5,
    "start_time": "2022-06-11T08:49:40.434Z"
   },
   {
    "duration": 16,
    "start_time": "2022-06-11T08:50:01.774Z"
   },
   {
    "duration": 5,
    "start_time": "2022-06-11T08:50:30.221Z"
   },
   {
    "duration": 5,
    "start_time": "2022-06-11T08:50:43.373Z"
   },
   {
    "duration": 21,
    "start_time": "2022-06-11T08:51:37.424Z"
   },
   {
    "duration": 16,
    "start_time": "2022-06-11T08:52:06.105Z"
   },
   {
    "duration": 124,
    "start_time": "2022-06-11T08:58:51.222Z"
   },
   {
    "duration": 1207,
    "start_time": "2022-06-11T08:58:58.377Z"
   },
   {
    "duration": 1543,
    "start_time": "2022-06-11T08:58:59.587Z"
   },
   {
    "duration": 175,
    "start_time": "2022-06-11T08:59:01.131Z"
   },
   {
    "duration": 23,
    "start_time": "2022-06-11T08:59:01.364Z"
   },
   {
    "duration": 113,
    "start_time": "2022-06-11T08:59:01.389Z"
   },
   {
    "duration": 73,
    "start_time": "2022-06-11T08:59:01.505Z"
   },
   {
    "duration": 512,
    "start_time": "2022-06-11T08:59:01.580Z"
   },
   {
    "duration": 31,
    "start_time": "2022-06-11T08:59:02.095Z"
   },
   {
    "duration": 4,
    "start_time": "2022-06-11T08:59:02.128Z"
   },
   {
    "duration": 37,
    "start_time": "2022-06-11T08:59:02.134Z"
   },
   {
    "duration": 34,
    "start_time": "2022-06-11T08:59:02.173Z"
   },
   {
    "duration": 41,
    "start_time": "2022-06-11T08:59:02.209Z"
   },
   {
    "duration": 30,
    "start_time": "2022-06-11T08:59:02.252Z"
   },
   {
    "duration": 220,
    "start_time": "2022-06-11T08:59:02.285Z"
   },
   {
    "duration": 137,
    "start_time": "2022-06-11T08:59:02.507Z"
   },
   {
    "duration": 4,
    "start_time": "2022-06-11T08:59:02.646Z"
   },
   {
    "duration": 29,
    "start_time": "2022-06-11T08:59:02.652Z"
   },
   {
    "duration": 26,
    "start_time": "2022-06-11T08:59:02.683Z"
   },
   {
    "duration": 21,
    "start_time": "2022-06-11T08:59:02.711Z"
   },
   {
    "duration": 139,
    "start_time": "2022-06-11T08:59:02.734Z"
   },
   {
    "duration": 271,
    "start_time": "2022-06-11T08:59:02.875Z"
   },
   {
    "duration": 74,
    "start_time": "2022-06-11T08:59:03.148Z"
   },
   {
    "duration": 20,
    "start_time": "2022-06-11T08:59:03.224Z"
   },
   {
    "duration": 72,
    "start_time": "2022-06-11T08:59:03.245Z"
   },
   {
    "duration": 72,
    "start_time": "2022-06-11T08:59:03.318Z"
   },
   {
    "duration": 61,
    "start_time": "2022-06-11T08:59:03.392Z"
   },
   {
    "duration": 51,
    "start_time": "2022-06-11T08:59:03.459Z"
   },
   {
    "duration": 16,
    "start_time": "2022-06-11T08:59:03.512Z"
   },
   {
    "duration": 43,
    "start_time": "2022-06-11T08:59:03.530Z"
   },
   {
    "duration": 8,
    "start_time": "2022-06-11T08:59:03.575Z"
   },
   {
    "duration": 19,
    "start_time": "2022-06-11T08:59:03.586Z"
   },
   {
    "duration": 4,
    "start_time": "2022-06-11T08:59:03.607Z"
   },
   {
    "duration": 138,
    "start_time": "2022-06-11T08:59:03.612Z"
   },
   {
    "duration": 20,
    "start_time": "2022-06-11T08:59:03.752Z"
   },
   {
    "duration": 11,
    "start_time": "2022-06-11T08:59:03.775Z"
   },
   {
    "duration": 11,
    "start_time": "2022-06-11T08:59:03.788Z"
   },
   {
    "duration": 22,
    "start_time": "2022-06-11T08:59:03.800Z"
   },
   {
    "duration": 11,
    "start_time": "2022-06-11T08:59:03.824Z"
   },
   {
    "duration": 27,
    "start_time": "2022-06-11T08:59:03.836Z"
   },
   {
    "duration": 164,
    "start_time": "2022-06-11T08:59:03.866Z"
   },
   {
    "duration": 2,
    "start_time": "2022-06-11T08:59:04.035Z"
   },
   {
    "duration": 36,
    "start_time": "2022-06-11T08:59:04.039Z"
   },
   {
    "duration": 4,
    "start_time": "2022-06-11T08:59:04.076Z"
   },
   {
    "duration": 16,
    "start_time": "2022-06-11T08:59:04.082Z"
   },
   {
    "duration": 31,
    "start_time": "2022-06-11T08:59:04.099Z"
   },
   {
    "duration": 8,
    "start_time": "2022-06-11T08:59:04.132Z"
   },
   {
    "duration": 193,
    "start_time": "2022-06-11T08:59:04.159Z"
   },
   {
    "duration": 210,
    "start_time": "2022-06-11T08:59:04.353Z"
   },
   {
    "duration": 169,
    "start_time": "2022-06-11T08:59:04.567Z"
   },
   {
    "duration": 21,
    "start_time": "2022-06-11T08:59:04.739Z"
   },
   {
    "duration": 14,
    "start_time": "2022-06-11T08:59:04.763Z"
   },
   {
    "duration": 10,
    "start_time": "2022-06-11T08:59:04.779Z"
   },
   {
    "duration": 340,
    "start_time": "2022-06-11T08:59:04.791Z"
   },
   {
    "duration": 8,
    "start_time": "2022-06-11T08:59:05.134Z"
   },
   {
    "duration": 249,
    "start_time": "2022-06-11T08:59:05.144Z"
   },
   {
    "duration": 10,
    "start_time": "2022-06-11T08:59:05.395Z"
   },
   {
    "duration": 16,
    "start_time": "2022-06-11T08:59:05.407Z"
   },
   {
    "duration": 16,
    "start_time": "2022-06-11T08:59:05.425Z"
   },
   {
    "duration": 180,
    "start_time": "2022-06-11T08:59:05.460Z"
   },
   {
    "duration": 19,
    "start_time": "2022-06-11T08:59:05.642Z"
   },
   {
    "duration": 256,
    "start_time": "2022-06-11T08:59:05.663Z"
   },
   {
    "duration": 12,
    "start_time": "2022-06-11T08:59:05.921Z"
   },
   {
    "duration": 19,
    "start_time": "2022-06-11T08:59:05.935Z"
   },
   {
    "duration": 14,
    "start_time": "2022-06-11T08:59:05.959Z"
   },
   {
    "duration": 10,
    "start_time": "2022-06-11T08:59:05.976Z"
   },
   {
    "duration": 15,
    "start_time": "2022-06-11T08:59:05.989Z"
   },
   {
    "duration": 197,
    "start_time": "2022-06-11T08:59:06.006Z"
   },
   {
    "duration": 8,
    "start_time": "2022-06-11T08:59:06.205Z"
   },
   {
    "duration": 26,
    "start_time": "2022-06-11T08:59:06.216Z"
   },
   {
    "duration": 709,
    "start_time": "2022-06-11T09:01:38.757Z"
   },
   {
    "duration": 50,
    "start_time": "2022-06-11T09:01:51.597Z"
   },
   {
    "duration": 522,
    "start_time": "2022-06-11T09:02:04.932Z"
   },
   {
    "duration": 129,
    "start_time": "2022-06-11T09:02:20.973Z"
   },
   {
    "duration": 6,
    "start_time": "2022-06-11T09:02:27.310Z"
   },
   {
    "duration": 24,
    "start_time": "2022-06-11T09:02:31.365Z"
   },
   {
    "duration": 122,
    "start_time": "2022-06-11T09:02:39.990Z"
   },
   {
    "duration": 4,
    "start_time": "2022-06-11T09:02:42.885Z"
   },
   {
    "duration": 18,
    "start_time": "2022-06-11T09:02:45.758Z"
   },
   {
    "duration": 1186,
    "start_time": "2022-06-11T09:06:05.531Z"
   },
   {
    "duration": 959,
    "start_time": "2022-06-11T09:06:06.719Z"
   },
   {
    "duration": 71,
    "start_time": "2022-06-11T09:06:07.680Z"
   },
   {
    "duration": 16,
    "start_time": "2022-06-11T09:06:07.753Z"
   },
   {
    "duration": 40,
    "start_time": "2022-06-11T09:06:07.771Z"
   },
   {
    "duration": 15,
    "start_time": "2022-06-11T09:06:07.813Z"
   },
   {
    "duration": 210,
    "start_time": "2022-06-11T09:06:07.830Z"
   },
   {
    "duration": 38,
    "start_time": "2022-06-11T09:06:08.042Z"
   },
   {
    "duration": 2,
    "start_time": "2022-06-11T09:06:08.083Z"
   },
   {
    "duration": 23,
    "start_time": "2022-06-11T09:06:08.089Z"
   },
   {
    "duration": 10,
    "start_time": "2022-06-11T09:06:08.114Z"
   },
   {
    "duration": 10,
    "start_time": "2022-06-11T09:06:08.126Z"
   },
   {
    "duration": 33,
    "start_time": "2022-06-11T09:06:08.138Z"
   },
   {
    "duration": 199,
    "start_time": "2022-06-11T09:06:08.174Z"
   },
   {
    "duration": 129,
    "start_time": "2022-06-11T09:06:08.375Z"
   },
   {
    "duration": 4,
    "start_time": "2022-06-11T09:06:08.507Z"
   },
   {
    "duration": 16,
    "start_time": "2022-06-11T09:06:08.513Z"
   },
   {
    "duration": 32,
    "start_time": "2022-06-11T09:06:08.531Z"
   },
   {
    "duration": 20,
    "start_time": "2022-06-11T09:06:08.564Z"
   },
   {
    "duration": 136,
    "start_time": "2022-06-11T09:06:08.586Z"
   },
   {
    "duration": 236,
    "start_time": "2022-06-11T09:06:08.724Z"
   },
   {
    "duration": 63,
    "start_time": "2022-06-11T09:06:08.961Z"
   },
   {
    "duration": 38,
    "start_time": "2022-06-11T09:06:09.026Z"
   },
   {
    "duration": 49,
    "start_time": "2022-06-11T09:06:09.065Z"
   },
   {
    "duration": 72,
    "start_time": "2022-06-11T09:06:09.116Z"
   },
   {
    "duration": 76,
    "start_time": "2022-06-11T09:06:09.190Z"
   },
   {
    "duration": 38,
    "start_time": "2022-06-11T09:06:09.268Z"
   },
   {
    "duration": 16,
    "start_time": "2022-06-11T09:06:09.310Z"
   },
   {
    "duration": 40,
    "start_time": "2022-06-11T09:06:09.328Z"
   },
   {
    "duration": 16,
    "start_time": "2022-06-11T09:06:09.370Z"
   },
   {
    "duration": 24,
    "start_time": "2022-06-11T09:06:09.388Z"
   },
   {
    "duration": 16,
    "start_time": "2022-06-11T09:06:09.414Z"
   },
   {
    "duration": 114,
    "start_time": "2022-06-11T09:06:09.432Z"
   },
   {
    "duration": 16,
    "start_time": "2022-06-11T09:06:09.548Z"
   },
   {
    "duration": 4,
    "start_time": "2022-06-11T09:06:09.565Z"
   },
   {
    "duration": 12,
    "start_time": "2022-06-11T09:06:09.571Z"
   },
   {
    "duration": 27,
    "start_time": "2022-06-11T09:06:09.584Z"
   },
   {
    "duration": 19,
    "start_time": "2022-06-11T09:06:09.613Z"
   },
   {
    "duration": 16,
    "start_time": "2022-06-11T09:06:09.634Z"
   },
   {
    "duration": 341,
    "start_time": "2022-06-11T09:06:09.659Z"
   },
   {
    "duration": 57,
    "start_time": "2022-06-11T09:06:10.002Z"
   },
   {
    "duration": 30,
    "start_time": "2022-06-11T09:06:10.061Z"
   },
   {
    "duration": 5,
    "start_time": "2022-06-11T09:06:10.092Z"
   },
   {
    "duration": 60,
    "start_time": "2022-06-11T09:06:10.099Z"
   },
   {
    "duration": 18,
    "start_time": "2022-06-11T09:06:10.160Z"
   },
   {
    "duration": 7,
    "start_time": "2022-06-11T09:06:10.180Z"
   },
   {
    "duration": 396,
    "start_time": "2022-06-11T09:06:10.189Z"
   },
   {
    "duration": 477,
    "start_time": "2022-06-11T09:06:10.587Z"
   },
   {
    "duration": 438,
    "start_time": "2022-06-11T09:06:11.066Z"
   },
   {
    "duration": 59,
    "start_time": "2022-06-11T09:06:11.505Z"
   },
   {
    "duration": 17,
    "start_time": "2022-06-11T09:06:11.566Z"
   },
   {
    "duration": 8,
    "start_time": "2022-06-11T09:06:11.585Z"
   },
   {
    "duration": 290,
    "start_time": "2022-06-11T09:06:11.594Z"
   },
   {
    "duration": 8,
    "start_time": "2022-06-11T09:06:11.886Z"
   },
   {
    "duration": 189,
    "start_time": "2022-06-11T09:06:11.896Z"
   },
   {
    "duration": 8,
    "start_time": "2022-06-11T09:06:12.088Z"
   },
   {
    "duration": 14,
    "start_time": "2022-06-11T09:06:12.097Z"
   },
   {
    "duration": 6,
    "start_time": "2022-06-11T09:06:12.113Z"
   },
   {
    "duration": 177,
    "start_time": "2022-06-11T09:06:12.120Z"
   },
   {
    "duration": 8,
    "start_time": "2022-06-11T09:06:12.299Z"
   },
   {
    "duration": 205,
    "start_time": "2022-06-11T09:06:12.308Z"
   },
   {
    "duration": 9,
    "start_time": "2022-06-11T09:06:12.514Z"
   },
   {
    "duration": 11,
    "start_time": "2022-06-11T09:06:12.524Z"
   },
   {
    "duration": 30,
    "start_time": "2022-06-11T09:06:12.536Z"
   },
   {
    "duration": 9,
    "start_time": "2022-06-11T09:06:12.568Z"
   },
   {
    "duration": 7,
    "start_time": "2022-06-11T09:06:12.579Z"
   },
   {
    "duration": 205,
    "start_time": "2022-06-11T09:06:12.588Z"
   },
   {
    "duration": 6,
    "start_time": "2022-06-11T09:06:12.798Z"
   },
   {
    "duration": 25,
    "start_time": "2022-06-11T09:06:12.806Z"
   },
   {
    "duration": 107,
    "start_time": "2022-06-11T09:10:31.298Z"
   },
   {
    "duration": 11,
    "start_time": "2022-06-11T09:10:36.058Z"
   },
   {
    "duration": 84,
    "start_time": "2022-06-11T09:10:46.061Z"
   },
   {
    "duration": 1160,
    "start_time": "2022-06-11T09:10:55.750Z"
   },
   {
    "duration": 987,
    "start_time": "2022-06-11T09:10:56.913Z"
   },
   {
    "duration": 80,
    "start_time": "2022-06-11T09:10:57.902Z"
   },
   {
    "duration": 17,
    "start_time": "2022-06-11T09:10:57.984Z"
   },
   {
    "duration": 37,
    "start_time": "2022-06-11T09:10:58.002Z"
   },
   {
    "duration": 28,
    "start_time": "2022-06-11T09:10:58.041Z"
   },
   {
    "duration": 197,
    "start_time": "2022-06-11T09:10:58.070Z"
   },
   {
    "duration": 28,
    "start_time": "2022-06-11T09:10:58.269Z"
   },
   {
    "duration": 2,
    "start_time": "2022-06-11T09:10:58.299Z"
   },
   {
    "duration": 18,
    "start_time": "2022-06-11T09:10:58.303Z"
   },
   {
    "duration": 10,
    "start_time": "2022-06-11T09:10:58.322Z"
   },
   {
    "duration": 7,
    "start_time": "2022-06-11T09:10:58.334Z"
   },
   {
    "duration": 15,
    "start_time": "2022-06-11T09:10:58.358Z"
   },
   {
    "duration": 199,
    "start_time": "2022-06-11T09:10:58.374Z"
   },
   {
    "duration": 131,
    "start_time": "2022-06-11T09:10:58.575Z"
   },
   {
    "duration": 4,
    "start_time": "2022-06-11T09:10:58.708Z"
   },
   {
    "duration": 11,
    "start_time": "2022-06-11T09:10:58.714Z"
   },
   {
    "duration": 39,
    "start_time": "2022-06-11T09:10:58.727Z"
   },
   {
    "duration": 26,
    "start_time": "2022-06-11T09:10:58.768Z"
   },
   {
    "duration": 120,
    "start_time": "2022-06-11T09:10:58.796Z"
   },
   {
    "duration": 250,
    "start_time": "2022-06-11T09:10:58.918Z"
   },
   {
    "duration": 67,
    "start_time": "2022-06-11T09:10:59.170Z"
   },
   {
    "duration": 37,
    "start_time": "2022-06-11T09:10:59.238Z"
   },
   {
    "duration": 45,
    "start_time": "2022-06-11T09:10:59.277Z"
   },
   {
    "duration": 77,
    "start_time": "2022-06-11T09:10:59.324Z"
   },
   {
    "duration": 83,
    "start_time": "2022-06-11T09:10:59.403Z"
   },
   {
    "duration": 35,
    "start_time": "2022-06-11T09:10:59.488Z"
   },
   {
    "duration": 36,
    "start_time": "2022-06-11T09:10:59.526Z"
   },
   {
    "duration": 20,
    "start_time": "2022-06-11T09:10:59.564Z"
   },
   {
    "duration": 7,
    "start_time": "2022-06-11T09:10:59.585Z"
   },
   {
    "duration": 21,
    "start_time": "2022-06-11T09:10:59.594Z"
   },
   {
    "duration": 3,
    "start_time": "2022-06-11T09:10:59.617Z"
   },
   {
    "duration": 137,
    "start_time": "2022-06-11T09:10:59.622Z"
   },
   {
    "duration": 12,
    "start_time": "2022-06-11T09:10:59.761Z"
   },
   {
    "duration": 4,
    "start_time": "2022-06-11T09:10:59.775Z"
   },
   {
    "duration": 8,
    "start_time": "2022-06-11T09:10:59.781Z"
   },
   {
    "duration": 18,
    "start_time": "2022-06-11T09:10:59.790Z"
   },
   {
    "duration": 12,
    "start_time": "2022-06-11T09:10:59.810Z"
   },
   {
    "duration": 37,
    "start_time": "2022-06-11T09:10:59.824Z"
   },
   {
    "duration": 183,
    "start_time": "2022-06-11T09:10:59.862Z"
   },
   {
    "duration": 3,
    "start_time": "2022-06-11T09:11:00.046Z"
   },
   {
    "duration": 13,
    "start_time": "2022-06-11T09:11:00.058Z"
   },
   {
    "duration": 14,
    "start_time": "2022-06-11T09:11:00.072Z"
   },
   {
    "duration": 31,
    "start_time": "2022-06-11T09:11:00.088Z"
   },
   {
    "duration": 19,
    "start_time": "2022-06-11T09:11:00.120Z"
   },
   {
    "duration": 21,
    "start_time": "2022-06-11T09:11:00.140Z"
   },
   {
    "duration": 216,
    "start_time": "2022-06-11T09:11:00.162Z"
   },
   {
    "duration": 260,
    "start_time": "2022-06-11T09:11:00.380Z"
   },
   {
    "duration": 231,
    "start_time": "2022-06-11T09:11:00.641Z"
   },
   {
    "duration": 8,
    "start_time": "2022-06-11T09:11:00.874Z"
   },
   {
    "duration": 20,
    "start_time": "2022-06-11T09:11:00.884Z"
   },
   {
    "duration": 10,
    "start_time": "2022-06-11T09:11:00.906Z"
   },
   {
    "duration": 187,
    "start_time": "2022-06-11T09:11:00.917Z"
   },
   {
    "duration": 9,
    "start_time": "2022-06-11T09:11:01.106Z"
   },
   {
    "duration": 205,
    "start_time": "2022-06-11T09:11:01.117Z"
   },
   {
    "duration": 10,
    "start_time": "2022-06-11T09:11:01.324Z"
   },
   {
    "duration": 29,
    "start_time": "2022-06-11T09:11:01.336Z"
   },
   {
    "duration": 6,
    "start_time": "2022-06-11T09:11:01.367Z"
   },
   {
    "duration": 168,
    "start_time": "2022-06-11T09:11:01.375Z"
   },
   {
    "duration": 17,
    "start_time": "2022-06-11T09:11:01.545Z"
   },
   {
    "duration": 203,
    "start_time": "2022-06-11T09:11:01.564Z"
   },
   {
    "duration": 9,
    "start_time": "2022-06-11T09:11:01.769Z"
   },
   {
    "duration": 11,
    "start_time": "2022-06-11T09:11:01.780Z"
   },
   {
    "duration": 20,
    "start_time": "2022-06-11T09:11:01.792Z"
   },
   {
    "duration": 12,
    "start_time": "2022-06-11T09:11:01.814Z"
   },
   {
    "duration": 31,
    "start_time": "2022-06-11T09:11:01.828Z"
   },
   {
    "duration": 188,
    "start_time": "2022-06-11T09:11:01.862Z"
   },
   {
    "duration": 8,
    "start_time": "2022-06-11T09:11:02.052Z"
   },
   {
    "duration": 64,
    "start_time": "2022-06-11T09:11:02.062Z"
   },
   {
    "duration": 25,
    "start_time": "2022-06-11T09:11:02.128Z"
   },
   {
    "duration": 78,
    "start_time": "2022-06-14T07:59:58.614Z"
   },
   {
    "duration": 1610,
    "start_time": "2022-06-14T08:00:34.067Z"
   },
   {
    "duration": 3057,
    "start_time": "2022-06-14T08:00:35.682Z"
   },
   {
    "duration": 0,
    "start_time": "2022-06-14T08:00:38.744Z"
   },
   {
    "duration": 0,
    "start_time": "2022-06-14T08:00:38.745Z"
   },
   {
    "duration": 0,
    "start_time": "2022-06-14T08:00:38.747Z"
   },
   {
    "duration": 0,
    "start_time": "2022-06-14T08:00:38.748Z"
   },
   {
    "duration": 0,
    "start_time": "2022-06-14T08:00:38.768Z"
   },
   {
    "duration": 0,
    "start_time": "2022-06-14T08:00:38.769Z"
   },
   {
    "duration": 0,
    "start_time": "2022-06-14T08:00:38.770Z"
   },
   {
    "duration": 0,
    "start_time": "2022-06-14T08:00:38.771Z"
   },
   {
    "duration": 0,
    "start_time": "2022-06-14T08:00:38.773Z"
   },
   {
    "duration": 0,
    "start_time": "2022-06-14T08:00:38.774Z"
   },
   {
    "duration": 0,
    "start_time": "2022-06-14T08:00:38.775Z"
   },
   {
    "duration": 0,
    "start_time": "2022-06-14T08:00:38.775Z"
   },
   {
    "duration": 0,
    "start_time": "2022-06-14T08:00:38.776Z"
   },
   {
    "duration": 0,
    "start_time": "2022-06-14T08:00:38.777Z"
   },
   {
    "duration": 0,
    "start_time": "2022-06-14T08:00:38.778Z"
   },
   {
    "duration": 0,
    "start_time": "2022-06-14T08:00:38.779Z"
   },
   {
    "duration": 0,
    "start_time": "2022-06-14T08:00:38.780Z"
   },
   {
    "duration": 0,
    "start_time": "2022-06-14T08:00:38.781Z"
   },
   {
    "duration": 0,
    "start_time": "2022-06-14T08:00:38.782Z"
   },
   {
    "duration": 0,
    "start_time": "2022-06-14T08:00:38.783Z"
   },
   {
    "duration": 0,
    "start_time": "2022-06-14T08:00:38.784Z"
   },
   {
    "duration": 0,
    "start_time": "2022-06-14T08:00:38.785Z"
   },
   {
    "duration": 0,
    "start_time": "2022-06-14T08:00:38.786Z"
   },
   {
    "duration": 0,
    "start_time": "2022-06-14T08:00:38.789Z"
   },
   {
    "duration": 0,
    "start_time": "2022-06-14T08:00:38.790Z"
   },
   {
    "duration": 0,
    "start_time": "2022-06-14T08:00:38.791Z"
   },
   {
    "duration": 0,
    "start_time": "2022-06-14T08:00:38.793Z"
   },
   {
    "duration": 0,
    "start_time": "2022-06-14T08:00:38.794Z"
   },
   {
    "duration": 0,
    "start_time": "2022-06-14T08:00:38.795Z"
   },
   {
    "duration": 0,
    "start_time": "2022-06-14T08:00:38.796Z"
   },
   {
    "duration": 0,
    "start_time": "2022-06-14T08:00:38.797Z"
   },
   {
    "duration": 0,
    "start_time": "2022-06-14T08:00:38.798Z"
   },
   {
    "duration": 0,
    "start_time": "2022-06-14T08:00:38.799Z"
   },
   {
    "duration": 0,
    "start_time": "2022-06-14T08:00:38.801Z"
   },
   {
    "duration": 0,
    "start_time": "2022-06-14T08:00:38.802Z"
   },
   {
    "duration": 1,
    "start_time": "2022-06-14T08:00:38.803Z"
   },
   {
    "duration": 0,
    "start_time": "2022-06-14T08:00:38.805Z"
   },
   {
    "duration": 0,
    "start_time": "2022-06-14T08:00:38.806Z"
   },
   {
    "duration": 0,
    "start_time": "2022-06-14T08:00:38.807Z"
   },
   {
    "duration": 0,
    "start_time": "2022-06-14T08:00:38.808Z"
   },
   {
    "duration": 0,
    "start_time": "2022-06-14T08:00:38.810Z"
   },
   {
    "duration": 0,
    "start_time": "2022-06-14T08:00:38.811Z"
   },
   {
    "duration": 0,
    "start_time": "2022-06-14T08:00:38.812Z"
   },
   {
    "duration": 0,
    "start_time": "2022-06-14T08:00:38.813Z"
   },
   {
    "duration": 0,
    "start_time": "2022-06-14T08:00:38.815Z"
   },
   {
    "duration": 0,
    "start_time": "2022-06-14T08:00:38.817Z"
   },
   {
    "duration": 0,
    "start_time": "2022-06-14T08:00:38.818Z"
   },
   {
    "duration": 0,
    "start_time": "2022-06-14T08:00:38.818Z"
   },
   {
    "duration": 0,
    "start_time": "2022-06-14T08:00:38.819Z"
   },
   {
    "duration": 0,
    "start_time": "2022-06-14T08:00:38.820Z"
   },
   {
    "duration": 0,
    "start_time": "2022-06-14T08:00:38.858Z"
   },
   {
    "duration": 0,
    "start_time": "2022-06-14T08:00:38.861Z"
   },
   {
    "duration": 0,
    "start_time": "2022-06-14T08:00:38.862Z"
   },
   {
    "duration": 0,
    "start_time": "2022-06-14T08:00:38.864Z"
   },
   {
    "duration": 0,
    "start_time": "2022-06-14T08:00:38.865Z"
   },
   {
    "duration": 0,
    "start_time": "2022-06-14T08:00:38.866Z"
   },
   {
    "duration": 0,
    "start_time": "2022-06-14T08:00:38.868Z"
   },
   {
    "duration": 0,
    "start_time": "2022-06-14T08:00:38.869Z"
   },
   {
    "duration": 0,
    "start_time": "2022-06-14T08:00:38.870Z"
   },
   {
    "duration": 0,
    "start_time": "2022-06-14T08:00:38.872Z"
   },
   {
    "duration": 0,
    "start_time": "2022-06-14T08:00:38.873Z"
   },
   {
    "duration": 0,
    "start_time": "2022-06-14T08:00:38.875Z"
   },
   {
    "duration": 0,
    "start_time": "2022-06-14T08:00:38.876Z"
   },
   {
    "duration": 0,
    "start_time": "2022-06-14T08:00:38.877Z"
   },
   {
    "duration": 0,
    "start_time": "2022-06-14T08:00:38.879Z"
   },
   {
    "duration": 0,
    "start_time": "2022-06-14T08:00:38.880Z"
   },
   {
    "duration": 0,
    "start_time": "2022-06-14T08:00:38.882Z"
   },
   {
    "duration": 0,
    "start_time": "2022-06-14T08:00:38.884Z"
   },
   {
    "duration": 0,
    "start_time": "2022-06-14T08:00:38.886Z"
   },
   {
    "duration": 0,
    "start_time": "2022-06-14T08:00:38.887Z"
   },
   {
    "duration": 1372,
    "start_time": "2022-06-14T08:02:36.121Z"
   },
   {
    "duration": 1372,
    "start_time": "2022-06-14T08:03:25.280Z"
   },
   {
    "duration": 1186,
    "start_time": "2022-06-14T08:03:26.654Z"
   },
   {
    "duration": 85,
    "start_time": "2022-06-14T08:03:27.843Z"
   },
   {
    "duration": 32,
    "start_time": "2022-06-14T08:03:27.930Z"
   },
   {
    "duration": 13,
    "start_time": "2022-06-14T08:03:27.968Z"
   },
   {
    "duration": 20,
    "start_time": "2022-06-14T08:03:27.983Z"
   },
   {
    "duration": 246,
    "start_time": "2022-06-14T08:03:28.005Z"
   },
   {
    "duration": 39,
    "start_time": "2022-06-14T08:03:28.253Z"
   },
   {
    "duration": 3,
    "start_time": "2022-06-14T08:03:28.294Z"
   },
   {
    "duration": 21,
    "start_time": "2022-06-14T08:03:28.299Z"
   },
   {
    "duration": 10,
    "start_time": "2022-06-14T08:03:28.322Z"
   },
   {
    "duration": 25,
    "start_time": "2022-06-14T08:03:28.335Z"
   },
   {
    "duration": 32,
    "start_time": "2022-06-14T08:03:28.367Z"
   },
   {
    "duration": 223,
    "start_time": "2022-06-14T08:03:28.403Z"
   },
   {
    "duration": 162,
    "start_time": "2022-06-14T08:03:28.627Z"
   },
   {
    "duration": 4,
    "start_time": "2022-06-14T08:03:28.791Z"
   },
   {
    "duration": 14,
    "start_time": "2022-06-14T08:03:28.797Z"
   },
   {
    "duration": 75,
    "start_time": "2022-06-14T08:03:28.813Z"
   },
   {
    "duration": 23,
    "start_time": "2022-06-14T08:03:28.893Z"
   },
   {
    "duration": 104,
    "start_time": "2022-06-14T08:03:28.918Z"
   },
   {
    "duration": 211,
    "start_time": "2022-06-14T08:03:29.023Z"
   },
   {
    "duration": 68,
    "start_time": "2022-06-14T08:03:29.236Z"
   },
   {
    "duration": 21,
    "start_time": "2022-06-14T08:03:29.306Z"
   },
   {
    "duration": 86,
    "start_time": "2022-06-14T08:03:29.328Z"
   },
   {
    "duration": 78,
    "start_time": "2022-06-14T08:03:29.415Z"
   },
   {
    "duration": 47,
    "start_time": "2022-06-14T08:03:29.495Z"
   },
   {
    "duration": 62,
    "start_time": "2022-06-14T08:03:29.544Z"
   },
   {
    "duration": 19,
    "start_time": "2022-06-14T08:03:29.608Z"
   },
   {
    "duration": 46,
    "start_time": "2022-06-14T08:03:29.629Z"
   },
   {
    "duration": 13,
    "start_time": "2022-06-14T08:03:29.680Z"
   },
   {
    "duration": 19,
    "start_time": "2022-06-14T08:03:29.696Z"
   },
   {
    "duration": 2,
    "start_time": "2022-06-14T08:03:29.717Z"
   },
   {
    "duration": 217,
    "start_time": "2022-06-14T08:03:29.721Z"
   },
   {
    "duration": 20,
    "start_time": "2022-06-14T08:03:29.940Z"
   },
   {
    "duration": 14,
    "start_time": "2022-06-14T08:03:29.970Z"
   },
   {
    "duration": 12,
    "start_time": "2022-06-14T08:03:29.987Z"
   },
   {
    "duration": 31,
    "start_time": "2022-06-14T08:03:30.001Z"
   },
   {
    "duration": 13,
    "start_time": "2022-06-14T08:03:30.035Z"
   },
   {
    "duration": 52,
    "start_time": "2022-06-14T08:03:30.049Z"
   },
   {
    "duration": 211,
    "start_time": "2022-06-14T08:03:30.103Z"
   },
   {
    "duration": 2,
    "start_time": "2022-06-14T08:03:30.319Z"
   },
   {
    "duration": 103,
    "start_time": "2022-06-14T08:03:30.323Z"
   },
   {
    "duration": 77,
    "start_time": "2022-06-14T08:03:30.428Z"
   },
   {
    "duration": 92,
    "start_time": "2022-06-14T08:03:30.507Z"
   },
   {
    "duration": 147,
    "start_time": "2022-06-14T08:03:30.601Z"
   },
   {
    "duration": 26,
    "start_time": "2022-06-14T08:03:30.749Z"
   },
   {
    "duration": 262,
    "start_time": "2022-06-14T08:03:30.782Z"
   },
   {
    "duration": 230,
    "start_time": "2022-06-14T08:03:31.046Z"
   },
   {
    "duration": 169,
    "start_time": "2022-06-14T08:03:31.282Z"
   },
   {
    "duration": 31,
    "start_time": "2022-06-14T08:03:31.452Z"
   },
   {
    "duration": 41,
    "start_time": "2022-06-14T08:03:31.486Z"
   },
   {
    "duration": 8,
    "start_time": "2022-06-14T08:03:31.529Z"
   },
   {
    "duration": 190,
    "start_time": "2022-06-14T08:03:31.539Z"
   },
   {
    "duration": 9,
    "start_time": "2022-06-14T08:03:31.732Z"
   },
   {
    "duration": 317,
    "start_time": "2022-06-14T08:03:31.744Z"
   },
   {
    "duration": 18,
    "start_time": "2022-06-14T08:03:32.063Z"
   },
   {
    "duration": 25,
    "start_time": "2022-06-14T08:03:32.084Z"
   },
   {
    "duration": 14,
    "start_time": "2022-06-14T08:03:32.111Z"
   },
   {
    "duration": 230,
    "start_time": "2022-06-14T08:03:32.127Z"
   },
   {
    "duration": 13,
    "start_time": "2022-06-14T08:03:32.365Z"
   },
   {
    "duration": 223,
    "start_time": "2022-06-14T08:03:32.386Z"
   },
   {
    "duration": 5,
    "start_time": "2022-06-14T08:03:32.612Z"
   },
   {
    "duration": 10,
    "start_time": "2022-06-14T08:03:32.619Z"
   },
   {
    "duration": 41,
    "start_time": "2022-06-14T08:03:32.632Z"
   },
   {
    "duration": 12,
    "start_time": "2022-06-14T08:03:32.675Z"
   },
   {
    "duration": 8,
    "start_time": "2022-06-14T08:03:32.689Z"
   },
   {
    "duration": 20,
    "start_time": "2022-06-14T08:03:32.698Z"
   },
   {
    "duration": 207,
    "start_time": "2022-06-14T08:03:32.719Z"
   },
   {
    "duration": 6,
    "start_time": "2022-06-14T08:03:32.928Z"
   },
   {
    "duration": 26,
    "start_time": "2022-06-14T08:03:32.936Z"
   },
   {
    "duration": 21,
    "start_time": "2022-06-14T08:03:32.969Z"
   },
   {
    "duration": 35,
    "start_time": "2022-06-14T08:03:32.992Z"
   },
   {
    "duration": 122,
    "start_time": "2022-06-14T08:03:33.029Z"
   },
   {
    "duration": 8,
    "start_time": "2022-06-14T08:03:47.476Z"
   },
   {
    "duration": 3,
    "start_time": "2022-06-14T08:03:49.215Z"
   },
   {
    "duration": 7,
    "start_time": "2022-06-14T08:03:59.288Z"
   },
   {
    "duration": 1914,
    "start_time": "2022-06-14T08:04:39.219Z"
   },
   {
    "duration": 210,
    "start_time": "2022-06-14T08:05:08.380Z"
   },
   {
    "duration": 207,
    "start_time": "2022-06-14T08:05:24.029Z"
   },
   {
    "duration": 201,
    "start_time": "2022-06-14T08:05:30.542Z"
   },
   {
    "duration": 56,
    "start_time": "2022-06-14T08:05:34.519Z"
   },
   {
    "duration": 1200,
    "start_time": "2022-06-14T08:06:50.293Z"
   },
   {
    "duration": 1208,
    "start_time": "2022-06-14T08:06:51.495Z"
   },
   {
    "duration": 57,
    "start_time": "2022-06-14T08:06:52.705Z"
   },
   {
    "duration": 23,
    "start_time": "2022-06-14T08:06:52.764Z"
   },
   {
    "duration": 13,
    "start_time": "2022-06-14T08:06:52.790Z"
   },
   {
    "duration": 12,
    "start_time": "2022-06-14T08:06:52.804Z"
   },
   {
    "duration": 275,
    "start_time": "2022-06-14T08:06:52.818Z"
   },
   {
    "duration": 25,
    "start_time": "2022-06-14T08:06:53.094Z"
   },
   {
    "duration": 3,
    "start_time": "2022-06-14T08:06:53.120Z"
   },
   {
    "duration": 15,
    "start_time": "2022-06-14T08:06:53.126Z"
   },
   {
    "duration": 25,
    "start_time": "2022-06-14T08:06:53.143Z"
   },
   {
    "duration": 6,
    "start_time": "2022-06-14T08:06:53.172Z"
   },
   {
    "duration": 24,
    "start_time": "2022-06-14T08:06:53.180Z"
   },
   {
    "duration": 208,
    "start_time": "2022-06-14T08:06:53.206Z"
   },
   {
    "duration": 139,
    "start_time": "2022-06-14T08:06:53.416Z"
   },
   {
    "duration": 12,
    "start_time": "2022-06-14T08:06:53.557Z"
   },
   {
    "duration": 15,
    "start_time": "2022-06-14T08:06:53.571Z"
   },
   {
    "duration": 57,
    "start_time": "2022-06-14T08:06:53.588Z"
   },
   {
    "duration": 39,
    "start_time": "2022-06-14T08:06:53.647Z"
   },
   {
    "duration": 122,
    "start_time": "2022-06-14T08:06:53.690Z"
   },
   {
    "duration": 208,
    "start_time": "2022-06-14T08:06:53.814Z"
   },
   {
    "duration": 61,
    "start_time": "2022-06-14T08:06:54.024Z"
   },
   {
    "duration": 28,
    "start_time": "2022-06-14T08:06:54.090Z"
   },
   {
    "duration": 71,
    "start_time": "2022-06-14T08:06:54.120Z"
   },
   {
    "duration": 53,
    "start_time": "2022-06-14T08:06:54.193Z"
   },
   {
    "duration": 60,
    "start_time": "2022-06-14T08:06:54.264Z"
   },
   {
    "duration": 43,
    "start_time": "2022-06-14T08:06:54.327Z"
   },
   {
    "duration": 17,
    "start_time": "2022-06-14T08:06:54.376Z"
   },
   {
    "duration": 21,
    "start_time": "2022-06-14T08:06:54.395Z"
   },
   {
    "duration": 7,
    "start_time": "2022-06-14T08:06:54.418Z"
   },
   {
    "duration": 66,
    "start_time": "2022-06-14T08:06:54.426Z"
   },
   {
    "duration": 10,
    "start_time": "2022-06-14T08:06:54.494Z"
   },
   {
    "duration": 179,
    "start_time": "2022-06-14T08:06:54.505Z"
   },
   {
    "duration": 14,
    "start_time": "2022-06-14T08:06:54.685Z"
   },
   {
    "duration": 6,
    "start_time": "2022-06-14T08:06:54.701Z"
   },
   {
    "duration": 8,
    "start_time": "2022-06-14T08:06:54.709Z"
   },
   {
    "duration": 16,
    "start_time": "2022-06-14T08:06:54.719Z"
   },
   {
    "duration": 31,
    "start_time": "2022-06-14T08:06:54.737Z"
   },
   {
    "duration": 9,
    "start_time": "2022-06-14T08:06:54.770Z"
   },
   {
    "duration": 213,
    "start_time": "2022-06-14T08:06:54.781Z"
   },
   {
    "duration": 3,
    "start_time": "2022-06-14T08:06:54.996Z"
   },
   {
    "duration": 17,
    "start_time": "2022-06-14T08:06:55.001Z"
   },
   {
    "duration": 6,
    "start_time": "2022-06-14T08:06:55.021Z"
   },
   {
    "duration": 48,
    "start_time": "2022-06-14T08:06:55.030Z"
   },
   {
    "duration": 22,
    "start_time": "2022-06-14T08:06:55.081Z"
   },
   {
    "duration": 8,
    "start_time": "2022-06-14T08:06:55.105Z"
   },
   {
    "duration": 293,
    "start_time": "2022-06-14T08:06:55.115Z"
   },
   {
    "duration": 229,
    "start_time": "2022-06-14T08:06:55.410Z"
   },
   {
    "duration": 165,
    "start_time": "2022-06-14T08:06:55.641Z"
   },
   {
    "duration": 10,
    "start_time": "2022-06-14T08:06:55.807Z"
   },
   {
    "duration": 10,
    "start_time": "2022-06-14T08:06:55.818Z"
   },
   {
    "duration": 38,
    "start_time": "2022-06-14T08:06:55.830Z"
   },
   {
    "duration": 215,
    "start_time": "2022-06-14T08:06:55.870Z"
   },
   {
    "duration": 9,
    "start_time": "2022-06-14T08:06:56.087Z"
   },
   {
    "duration": 207,
    "start_time": "2022-06-14T08:06:56.098Z"
   },
   {
    "duration": 11,
    "start_time": "2022-06-14T08:06:56.307Z"
   },
   {
    "duration": 13,
    "start_time": "2022-06-14T08:06:56.320Z"
   },
   {
    "duration": 31,
    "start_time": "2022-06-14T08:06:56.335Z"
   },
   {
    "duration": 205,
    "start_time": "2022-06-14T08:06:56.374Z"
   },
   {
    "duration": 10,
    "start_time": "2022-06-14T08:06:56.585Z"
   },
   {
    "duration": 206,
    "start_time": "2022-06-14T08:06:56.596Z"
   },
   {
    "duration": 5,
    "start_time": "2022-06-14T08:06:56.804Z"
   },
   {
    "duration": 21,
    "start_time": "2022-06-14T08:06:56.811Z"
   },
   {
    "duration": 36,
    "start_time": "2022-06-14T08:06:56.835Z"
   },
   {
    "duration": 32,
    "start_time": "2022-06-14T08:06:56.875Z"
   },
   {
    "duration": 11,
    "start_time": "2022-06-14T08:06:56.910Z"
   },
   {
    "duration": 17,
    "start_time": "2022-06-14T08:06:56.922Z"
   },
   {
    "duration": 190,
    "start_time": "2022-06-14T08:06:56.940Z"
   },
   {
    "duration": 5,
    "start_time": "2022-06-14T08:06:57.132Z"
   },
   {
    "duration": 34,
    "start_time": "2022-06-14T08:06:57.139Z"
   },
   {
    "duration": 16,
    "start_time": "2022-06-14T08:06:57.182Z"
   },
   {
    "duration": 9,
    "start_time": "2022-06-14T08:06:57.199Z"
   },
   {
    "duration": 7,
    "start_time": "2022-06-14T08:06:57.210Z"
   },
   {
    "duration": 1609,
    "start_time": "2022-06-14T08:06:57.218Z"
   },
   {
    "duration": 6,
    "start_time": "2022-06-14T08:06:58.829Z"
   },
   {
    "duration": 216,
    "start_time": "2022-06-14T08:06:58.836Z"
   },
   {
    "duration": 229,
    "start_time": "2022-06-14T08:06:59.053Z"
   },
   {
    "duration": 206,
    "start_time": "2022-06-14T08:06:59.284Z"
   },
   {
    "duration": 52,
    "start_time": "2022-06-14T08:06:59.492Z"
   }
  ],
  "celltoolbar": "Raw Cell Format",
  "colab": {
   "collapsed_sections": [],
   "name": "Яндекс.Практикум - 4 проект",
   "provenance": [],
   "toc_visible": true
  },
  "kernelspec": {
   "display_name": "Python 3 (ipykernel)",
   "language": "python",
   "name": "python3"
  },
  "language_info": {
   "codemirror_mode": {
    "name": "ipython",
    "version": 3
   },
   "file_extension": ".py",
   "mimetype": "text/x-python",
   "name": "python",
   "nbconvert_exporter": "python",
   "pygments_lexer": "ipython3",
   "version": "3.9.12"
  },
  "toc": {
   "base_numbering": 1,
   "nav_menu": {},
   "number_sections": true,
   "sideBar": true,
   "skip_h1_title": false,
   "title_cell": "Table of Contents",
   "title_sidebar": "Contents",
   "toc_cell": false,
   "toc_position": {
    "height": "calc(100% - 180px)",
    "left": "10px",
    "top": "150px",
    "width": "165px"
   },
   "toc_section_display": true,
   "toc_window_display": true
  }
 },
 "nbformat": 4,
 "nbformat_minor": 1
}
