{
 "cells": [
  {
   "cell_type": "markdown",
   "metadata": {},
   "source": [
    "# Описание проекта\n",
    "\n",
    "**Задача:**\n",
    "\n",
    "Я — аналитик крупного интернет-магазина. Вместе с отделом маркетинга я подготовил список гипотез для увеличения выручки.\n",
    "Приоритизируем гипотезы, запустим A/B-тест и проанализируйте результаты.\n",
    "\n",
    "**План работ:**\n",
    "\n",
    "1. Загрузить данные и посмотреть на предмет пропусков, дубликатов, типов данных. Сделать небольшой EDA.\n",
    "2. Рассчитать и приоритизировать гипотезы по фреймворкам ICE и RICE.\n",
    "3. Анализ АБ-теста\n",
    "* Рассчитать и построить график кумулятивных показателей и относительного изменения показателей между группами: количества заказов, выручки, ср. чека\n",
    "* Проверить показатели на предмет выбросов. Если выбросы есть, то сделать \"очищенную версию\" данных\n",
    "* Посчитать стат. значимость основных показателей, полученных при эксперименте. По \"сырым\" и \"очищенным\" данным.\n",
    "* Написать выводы и сделать вердикт."
   ]
  },
  {
   "cell_type": "markdown",
   "metadata": {},
   "source": [
    "## Загрузка и обзор данных"
   ]
  },
  {
   "cell_type": "code",
   "execution_count": 1,
   "metadata": {},
   "outputs": [],
   "source": [
    "# Подключим необъодимые библиотеки\n",
    "\n",
    "import pandas as pd\n",
    "import seaborn as sns\n",
    "import datetime as dt\n",
    "from matplotlib import pyplot as plt\n",
    "import numpy as np\n",
    "import scipy.stats as stats"
   ]
  },
  {
   "cell_type": "code",
   "execution_count": 2,
   "metadata": {},
   "outputs": [
    {
     "name": "stdout",
     "output_type": "stream",
     "text": [
      "(62, 3)\n",
      "(1197, 5)\n",
      "(9, 5)\n"
     ]
    }
   ],
   "source": [
    "# Загрузим данные\n",
    "hypothesis = pd.read_csv('/datasets/hypothesis.csv')\n",
    "orders = pd.read_csv('/datasets/orders.csv', parse_dates=['date'])\n",
    "visitors = pd.read_csv('/datasets/visitors.csv', parse_dates=['date'])\n",
    "\n",
    "print(visitors.shape)\n",
    "print(orders.shape)\n",
    "print(hypothesis.shape)"
   ]
  },
  {
   "cell_type": "code",
   "execution_count": 3,
   "metadata": {},
   "outputs": [
    {
     "name": "stdout",
     "output_type": "stream",
     "text": [
      "visitors:\n",
      "<class 'pandas.core.frame.DataFrame'>\n",
      "RangeIndex: 62 entries, 0 to 61\n",
      "Data columns (total 3 columns):\n",
      " #   Column    Non-Null Count  Dtype         \n",
      "---  ------    --------------  -----         \n",
      " 0   date      62 non-null     datetime64[ns]\n",
      " 1   group     62 non-null     object        \n",
      " 2   visitors  62 non-null     int64         \n",
      "dtypes: datetime64[ns](1), int64(1), object(1)\n",
      "memory usage: 1.6+ KB\n",
      "\n",
      "orders:\n",
      "<class 'pandas.core.frame.DataFrame'>\n",
      "RangeIndex: 1197 entries, 0 to 1196\n",
      "Data columns (total 5 columns):\n",
      " #   Column         Non-Null Count  Dtype         \n",
      "---  ------         --------------  -----         \n",
      " 0   transactionId  1197 non-null   int64         \n",
      " 1   visitorId      1197 non-null   int64         \n",
      " 2   date           1197 non-null   datetime64[ns]\n",
      " 3   revenue        1197 non-null   int64         \n",
      " 4   group          1197 non-null   object        \n",
      "dtypes: datetime64[ns](1), int64(3), object(1)\n",
      "memory usage: 46.9+ KB\n",
      "\n",
      "hypothesis:\n",
      "<class 'pandas.core.frame.DataFrame'>\n",
      "RangeIndex: 9 entries, 0 to 8\n",
      "Data columns (total 5 columns):\n",
      " #   Column      Non-Null Count  Dtype \n",
      "---  ------      --------------  ----- \n",
      " 0   Hypothesis  9 non-null      object\n",
      " 1   Reach       9 non-null      int64 \n",
      " 2   Impact      9 non-null      int64 \n",
      " 3   Confidence  9 non-null      int64 \n",
      " 4   Efforts     9 non-null      int64 \n",
      "dtypes: int64(4), object(1)\n",
      "memory usage: 488.0+ bytes\n"
     ]
    }
   ],
   "source": [
    "# Пощупаем данные\n",
    "\n",
    "print('visitors:')\n",
    "visitors.info()\n",
    "print()\n",
    "print('orders:')\n",
    "orders.info()\n",
    "\n",
    "print()\n",
    "print('hypothesis:')\n",
    "hypothesis.info()"
   ]
  },
  {
   "cell_type": "markdown",
   "metadata": {},
   "source": [
    "С виду всё в порядке. Пропусков не видно, типы колонок в норме (тип даты мы исправили ещё и при загрузке датасета).\n",
    "\n",
    "Единственное - приведём название колонок в нижний регистр."
   ]
  },
  {
   "cell_type": "code",
   "execution_count": 4,
   "metadata": {},
   "outputs": [
    {
     "data": {
      "text/html": [
       "<div>\n",
       "<style scoped>\n",
       "    .dataframe tbody tr th:only-of-type {\n",
       "        vertical-align: middle;\n",
       "    }\n",
       "\n",
       "    .dataframe tbody tr th {\n",
       "        vertical-align: top;\n",
       "    }\n",
       "\n",
       "    .dataframe thead th {\n",
       "        text-align: right;\n",
       "    }\n",
       "</style>\n",
       "<table border=\"1\" class=\"dataframe\">\n",
       "  <thead>\n",
       "    <tr style=\"text-align: right;\">\n",
       "      <th></th>\n",
       "      <th>hypothesis</th>\n",
       "      <th>reach</th>\n",
       "      <th>impact</th>\n",
       "      <th>confidence</th>\n",
       "      <th>efforts</th>\n",
       "    </tr>\n",
       "  </thead>\n",
       "  <tbody>\n",
       "    <tr>\n",
       "      <th>0</th>\n",
       "      <td>Добавить два новых канала привлечения трафика,...</td>\n",
       "      <td>3</td>\n",
       "      <td>10</td>\n",
       "      <td>8</td>\n",
       "      <td>6</td>\n",
       "    </tr>\n",
       "    <tr>\n",
       "      <th>1</th>\n",
       "      <td>Запустить собственную службу доставки, что сок...</td>\n",
       "      <td>2</td>\n",
       "      <td>5</td>\n",
       "      <td>4</td>\n",
       "      <td>10</td>\n",
       "    </tr>\n",
       "    <tr>\n",
       "      <th>2</th>\n",
       "      <td>Добавить блоки рекомендаций товаров на сайт ин...</td>\n",
       "      <td>8</td>\n",
       "      <td>3</td>\n",
       "      <td>7</td>\n",
       "      <td>3</td>\n",
       "    </tr>\n",
       "    <tr>\n",
       "      <th>3</th>\n",
       "      <td>Изменить структура категорий, что увеличит кон...</td>\n",
       "      <td>8</td>\n",
       "      <td>3</td>\n",
       "      <td>3</td>\n",
       "      <td>8</td>\n",
       "    </tr>\n",
       "    <tr>\n",
       "      <th>4</th>\n",
       "      <td>Изменить цвет фона главной страницы, чтобы уве...</td>\n",
       "      <td>3</td>\n",
       "      <td>1</td>\n",
       "      <td>1</td>\n",
       "      <td>1</td>\n",
       "    </tr>\n",
       "    <tr>\n",
       "      <th>5</th>\n",
       "      <td>Добавить страницу отзывов клиентов о магазине,...</td>\n",
       "      <td>3</td>\n",
       "      <td>2</td>\n",
       "      <td>2</td>\n",
       "      <td>3</td>\n",
       "    </tr>\n",
       "    <tr>\n",
       "      <th>6</th>\n",
       "      <td>Показать на главной странице баннеры с актуаль...</td>\n",
       "      <td>5</td>\n",
       "      <td>3</td>\n",
       "      <td>8</td>\n",
       "      <td>3</td>\n",
       "    </tr>\n",
       "    <tr>\n",
       "      <th>7</th>\n",
       "      <td>Добавить форму подписки на все основные страни...</td>\n",
       "      <td>10</td>\n",
       "      <td>7</td>\n",
       "      <td>8</td>\n",
       "      <td>5</td>\n",
       "    </tr>\n",
       "    <tr>\n",
       "      <th>8</th>\n",
       "      <td>Запустить акцию, дающую скидку на товар в день...</td>\n",
       "      <td>1</td>\n",
       "      <td>9</td>\n",
       "      <td>9</td>\n",
       "      <td>5</td>\n",
       "    </tr>\n",
       "  </tbody>\n",
       "</table>\n",
       "</div>"
      ],
      "text/plain": [
       "                                          hypothesis  reach  impact  \\\n",
       "0  Добавить два новых канала привлечения трафика,...      3      10   \n",
       "1  Запустить собственную службу доставки, что сок...      2       5   \n",
       "2  Добавить блоки рекомендаций товаров на сайт ин...      8       3   \n",
       "3  Изменить структура категорий, что увеличит кон...      8       3   \n",
       "4  Изменить цвет фона главной страницы, чтобы уве...      3       1   \n",
       "5  Добавить страницу отзывов клиентов о магазине,...      3       2   \n",
       "6  Показать на главной странице баннеры с актуаль...      5       3   \n",
       "7  Добавить форму подписки на все основные страни...     10       7   \n",
       "8  Запустить акцию, дающую скидку на товар в день...      1       9   \n",
       "\n",
       "   confidence  efforts  \n",
       "0           8        6  \n",
       "1           4       10  \n",
       "2           7        3  \n",
       "3           3        8  \n",
       "4           1        1  \n",
       "5           2        3  \n",
       "6           8        3  \n",
       "7           8        5  \n",
       "8           9        5  "
      ]
     },
     "execution_count": 4,
     "metadata": {},
     "output_type": "execute_result"
    }
   ],
   "source": [
    "hypothesis.columns = map(str.lower, hypothesis.columns)\n",
    "orders.columns = map(str.lower, orders.columns)\n",
    "visitors.columns = map(str.lower, visitors.columns)\n",
    "\n",
    "hypothesis.head(10)"
   ]
  },
  {
   "cell_type": "markdown",
   "metadata": {},
   "source": [
    "Поля таблицы с гипотезами: \n",
    "* `Hypothesis` — краткое описание гипотезы;\n",
    "* `Reach` — охват пользователей по 10-балльной шкале;\n",
    "* `Impact` — влияние на пользователей по 10-балльной шкале;\n",
    "* `Confidence` — уверенность в гипотезе по 10-балльной шкале;\n",
    "* `Efforts` — затраты ресурсов на проверку гипотезы по 10-балльной шкале. Чем больше значение Efforts, тем дороже проверка гипотезы."
   ]
  },
  {
   "cell_type": "code",
   "execution_count": 5,
   "metadata": {},
   "outputs": [
    {
     "data": {
      "text/html": [
       "<div>\n",
       "<style scoped>\n",
       "    .dataframe tbody tr th:only-of-type {\n",
       "        vertical-align: middle;\n",
       "    }\n",
       "\n",
       "    .dataframe tbody tr th {\n",
       "        vertical-align: top;\n",
       "    }\n",
       "\n",
       "    .dataframe thead th {\n",
       "        text-align: right;\n",
       "    }\n",
       "</style>\n",
       "<table border=\"1\" class=\"dataframe\">\n",
       "  <thead>\n",
       "    <tr style=\"text-align: right;\">\n",
       "      <th></th>\n",
       "      <th>date</th>\n",
       "      <th>group</th>\n",
       "      <th>visitors</th>\n",
       "    </tr>\n",
       "  </thead>\n",
       "  <tbody>\n",
       "    <tr>\n",
       "      <th>39</th>\n",
       "      <td>2019-08-09</td>\n",
       "      <td>B</td>\n",
       "      <td>610</td>\n",
       "    </tr>\n",
       "    <tr>\n",
       "      <th>12</th>\n",
       "      <td>2019-08-13</td>\n",
       "      <td>A</td>\n",
       "      <td>748</td>\n",
       "    </tr>\n",
       "    <tr>\n",
       "      <th>32</th>\n",
       "      <td>2019-08-02</td>\n",
       "      <td>B</td>\n",
       "      <td>581</td>\n",
       "    </tr>\n",
       "    <tr>\n",
       "      <th>15</th>\n",
       "      <td>2019-08-16</td>\n",
       "      <td>A</td>\n",
       "      <td>361</td>\n",
       "    </tr>\n",
       "    <tr>\n",
       "      <th>30</th>\n",
       "      <td>2019-08-31</td>\n",
       "      <td>A</td>\n",
       "      <td>699</td>\n",
       "    </tr>\n",
       "  </tbody>\n",
       "</table>\n",
       "</div>"
      ],
      "text/plain": [
       "         date group  visitors\n",
       "39 2019-08-09     B       610\n",
       "12 2019-08-13     A       748\n",
       "32 2019-08-02     B       581\n",
       "15 2019-08-16     A       361\n",
       "30 2019-08-31     A       699"
      ]
     },
     "metadata": {},
     "output_type": "display_data"
    },
    {
     "data": {
      "text/html": [
       "<div>\n",
       "<style scoped>\n",
       "    .dataframe tbody tr th:only-of-type {\n",
       "        vertical-align: middle;\n",
       "    }\n",
       "\n",
       "    .dataframe tbody tr th {\n",
       "        vertical-align: top;\n",
       "    }\n",
       "\n",
       "    .dataframe thead th {\n",
       "        text-align: right;\n",
       "    }\n",
       "</style>\n",
       "<table border=\"1\" class=\"dataframe\">\n",
       "  <thead>\n",
       "    <tr style=\"text-align: right;\">\n",
       "      <th></th>\n",
       "      <th>transactionid</th>\n",
       "      <th>visitorid</th>\n",
       "      <th>date</th>\n",
       "      <th>revenue</th>\n",
       "      <th>group</th>\n",
       "    </tr>\n",
       "  </thead>\n",
       "  <tbody>\n",
       "    <tr>\n",
       "      <th>375</th>\n",
       "      <td>1863281703</td>\n",
       "      <td>1959144690</td>\n",
       "      <td>2019-08-25</td>\n",
       "      <td>16480</td>\n",
       "      <td>A</td>\n",
       "    </tr>\n",
       "    <tr>\n",
       "      <th>636</th>\n",
       "      <td>3560142722</td>\n",
       "      <td>2531836666</td>\n",
       "      <td>2019-08-09</td>\n",
       "      <td>4990</td>\n",
       "      <td>B</td>\n",
       "    </tr>\n",
       "    <tr>\n",
       "      <th>494</th>\n",
       "      <td>1207030791</td>\n",
       "      <td>2700013943</td>\n",
       "      <td>2019-08-26</td>\n",
       "      <td>1980</td>\n",
       "      <td>B</td>\n",
       "    </tr>\n",
       "    <tr>\n",
       "      <th>282</th>\n",
       "      <td>3592105335</td>\n",
       "      <td>3279802827</td>\n",
       "      <td>2019-08-18</td>\n",
       "      <td>1990</td>\n",
       "      <td>A</td>\n",
       "    </tr>\n",
       "    <tr>\n",
       "      <th>210</th>\n",
       "      <td>1803127824</td>\n",
       "      <td>2830871062</td>\n",
       "      <td>2019-08-02</td>\n",
       "      <td>100</td>\n",
       "      <td>B</td>\n",
       "    </tr>\n",
       "  </tbody>\n",
       "</table>\n",
       "</div>"
      ],
      "text/plain": [
       "     transactionid   visitorid       date  revenue group\n",
       "375     1863281703  1959144690 2019-08-25    16480     A\n",
       "636     3560142722  2531836666 2019-08-09     4990     B\n",
       "494     1207030791  2700013943 2019-08-26     1980     B\n",
       "282     3592105335  3279802827 2019-08-18     1990     A\n",
       "210     1803127824  2830871062 2019-08-02      100     B"
      ]
     },
     "metadata": {},
     "output_type": "display_data"
    }
   ],
   "source": [
    "# Посмотрим примеры других таблиц\n",
    "\n",
    "display(visitors.sample(5))\n",
    "display(orders.sample(5))"
   ]
  },
  {
   "cell_type": "code",
   "execution_count": 6,
   "metadata": {},
   "outputs": [],
   "source": [
    "# Для удобства переименуем столбцы в заказах\n",
    "orders.columns = ['orderId', 'userId', 'date', 'revenue', 'group']"
   ]
  },
  {
   "cell_type": "markdown",
   "metadata": {},
   "source": [
    "Поля для таблицы заказов:\n",
    "* `orderId` — идентификатор заказа;\n",
    "* `userId` — идентификатор пользователя, совершившего заказ;\n",
    "* `date` — дата, когда был совершён заказ;\n",
    "* `revenue` — выручка заказа;\n",
    "* `group` — группа A/B-теста, в которую попал заказ.\n",
    "\n",
    "Поля таблицы посетителей:\n",
    "* `date` — дата;\n",
    "* `group` — группа A/B-теста;\n",
    "* `visitors` — количество пользователей в указанную дату в указанной группе A/B-теста"
   ]
  },
  {
   "cell_type": "markdown",
   "metadata": {},
   "source": [
    "Проверим таблицы на дубликаты:"
   ]
  },
  {
   "cell_type": "code",
   "execution_count": 7,
   "metadata": {},
   "outputs": [
    {
     "name": "stdout",
     "output_type": "stream",
     "text": [
      "Дубликатов в orders: 0\n",
      "Дубликатов в visitors: 0\n"
     ]
    }
   ],
   "source": [
    "print(\"Дубликатов в orders:\", len(orders[orders.duplicated(keep=False)]))\n",
    "print(\"Дубликатов в visitors:\", len(visitors[visitors.duplicated(keep=False)]))"
   ]
  },
  {
   "cell_type": "markdown",
   "metadata": {},
   "source": [
    "Посмотрим на минимальную и максимальную дату эксперимента, а также количество событий в каждой группе."
   ]
  },
  {
   "cell_type": "code",
   "execution_count": 8,
   "metadata": {},
   "outputs": [
    {
     "data": {
      "image/png": "[encoded data removed]",
      "text/plain": [
       "<Figure size 936x432 with 1 Axes>"
      ]
     },
     "metadata": {
      "needs_background": "light"
     },
     "output_type": "display_data"
    }
   ],
   "source": [
    "plt.figure(figsize=(13, 6))\n",
    "\n",
    "# Сгруппируем orders по дате и количестве записей\n",
    "sns.lineplot(data=orders.groupby(['date','group']).size().reset_index(name='count'), \n",
    "             x='date', y='count', hue='group');\n",
    "\n",
    "plt.xlabel('Дата эксперимента');\n",
    "plt.ylabel('Количество событий');\n",
    "plt.title('Количество событий по датам');"
   ]
  },
  {
   "cell_type": "markdown",
   "metadata": {},
   "source": [
    "Дата от 1 августа 2018 до 1 сентября 2019. Нигде количество записей не падает до нуля."
   ]
  },
  {
   "cell_type": "markdown",
   "metadata": {},
   "source": [
    "Также посмотрим - не попадают ли какие пользователи в обе группы эксперимента:"
   ]
  },
  {
   "cell_type": "code",
   "execution_count": 9,
   "metadata": {},
   "outputs": [
    {
     "name": "stdout",
     "output_type": "stream",
     "text": [
      "Количество пользователей в обеих группах одновременно: 58\n",
      "Общее количество пользователей: 1031\n"
     ]
    }
   ],
   "source": [
    "# Группируем по юзеру и группе\n",
    "user_two_groups = orders.pivot_table(index=['userId', 'group'], values='revenue', aggfunc='count').reset_index().sort_values('group', ascending=False)\n",
    "\n",
    "# Создаём лист с дублированными id\n",
    "user_two_list = user_two_groups[user_two_groups['userId'].duplicated()]['userId']\n",
    "\n",
    "# Выводим общее количество и дублей\n",
    "print('Количество пользователей в обеих группах одновременно:', len(user_two_list))\n",
    "\n",
    "print('Общее количество пользователей:', user_two_groups['userId'].count() \n",
    "                                         - user_two_groups[user_two_groups['userId'].duplicated()].count()['userId'])"
   ]
  },
  {
   "cell_type": "markdown",
   "metadata": {},
   "source": [
    "Количество дублированных пользователей составляет около 5%. Думаю, что можно их удалить из-за внесение искажений и небольшого процента от общего количества."
   ]
  },
  {
   "cell_type": "code",
   "execution_count": 10,
   "metadata": {
    "scrolled": true
   },
   "outputs": [
    {
     "name": "stdout",
     "output_type": "stream",
     "text": [
      "Общее количество пользователей после среза:  973\n"
     ]
    }
   ],
   "source": [
    "# Делаем срез и убираем дублированных пользователей\n",
    "\n",
    "orders = orders.query('userId not in @user_two_list')\n",
    "print('Общее количество пользователей после среза: ', len(orders.groupby('userId')['userId']))"
   ]
  },
  {
   "cell_type": "markdown",
   "metadata": {},
   "source": [
    "Пользователи успешно срезаны."
   ]
  },
  {
   "cell_type": "markdown",
   "metadata": {},
   "source": [
    "**Выводы:**\n",
    "\n",
    "* Пропусков и несоответствие типов данных не обнаружено\n",
    "* Для удобства переименовали столбы в таблице orders\n",
    "* Проверили непрерывность дат, а также мин. и макс.\n",
    "* Проверили попадание пользователей в обе группы и сделали срез"
   ]
  },
  {
   "cell_type": "markdown",
   "metadata": {},
   "source": [
    "## Приоритизация гипотез"
   ]
  },
  {
   "cell_type": "markdown",
   "metadata": {},
   "source": [
    "Проверка гипотез - удовольствие дорогое. Поэтому нужно гипотезы отранжировать по степени важности. Для этого у нас есть фреймворки по отбору гипотез: WSJF, ICE и RICE.\n",
    "\n",
    "В таблице `hypothesis` - 9 гипотез по увеличению выручки интернет-магазина с указанными параметрами Reach, Impact, Confidence, Effort.\n",
    "\n",
    "**Задача**\n",
    "* Примените фреймворк ICE для приоритизации гипотез. Отсортируйте их по убыванию приоритета.\n",
    "* Примените фреймворк RICE для приоритизации гипотез. Отсортируйте их по убыванию приоритета.\n",
    "* Укажите, как изменилась приоритизация гипотез при применении RICE вместо ICE. Объясните, почему так произошло."
   ]
  },
  {
   "cell_type": "markdown",
   "metadata": {},
   "source": [
    "### ICE"
   ]
  },
  {
   "cell_type": "markdown",
   "metadata": {},
   "source": [
    "Метод определения приоритетов **ICE** был придуман Шоном Эллисом, который известен авторством термина Growth Hacker.\n",
    "Первоначально ICE был предназначен для приоритизации экспериментов по росту. Позже ICE стали использовать и для приоритизации фичей.\n",
    "\n",
    "В ICE оцениваются идеи таким образом:\n",
    "* **Влияние** демонстрирует, насколько идея положительно повлияет на ключевой показатель, который вы пытаетесь улучшить.\n",
    "* **Легкость** реализации или простота — это оценка того, сколько усилий и ресурсов требуется для реализации этой идеи.\n",
    "* **Уверенность** демонстрирует, насколько вы уверены в оценках влияния и легкости реализации.\n",
    "\n",
    "Значения в ICE оцениваются по шкале от 1 до 10, чтобы все факторы сбалансировано повлияли на итоговое число."
   ]
  },
  {
   "cell_type": "code",
   "execution_count": 11,
   "metadata": {},
   "outputs": [
    {
     "data": {
      "text/html": [
       "<div>\n",
       "<style scoped>\n",
       "    .dataframe tbody tr th:only-of-type {\n",
       "        vertical-align: middle;\n",
       "    }\n",
       "\n",
       "    .dataframe tbody tr th {\n",
       "        vertical-align: top;\n",
       "    }\n",
       "\n",
       "    .dataframe thead th {\n",
       "        text-align: right;\n",
       "    }\n",
       "</style>\n",
       "<table border=\"1\" class=\"dataframe\">\n",
       "  <thead>\n",
       "    <tr style=\"text-align: right;\">\n",
       "      <th></th>\n",
       "      <th>hypothesis</th>\n",
       "      <th>ICE</th>\n",
       "    </tr>\n",
       "  </thead>\n",
       "  <tbody>\n",
       "    <tr>\n",
       "      <th>8</th>\n",
       "      <td>Запустить акцию, дающую скидку на товар в день рождения</td>\n",
       "      <td>16.20</td>\n",
       "    </tr>\n",
       "    <tr>\n",
       "      <th>0</th>\n",
       "      <td>Добавить два новых канала привлечения трафика, что позволит привлекать на 30% больше пользователей</td>\n",
       "      <td>13.33</td>\n",
       "    </tr>\n",
       "    <tr>\n",
       "      <th>7</th>\n",
       "      <td>Добавить форму подписки на все основные страницы, чтобы собрать базу клиентов для email-рассылок</td>\n",
       "      <td>11.20</td>\n",
       "    </tr>\n",
       "    <tr>\n",
       "      <th>6</th>\n",
       "      <td>Показать на главной странице баннеры с актуальными акциями и распродажами, чтобы увеличить конверсию</td>\n",
       "      <td>8.00</td>\n",
       "    </tr>\n",
       "    <tr>\n",
       "      <th>2</th>\n",
       "      <td>Добавить блоки рекомендаций товаров на сайт интернет магазина, чтобы повысить конверсию и средний чек заказа</td>\n",
       "      <td>7.00</td>\n",
       "    </tr>\n",
       "    <tr>\n",
       "      <th>1</th>\n",
       "      <td>Запустить собственную службу доставки, что сократит срок доставки заказов</td>\n",
       "      <td>2.00</td>\n",
       "    </tr>\n",
       "    <tr>\n",
       "      <th>5</th>\n",
       "      <td>Добавить страницу отзывов клиентов о магазине, что позволит увеличить количество заказов</td>\n",
       "      <td>1.33</td>\n",
       "    </tr>\n",
       "    <tr>\n",
       "      <th>3</th>\n",
       "      <td>Изменить структура категорий, что увеличит конверсию, т.к. пользователи быстрее найдут нужный товар</td>\n",
       "      <td>1.12</td>\n",
       "    </tr>\n",
       "    <tr>\n",
       "      <th>4</th>\n",
       "      <td>Изменить цвет фона главной страницы, чтобы увеличить вовлеченность пользователей</td>\n",
       "      <td>1.00</td>\n",
       "    </tr>\n",
       "  </tbody>\n",
       "</table>\n",
       "</div>"
      ],
      "text/plain": [
       "                                                                                                     hypothesis  \\\n",
       "8                                                       Запустить акцию, дающую скидку на товар в день рождения   \n",
       "0            Добавить два новых канала привлечения трафика, что позволит привлекать на 30% больше пользователей   \n",
       "7              Добавить форму подписки на все основные страницы, чтобы собрать базу клиентов для email-рассылок   \n",
       "6          Показать на главной странице баннеры с актуальными акциями и распродажами, чтобы увеличить конверсию   \n",
       "2  Добавить блоки рекомендаций товаров на сайт интернет магазина, чтобы повысить конверсию и средний чек заказа   \n",
       "1                                     Запустить собственную службу доставки, что сократит срок доставки заказов   \n",
       "5                      Добавить страницу отзывов клиентов о магазине, что позволит увеличить количество заказов   \n",
       "3           Изменить структура категорий, что увеличит конверсию, т.к. пользователи быстрее найдут нужный товар   \n",
       "4                              Изменить цвет фона главной страницы, чтобы увеличить вовлеченность пользователей   \n",
       "\n",
       "     ICE  \n",
       "8  16.20  \n",
       "0  13.33  \n",
       "7  11.20  \n",
       "6   8.00  \n",
       "2   7.00  \n",
       "1   2.00  \n",
       "5   1.33  \n",
       "3   1.12  \n",
       "4   1.00  "
      ]
     },
     "metadata": {},
     "output_type": "display_data"
    }
   ],
   "source": [
    "# Начнём приоритизацию с ICE\n",
    "\n",
    "# Сделаем так, чтобы был виден весь текст в колонках\n",
    "pd.set_option('display.max_colwidth', None)\n",
    "\n",
    "hypothesis['ICE'] = round(hypothesis['impact'] * hypothesis['confidence'] / hypothesis['efforts'], 2)\n",
    "display(hypothesis[['hypothesis', 'ICE']].sort_values('ICE', ascending=False))"
   ]
  },
  {
   "cell_type": "markdown",
   "metadata": {},
   "source": [
    "### RICE"
   ]
  },
  {
   "cell_type": "markdown",
   "metadata": {},
   "source": [
    "**RICE** — это метод приоритизации идей и фич продукта. Аббревиатура включает 4 фактора, которые менеджер продукта может смело использовать для оценки и приоритизации продуктовых фич:\n",
    "\n",
    "* **Reach** — это охват\n",
    "* **Impact** — влияние\n",
    "* **Confidence** — уверенность в вашей оценке охвата, влияния и трудозатрат\n",
    "* **Effort** — трудозатраты\n",
    "\n",
    "Чтобы получить оценку по RICE, вам необходимо объединить эти факторы."
   ]
  },
  {
   "cell_type": "code",
   "execution_count": 12,
   "metadata": {},
   "outputs": [
    {
     "data": {
      "text/html": [
       "<div>\n",
       "<style scoped>\n",
       "    .dataframe tbody tr th:only-of-type {\n",
       "        vertical-align: middle;\n",
       "    }\n",
       "\n",
       "    .dataframe tbody tr th {\n",
       "        vertical-align: top;\n",
       "    }\n",
       "\n",
       "    .dataframe thead th {\n",
       "        text-align: right;\n",
       "    }\n",
       "</style>\n",
       "<table border=\"1\" class=\"dataframe\">\n",
       "  <thead>\n",
       "    <tr style=\"text-align: right;\">\n",
       "      <th></th>\n",
       "      <th>hypothesis</th>\n",
       "      <th>RICE</th>\n",
       "    </tr>\n",
       "  </thead>\n",
       "  <tbody>\n",
       "    <tr>\n",
       "      <th>7</th>\n",
       "      <td>Добавить форму подписки на все основные страницы, чтобы собрать базу клиентов для email-рассылок</td>\n",
       "      <td>112.0</td>\n",
       "    </tr>\n",
       "    <tr>\n",
       "      <th>2</th>\n",
       "      <td>Добавить блоки рекомендаций товаров на сайт интернет магазина, чтобы повысить конверсию и средний чек заказа</td>\n",
       "      <td>56.0</td>\n",
       "    </tr>\n",
       "    <tr>\n",
       "      <th>0</th>\n",
       "      <td>Добавить два новых канала привлечения трафика, что позволит привлекать на 30% больше пользователей</td>\n",
       "      <td>40.0</td>\n",
       "    </tr>\n",
       "    <tr>\n",
       "      <th>6</th>\n",
       "      <td>Показать на главной странице баннеры с актуальными акциями и распродажами, чтобы увеличить конверсию</td>\n",
       "      <td>40.0</td>\n",
       "    </tr>\n",
       "    <tr>\n",
       "      <th>8</th>\n",
       "      <td>Запустить акцию, дающую скидку на товар в день рождения</td>\n",
       "      <td>16.2</td>\n",
       "    </tr>\n",
       "    <tr>\n",
       "      <th>3</th>\n",
       "      <td>Изменить структура категорий, что увеличит конверсию, т.к. пользователи быстрее найдут нужный товар</td>\n",
       "      <td>9.0</td>\n",
       "    </tr>\n",
       "    <tr>\n",
       "      <th>1</th>\n",
       "      <td>Запустить собственную службу доставки, что сократит срок доставки заказов</td>\n",
       "      <td>4.0</td>\n",
       "    </tr>\n",
       "    <tr>\n",
       "      <th>5</th>\n",
       "      <td>Добавить страницу отзывов клиентов о магазине, что позволит увеличить количество заказов</td>\n",
       "      <td>4.0</td>\n",
       "    </tr>\n",
       "    <tr>\n",
       "      <th>4</th>\n",
       "      <td>Изменить цвет фона главной страницы, чтобы увеличить вовлеченность пользователей</td>\n",
       "      <td>3.0</td>\n",
       "    </tr>\n",
       "  </tbody>\n",
       "</table>\n",
       "</div>"
      ],
      "text/plain": [
       "                                                                                                     hypothesis  \\\n",
       "7              Добавить форму подписки на все основные страницы, чтобы собрать базу клиентов для email-рассылок   \n",
       "2  Добавить блоки рекомендаций товаров на сайт интернет магазина, чтобы повысить конверсию и средний чек заказа   \n",
       "0            Добавить два новых канала привлечения трафика, что позволит привлекать на 30% больше пользователей   \n",
       "6          Показать на главной странице баннеры с актуальными акциями и распродажами, чтобы увеличить конверсию   \n",
       "8                                                       Запустить акцию, дающую скидку на товар в день рождения   \n",
       "3           Изменить структура категорий, что увеличит конверсию, т.к. пользователи быстрее найдут нужный товар   \n",
       "1                                     Запустить собственную службу доставки, что сократит срок доставки заказов   \n",
       "5                      Добавить страницу отзывов клиентов о магазине, что позволит увеличить количество заказов   \n",
       "4                              Изменить цвет фона главной страницы, чтобы увеличить вовлеченность пользователей   \n",
       "\n",
       "    RICE  \n",
       "7  112.0  \n",
       "2   56.0  \n",
       "0   40.0  \n",
       "6   40.0  \n",
       "8   16.2  \n",
       "3    9.0  \n",
       "1    4.0  \n",
       "5    4.0  \n",
       "4    3.0  "
      ]
     },
     "metadata": {},
     "output_type": "display_data"
    }
   ],
   "source": [
    "# Теперь второй фреймворк\n",
    "\n",
    "hypothesis['RICE'] = hypothesis['reach'] * hypothesis['impact'] * hypothesis['confidence'] / hypothesis['efforts']\n",
    "display(hypothesis[['hypothesis', 'RICE']].sort_values('RICE', ascending=False))"
   ]
  },
  {
   "cell_type": "code",
   "execution_count": 13,
   "metadata": {
    "scrolled": true
   },
   "outputs": [
    {
     "data": {
      "text/html": [
       "<div>\n",
       "<style scoped>\n",
       "    .dataframe tbody tr th:only-of-type {\n",
       "        vertical-align: middle;\n",
       "    }\n",
       "\n",
       "    .dataframe tbody tr th {\n",
       "        vertical-align: top;\n",
       "    }\n",
       "\n",
       "    .dataframe thead th {\n",
       "        text-align: right;\n",
       "    }\n",
       "</style>\n",
       "<table border=\"1\" class=\"dataframe\">\n",
       "  <thead>\n",
       "    <tr style=\"text-align: right;\">\n",
       "      <th></th>\n",
       "      <th>hypothesis</th>\n",
       "      <th>RICE</th>\n",
       "      <th>ICE</th>\n",
       "    </tr>\n",
       "  </thead>\n",
       "  <tbody>\n",
       "    <tr>\n",
       "      <th>7</th>\n",
       "      <td>Добавить форму подписки на все основные страницы, чтобы собрать базу клиентов для email-рассылок</td>\n",
       "      <td>112.0</td>\n",
       "      <td>11.20</td>\n",
       "    </tr>\n",
       "    <tr>\n",
       "      <th>2</th>\n",
       "      <td>Добавить блоки рекомендаций товаров на сайт интернет магазина, чтобы повысить конверсию и средний чек заказа</td>\n",
       "      <td>56.0</td>\n",
       "      <td>7.00</td>\n",
       "    </tr>\n",
       "    <tr>\n",
       "      <th>0</th>\n",
       "      <td>Добавить два новых канала привлечения трафика, что позволит привлекать на 30% больше пользователей</td>\n",
       "      <td>40.0</td>\n",
       "      <td>13.33</td>\n",
       "    </tr>\n",
       "    <tr>\n",
       "      <th>6</th>\n",
       "      <td>Показать на главной странице баннеры с актуальными акциями и распродажами, чтобы увеличить конверсию</td>\n",
       "      <td>40.0</td>\n",
       "      <td>8.00</td>\n",
       "    </tr>\n",
       "    <tr>\n",
       "      <th>8</th>\n",
       "      <td>Запустить акцию, дающую скидку на товар в день рождения</td>\n",
       "      <td>16.2</td>\n",
       "      <td>16.20</td>\n",
       "    </tr>\n",
       "    <tr>\n",
       "      <th>3</th>\n",
       "      <td>Изменить структура категорий, что увеличит конверсию, т.к. пользователи быстрее найдут нужный товар</td>\n",
       "      <td>9.0</td>\n",
       "      <td>1.12</td>\n",
       "    </tr>\n",
       "    <tr>\n",
       "      <th>1</th>\n",
       "      <td>Запустить собственную службу доставки, что сократит срок доставки заказов</td>\n",
       "      <td>4.0</td>\n",
       "      <td>2.00</td>\n",
       "    </tr>\n",
       "    <tr>\n",
       "      <th>5</th>\n",
       "      <td>Добавить страницу отзывов клиентов о магазине, что позволит увеличить количество заказов</td>\n",
       "      <td>4.0</td>\n",
       "      <td>1.33</td>\n",
       "    </tr>\n",
       "    <tr>\n",
       "      <th>4</th>\n",
       "      <td>Изменить цвет фона главной страницы, чтобы увеличить вовлеченность пользователей</td>\n",
       "      <td>3.0</td>\n",
       "      <td>1.00</td>\n",
       "    </tr>\n",
       "  </tbody>\n",
       "</table>\n",
       "</div>"
      ],
      "text/plain": [
       "                                                                                                     hypothesis  \\\n",
       "7              Добавить форму подписки на все основные страницы, чтобы собрать базу клиентов для email-рассылок   \n",
       "2  Добавить блоки рекомендаций товаров на сайт интернет магазина, чтобы повысить конверсию и средний чек заказа   \n",
       "0            Добавить два новых канала привлечения трафика, что позволит привлекать на 30% больше пользователей   \n",
       "6          Показать на главной странице баннеры с актуальными акциями и распродажами, чтобы увеличить конверсию   \n",
       "8                                                       Запустить акцию, дающую скидку на товар в день рождения   \n",
       "3           Изменить структура категорий, что увеличит конверсию, т.к. пользователи быстрее найдут нужный товар   \n",
       "1                                     Запустить собственную службу доставки, что сократит срок доставки заказов   \n",
       "5                      Добавить страницу отзывов клиентов о магазине, что позволит увеличить количество заказов   \n",
       "4                              Изменить цвет фона главной страницы, чтобы увеличить вовлеченность пользователей   \n",
       "\n",
       "    RICE    ICE  \n",
       "7  112.0  11.20  \n",
       "2   56.0   7.00  \n",
       "0   40.0  13.33  \n",
       "6   40.0   8.00  \n",
       "8   16.2  16.20  \n",
       "3    9.0   1.12  \n",
       "1    4.0   2.00  \n",
       "5    4.0   1.33  \n",
       "4    3.0   1.00  "
      ]
     },
     "metadata": {},
     "output_type": "display_data"
    }
   ],
   "source": [
    "# Выводим общую таблицу с двумя гипотезами\n",
    "display(hypothesis[['hypothesis', 'RICE', 'ICE']].sort_values(['RICE', 'ICE'], ascending=False))"
   ]
  },
  {
   "cell_type": "markdown",
   "metadata": {},
   "source": [
    "Для наглядности построим точечный график со сравнением гипотезных метрик:"
   ]
  },
  {
   "cell_type": "code",
   "execution_count": 14,
   "metadata": {
    "scrolled": false
   },
   "outputs": [
    {
     "data": {
      "image/png": "[encoded data removed]",
      "text/plain": [
       "<Figure size 432x288 with 1 Axes>"
      ]
     },
     "metadata": {
      "needs_background": "light"
     },
     "output_type": "display_data"
    }
   ],
   "source": [
    "sns.scatterplot(data = hypothesis, x = \"ICE\", y = \"hypothesis\", label='ICE').set_title('Сравнение метрик гипотезных фреймворков');\n",
    "sns.scatterplot(data = hypothesis, x = \"RICE\", y = \"hypothesis\", label='RICE');\n",
    "\n",
    "plt.xlabel('Количество очков');\n",
    "plt.ylabel('Гипотеза');"
   ]
  },
  {
   "cell_type": "markdown",
   "metadata": {},
   "source": [
    "На точечном графике наглядно видны различия в метрике охвата (Reach). \n",
    "\n",
    "Любопытно, что в одной гипотезу (\"Запустить акцию..\") - метрики полностью сошлись. В трёх других - метрики стоят очень рядом."
   ]
  },
  {
   "cell_type": "markdown",
   "metadata": {},
   "source": [
    "**Выводы:**\n",
    "* Рейтинг и топ гипотез у фреймворков полностью отличаются. Например, самая приоритетная гипотеза у фреймворков отличается. У ICE - это \"Запустить акцию, дающую скидку на товар в день рождения\". У RICE - \"Добавить форму подписки на все основные страницы, чтобы собрать базу клиентов для email-рассылок\"\n",
    "* Скорее всего это связано с \"R\" - охватом, т.к. во фреймворке RICE - первые гипотезы явно направлены на максимальный охват. А, например, в ICE топовая гипотеза направлена на узкий сегмент - у кого ДР.\n",
    "* В ТОП-3 у фреймворков находится гипотеза \"Добавить два новых канала привлечения трафика, что позволит привлекать на 30% больше пользователе\". У этой гипотезы сильный Impact и Confidence."
   ]
  },
  {
   "cell_type": "markdown",
   "metadata": {},
   "source": [
    "## Анализ A/B-теста"
   ]
  },
  {
   "cell_type": "markdown",
   "metadata": {},
   "source": [
    "### График кумулятивной выручки по группам"
   ]
  },
  {
   "cell_type": "markdown",
   "metadata": {},
   "source": [
    "Чтобы исключить проблему подсматривания, анализируют графики метрик. Изучают графики **кумулятивных**, или накапливаемых данных.\n",
    "\n",
    "По центральной предельной теореме значение кумулятивных метрик часто сходится и устанавливается около некоторого среднего. Тогда по графику кумулятивных метрик определяют, стоит останавливать тест или нет."
   ]
  },
  {
   "cell_type": "code",
   "execution_count": 15,
   "metadata": {},
   "outputs": [
    {
     "data": {
      "text/html": [
       "<div>\n",
       "<style scoped>\n",
       "    .dataframe tbody tr th:only-of-type {\n",
       "        vertical-align: middle;\n",
       "    }\n",
       "\n",
       "    .dataframe tbody tr th {\n",
       "        vertical-align: top;\n",
       "    }\n",
       "\n",
       "    .dataframe thead th {\n",
       "        text-align: right;\n",
       "    }\n",
       "</style>\n",
       "<table border=\"1\" class=\"dataframe\">\n",
       "  <thead>\n",
       "    <tr style=\"text-align: right;\">\n",
       "      <th></th>\n",
       "      <th>date</th>\n",
       "      <th>group</th>\n",
       "      <th>orders</th>\n",
       "      <th>buyers</th>\n",
       "      <th>revenue</th>\n",
       "      <th>visitors</th>\n",
       "    </tr>\n",
       "  </thead>\n",
       "  <tbody>\n",
       "    <tr>\n",
       "      <th>0</th>\n",
       "      <td>2019-08-01</td>\n",
       "      <td>A</td>\n",
       "      <td>23</td>\n",
       "      <td>19</td>\n",
       "      <td>142779</td>\n",
       "      <td>719</td>\n",
       "    </tr>\n",
       "    <tr>\n",
       "      <th>1</th>\n",
       "      <td>2019-08-01</td>\n",
       "      <td>B</td>\n",
       "      <td>17</td>\n",
       "      <td>17</td>\n",
       "      <td>59758</td>\n",
       "      <td>713</td>\n",
       "    </tr>\n",
       "    <tr>\n",
       "      <th>2</th>\n",
       "      <td>2019-08-02</td>\n",
       "      <td>A</td>\n",
       "      <td>42</td>\n",
       "      <td>36</td>\n",
       "      <td>234381</td>\n",
       "      <td>1338</td>\n",
       "    </tr>\n",
       "    <tr>\n",
       "      <th>3</th>\n",
       "      <td>2019-08-02</td>\n",
       "      <td>B</td>\n",
       "      <td>40</td>\n",
       "      <td>39</td>\n",
       "      <td>221801</td>\n",
       "      <td>1294</td>\n",
       "    </tr>\n",
       "    <tr>\n",
       "      <th>4</th>\n",
       "      <td>2019-08-03</td>\n",
       "      <td>A</td>\n",
       "      <td>66</td>\n",
       "      <td>60</td>\n",
       "      <td>346854</td>\n",
       "      <td>1845</td>\n",
       "    </tr>\n",
       "  </tbody>\n",
       "</table>\n",
       "</div>"
      ],
      "text/plain": [
       "        date group  orders  buyers  revenue  visitors\n",
       "0 2019-08-01     A      23      19   142779       719\n",
       "1 2019-08-01     B      17      17    59758       713\n",
       "2 2019-08-02     A      42      36   234381      1338\n",
       "3 2019-08-02     B      40      39   221801      1294\n",
       "4 2019-08-03     A      66      60   346854      1845"
      ]
     },
     "metadata": {},
     "output_type": "display_data"
    }
   ],
   "source": [
    "# создаем массив уникальных пар значений дат и групп теста\n",
    "datesGroups = orders[['date','group']].drop_duplicates() \n",
    "\n",
    "# получаем агрегированные кумулятивные по дням данные о заказах \n",
    "ordersAggregated = datesGroups.apply(lambda x: orders[np.logical_and(orders['date'] <= x['date'], orders['group'] == x['group'])]\\\n",
    ".agg({'date' : 'max', 'group' : 'max', 'orderId' : 'nunique', 'userId' : 'nunique', 'revenue' : 'sum'}), axis=1).sort_values(by=['date','group']) \n",
    "\n",
    "# получаем агрегированные кумулятивные по дням данные о посетителях интернет-магазина \n",
    "visitorsAggregated = datesGroups.apply(lambda x: visitors[np.logical_and(visitors['date'] <= x['date'], visitors['group'] == x['group'])]\n",
    ".agg({'date' : 'max', 'group' : 'max', 'visitors' : 'sum'}), axis=1).sort_values(by=['date','group'])\n",
    "\n",
    "# объединяем кумулятивные данные в одной таблице и присваиваем ее столбцам понятные названия\n",
    "cumulativeData = ordersAggregated.merge(visitorsAggregated, left_on=['date', 'group'], right_on=['date', 'group'])\n",
    "cumulativeData.columns = ['date', 'group', 'orders', 'buyers', 'revenue', 'visitors']\n",
    "\n",
    "# Выводим таблицу с кумулятивными данными\n",
    "display(cumulativeData.head()) "
   ]
  },
  {
   "cell_type": "markdown",
   "metadata": {},
   "source": [
    "Объявим переменные `cumulativeRevenueA` и `cumulativeRevenueB`, в которых сохраним данные о датах, выручке и числе заказов в группах A и B.\n",
    "Построим графики кумулятивной выручки по дням по группам."
   ]
  },
  {
   "cell_type": "code",
   "execution_count": 16,
   "metadata": {},
   "outputs": [
    {
     "data": {
      "image/png": "[encoded data removed]",
      "text/plain": [
       "<Figure size 864x360 with 1 Axes>"
      ]
     },
     "metadata": {
      "needs_background": "light"
     },
     "output_type": "display_data"
    }
   ],
   "source": [
    "# датафрейм с кумулятивным количеством заказов и кумулятивной выручкой по дням в группе А\n",
    "cumulativeRevenueA = cumulativeData[cumulativeData['group']=='A'][['date','revenue', 'orders']]\n",
    "\n",
    "# датафрейм с кумулятивным количеством заказов и кумулятивной выручкой по дням в группе B\n",
    "cumulativeRevenueB = cumulativeData[cumulativeData['group']=='B'][['date','revenue', 'orders']]\n",
    "\n",
    "# Определяем размер графика и подпись\n",
    "plt.figure(figsize=(12, 5))\n",
    "plt.title(\"График кумулятивной выручки по дням и группам\")\n",
    "\n",
    "# Строим график выручки группы А\n",
    "plt.plot(cumulativeRevenueA['date'], cumulativeRevenueA['revenue'], label='A');\n",
    "\n",
    "# Строим график выручки группы B\n",
    "plt.plot(cumulativeRevenueB['date'], cumulativeRevenueB['revenue'], label='B');\n",
    "\n",
    "plt.xlabel('Дата эксперимента')\n",
    "plt.ylabel('Выручка, млн. руб.')\n",
    "plt.legend();"
   ]
  },
  {
   "cell_type": "markdown",
   "metadata": {},
   "source": [
    "В середине теста группа B сильно вырвалась вперёд и продолжила лидировать весь тест. Что это? Аномально большие заказы?"
   ]
  },
  {
   "cell_type": "markdown",
   "metadata": {},
   "source": [
    "### График кумулятивного среднего чека по группам"
   ]
  },
  {
   "cell_type": "code",
   "execution_count": 17,
   "metadata": {},
   "outputs": [
    {
     "data": {
      "image/png": "[encoded data removed]",
      "text/plain": [
       "<Figure size 864x360 with 1 Axes>"
      ]
     },
     "metadata": {
      "needs_background": "light"
     },
     "output_type": "display_data"
    }
   ],
   "source": [
    "# Определяем размер графика и подпись\n",
    "plt.figure(figsize=(12, 5))\n",
    "plt.title(\"График кумулятивного среднечего чека по дням и группам\")\n",
    "\n",
    "# Средний чек\n",
    "plt.plot(cumulativeRevenueA['date'], cumulativeRevenueA['revenue']/cumulativeRevenueA['orders'], label='A');\n",
    "plt.plot(cumulativeRevenueB['date'], cumulativeRevenueB['revenue']/cumulativeRevenueB['orders'], label='B');\n",
    "\n",
    "plt.xlabel('Дата эксперимента')\n",
    "plt.ylabel('Ср. чек, руб.')\n",
    "plt.legend();"
   ]
  },
  {
   "cell_type": "markdown",
   "metadata": {},
   "source": [
    "В середине теста у группы B также резко увеличился средний чек. Похоже, что кто-то заказывал товары на большие суммы и из-за этого произошёл всплеск. Причём данные не устаканились даже в конце срока тестов.\n",
    "\n",
    "Также виден всплеск ср. чека у группы \"B\" в начале тестов."
   ]
  },
  {
   "cell_type": "markdown",
   "metadata": {},
   "source": [
    "### График относительного изменения кумулятивного среднего чека группы B к группе A."
   ]
  },
  {
   "cell_type": "code",
   "execution_count": 18,
   "metadata": {},
   "outputs": [
    {
     "data": {
      "image/png": "[encoded data removed]",
      "text/plain": [
       "<Figure size 864x360 with 1 Axes>"
      ]
     },
     "metadata": {
      "needs_background": "light"
     },
     "output_type": "display_data"
    }
   ],
   "source": [
    "# Определяем размер графика и подпись\n",
    "plt.figure(figsize=(12, 5))\n",
    "plt.title(\"График относительного изменения кумулятивного среднего чека\")\n",
    "\n",
    "# собираем данные в одном датафрейме\n",
    "mergedCumulativeRevenue = cumulativeRevenueA.merge(cumulativeRevenueB, left_on='date', right_on='date', how='left', suffixes=['A', 'B'])\n",
    "\n",
    "# cтроим отношение средних чеков\n",
    "plt.plot(mergedCumulativeRevenue['date'], (mergedCumulativeRevenue['revenueB']/mergedCumulativeRevenue['ordersB'])/(mergedCumulativeRevenue['revenueA']/mergedCumulativeRevenue['ordersA'])-1);\n",
    "\n",
    "# добавляем ось X\n",
    "plt.axhline(y=0, color='black', linestyle='--');\n",
    "\n",
    "plt.xlabel('Дата эксперимента');\n",
    "plt.ylabel('% относительного изменения');"
   ]
  },
  {
   "cell_type": "markdown",
   "metadata": {},
   "source": [
    "Видны резкие изменения в несколких датах. В это время и были совершены аномальные заказы. Посмотрим на эти выбросы чуть позже. "
   ]
  },
  {
   "cell_type": "markdown",
   "metadata": {},
   "source": [
    "### Изменения кумулятивной конверсии группы B к группе A"
   ]
  },
  {
   "cell_type": "code",
   "execution_count": 19,
   "metadata": {},
   "outputs": [
    {
     "data": {
      "image/png": "[encoded data removed]",
      "text/plain": [
       "<Figure size 1008x432 with 1 Axes>"
      ]
     },
     "metadata": {
      "needs_background": "light"
     },
     "output_type": "display_data"
    }
   ],
   "source": [
    "# Определяем размер графика и подпись\n",
    "plt.figure(figsize=(14, 6))\n",
    "plt.title(\"График изменения кумулятивной конверсии группы B к группе A\")\n",
    "\n",
    "# считаем кумулятивную конверсию\n",
    "cumulativeData['conversion'] = cumulativeData['orders']/cumulativeData['visitors']\n",
    "\n",
    "# отделяем данные по группе A\n",
    "cumulativeDataA = cumulativeData[cumulativeData['group']=='A']\n",
    "\n",
    "# отделяем данные по группе B\n",
    "cumulativeDataB = cumulativeData[cumulativeData['group']=='B']\n",
    "\n",
    "# строим графики\n",
    "plt.plot(cumulativeDataA['date'], cumulativeDataA['conversion'], label='A');\n",
    "plt.plot(cumulativeDataB['date'], cumulativeDataB['conversion'], label='B');\n",
    "plt.legend();\n",
    "\n",
    "# задаем масштаб осей\n",
    "plt.axis([dt.datetime(2019, 8, 1), dt.datetime(2019, 9, 1), 0, 0.05]);\n",
    "\n",
    "plt.xlabel('Дата эксперимента');\n",
    "plt.ylabel('Конверсия, %');"
   ]
  },
  {
   "cell_type": "markdown",
   "metadata": {},
   "source": [
    "В начальном периоде группа B вырвалась вперёд по конверсии и зафиксировала за собой результат. Разница примерно в половину процента.\n",
    "\n",
    "Посмотрим на относительные изменения кумулятивной конверсии."
   ]
  },
  {
   "cell_type": "code",
   "execution_count": 20,
   "metadata": {},
   "outputs": [
    {
     "data": {
      "image/png": "[encoded data removed]",
      "text/plain": [
       "<Figure size 1008x432 with 1 Axes>"
      ]
     },
     "metadata": {
      "needs_background": "light"
     },
     "output_type": "display_data"
    }
   ],
   "source": [
    "# Определяем размер графика и подпись\n",
    "plt.figure(figsize=(14, 6))\n",
    "plt.title(\"График относительного изменения кумулятивной конверсии группы B к группе A\")\n",
    "\n",
    "cumulativeDataA = cumulativeData[cumulativeData['group'] == 'A']\n",
    "cumulativeDataB = cumulativeData[cumulativeData['group'] == 'B']\n",
    "\n",
    "mergedCumulativeConversions = cumulativeDataA[['date','conversion']].merge(cumulativeDataB[['date','conversion']], left_on='date', right_on='date', how='left', suffixes=['A', 'B'])\n",
    "\n",
    "plt.plot(mergedCumulativeConversions['date'], mergedCumulativeConversions['conversionB']/mergedCumulativeConversions['conversionA']-1, label=\"Относительный прирост конверсии группы B относительно группы A\")\n",
    "plt.legend()\n",
    "\n",
    "plt.axhline(y=0, color='black', linestyle='--')\n",
    "plt.axhline(y=0.2, color='grey', linestyle='--')\n",
    "plt.axis([dt.datetime(2019, 8, 1), dt.datetime(2019, 9, 1), -0.5, 0.5]);\n",
    "\n",
    "plt.xlabel('Дата эксперимента');\n",
    "plt.ylabel('Относительное изменение конверсии, %');"
   ]
  },
  {
   "cell_type": "markdown",
   "metadata": {},
   "source": [
    "Группа B стабильно была больше в конверсии на протяжении периода, чем A. Изменения были в пределах **10-20%**.\n",
    "\n",
    "После примерно 21 августа наступила стабилизация показателя."
   ]
  },
  {
   "cell_type": "markdown",
   "metadata": {},
   "source": [
    "### Точечный график количества заказов по пользователям"
   ]
  },
  {
   "cell_type": "code",
   "execution_count": 21,
   "metadata": {},
   "outputs": [
    {
     "name": "stdout",
     "output_type": "stream",
     "text": [
      "         userId  orders\n",
      "908  3967698036       3\n",
      "55    249864742       3\n",
      "478  2108163459       3\n",
      "687  2988190573       3\n",
      "890  3908431265       3\n",
      "138   611059232       3\n",
      "632  2742574263       3\n",
      "157   678354126       2\n",
      "323  1404560065       2\n",
      "452  1985475298       2\n"
     ]
    }
   ],
   "source": [
    "# Отсортируем по убыванию количества заказов пользователей и выведим на экран первые 10 строк\n",
    "\n",
    "ordersByUsers = (\n",
    "    orders.groupby('userId', as_index=False)\n",
    "    .agg({'orderId': 'nunique'})\n",
    ")\n",
    "\n",
    "ordersByUsers.columns = ['userId', 'orders']\n",
    "\n",
    "print(ordersByUsers.sort_values(by='orders', ascending=False).head(10)) \n"
   ]
  },
  {
   "cell_type": "code",
   "execution_count": 22,
   "metadata": {},
   "outputs": [
    {
     "data": {
      "image/png": "[encoded data removed]",
      "text/plain": [
       "<Figure size 432x288 with 1 Axes>"
      ]
     },
     "metadata": {
      "needs_background": "light"
     },
     "output_type": "display_data"
    }
   ],
   "source": [
    "# Теперь перейдём к визуальному анализу\n",
    "plt.hist(ordersByUsers['orders']);"
   ]
  },
  {
   "cell_type": "markdown",
   "metadata": {},
   "source": [
    "Большинство пользователей совершили по 1 заказу, но видны столбцы на 2-х и 3-х заказах. Построим точечный график."
   ]
  },
  {
   "cell_type": "code",
   "execution_count": 23,
   "metadata": {},
   "outputs": [
    {
     "data": {
      "image/png": "[encoded data removed]",
      "text/plain": [
       "<Figure size 432x288 with 1 Axes>"
      ]
     },
     "metadata": {
      "needs_background": "light"
     },
     "output_type": "display_data"
    }
   ],
   "source": [
    "# серия из чисел от 0 до количества наблюдений в ordersByUsers\n",
    "x_values = pd.Series(range(0, len(ordersByUsers)))\n",
    "\n",
    "plt.scatter(x_values, ordersByUsers['orders']);"
   ]
  },
  {
   "cell_type": "markdown",
   "metadata": {},
   "source": [
    "Пользователей с более чем двумя заказами немного, но пока нет точных цифр. Посмотрим на конкретные цифры по перцентилям.\n",
    "\n",
    "Посмотрим 95-й и 99-й перцентили количества заказов на пользователя"
   ]
  },
  {
   "cell_type": "code",
   "execution_count": 24,
   "metadata": {},
   "outputs": [
    {
     "data": {
      "text/plain": [
       "1"
      ]
     },
     "execution_count": 24,
     "metadata": {},
     "output_type": "execute_result"
    }
   ],
   "source": [
    "orders_95 = int(np.percentile(ordersByUsers['orders'], [95]))\n",
    "np.percentile(ordersByUsers['orders'], [95], [99])"
   ]
  },
  {
   "cell_type": "markdown",
   "metadata": {},
   "source": [
    "Не более **5%** совершили больше **одного** заказа. И не более **1%** - больше **двух** заказов."
   ]
  },
  {
   "cell_type": "markdown",
   "metadata": {},
   "source": [
    "### Точечный график стоимостей заказов\n"
   ]
  },
  {
   "cell_type": "code",
   "execution_count": 25,
   "metadata": {},
   "outputs": [
    {
     "data": {
      "image/png": "[encoded data removed]",
      "text/plain": [
       "<Figure size 432x288 with 1 Axes>"
      ]
     },
     "metadata": {
      "needs_background": "light"
     },
     "output_type": "display_data"
    }
   ],
   "source": [
    "# Сначала глянем на гистограму\n",
    "plt.hist(orders['revenue']);"
   ]
  },
  {
   "cell_type": "markdown",
   "metadata": {},
   "source": [
    "Стоимость большинства заказов меньше **200 тысяч** рублей. Конкретные выбросы на этом графике не видны."
   ]
  },
  {
   "cell_type": "code",
   "execution_count": 26,
   "metadata": {},
   "outputs": [
    {
     "data": {
      "image/png": "[encoded data removed]",
      "text/plain": [
       "<Figure size 648x432 with 1 Axes>"
      ]
     },
     "metadata": {
      "needs_background": "light"
     },
     "output_type": "display_data"
    }
   ],
   "source": [
    "plt.figure(figsize=(9, 6))\n",
    "\n",
    "x_values = pd.Series(range(0, len(orders['revenue'])))\n",
    "sns.scatterplot(x=x_values, y=orders['revenue'], hue=orders['group']).set_title('Суммы заказов в двух группах');\n",
    "\n",
    "plt.xlabel('Выручка, млн. руб.');\n",
    "plt.ylabel('Номер заказа');"
   ]
  },
  {
   "cell_type": "markdown",
   "metadata": {},
   "source": [
    "Вот он выброс на заказ больше 1.2 млн руб. в группе B. Вот что влияло на перекос сравнения групп А и B. Есть еще чуть пониже точка на сумму около 200 тыс. руб., но она не так страшно. Посмотрим на перцентили."
   ]
  },
  {
   "cell_type": "markdown",
   "metadata": {},
   "source": [
    "Посмотрим на 95-й и 99-й перцентили стоимости заказов:"
   ]
  },
  {
   "cell_type": "code",
   "execution_count": 1,
   "metadata": {},
   "outputs": [
    {
     "ename": "NameError",
     "evalue": "name 'np' is not defined",
     "output_type": "error",
     "traceback": [
      "\u001b[0;31m---------------------------------------------------------------------------\u001b[0m",
      "\u001b[0;31mNameError\u001b[0m                                 Traceback (most recent call last)",
      "\u001b[0;32m/tmp/ipykernel_31/3953704564.py\u001b[0m in \u001b[0;36m<module>\u001b[0;34m\u001b[0m\n\u001b[0;32m----> 1\u001b[0;31m \u001b[0mrevenue_95\u001b[0m \u001b[0;34m=\u001b[0m \u001b[0mint\u001b[0m\u001b[0;34m(\u001b[0m\u001b[0mnp\u001b[0m\u001b[0;34m.\u001b[0m\u001b[0mpercentile\u001b[0m\u001b[0;34m(\u001b[0m\u001b[0morders\u001b[0m\u001b[0;34m[\u001b[0m\u001b[0;34m'revenue'\u001b[0m\u001b[0;34m]\u001b[0m\u001b[0;34m,\u001b[0m \u001b[0;34m[\u001b[0m\u001b[0;36m95\u001b[0m\u001b[0;34m]\u001b[0m\u001b[0;34m)\u001b[0m\u001b[0;34m)\u001b[0m\u001b[0;34m\u001b[0m\u001b[0;34m\u001b[0m\u001b[0m\n\u001b[0m\u001b[1;32m      2\u001b[0m \u001b[0mnp\u001b[0m\u001b[0;34m.\u001b[0m\u001b[0mpercentile\u001b[0m\u001b[0;34m(\u001b[0m\u001b[0morders\u001b[0m\u001b[0;34m[\u001b[0m\u001b[0;34m'revenue'\u001b[0m\u001b[0;34m]\u001b[0m\u001b[0;34m,\u001b[0m \u001b[0;34m[\u001b[0m\u001b[0;36m95\u001b[0m\u001b[0;34m]\u001b[0m\u001b[0;34m,\u001b[0m \u001b[0;34m[\u001b[0m\u001b[0;36m99\u001b[0m\u001b[0;34m]\u001b[0m\u001b[0;34m)\u001b[0m\u001b[0;34m\u001b[0m\u001b[0;34m\u001b[0m\u001b[0m\n",
      "\u001b[0;31mNameError\u001b[0m: name 'np' is not defined"
     ]
    }
   ],
   "source": [
    "revenue_95 = int(np.percentile(orders['revenue'], [95]))\n",
    "np.percentile(orders['revenue'], [95], [99])"
   ]
  },
  {
   "cell_type": "markdown",
   "metadata": {},
   "source": [
    "Не более чем у **5%** чек дороже **26 785** руб. И не более чем **1%** - дороже **53 904** руб."
   ]
  },
  {
   "cell_type": "markdown",
   "metadata": {},
   "source": [
    "### Статистическая значимость различий в конверсии между группами по «сырым» данным"
   ]
  },
  {
   "cell_type": "markdown",
   "metadata": {},
   "source": [
    "Т.к. в выборках есть выбросы - нужно применять непараметрический тест Манна-Уитни.\n",
    "\n",
    "**Нулевая гипотеза** - отличий между средним показателем конверсий у групп нет.\n",
    "\n",
    "**Альтернативная гипотеза** - есть отличия между средним показателем конверсий."
   ]
  },
  {
   "cell_type": "markdown",
   "metadata": {},
   "source": [
    "Подготовим сводную таблицу и ради интереса посмотрим на стат. значимость количества заказов:"
   ]
  },
  {
   "cell_type": "code",
   "execution_count": 28,
   "metadata": {
    "scrolled": false
   },
   "outputs": [
    {
     "name": "stdout",
     "output_type": "stream",
     "text": [
      "        date  ordersPerDateA  revenuePerDateA  ordersPerDateB  \\\n",
      "0 2019-08-01              23           142779              17   \n",
      "1 2019-08-02              19            91602              23   \n",
      "2 2019-08-03              24           112473              14   \n",
      "3 2019-08-04              11            41176              14   \n",
      "4 2019-08-05              22            86383              21   \n",
      "\n",
      "   revenuePerDateB  ordersCummulativeA  revenueCummulativeA  \\\n",
      "0            59758                  23               142779   \n",
      "1           162043                  42               234381   \n",
      "2            67049                  66               346854   \n",
      "3            96890                  77               388030   \n",
      "4            89908                  99               474413   \n",
      "\n",
      "   ordersCummulativeB  revenueCummulativeB  visitorsPerDateA  \\\n",
      "0                  17                59758               719   \n",
      "1                  40               221801               619   \n",
      "2                  54               288850               507   \n",
      "3                  68               385740               717   \n",
      "4                  89               475648               756   \n",
      "\n",
      "   visitorsPerDateB  visitorsCummulativeA  visitorsCummulativeB  \n",
      "0               713                   719                   713  \n",
      "1               581                  1338                  1294  \n",
      "2               509                  1845                  1803  \n",
      "3               770                  2562                  2573  \n",
      "4               707                  3318                  3280  \n",
      "p-value: 0.01102\n",
      "Относительные различия между средними: 0.160\n"
     ]
    }
   ],
   "source": [
    "# Посчитаем ещё раз куммулятивные данные и склеим всё в один датафрейм data\n",
    "\n",
    "# Сначала посетители\n",
    "visitorsADaily = visitors[visitors['group'] == 'A'][['date', 'visitors']]\n",
    "visitorsADaily.columns = ['date', 'visitorsPerDateA']\n",
    "\n",
    "visitorsACummulative = visitorsADaily.apply(\n",
    "    lambda x: visitorsADaily[visitorsADaily['date'] <= x['date']].agg(\n",
    "        {'date': 'max', 'visitorsPerDateA': 'sum'}\n",
    "    ),\n",
    "    axis=1,\n",
    ")\n",
    "visitorsACummulative.columns = ['date', 'visitorsCummulativeA']\n",
    "\n",
    "visitorsBDaily = visitors[visitors['group'] == 'B'][['date', 'visitors']]\n",
    "visitorsBDaily.columns = ['date', 'visitorsPerDateB']\n",
    "\n",
    "visitorsBCummulative = visitorsBDaily.apply(\n",
    "    lambda x: visitorsBDaily[visitorsBDaily['date'] <= x['date']].agg(\n",
    "        {'date': 'max', 'visitorsPerDateB': 'sum'}\n",
    "    ),\n",
    "    axis=1,\n",
    ")\n",
    "visitorsBCummulative.columns = ['date', 'visitorsCummulativeB']\n",
    "\n",
    "\n",
    "# Теперь заказы\n",
    "ordersADaily = (\n",
    "    orders[orders['group'] == 'A'][['date', 'orderId', 'userId', 'revenue']]\n",
    "    .groupby('date', as_index=False)\n",
    "    .agg({'orderId': pd.Series.nunique, 'revenue': 'sum'})\n",
    ")\n",
    "ordersADaily.columns = ['date', 'ordersPerDateA', 'revenuePerDateA']\n",
    "\n",
    "ordersACummulative = ordersADaily.apply(\n",
    "    lambda x: ordersADaily[ordersADaily['date'] <= x['date']].agg(\n",
    "        {'date': 'max', 'ordersPerDateA': 'sum', 'revenuePerDateA': 'sum'}\n",
    "    ),\n",
    "    axis=1,\n",
    ").sort_values(by=['date'])\n",
    "ordersACummulative.columns = [\n",
    "    'date',\n",
    "    'ordersCummulativeA',\n",
    "    'revenueCummulativeA',\n",
    "]\n",
    "\n",
    "ordersBDaily = (\n",
    "    orders[orders['group'] == 'B'][['date', 'orderId', 'userId', 'revenue']]\n",
    "    .groupby('date', as_index=False)\n",
    "    .agg({'orderId': pd.Series.nunique, 'revenue': 'sum'})\n",
    ")\n",
    "ordersBDaily.columns = ['date', 'ordersPerDateB', 'revenuePerDateB']\n",
    "\n",
    "ordersBCummulative = ordersBDaily.apply(\n",
    "    lambda x: ordersBDaily[ordersBDaily['date'] <= x['date']].agg(\n",
    "        {'date': 'max', 'ordersPerDateB': 'sum', 'revenuePerDateB': 'sum'}\n",
    "    ),\n",
    "    axis=1,\n",
    ").sort_values(by=['date'])\n",
    "ordersBCummulative.columns = [\n",
    "    'date',\n",
    "    'ordersCummulativeB',\n",
    "    'revenueCummulativeB',\n",
    "]\n",
    "\n",
    "# Мерджим в один датафрейм\n",
    "data = (\n",
    "    ordersADaily.merge(\n",
    "        ordersBDaily, left_on='date', right_on='date', how='left'\n",
    "    )\n",
    "    .merge(ordersACummulative, left_on='date', right_on='date', how='left')\n",
    "    .merge(ordersBCummulative, left_on='date', right_on='date', how='left')\n",
    "    .merge(visitorsADaily, left_on='date', right_on='date', how='left')\n",
    "    .merge(visitorsBDaily, left_on='date', right_on='date', how='left')\n",
    "    .merge(visitorsACummulative, left_on='date', right_on='date', how='left')\n",
    "    .merge(visitorsBCummulative, left_on='date', right_on='date', how='left')\n",
    ")\n",
    "\n",
    "print(data.head(5))\n",
    "\n",
    "# Создадим переменные ordersByUsersA и ordersByUsersB со столбцами ['userId', 'orders']. \n",
    "# В них для пользователей, которые заказывали хотя бы 1 раз, укажем число совершённых заказов.\n",
    "ordersByUsersA = (\n",
    "    orders[orders['group'] == 'A']\n",
    "    .groupby('userId', as_index=False)\n",
    "    .agg({'orderId': pd.Series.nunique})\n",
    ")\n",
    "ordersByUsersA.columns = ['userId', 'orders']\n",
    "\n",
    "ordersByUsersB = (\n",
    "    orders[orders['group'] == 'B']\n",
    "    .groupby('userId', as_index=False)\n",
    "    .agg({'orderId': pd.Series.nunique})\n",
    ")\n",
    "ordersByUsersB.columns = ['userId', 'orders'] \n",
    "\n",
    "\n",
    "# Посчитаем статистическую значимость различия среднего количества заказов по результатам двух недель теста\n",
    "sampleA = pd.concat(\n",
    "    [\n",
    "        ordersByUsersA['orders'],\n",
    "        pd.Series(\n",
    "            0,\n",
    "            index=np.arange(\n",
    "                data['visitorsPerDateA'].sum() - len(ordersByUsersA['orders'])\n",
    "            ),\n",
    "            name='orders',\n",
    "        ),\n",
    "    ],\n",
    "    axis=0,\n",
    ")\n",
    "\n",
    "sampleB = pd.concat(\n",
    "    [\n",
    "        ordersByUsersB['orders'],\n",
    "        pd.Series(\n",
    "            0,\n",
    "            index=np.arange(\n",
    "                data['visitorsPerDateB'].sum() - len(ordersByUsersB['orders'])\n",
    "            ),\n",
    "            name='orders',\n",
    "        ),\n",
    "    ],\n",
    "    axis=0,\n",
    ")\n",
    "\n",
    "# Применим тест Манна-Уитни\n",
    "print(\"p-value: {0:.5f}\".format(stats.mannwhitneyu(sampleA, sampleB)[1]))\n",
    "# Считаем относительные различия между средними\n",
    "print(\"Относительные различия между средними: {0:.3f}\".format(sampleB.mean() / sampleA.mean() - 1))\n",
    "\n"
   ]
  },
  {
   "cell_type": "markdown",
   "metadata": {},
   "source": [
    "В датафрейме data созданые следующие поля:\n",
    "\n",
    "* `date` — дата;\n",
    "* `ordersPerDateA` — количество заказов в выбранную дату в группе A;\n",
    "* `revenuePerDateA` — суммарная выручка в выбранную дату в группе A;\n",
    "* `ordersPerDateB` — количество заказов в выбранную дату в группе B;\n",
    "* `revenuePerDateB` — суммарная выручка в выбранную дату в группе B;\n",
    "* `ordersCummulativeA` — суммарное число заказов до выбранной даты включительно в группе A;\n",
    "* `revenueCummulativeA` — суммарная выручка до выбранной даты включительно в группе A;\n",
    "* `ordersCummulativeB` — суммарное количество заказов до выбранной даты включительно в группе B;\n",
    "* `revenueCummulativeB` — суммарная выручка до выбранной даты включительно в группе B;\n",
    "* `visitorsPerDateA` — количество пользователей в выбранную дату в группе A;\n",
    "* `visitorsPerDateB` — количество пользователей в выбранную дату в группе B;\n",
    "* `visitorsCummulativeA` — количество пользователей до выбранной даты включительно в группе A;\n",
    "* `visitorsCummulativeB` — количество пользователей до выбранной даты включительно в группе B."
   ]
  },
  {
   "cell_type": "markdown",
   "metadata": {},
   "source": [
    "P-value количество заказов меньше стат. значимости (**1,1% < 5%**).\n",
    "\n",
    "Анализ \"сырых данных\" показывает, что в среднем количестве заказов между группами есть статистические значимые различия. Относительный прирост среднего группы B к количеству заказов группы А = **16%**.\n",
    "\n",
    "Теперь сравним конверсии."
   ]
  },
  {
   "cell_type": "code",
   "execution_count": 29,
   "metadata": {
    "scrolled": false
   },
   "outputs": [
    {
     "name": "stdout",
     "output_type": "stream",
     "text": [
      "p-value: 0.61818\n",
      "Относительные различия между средними: -0.013\n"
     ]
    }
   ],
   "source": [
    "# Посчитаем статистическую значимость различия конверсий по результатам двух недель теста\n",
    "sampleA = pd.concat(\n",
    "    [\n",
    "        ordersByUsersA['orders'],\n",
    "        pd.Series(\n",
    "            0,\n",
    "            index=np.arange(\n",
    "                # кол-во заказов делим на кол-во всех посетителей и берём среднее\n",
    "                len(ordersByUsersA['orders']) / data['visitorsPerDateA'].sum() \n",
    "            ),\n",
    "            name='orders',\n",
    "        ),\n",
    "    ],\n",
    "    axis=0,\n",
    ")\n",
    "\n",
    "sampleB = pd.concat(\n",
    "    [\n",
    "        ordersByUsersB['orders'],\n",
    "        pd.Series(\n",
    "            0,\n",
    "            index=np.arange(\n",
    "                len(ordersByUsersB['orders']) / data['visitorsPerDateB'].sum() \n",
    "            ),\n",
    "            name='orders',\n",
    "        ),\n",
    "    ],\n",
    "    axis=0,\n",
    ")\n",
    "\n",
    "# Применим тест Манна-Уитни\n",
    "print(\"p-value: {0:.5f}\".format(stats.mannwhitneyu(sampleA, sampleB)[1]))\n",
    "# Считаем относительные различия между средними\n",
    "print(\"Относительные различия между средними: {0:.3f}\".format(sampleB.mean() / sampleA.mean() - 1))"
   ]
  },
  {
   "cell_type": "markdown",
   "metadata": {},
   "source": [
    "P-value различия конверсий значильно превышает стат. значимости (**61,8% > 5%**). Следовательно - оставляем нулевую гипотезу о равенстве конверсий.\n",
    "\n",
    "Относительные различия между конверсиями показывает, что группа B проигрывает А на **-1,3%**. Изменения сделали хуже."
   ]
  },
  {
   "cell_type": "markdown",
   "metadata": {},
   "source": [
    "### Статистическая значимость различий в среднем чеке заказа между группами по «сырым» данным"
   ]
  },
  {
   "cell_type": "markdown",
   "metadata": {},
   "source": [
    "**Нулевая гипотеза:** различий в среднем чеке между группами нет. \n",
    "\n",
    "**Альтернативная гипотеза:** различия в среднем чеке между группами есть."
   ]
  },
  {
   "cell_type": "code",
   "execution_count": 30,
   "metadata": {},
   "outputs": [
    {
     "name": "stdout",
     "output_type": "stream",
     "text": [
      "p-value: 0.829\n",
      "Относительные различия между средними: 0.287\n"
     ]
    }
   ],
   "source": [
    "# Чтобы рассчитать статистическую значимость различий в среднем чеке, передадим критерию mannwhitneyu() данные о выручке с заказов.\n",
    "# А ещё найдём относительные различия в среднем чеке между группами\n",
    "\n",
    "print('p-value: {0:.3f}'.format(stats.mannwhitneyu(orders[orders['group']=='A']['revenue'], orders[orders['group']=='B']['revenue'])[1]))\n",
    "print('Относительные различия между средними: {0:.3f}'.format(orders[orders['group']=='B']['revenue'].mean()/orders[orders['group']=='A']['revenue'].mean()-1)) \n"
   ]
  },
  {
   "cell_type": "markdown",
   "metadata": {},
   "source": [
    "P-value сильно больше стат. значимости (**82,9% > 5%**). Значит, причин отвергать нулевую гипотезу. Различий между ср. чеками нет.\n",
    "\n",
    "Но, что интересно, относительное различие ср. чека между сегментами более **28, 7%** в сторону группы B! Т.к. мы смотрим на сырые данные - это явно из-за аномалий, которые мы выявили на графике."
   ]
  },
  {
   "cell_type": "markdown",
   "metadata": {},
   "source": [
    "### Статистическая значимость различий в конверсии между группами по «очищенным» данным"
   ]
  },
  {
   "cell_type": "markdown",
   "metadata": {},
   "source": [
    "Вспомним данные перцентилей:\n",
    "\n",
    "* Не более 5% совершили больше 2-х заказов. И не более 1% - больше 4-х заказов.\n",
    "* Не более чем у 5% чек дороже 28 000 руб. И не более чем 1% - дороже 58 233 руб.\n",
    "\n",
    "Примем за аномальных пользователей тех, кто совершил **3** заказа и более, или совершил заказ на сумму свыше **30 000** рублей. \n",
    "\n",
    "Так мы уберём 5% пользователей с наибольшим числом заказов и от 1% до 5% пользователей с дорогими заказами.\n"
   ]
  },
  {
   "cell_type": "code",
   "execution_count": 31,
   "metadata": {},
   "outputs": [
    {
     "name": "stdout",
     "output_type": "stream",
     "text": [
      "568     113298937\n",
      "1099    148427295\n",
      "928     204675465\n",
      "33      249864742\n",
      "684     358944393\n",
      "Name: userId, dtype: int64\n",
      "86\n"
     ]
    }
   ],
   "source": [
    "# Сделаем срезы пользователей с числом заказов больше перцентиля\n",
    "usersWithManyOrders = pd.concat(\n",
    "    [\n",
    "        ordersByUsersA[ordersByUsersA['orders'] > orders_95]['userId'],\n",
    "        ordersByUsersB[ordersByUsersB['orders'] > orders_95]['userId'],\n",
    "    ],\n",
    "    axis=0,\n",
    ")\n",
    "\n",
    "# И пользователей, совершивших заказы дороже \n",
    "usersWithExpensiveOrders = orders[orders['revenue'] > revenue_95]['userId']\n",
    "\n",
    "# Объединим их в таблице abnormalUsers\n",
    "abnormalUsers = (\n",
    "    pd.concat([usersWithManyOrders, usersWithExpensiveOrders], axis=0)\n",
    "    .drop_duplicates() # удалим дубликаты, отсортируем по возрастанию.\n",
    "    .sort_values()\n",
    ")\n",
    "\n",
    "print(abnormalUsers.head(5))\n",
    "print(abnormalUsers.shape[0])"
   ]
  },
  {
   "cell_type": "markdown",
   "metadata": {},
   "source": [
    "Всего **86** пользователей. После их удаления посчитаем стат. значимость."
   ]
  },
  {
   "cell_type": "code",
   "execution_count": 32,
   "metadata": {},
   "outputs": [
    {
     "name": "stdout",
     "output_type": "stream",
     "text": [
      "p-value: 0.01593\n",
      "Относительная разница средних: 0.174\n"
     ]
    }
   ],
   "source": [
    "# Сначала подготовим выборки количества заказов по пользователям по группам теста\n",
    "\n",
    "sampleAFiltered = pd.concat(\n",
    "    [\n",
    "        ordersByUsersA[\n",
    "            # Отбрасываем аномалии\n",
    "            np.logical_not(ordersByUsersA['userId'].isin(abnormalUsers))\n",
    "        ]['orders'],\n",
    "        pd.Series(\n",
    "            0,\n",
    "            index=np.arange(\n",
    "                data['visitorsPerDateA'].sum() - len(ordersByUsersA['orders'])\n",
    "            ),\n",
    "            name='orders',\n",
    "        ),\n",
    "    ],\n",
    "    axis=0,\n",
    ")\n",
    "\n",
    "sampleBFiltered = pd.concat(\n",
    "    [\n",
    "        ordersByUsersB[\n",
    "            # Отбрасываем аномалии\n",
    "            np.logical_not(ordersByUsersB['userId'].isin(abnormalUsers))\n",
    "        ]['orders'],\n",
    "        pd.Series(\n",
    "            0,\n",
    "            index=np.arange(\n",
    "                data['visitorsPerDateB'].sum() - len(ordersByUsersB['orders'])\n",
    "            ),\n",
    "            name='orders',\n",
    "        ),\n",
    "    ],\n",
    "    axis=0,\n",
    ")\n",
    "\n",
    "# Применим статистический критерий Манна-Уитни к полученным выборкам\n",
    "print('p-value: {0:.5f}'.format(stats.mannwhitneyu(sampleAFiltered, sampleBFiltered)[1]))\n",
    "print('Относительная разница средних: {0:.3f}'.format(sampleBFiltered.mean()/sampleAFiltered.mean()-1)) \n"
   ]
  },
  {
   "cell_type": "markdown",
   "metadata": {},
   "source": [
    "Как и по сырым данным (0.01679 и 0.138) - стат. значимость достигнута (**1,5% < 5%**). Сегмент B также лучше сегмента А (**17,4%**)."
   ]
  },
  {
   "cell_type": "code",
   "execution_count": 33,
   "metadata": {
    "scrolled": true
   },
   "outputs": [
    {
     "name": "stdout",
     "output_type": "stream",
     "text": [
      "p-value: 0.90590\n",
      "Относительная разница средних: 0.000\n"
     ]
    }
   ],
   "source": [
    "# Смотрим на разницу по конверсиям между группами (очищенные данные)\n",
    "\n",
    "sampleAFiltered = pd.concat(\n",
    "    [\n",
    "        ordersByUsersA[\n",
    "            # Отбрасываем аномалии\n",
    "            np.logical_not(ordersByUsersA['userId'].isin(abnormalUsers))\n",
    "        ]['orders'],\n",
    "        pd.Series(\n",
    "            0,\n",
    "            index=np.arange(\n",
    "                len(ordersByUsersA['orders']) / data['visitorsPerDateA'].sum()\n",
    "            ),\n",
    "            name='orders',\n",
    "        ),\n",
    "    ],\n",
    "    axis=0,\n",
    ")\n",
    "\n",
    "sampleBFiltered = pd.concat(\n",
    "    [\n",
    "        ordersByUsersB[\n",
    "            # Отбрасываем аномалии\n",
    "            np.logical_not(ordersByUsersB['userId'].isin(abnormalUsers))\n",
    "        ]['orders'],\n",
    "        pd.Series(\n",
    "            0,\n",
    "            index=np.arange(\n",
    "                len(ordersByUsersB['orders']) / data['visitorsPerDateB'].sum()\n",
    "            ),\n",
    "            name='orders',\n",
    "        ),\n",
    "    ],\n",
    "    axis=0,\n",
    ")\n",
    "\n",
    "# Применим статистический критерий Манна-Уитни к полученным выборкам\n",
    "print('p-value: {0:.5f}'.format(stats.mannwhitneyu(sampleAFiltered, sampleBFiltered)[1]))\n",
    "print('Относительная разница средних: {0:.3f}'.format(sampleBFiltered.mean()/sampleAFiltered.mean()-1)) "
   ]
  },
  {
   "cell_type": "markdown",
   "metadata": {},
   "source": [
    "Как и в \"грязных\" данных (0.90716 и -0.013) - стат. значимость не достигнута, отличий в конверсиях нет (**90,5% > 5%**). Относительная разница **0%**."
   ]
  },
  {
   "cell_type": "markdown",
   "metadata": {},
   "source": [
    "### Статистическая значимость различий в среднем чеке заказа между группами по «очищенным» данным"
   ]
  },
  {
   "cell_type": "code",
   "execution_count": 34,
   "metadata": {},
   "outputs": [
    {
     "name": "stdout",
     "output_type": "stream",
     "text": [
      "p-value: 0.727\n",
      "Относительная разница средних: -0.034\n"
     ]
    }
   ],
   "source": [
    "print(\n",
    "    'p-value: {0:.3f}'.format(\n",
    "        stats.mannwhitneyu(\n",
    "            orders[\n",
    "                np.logical_and(\n",
    "                    orders['group'] == 'A',\n",
    "                    # Отбрасываем аномалии\n",
    "                    np.logical_not(orders['userId'].isin(abnormalUsers)),\n",
    "                )\n",
    "            ]['revenue'],\n",
    "            orders[\n",
    "                np.logical_and(\n",
    "                    orders['group'] == 'B',\n",
    "                    # Отбрасываем аномалии\n",
    "                    np.logical_not(orders['userId'].isin(abnormalUsers)),\n",
    "                )\n",
    "            ]['revenue'],\n",
    "        )[1]\n",
    "    )\n",
    ")\n",
    "\n",
    "print(\n",
    "    \"Относительная разница средних: {0:.3f}\".format(\n",
    "        orders[\n",
    "            np.logical_and(\n",
    "                orders['group'] == 'B',\n",
    "                # Отбрасываем аномалии\n",
    "                np.logical_not(orders['userId'].isin(abnormalUsers)),\n",
    "            )\n",
    "        ]['revenue'].mean()\n",
    "        / orders[\n",
    "            np.logical_and(\n",
    "                orders['group'] == 'A',\n",
    "                # Отбрасываем аномалии\n",
    "                np.logical_not(orders['userId'].isin(abnormalUsers)),\n",
    "            )\n",
    "        ]['revenue'].mean()\n",
    "        - 1\n",
    "    )\n",
    ")\n"
   ]
  },
  {
   "cell_type": "markdown",
   "metadata": {},
   "source": [
    "Стат. значимость увеличилась (**72,7% > 5%**) и оснований отвергать нулевую гипотезу все ещё нет. Значимых различий между ср. чеками нет.\n",
    "\n",
    "А вот относительное изменение между сегментами изменилась. После отброса аномалий нет превалирования группы B и она наоборот проиграла группе A! (**-3,4%**) Изменения сделали только хуже в плане ср. чека."
   ]
  },
  {
   "cell_type": "markdown",
   "metadata": {},
   "source": [
    "**Выводы:**\n",
    "\n",
    "* По графику кумулятивной выручки: в середине теста группа B сильно вырвалась вперёд и продолжила лидировать весь тест. Что это? Аномально большие заказы?\n",
    "\n",
    "* По графику кумулятивного ср. чека: В середине теста у группы B также резко увеличился средний чек. Похоже, что кто-то заказывал товары на большие суммы и из-за этого произошёл всплеск. Причём данные не устаканились даже в конце срока тестов.\n",
    "Также виден всплеск ср. чека у группы \"B\" в начале тестов.\n",
    "\n",
    "* В графике относительно изменения кумулятивного ср. чека видны резкие изменения в несколких датах. В это время и были совершены аномальные заказы. Посмотрим на эти выбросы чуть позже.\n",
    "\n",
    "* В графике изменения кумулятивной конверсии - в начальном периоде группа B вырвалась вперёд по конверсии и зафиксировала за собой результат. Разница примерно в половину процента.\n",
    "\n",
    "* В относительном графике изменения конверсии - Группа B стабильно была больше в конверсии на протяжении периода, чем A. Изменения были в пределах 10-20%.\n",
    "\n",
    "* По перцентилям: Не более 5% совершили больше двух заказов. И не более 1% - больше четырёх заказов.\n",
    "\n",
    "* Не более чем у 5% чек дороже 26 785 руб. И не более чем 1% - дороже 53 904 руб.\n",
    "\n",
    "* Анализ \"сырых данных\" показывает, что в среднем количестве заказов между группами есть статистические значимые различия. Относительный прирост среднего группы B к количеству заказов группы А = 16%.\n",
    "\n",
    "* P-value различия конверсий значильно превышает стат. значимости (61,8% > 5%). Следовательно - оставляем нулевую гипотезу о равенстве конверсий.\n",
    "Относительные различия между конверсиями показывает, что группа B проигрывает А на 1,3%. Изменения сделали хуже.\n",
    "\n",
    "* P-value сильно больше стат. значимости (82,9% > 5%). Значит, причин отвергать нулевую гипотезу. Различий между ср. чеками нет.\n",
    "Но, что интересно, относительное различие ср. чека между сегментами более 28,7% в сторону группы B! Т.к. мы смотрим на сырые данные - это явно из-за аномалий, которые мы выявили на графике.\n",
    "\n",
    "* Как и по \"сырым\" данным в количестве заказов - стат. значимость в очищенных данных достигнута (1,5% < 5%). Сегмент B также лучше сегмента А (17,4%).\n",
    "\n",
    "* Как и в \"грязных\" данных в показателях конверсии - стат. значимость не достигнута, отличий в конверсиях нет (90,5% > 5%). Относительная разница 0%.\n",
    "\n",
    "* Стат. значимость увеличилась (72,7%) и оснований отвергать нулевую гипотезу все ещё нет. Значимых различий между ср. чеками нет.\n",
    "А вот относительное изменение между сегментами изменилась. После отброса аномалий нет превалирования группы B и она наоборот проиграла группе A! (-3.4%) Изменения сделали только хуже в плане ср. чека.\n"
   ]
  },
  {
   "cell_type": "markdown",
   "metadata": {},
   "source": [
    "## Решение по результатам теста"
   ]
  },
  {
   "cell_type": "markdown",
   "metadata": {},
   "source": [
    "Результаты тест получились такие:\n",
    "* Есть стат. значимое различие по количеству заказов между сегментами, как и по \"сырым\" данным, так и по \"очищенным\" **(+17,4%)**.\n",
    "* Нет стат. значимых различий между показателями конверсий. Относительное сравнение идёт не в пользу группы B **(0%)**.\n",
    "* Нет стат. значимых различий между ср. чеками, как в \"сырых\", так и в \"очищенных\" данных. После очистки данных относительная разница ср. чеков даже ухудшилась на **-3,4%**.\n",
    "\n",
    "**Вердикт: Остановить тест, зафиксировать победу одной из групп.**"
   ]
  }
 ],
 "metadata": {
  "ExecuteTimeLog": [
   {
    "duration": 1510,
    "start_time": "2022-07-25T17:47:07.670Z"
   },
   {
    "duration": 68,
    "start_time": "2022-07-25T17:47:58.435Z"
   },
   {
    "duration": 257,
    "start_time": "2022-07-25T17:48:58.979Z"
   },
   {
    "duration": 75,
    "start_time": "2022-07-25T17:49:05.010Z"
   },
   {
    "duration": 35,
    "start_time": "2022-07-25T17:49:26.132Z"
   },
   {
    "duration": 12,
    "start_time": "2022-07-25T17:50:26.150Z"
   },
   {
    "duration": 9,
    "start_time": "2022-07-25T17:51:08.977Z"
   },
   {
    "duration": 7,
    "start_time": "2022-07-25T17:51:28.691Z"
   },
   {
    "duration": 9,
    "start_time": "2022-07-25T17:51:40.283Z"
   },
   {
    "duration": 14,
    "start_time": "2022-07-25T17:51:50.705Z"
   },
   {
    "duration": 13,
    "start_time": "2022-07-25T17:51:59.480Z"
   },
   {
    "duration": 14,
    "start_time": "2022-07-25T17:52:11.073Z"
   },
   {
    "duration": 13,
    "start_time": "2022-07-25T17:52:20.352Z"
   },
   {
    "duration": 1378,
    "start_time": "2022-08-31T09:56:21.965Z"
   },
   {
    "duration": 190,
    "start_time": "2022-08-31T09:56:36.883Z"
   },
   {
    "duration": 27,
    "start_time": "2022-08-31T09:57:11.131Z"
   },
   {
    "duration": 120,
    "start_time": "2022-08-31T09:58:10.495Z"
   },
   {
    "duration": 78,
    "start_time": "2022-08-31T09:58:27.045Z"
   },
   {
    "duration": 25,
    "start_time": "2022-08-31T09:58:30.070Z"
   },
   {
    "duration": 78,
    "start_time": "2022-08-31T09:58:55.160Z"
   },
   {
    "duration": 25,
    "start_time": "2022-08-31T09:58:57.158Z"
   },
   {
    "duration": 12,
    "start_time": "2022-08-31T10:01:02.636Z"
   },
   {
    "duration": 10,
    "start_time": "2022-08-31T10:02:04.149Z"
   },
   {
    "duration": 15,
    "start_time": "2022-08-31T10:02:43.088Z"
   },
   {
    "duration": 9,
    "start_time": "2022-08-31T10:03:28.454Z"
   },
   {
    "duration": 9,
    "start_time": "2022-08-31T10:03:32.559Z"
   },
   {
    "duration": 9,
    "start_time": "2022-08-31T10:11:50.355Z"
   },
   {
    "duration": 79,
    "start_time": "2022-08-31T10:13:05.456Z"
   },
   {
    "duration": 26,
    "start_time": "2022-08-31T10:13:10.721Z"
   },
   {
    "duration": 10,
    "start_time": "2022-08-31T10:13:15.319Z"
   },
   {
    "duration": 8,
    "start_time": "2022-08-31T10:14:18.078Z"
   },
   {
    "duration": 15,
    "start_time": "2022-08-31T10:14:28.981Z"
   },
   {
    "duration": 11,
    "start_time": "2022-08-31T10:14:35.411Z"
   },
   {
    "duration": 76,
    "start_time": "2022-08-31T10:15:22.459Z"
   },
   {
    "duration": 1353,
    "start_time": "2022-08-31T10:15:35.970Z"
   },
   {
    "duration": 1398,
    "start_time": "2022-08-31T10:15:39.284Z"
   },
   {
    "duration": 2440,
    "start_time": "2022-08-31T10:15:56.108Z"
   },
   {
    "duration": 84,
    "start_time": "2022-08-31T10:16:03.533Z"
   },
   {
    "duration": 24,
    "start_time": "2022-08-31T10:16:05.793Z"
   },
   {
    "duration": 11,
    "start_time": "2022-08-31T10:16:09.866Z"
   },
   {
    "duration": 12,
    "start_time": "2022-08-31T10:16:12.739Z"
   },
   {
    "duration": 13,
    "start_time": "2022-08-31T10:16:15.000Z"
   },
   {
    "duration": 11,
    "start_time": "2022-08-31T10:16:17.694Z"
   },
   {
    "duration": 10,
    "start_time": "2022-08-31T10:17:14.581Z"
   },
   {
    "duration": 10,
    "start_time": "2022-08-31T10:17:28.199Z"
   },
   {
    "duration": 10,
    "start_time": "2022-08-31T10:17:30.910Z"
   },
   {
    "duration": 49,
    "start_time": "2022-08-31T10:18:26.026Z"
   },
   {
    "duration": 11,
    "start_time": "2022-08-31T10:18:31.302Z"
   },
   {
    "duration": 10,
    "start_time": "2022-08-31T10:19:04.655Z"
   },
   {
    "duration": 13,
    "start_time": "2022-08-31T10:19:10.762Z"
   },
   {
    "duration": 47,
    "start_time": "2022-08-31T10:19:25.794Z"
   },
   {
    "duration": 10,
    "start_time": "2022-08-31T10:19:28.500Z"
   },
   {
    "duration": 11,
    "start_time": "2022-08-31T10:20:12.671Z"
   },
   {
    "duration": 11,
    "start_time": "2022-08-31T10:20:14.664Z"
   },
   {
    "duration": 12,
    "start_time": "2022-08-31T10:20:25.414Z"
   },
   {
    "duration": 1501,
    "start_time": "2022-09-01T12:36:58.640Z"
   },
   {
    "duration": 304,
    "start_time": "2022-09-01T12:37:00.143Z"
   },
   {
    "duration": 29,
    "start_time": "2022-09-01T12:37:02.006Z"
   },
   {
    "duration": 10,
    "start_time": "2022-09-01T12:37:05.401Z"
   },
   {
    "duration": 14,
    "start_time": "2022-09-01T12:37:11.495Z"
   },
   {
    "duration": 14,
    "start_time": "2022-09-01T12:37:13.552Z"
   },
   {
    "duration": 13,
    "start_time": "2022-09-01T12:37:26.330Z"
   },
   {
    "duration": 16,
    "start_time": "2022-09-01T12:37:30.677Z"
   },
   {
    "duration": 12,
    "start_time": "2022-09-01T12:37:32.620Z"
   },
   {
    "duration": 6,
    "start_time": "2022-09-01T13:02:20.017Z"
   },
   {
    "duration": 27,
    "start_time": "2022-09-01T13:02:43.937Z"
   },
   {
    "duration": 4,
    "start_time": "2022-09-01T13:04:16.478Z"
   },
   {
    "duration": 173,
    "start_time": "2022-09-01T13:04:27.272Z"
   },
   {
    "duration": 293,
    "start_time": "2022-09-01T13:04:48.476Z"
   },
   {
    "duration": 296,
    "start_time": "2022-09-01T13:05:13.100Z"
   },
   {
    "duration": 276,
    "start_time": "2022-09-01T13:05:29.134Z"
   },
   {
    "duration": 280,
    "start_time": "2022-09-01T13:05:41.575Z"
   },
   {
    "duration": 282,
    "start_time": "2022-09-01T13:06:01.349Z"
   },
   {
    "duration": 287,
    "start_time": "2022-09-01T13:06:14.727Z"
   },
   {
    "duration": 316,
    "start_time": "2022-09-01T13:07:38.731Z"
   },
   {
    "duration": 191,
    "start_time": "2022-09-01T13:07:44.036Z"
   },
   {
    "duration": 54,
    "start_time": "2022-09-01T13:08:52.449Z"
   },
   {
    "duration": 241,
    "start_time": "2022-09-01T13:08:54.829Z"
   },
   {
    "duration": 180,
    "start_time": "2022-09-01T13:09:08.405Z"
   },
   {
    "duration": 195,
    "start_time": "2022-09-01T13:09:16.908Z"
   },
   {
    "duration": 201,
    "start_time": "2022-09-01T13:09:43.165Z"
   },
   {
    "duration": 297,
    "start_time": "2022-09-01T13:09:56.095Z"
   },
   {
    "duration": 199,
    "start_time": "2022-09-01T13:11:41.375Z"
   },
   {
    "duration": 258,
    "start_time": "2022-09-01T13:11:48.103Z"
   },
   {
    "duration": 208,
    "start_time": "2022-09-01T13:11:53.905Z"
   },
   {
    "duration": 258,
    "start_time": "2022-09-01T13:11:58.467Z"
   },
   {
    "duration": 209,
    "start_time": "2022-09-01T13:12:03.197Z"
   },
   {
    "duration": 203,
    "start_time": "2022-09-01T13:12:07.663Z"
   },
   {
    "duration": 209,
    "start_time": "2022-09-01T13:12:12.075Z"
   },
   {
    "duration": 180,
    "start_time": "2022-09-01T13:14:53.218Z"
   },
   {
    "duration": 209,
    "start_time": "2022-09-01T13:15:06.919Z"
   },
   {
    "duration": 203,
    "start_time": "2022-09-01T13:15:14.775Z"
   },
   {
    "duration": 274,
    "start_time": "2022-09-01T13:15:33.179Z"
   },
   {
    "duration": 330,
    "start_time": "2022-09-01T13:18:56.404Z"
   },
   {
    "duration": 318,
    "start_time": "2022-09-01T13:19:17.799Z"
   },
   {
    "duration": 260,
    "start_time": "2022-09-01T13:19:34.555Z"
   },
   {
    "duration": 207,
    "start_time": "2022-09-01T13:46:44.608Z"
   },
   {
    "duration": 217,
    "start_time": "2022-09-01T13:47:06.490Z"
   },
   {
    "duration": 224,
    "start_time": "2022-09-01T13:47:45.643Z"
   },
   {
    "duration": 222,
    "start_time": "2022-09-01T13:47:51.944Z"
   },
   {
    "duration": 226,
    "start_time": "2022-09-01T13:47:54.999Z"
   },
   {
    "duration": 235,
    "start_time": "2022-09-01T13:48:03.203Z"
   },
   {
    "duration": 241,
    "start_time": "2022-09-01T13:48:34.917Z"
   },
   {
    "duration": 263,
    "start_time": "2022-09-01T13:48:51.142Z"
   },
   {
    "duration": 337,
    "start_time": "2022-09-01T13:48:55.092Z"
   },
   {
    "duration": 3,
    "start_time": "2022-09-01T13:49:11.898Z"
   },
   {
    "duration": 3,
    "start_time": "2022-09-01T13:49:21.651Z"
   },
   {
    "duration": 210,
    "start_time": "2022-09-01T13:49:25.803Z"
   },
   {
    "duration": 200,
    "start_time": "2022-09-01T13:49:29.524Z"
   },
   {
    "duration": 337,
    "start_time": "2022-09-01T13:52:11.101Z"
   },
   {
    "duration": 321,
    "start_time": "2022-09-01T13:52:30.618Z"
   },
   {
    "duration": 338,
    "start_time": "2022-09-01T13:52:37.285Z"
   },
   {
    "duration": 349,
    "start_time": "2022-09-01T13:53:06.666Z"
   },
   {
    "duration": 299,
    "start_time": "2022-09-01T13:53:30.606Z"
   },
   {
    "duration": 276,
    "start_time": "2022-09-01T13:53:43.446Z"
   },
   {
    "duration": 304,
    "start_time": "2022-09-01T13:54:14.835Z"
   },
   {
    "duration": 1317,
    "start_time": "2022-09-02T10:32:58.411Z"
   },
   {
    "duration": 308,
    "start_time": "2022-09-02T10:32:59.730Z"
   },
   {
    "duration": 0,
    "start_time": "2022-09-02T10:33:00.040Z"
   },
   {
    "duration": 0,
    "start_time": "2022-09-02T10:33:00.040Z"
   },
   {
    "duration": 0,
    "start_time": "2022-09-02T10:33:00.041Z"
   },
   {
    "duration": 0,
    "start_time": "2022-09-02T10:33:00.042Z"
   },
   {
    "duration": 0,
    "start_time": "2022-09-02T10:33:00.042Z"
   },
   {
    "duration": 0,
    "start_time": "2022-09-02T10:33:00.043Z"
   },
   {
    "duration": 0,
    "start_time": "2022-09-02T10:33:00.047Z"
   },
   {
    "duration": 0,
    "start_time": "2022-09-02T10:33:00.048Z"
   },
   {
    "duration": 0,
    "start_time": "2022-09-02T10:33:00.049Z"
   },
   {
    "duration": 0,
    "start_time": "2022-09-02T10:33:00.054Z"
   },
   {
    "duration": 0,
    "start_time": "2022-09-02T10:33:00.055Z"
   },
   {
    "duration": 135,
    "start_time": "2022-09-02T10:33:00.145Z"
   },
   {
    "duration": 3,
    "start_time": "2022-09-02T10:33:06.449Z"
   },
   {
    "duration": 100,
    "start_time": "2022-09-02T10:33:06.454Z"
   },
   {
    "duration": 0,
    "start_time": "2022-09-02T10:33:06.556Z"
   },
   {
    "duration": 0,
    "start_time": "2022-09-02T10:33:06.557Z"
   },
   {
    "duration": 0,
    "start_time": "2022-09-02T10:33:06.558Z"
   },
   {
    "duration": 0,
    "start_time": "2022-09-02T10:33:06.559Z"
   },
   {
    "duration": 0,
    "start_time": "2022-09-02T10:33:06.561Z"
   },
   {
    "duration": 0,
    "start_time": "2022-09-02T10:33:06.562Z"
   },
   {
    "duration": 0,
    "start_time": "2022-09-02T10:33:06.563Z"
   },
   {
    "duration": 0,
    "start_time": "2022-09-02T10:33:06.564Z"
   },
   {
    "duration": 0,
    "start_time": "2022-09-02T10:33:06.565Z"
   },
   {
    "duration": 0,
    "start_time": "2022-09-02T10:33:06.566Z"
   },
   {
    "duration": 0,
    "start_time": "2022-09-02T10:33:06.567Z"
   },
   {
    "duration": 0,
    "start_time": "2022-09-02T10:33:06.568Z"
   },
   {
    "duration": 3,
    "start_time": "2022-09-02T10:33:14.360Z"
   },
   {
    "duration": 80,
    "start_time": "2022-09-02T10:33:22.755Z"
   },
   {
    "duration": 23,
    "start_time": "2022-09-02T10:33:24.509Z"
   },
   {
    "duration": 11,
    "start_time": "2022-09-02T10:33:26.985Z"
   },
   {
    "duration": 14,
    "start_time": "2022-09-02T10:33:29.353Z"
   },
   {
    "duration": 3,
    "start_time": "2022-09-02T10:33:33.563Z"
   },
   {
    "duration": 89,
    "start_time": "2022-09-02T10:33:33.568Z"
   },
   {
    "duration": 23,
    "start_time": "2022-09-02T10:33:33.658Z"
   },
   {
    "duration": 9,
    "start_time": "2022-09-02T10:33:33.682Z"
   },
   {
    "duration": 19,
    "start_time": "2022-09-02T10:33:33.693Z"
   },
   {
    "duration": 4,
    "start_time": "2022-09-02T10:33:33.713Z"
   },
   {
    "duration": 27,
    "start_time": "2022-09-02T10:33:33.718Z"
   },
   {
    "duration": 12,
    "start_time": "2022-09-02T10:33:33.747Z"
   },
   {
    "duration": 289,
    "start_time": "2022-09-02T10:33:33.761Z"
   },
   {
    "duration": 256,
    "start_time": "2022-09-02T10:33:34.051Z"
   },
   {
    "duration": 195,
    "start_time": "2022-09-02T10:33:34.309Z"
   },
   {
    "duration": 324,
    "start_time": "2022-09-02T10:33:34.506Z"
   },
   {
    "duration": 190,
    "start_time": "2022-09-02T10:33:34.839Z"
   },
   {
    "duration": 315,
    "start_time": "2022-09-02T10:33:35.031Z"
   },
   {
    "duration": 10,
    "start_time": "2022-09-02T10:52:23.820Z"
   },
   {
    "duration": 8,
    "start_time": "2022-09-02T10:52:43.254Z"
   },
   {
    "duration": 107,
    "start_time": "2022-09-02T10:53:55.009Z"
   },
   {
    "duration": 102,
    "start_time": "2022-09-02T10:53:58.771Z"
   },
   {
    "duration": 181,
    "start_time": "2022-09-02T10:55:19.990Z"
   },
   {
    "duration": 96,
    "start_time": "2022-09-02T10:55:25.370Z"
   },
   {
    "duration": 5,
    "start_time": "2022-09-02T10:57:11.439Z"
   },
   {
    "duration": 4,
    "start_time": "2022-09-02T10:57:20.616Z"
   },
   {
    "duration": 4,
    "start_time": "2022-09-02T10:57:23.205Z"
   },
   {
    "duration": 7,
    "start_time": "2022-09-02T10:59:34.307Z"
   },
   {
    "duration": 147,
    "start_time": "2022-09-02T10:59:39.134Z"
   },
   {
    "duration": 113,
    "start_time": "2022-09-02T10:59:42.002Z"
   },
   {
    "duration": 8,
    "start_time": "2022-09-02T11:00:39.271Z"
   },
   {
    "duration": 2223,
    "start_time": "2022-09-02T11:00:46.849Z"
   },
   {
    "duration": 115,
    "start_time": "2022-09-02T11:01:08.238Z"
   },
   {
    "duration": 2,
    "start_time": "2022-09-02T11:02:49.267Z"
   },
   {
    "duration": 3,
    "start_time": "2022-09-02T11:03:08.837Z"
   },
   {
    "duration": 332,
    "start_time": "2022-09-02T11:16:01.858Z"
   },
   {
    "duration": 3,
    "start_time": "2022-09-02T11:16:21.752Z"
   },
   {
    "duration": 331,
    "start_time": "2022-09-02T11:16:26.982Z"
   },
   {
    "duration": 335,
    "start_time": "2022-09-02T11:19:58.280Z"
   },
   {
    "duration": 9,
    "start_time": "2022-09-02T11:37:23.242Z"
   },
   {
    "duration": 10,
    "start_time": "2022-09-02T12:17:23.226Z"
   },
   {
    "duration": 12,
    "start_time": "2022-09-02T12:25:34.246Z"
   },
   {
    "duration": 9,
    "start_time": "2022-09-02T12:25:51.496Z"
   },
   {
    "duration": 8,
    "start_time": "2022-09-02T12:26:09.614Z"
   },
   {
    "duration": 8,
    "start_time": "2022-09-02T12:26:25.149Z"
   },
   {
    "duration": 8,
    "start_time": "2022-09-02T12:26:55.045Z"
   },
   {
    "duration": 9,
    "start_time": "2022-09-02T12:27:15.818Z"
   },
   {
    "duration": 26,
    "start_time": "2022-09-02T12:29:08.413Z"
   },
   {
    "duration": 14,
    "start_time": "2022-09-02T12:34:40.638Z"
   },
   {
    "duration": 56,
    "start_time": "2022-09-02T13:01:23.474Z"
   },
   {
    "duration": 5,
    "start_time": "2022-09-02T13:01:35.324Z"
   },
   {
    "duration": 9,
    "start_time": "2022-09-02T13:02:43.638Z"
   },
   {
    "duration": 10,
    "start_time": "2022-09-02T13:04:14.448Z"
   },
   {
    "duration": 229,
    "start_time": "2022-09-02T13:07:56.890Z"
   },
   {
    "duration": 19,
    "start_time": "2022-09-02T13:09:39.240Z"
   },
   {
    "duration": 1279,
    "start_time": "2022-09-03T18:26:00.623Z"
   },
   {
    "duration": 221,
    "start_time": "2022-09-03T18:26:01.905Z"
   },
   {
    "duration": 26,
    "start_time": "2022-09-03T18:26:02.127Z"
   },
   {
    "duration": 13,
    "start_time": "2022-09-03T18:26:02.155Z"
   },
   {
    "duration": 18,
    "start_time": "2022-09-03T18:26:02.170Z"
   },
   {
    "duration": 3,
    "start_time": "2022-09-03T18:26:02.189Z"
   },
   {
    "duration": 32,
    "start_time": "2022-09-03T18:26:02.194Z"
   },
   {
    "duration": 11,
    "start_time": "2022-09-03T18:26:02.228Z"
   },
   {
    "duration": 267,
    "start_time": "2022-09-03T18:26:05.721Z"
   },
   {
    "duration": 258,
    "start_time": "2022-09-03T18:26:20.632Z"
   },
   {
    "duration": 178,
    "start_time": "2022-09-03T18:26:29.636Z"
   },
   {
    "duration": 11,
    "start_time": "2022-09-03T18:27:28.995Z"
   },
   {
    "duration": 11,
    "start_time": "2022-09-03T18:27:30.925Z"
   },
   {
    "duration": 258,
    "start_time": "2022-09-03T18:27:35.621Z"
   },
   {
    "duration": 168,
    "start_time": "2022-09-03T18:27:39.539Z"
   },
   {
    "duration": 347,
    "start_time": "2022-09-03T18:27:42.073Z"
   },
   {
    "duration": 190,
    "start_time": "2022-09-03T18:27:44.438Z"
   },
   {
    "duration": 290,
    "start_time": "2022-09-03T18:28:00.721Z"
   },
   {
    "duration": 269,
    "start_time": "2022-09-03T18:28:38.141Z"
   },
   {
    "duration": 11,
    "start_time": "2022-09-03T18:28:59.119Z"
   },
   {
    "duration": 95,
    "start_time": "2022-09-03T18:28:59.667Z"
   },
   {
    "duration": 183,
    "start_time": "2022-09-03T18:29:01.769Z"
   },
   {
    "duration": 113,
    "start_time": "2022-09-03T18:29:03.991Z"
   },
   {
    "duration": 5,
    "start_time": "2022-09-03T18:29:22.816Z"
   },
   {
    "duration": 124,
    "start_time": "2022-09-03T18:29:28.708Z"
   },
   {
    "duration": 116,
    "start_time": "2022-09-03T18:29:30.843Z"
   },
   {
    "duration": 4,
    "start_time": "2022-09-03T18:29:47.390Z"
   },
   {
    "duration": 453,
    "start_time": "2022-09-03T18:30:06.274Z"
   },
   {
    "duration": 10,
    "start_time": "2022-09-03T18:30:09.298Z"
   },
   {
    "duration": 333,
    "start_time": "2022-09-03T18:31:45.021Z"
   },
   {
    "duration": 10,
    "start_time": "2022-09-03T18:32:48.775Z"
   },
   {
    "duration": 10,
    "start_time": "2022-09-03T18:34:30.501Z"
   },
   {
    "duration": 10,
    "start_time": "2022-09-03T18:36:16.054Z"
   },
   {
    "duration": 31,
    "start_time": "2022-09-03T18:36:18.456Z"
   },
   {
    "duration": 10,
    "start_time": "2022-09-03T18:36:44.633Z"
   },
   {
    "duration": 21,
    "start_time": "2022-09-03T18:37:49.585Z"
   },
   {
    "duration": 1190,
    "start_time": "2022-09-04T16:30:28.238Z"
   },
   {
    "duration": 190,
    "start_time": "2022-09-04T16:30:29.430Z"
   },
   {
    "duration": 21,
    "start_time": "2022-09-04T16:30:29.622Z"
   },
   {
    "duration": 10,
    "start_time": "2022-09-04T16:30:29.645Z"
   },
   {
    "duration": 11,
    "start_time": "2022-09-04T16:30:29.656Z"
   },
   {
    "duration": 2,
    "start_time": "2022-09-04T16:30:29.669Z"
   },
   {
    "duration": 34,
    "start_time": "2022-09-04T16:30:29.672Z"
   },
   {
    "duration": 12,
    "start_time": "2022-09-04T16:30:29.707Z"
   },
   {
    "duration": 265,
    "start_time": "2022-09-04T16:30:29.720Z"
   },
   {
    "duration": 250,
    "start_time": "2022-09-04T16:30:29.987Z"
   },
   {
    "duration": 174,
    "start_time": "2022-09-04T16:30:30.239Z"
   },
   {
    "duration": 343,
    "start_time": "2022-09-04T16:30:30.414Z"
   },
   {
    "duration": 174,
    "start_time": "2022-09-04T16:30:30.759Z"
   },
   {
    "duration": 274,
    "start_time": "2022-09-04T16:30:30.935Z"
   },
   {
    "duration": 8,
    "start_time": "2022-09-04T16:30:31.211Z"
   },
   {
    "duration": 103,
    "start_time": "2022-09-04T16:30:31.220Z"
   },
   {
    "duration": 108,
    "start_time": "2022-09-04T16:30:31.325Z"
   },
   {
    "duration": 4,
    "start_time": "2022-09-04T16:30:31.435Z"
   },
   {
    "duration": 119,
    "start_time": "2022-09-04T16:30:31.441Z"
   },
   {
    "duration": 172,
    "start_time": "2022-09-04T16:30:31.562Z"
   },
   {
    "duration": 3,
    "start_time": "2022-09-04T16:30:31.736Z"
   },
   {
    "duration": 336,
    "start_time": "2022-09-04T16:30:31.741Z"
   },
   {
    "duration": 8,
    "start_time": "2022-09-04T16:30:32.079Z"
   },
   {
    "duration": 21,
    "start_time": "2022-09-04T16:30:32.088Z"
   },
   {
    "duration": 8,
    "start_time": "2022-09-04T16:30:32.110Z"
   },
   {
    "duration": 21,
    "start_time": "2022-09-04T16:30:32.119Z"
   },
   {
    "duration": 9,
    "start_time": "2022-09-04T16:30:32.142Z"
   },
   {
    "duration": 16,
    "start_time": "2022-09-04T16:30:32.153Z"
   },
   {
    "duration": 6,
    "start_time": "2022-09-04T16:39:35.625Z"
   },
   {
    "duration": 5,
    "start_time": "2022-09-04T16:39:43.977Z"
   },
   {
    "duration": 320,
    "start_time": "2022-09-04T16:40:02.308Z"
   },
   {
    "duration": 5,
    "start_time": "2022-09-04T16:40:06.557Z"
   },
   {
    "duration": 5,
    "start_time": "2022-09-04T16:40:12.121Z"
   },
   {
    "duration": 8,
    "start_time": "2022-09-04T16:40:16.724Z"
   },
   {
    "duration": 6,
    "start_time": "2022-09-04T16:40:23.831Z"
   },
   {
    "duration": 5,
    "start_time": "2022-09-04T16:40:27.542Z"
   },
   {
    "duration": 1192,
    "start_time": "2022-09-05T09:23:25.084Z"
   },
   {
    "duration": 203,
    "start_time": "2022-09-05T09:23:26.278Z"
   },
   {
    "duration": 24,
    "start_time": "2022-09-05T09:23:28.576Z"
   },
   {
    "duration": 12,
    "start_time": "2022-09-05T09:23:31.060Z"
   },
   {
    "duration": 13,
    "start_time": "2022-09-05T09:23:34.012Z"
   },
   {
    "duration": 4,
    "start_time": "2022-09-05T09:23:36.775Z"
   },
   {
    "duration": 3,
    "start_time": "2022-09-05T09:24:12.219Z"
   },
   {
    "duration": 8,
    "start_time": "2022-09-05T09:24:24.086Z"
   },
   {
    "duration": 12,
    "start_time": "2022-09-05T09:24:26.700Z"
   },
   {
    "duration": 2,
    "start_time": "2022-09-05T09:24:29.309Z"
   },
   {
    "duration": 3,
    "start_time": "2022-09-05T09:24:47.070Z"
   },
   {
    "duration": 227,
    "start_time": "2022-09-05T09:24:53.205Z"
   },
   {
    "duration": 78,
    "start_time": "2022-09-05T09:26:23.384Z"
   },
   {
    "duration": 533,
    "start_time": "2022-09-05T09:26:25.714Z"
   },
   {
    "duration": 92,
    "start_time": "2022-09-05T09:26:55.628Z"
   },
   {
    "duration": 13,
    "start_time": "2022-09-05T09:26:59.136Z"
   },
   {
    "duration": 13,
    "start_time": "2022-09-05T09:27:04.902Z"
   },
   {
    "duration": 196,
    "start_time": "2022-09-05T09:27:25.869Z"
   },
   {
    "duration": 556,
    "start_time": "2022-09-05T09:27:36.569Z"
   },
   {
    "duration": 327,
    "start_time": "2022-09-05T09:27:51.870Z"
   },
   {
    "duration": 548,
    "start_time": "2022-09-05T09:27:55.634Z"
   },
   {
    "duration": 113,
    "start_time": "2022-09-05T09:28:15.972Z"
   },
   {
    "duration": 553,
    "start_time": "2022-09-05T09:28:24.171Z"
   },
   {
    "duration": 1085,
    "start_time": "2022-09-05T09:28:49.724Z"
   },
   {
    "duration": 1087,
    "start_time": "2022-09-05T09:29:00.085Z"
   },
   {
    "duration": 151,
    "start_time": "2022-09-05T09:30:46.059Z"
   },
   {
    "duration": 134,
    "start_time": "2022-09-05T09:30:59.023Z"
   },
   {
    "duration": 1096,
    "start_time": "2022-09-05T09:31:11.371Z"
   },
   {
    "duration": 1151,
    "start_time": "2022-09-05T09:31:19.084Z"
   },
   {
    "duration": 1063,
    "start_time": "2022-09-05T09:32:43.636Z"
   },
   {
    "duration": 216,
    "start_time": "2022-09-05T09:34:14.434Z"
   },
   {
    "duration": 230,
    "start_time": "2022-09-05T09:36:27.470Z"
   },
   {
    "duration": 188,
    "start_time": "2022-09-05T09:36:31.727Z"
   },
   {
    "duration": 204,
    "start_time": "2022-09-05T09:36:38.828Z"
   },
   {
    "duration": 189,
    "start_time": "2022-09-05T09:36:45.370Z"
   },
   {
    "duration": 296,
    "start_time": "2022-09-05T09:37:24.430Z"
   },
   {
    "duration": 212,
    "start_time": "2022-09-05T09:37:26.911Z"
   },
   {
    "duration": 12,
    "start_time": "2022-09-05T09:47:37.668Z"
   },
   {
    "duration": 4,
    "start_time": "2022-09-05T09:47:40.800Z"
   },
   {
    "duration": 4,
    "start_time": "2022-09-05T09:48:06.384Z"
   },
   {
    "duration": 18,
    "start_time": "2022-09-05T09:48:43.688Z"
   },
   {
    "duration": 14,
    "start_time": "2022-09-05T09:48:59.528Z"
   },
   {
    "duration": 15,
    "start_time": "2022-09-05T09:49:18.590Z"
   },
   {
    "duration": 16,
    "start_time": "2022-09-05T09:49:47.335Z"
   },
   {
    "duration": 15,
    "start_time": "2022-09-05T09:50:04.423Z"
   },
   {
    "duration": 20,
    "start_time": "2022-09-05T09:50:18.891Z"
   },
   {
    "duration": 16,
    "start_time": "2022-09-05T09:50:46.843Z"
   },
   {
    "duration": 14,
    "start_time": "2022-09-05T09:50:53.332Z"
   },
   {
    "duration": 14,
    "start_time": "2022-09-05T09:51:01.379Z"
   },
   {
    "duration": 104,
    "start_time": "2022-09-05T09:51:06.476Z"
   },
   {
    "duration": 14,
    "start_time": "2022-09-05T09:51:12.369Z"
   },
   {
    "duration": 14,
    "start_time": "2022-09-05T09:51:30.460Z"
   },
   {
    "duration": 3,
    "start_time": "2022-09-05T09:51:41.442Z"
   },
   {
    "duration": 4,
    "start_time": "2022-09-05T09:52:24.925Z"
   },
   {
    "duration": 8,
    "start_time": "2022-09-05T09:52:37.520Z"
   },
   {
    "duration": 4,
    "start_time": "2022-09-05T09:52:51.651Z"
   },
   {
    "duration": 8,
    "start_time": "2022-09-05T09:53:09.636Z"
   },
   {
    "duration": 11,
    "start_time": "2022-09-05T09:53:27.754Z"
   },
   {
    "duration": 9,
    "start_time": "2022-09-05T09:53:31.656Z"
   },
   {
    "duration": 9,
    "start_time": "2022-09-05T09:54:54.201Z"
   },
   {
    "duration": 10,
    "start_time": "2022-09-05T09:54:56.894Z"
   },
   {
    "duration": 16,
    "start_time": "2022-09-05T09:55:17.522Z"
   },
   {
    "duration": 4,
    "start_time": "2022-09-05T09:55:24.934Z"
   },
   {
    "duration": 77,
    "start_time": "2022-09-05T09:55:30.518Z"
   },
   {
    "duration": 13,
    "start_time": "2022-09-05T09:55:34.561Z"
   },
   {
    "duration": 4,
    "start_time": "2022-09-05T09:57:28.486Z"
   },
   {
    "duration": 4,
    "start_time": "2022-09-05T09:57:37.471Z"
   },
   {
    "duration": 5,
    "start_time": "2022-09-05T09:57:41.837Z"
   },
   {
    "duration": 13,
    "start_time": "2022-09-05T09:57:44.149Z"
   },
   {
    "duration": 9,
    "start_time": "2022-09-05T09:58:04.371Z"
   },
   {
    "duration": 94,
    "start_time": "2022-09-05T09:58:12.117Z"
   },
   {
    "duration": 9,
    "start_time": "2022-09-05T09:58:14.515Z"
   },
   {
    "duration": 13,
    "start_time": "2022-09-05T09:58:18.950Z"
   },
   {
    "duration": 20,
    "start_time": "2022-09-05T09:58:48.136Z"
   },
   {
    "duration": 15,
    "start_time": "2022-09-05T09:58:59.439Z"
   },
   {
    "duration": 15,
    "start_time": "2022-09-05T09:59:04.173Z"
   },
   {
    "duration": 14,
    "start_time": "2022-09-05T09:59:13.830Z"
   },
   {
    "duration": 16,
    "start_time": "2022-09-05T09:59:16.477Z"
   },
   {
    "duration": 16,
    "start_time": "2022-09-05T09:59:40.071Z"
   },
   {
    "duration": 16,
    "start_time": "2022-09-05T09:59:48.110Z"
   },
   {
    "duration": 12,
    "start_time": "2022-09-05T10:00:59.114Z"
   },
   {
    "duration": 16,
    "start_time": "2022-09-05T10:01:36.441Z"
   },
   {
    "duration": 13,
    "start_time": "2022-09-05T10:01:46.700Z"
   },
   {
    "duration": 15,
    "start_time": "2022-09-05T10:01:49.209Z"
   },
   {
    "duration": 11,
    "start_time": "2022-09-05T10:02:24.976Z"
   },
   {
    "duration": 13,
    "start_time": "2022-09-05T10:02:35.240Z"
   },
   {
    "duration": 17,
    "start_time": "2022-09-05T10:02:43.690Z"
   },
   {
    "duration": 14,
    "start_time": "2022-09-05T10:02:51.238Z"
   },
   {
    "duration": 90,
    "start_time": "2022-09-05T10:03:02.843Z"
   },
   {
    "duration": 95,
    "start_time": "2022-09-05T10:03:07.232Z"
   },
   {
    "duration": 111,
    "start_time": "2022-09-05T10:03:09.891Z"
   },
   {
    "duration": 12,
    "start_time": "2022-09-05T10:03:12.862Z"
   },
   {
    "duration": 14,
    "start_time": "2022-09-05T10:03:20.062Z"
   },
   {
    "duration": 13,
    "start_time": "2022-09-05T10:03:37.977Z"
   },
   {
    "duration": 4,
    "start_time": "2022-09-05T10:03:59.288Z"
   },
   {
    "duration": 4,
    "start_time": "2022-09-05T10:04:13.758Z"
   },
   {
    "duration": 20,
    "start_time": "2022-09-05T10:04:26.895Z"
   },
   {
    "duration": 20,
    "start_time": "2022-09-05T10:04:36.451Z"
   },
   {
    "duration": 21,
    "start_time": "2022-09-05T10:04:55.233Z"
   },
   {
    "duration": 14,
    "start_time": "2022-09-05T10:05:25.104Z"
   },
   {
    "duration": 9,
    "start_time": "2022-09-05T10:05:28.892Z"
   },
   {
    "duration": 9,
    "start_time": "2022-09-05T10:05:36.964Z"
   },
   {
    "duration": 12,
    "start_time": "2022-09-05T10:06:05.905Z"
   },
   {
    "duration": 10,
    "start_time": "2022-09-05T10:06:10.646Z"
   },
   {
    "duration": 10,
    "start_time": "2022-09-05T10:06:26.225Z"
   },
   {
    "duration": 16,
    "start_time": "2022-09-05T10:12:04.686Z"
   },
   {
    "duration": 15,
    "start_time": "2022-09-05T10:12:07.973Z"
   },
   {
    "duration": 15,
    "start_time": "2022-09-05T10:12:10.899Z"
   },
   {
    "duration": 17,
    "start_time": "2022-09-05T10:12:40.276Z"
   },
   {
    "duration": 20,
    "start_time": "2022-09-05T10:13:21.346Z"
   },
   {
    "duration": 23,
    "start_time": "2022-09-05T10:13:37.537Z"
   },
   {
    "duration": 17,
    "start_time": "2022-09-05T10:13:41.232Z"
   },
   {
    "duration": 18,
    "start_time": "2022-09-05T10:14:06.389Z"
   },
   {
    "duration": 224,
    "start_time": "2022-09-05T10:14:19.422Z"
   },
   {
    "duration": 210,
    "start_time": "2022-09-05T10:14:22.656Z"
   },
   {
    "duration": 17,
    "start_time": "2022-09-05T10:14:30.241Z"
   },
   {
    "duration": 18,
    "start_time": "2022-09-05T10:14:40.889Z"
   },
   {
    "duration": 16,
    "start_time": "2022-09-05T10:15:15.136Z"
   },
   {
    "duration": 15,
    "start_time": "2022-09-05T10:15:23.161Z"
   },
   {
    "duration": 14,
    "start_time": "2022-09-05T10:15:34.200Z"
   },
   {
    "duration": 14,
    "start_time": "2022-09-05T10:15:42.708Z"
   },
   {
    "duration": 16,
    "start_time": "2022-09-05T10:15:54.755Z"
   },
   {
    "duration": 27,
    "start_time": "2022-09-05T10:17:01.201Z"
   },
   {
    "duration": 23,
    "start_time": "2022-09-05T10:17:06.585Z"
   },
   {
    "duration": 14,
    "start_time": "2022-09-05T10:17:46.352Z"
   },
   {
    "duration": 16,
    "start_time": "2022-09-05T10:18:00.480Z"
   },
   {
    "duration": 25,
    "start_time": "2022-09-05T10:18:07.964Z"
   },
   {
    "duration": 14,
    "start_time": "2022-09-05T10:18:13.025Z"
   },
   {
    "duration": 18,
    "start_time": "2022-09-05T10:18:17.219Z"
   },
   {
    "duration": 14,
    "start_time": "2022-09-05T10:18:27.045Z"
   },
   {
    "duration": 14,
    "start_time": "2022-09-05T10:18:29.811Z"
   },
   {
    "duration": 326,
    "start_time": "2022-09-05T10:18:46.856Z"
   },
   {
    "duration": 103,
    "start_time": "2022-09-05T10:19:06.474Z"
   },
   {
    "duration": 15,
    "start_time": "2022-09-05T10:19:11.718Z"
   },
   {
    "duration": 16,
    "start_time": "2022-09-05T10:19:15.612Z"
   },
   {
    "duration": 16,
    "start_time": "2022-09-05T10:19:27.929Z"
   },
   {
    "duration": 16,
    "start_time": "2022-09-05T10:20:42.087Z"
   },
   {
    "duration": 16,
    "start_time": "2022-09-05T10:21:01.382Z"
   },
   {
    "duration": 9,
    "start_time": "2022-09-05T11:45:54.469Z"
   },
   {
    "duration": 4,
    "start_time": "2022-09-05T11:45:57.985Z"
   },
   {
    "duration": 6,
    "start_time": "2022-09-05T11:46:00.216Z"
   },
   {
    "duration": 43,
    "start_time": "2022-09-05T11:46:02.557Z"
   },
   {
    "duration": 1244,
    "start_time": "2022-09-05T11:46:11.059Z"
   },
   {
    "duration": 201,
    "start_time": "2022-09-05T11:46:12.305Z"
   },
   {
    "duration": 25,
    "start_time": "2022-09-05T11:46:12.508Z"
   },
   {
    "duration": 12,
    "start_time": "2022-09-05T11:46:12.536Z"
   },
   {
    "duration": 15,
    "start_time": "2022-09-05T11:46:12.549Z"
   },
   {
    "duration": 3,
    "start_time": "2022-09-05T11:46:12.566Z"
   },
   {
    "duration": 335,
    "start_time": "2022-09-05T11:46:12.570Z"
   },
   {
    "duration": 19,
    "start_time": "2022-09-05T11:46:14.721Z"
   },
   {
    "duration": 18,
    "start_time": "2022-09-05T11:46:25.578Z"
   },
   {
    "duration": 5,
    "start_time": "2022-09-05T11:47:00.018Z"
   },
   {
    "duration": 15,
    "start_time": "2022-09-05T11:47:14.778Z"
   },
   {
    "duration": 14,
    "start_time": "2022-09-05T11:51:04.816Z"
   },
   {
    "duration": 6,
    "start_time": "2022-09-05T11:52:10.981Z"
   },
   {
    "duration": 14,
    "start_time": "2022-09-05T11:52:38.017Z"
   },
   {
    "duration": 9,
    "start_time": "2022-09-05T11:52:45.089Z"
   },
   {
    "duration": 8,
    "start_time": "2022-09-05T11:52:54.793Z"
   },
   {
    "duration": 86,
    "start_time": "2022-09-05T11:53:00.932Z"
   },
   {
    "duration": 12,
    "start_time": "2022-09-05T11:53:03.398Z"
   },
   {
    "duration": 12,
    "start_time": "2022-09-05T11:53:15.421Z"
   },
   {
    "duration": 17,
    "start_time": "2022-09-05T11:54:29.921Z"
   },
   {
    "duration": 11,
    "start_time": "2022-09-05T11:54:48.636Z"
   },
   {
    "duration": 12,
    "start_time": "2022-09-05T11:56:59.818Z"
   },
   {
    "duration": 10,
    "start_time": "2022-09-05T11:57:03.088Z"
   },
   {
    "duration": 11,
    "start_time": "2022-09-05T11:57:05.211Z"
   },
   {
    "duration": 13,
    "start_time": "2022-09-05T11:57:33.385Z"
   },
   {
    "duration": 14,
    "start_time": "2022-09-05T11:57:53.585Z"
   },
   {
    "duration": 10,
    "start_time": "2022-09-05T11:58:28.258Z"
   },
   {
    "duration": 3,
    "start_time": "2022-09-05T11:58:45.482Z"
   },
   {
    "duration": 10,
    "start_time": "2022-09-05T11:58:48.083Z"
   },
   {
    "duration": 9,
    "start_time": "2022-09-05T11:58:57.593Z"
   },
   {
    "duration": 12,
    "start_time": "2022-09-05T11:59:27.636Z"
   },
   {
    "duration": 129,
    "start_time": "2022-09-05T12:03:14.884Z"
   },
   {
    "duration": 224,
    "start_time": "2022-09-05T12:03:28.621Z"
   },
   {
    "duration": 106,
    "start_time": "2022-09-05T12:03:41.300Z"
   },
   {
    "duration": 747,
    "start_time": "2022-09-05T12:07:09.846Z"
   },
   {
    "duration": 368,
    "start_time": "2022-09-05T12:08:20.004Z"
   },
   {
    "duration": 4397,
    "start_time": "2022-09-05T12:08:26.620Z"
   },
   {
    "duration": 123,
    "start_time": "2022-09-05T12:09:38.556Z"
   },
   {
    "duration": 225,
    "start_time": "2022-09-05T12:09:46.234Z"
   },
   {
    "duration": 228,
    "start_time": "2022-09-05T12:10:09.789Z"
   },
   {
    "duration": 246,
    "start_time": "2022-09-05T12:10:14.526Z"
   },
   {
    "duration": 232,
    "start_time": "2022-09-05T12:10:19.943Z"
   },
   {
    "duration": 341,
    "start_time": "2022-09-05T12:11:00.664Z"
   },
   {
    "duration": 241,
    "start_time": "2022-09-05T12:11:10.743Z"
   },
   {
    "duration": 269,
    "start_time": "2022-09-05T12:11:44.628Z"
   },
   {
    "duration": 287,
    "start_time": "2022-09-05T12:11:52.606Z"
   },
   {
    "duration": 296,
    "start_time": "2022-09-05T12:12:31.589Z"
   },
   {
    "duration": 274,
    "start_time": "2022-09-05T12:12:46.551Z"
   },
   {
    "duration": 255,
    "start_time": "2022-09-05T12:20:12.411Z"
   },
   {
    "duration": 187,
    "start_time": "2022-09-05T12:20:15.200Z"
   },
   {
    "duration": 190,
    "start_time": "2022-09-05T12:21:31.176Z"
   },
   {
    "duration": 295,
    "start_time": "2022-09-05T12:21:37.470Z"
   },
   {
    "duration": 204,
    "start_time": "2022-09-05T12:22:35.039Z"
   },
   {
    "duration": 334,
    "start_time": "2022-09-05T12:22:49.567Z"
   },
   {
    "duration": 243,
    "start_time": "2022-09-05T12:23:15.581Z"
   },
   {
    "duration": 274,
    "start_time": "2022-09-05T12:23:21.751Z"
   },
   {
    "duration": 288,
    "start_time": "2022-09-05T12:24:12.244Z"
   },
   {
    "duration": 288,
    "start_time": "2022-09-05T12:24:16.958Z"
   },
   {
    "duration": 296,
    "start_time": "2022-09-05T12:24:20.576Z"
   },
   {
    "duration": 275,
    "start_time": "2022-09-05T12:24:25.054Z"
   },
   {
    "duration": 282,
    "start_time": "2022-09-05T12:24:27.564Z"
   },
   {
    "duration": 264,
    "start_time": "2022-09-05T12:24:32.231Z"
   },
   {
    "duration": 257,
    "start_time": "2022-09-05T12:25:59.017Z"
   },
   {
    "duration": 253,
    "start_time": "2022-09-05T12:26:09.526Z"
   },
   {
    "duration": 281,
    "start_time": "2022-09-05T12:26:40.722Z"
   },
   {
    "duration": 267,
    "start_time": "2022-09-05T12:26:43.313Z"
   },
   {
    "duration": 10,
    "start_time": "2022-09-05T12:26:59.371Z"
   },
   {
    "duration": 12,
    "start_time": "2022-09-05T12:27:20.089Z"
   },
   {
    "duration": 11,
    "start_time": "2022-09-05T12:27:26.461Z"
   },
   {
    "duration": 11,
    "start_time": "2022-09-05T12:27:32.507Z"
   },
   {
    "duration": 12,
    "start_time": "2022-09-05T12:27:39.871Z"
   },
   {
    "duration": 177,
    "start_time": "2022-09-05T12:28:06.356Z"
   },
   {
    "duration": 189,
    "start_time": "2022-09-05T12:28:23.946Z"
   },
   {
    "duration": 272,
    "start_time": "2022-09-05T12:28:29.169Z"
   },
   {
    "duration": 311,
    "start_time": "2022-09-05T12:28:49.497Z"
   },
   {
    "duration": 9,
    "start_time": "2022-09-05T12:28:54.598Z"
   },
   {
    "duration": 264,
    "start_time": "2022-09-05T12:29:02.042Z"
   },
   {
    "duration": 116,
    "start_time": "2022-09-05T12:29:06.424Z"
   },
   {
    "duration": 136,
    "start_time": "2022-09-05T12:29:42.385Z"
   },
   {
    "duration": 5,
    "start_time": "2022-09-05T12:30:19.433Z"
   },
   {
    "duration": 126,
    "start_time": "2022-09-05T12:30:40.249Z"
   },
   {
    "duration": 115,
    "start_time": "2022-09-05T12:30:42.611Z"
   },
   {
    "duration": 4,
    "start_time": "2022-09-05T12:30:45.915Z"
   },
   {
    "duration": 114,
    "start_time": "2022-09-05T12:32:04.832Z"
   },
   {
    "duration": 114,
    "start_time": "2022-09-05T12:32:06.753Z"
   },
   {
    "duration": 126,
    "start_time": "2022-09-05T12:33:20.138Z"
   },
   {
    "duration": 113,
    "start_time": "2022-09-05T12:33:22.237Z"
   },
   {
    "duration": 109,
    "start_time": "2022-09-05T12:34:02.960Z"
   },
   {
    "duration": 14,
    "start_time": "2022-09-05T12:34:23.882Z"
   },
   {
    "duration": 181,
    "start_time": "2022-09-05T12:34:35.470Z"
   },
   {
    "duration": 226,
    "start_time": "2022-09-05T12:35:31.342Z"
   },
   {
    "duration": 195,
    "start_time": "2022-09-05T12:36:13.106Z"
   },
   {
    "duration": 229,
    "start_time": "2022-09-05T12:36:38.149Z"
   },
   {
    "duration": 230,
    "start_time": "2022-09-05T12:36:47.549Z"
   },
   {
    "duration": 224,
    "start_time": "2022-09-05T12:36:53.284Z"
   },
   {
    "duration": 245,
    "start_time": "2022-09-05T12:36:59.025Z"
   },
   {
    "duration": 227,
    "start_time": "2022-09-05T12:37:10.807Z"
   },
   {
    "duration": 227,
    "start_time": "2022-09-05T12:37:16.661Z"
   },
   {
    "duration": 216,
    "start_time": "2022-09-05T12:37:57.982Z"
   },
   {
    "duration": 224,
    "start_time": "2022-09-05T12:37:59.634Z"
   },
   {
    "duration": 8,
    "start_time": "2022-09-05T12:48:04.648Z"
   },
   {
    "duration": 3,
    "start_time": "2022-09-05T12:48:12.306Z"
   },
   {
    "duration": 80,
    "start_time": "2022-09-05T12:48:13.543Z"
   },
   {
    "duration": 26,
    "start_time": "2022-09-05T12:48:14.987Z"
   },
   {
    "duration": 10,
    "start_time": "2022-09-05T12:48:17.003Z"
   },
   {
    "duration": 13,
    "start_time": "2022-09-05T12:48:19.597Z"
   },
   {
    "duration": 3,
    "start_time": "2022-09-05T12:48:22.369Z"
   },
   {
    "duration": 232,
    "start_time": "2022-09-05T12:48:23.962Z"
   },
   {
    "duration": 21,
    "start_time": "2022-09-05T12:48:27.838Z"
   },
   {
    "duration": 9,
    "start_time": "2022-09-05T12:48:31.427Z"
   },
   {
    "duration": 8,
    "start_time": "2022-09-05T12:48:37.242Z"
   },
   {
    "duration": 9,
    "start_time": "2022-09-05T12:48:40.815Z"
   },
   {
    "duration": 14,
    "start_time": "2022-09-05T12:48:55.867Z"
   },
   {
    "duration": 15,
    "start_time": "2022-09-05T12:49:08.498Z"
   },
   {
    "duration": 12,
    "start_time": "2022-09-05T12:49:21.772Z"
   },
   {
    "duration": 16,
    "start_time": "2022-09-05T12:49:50.997Z"
   },
   {
    "duration": 160,
    "start_time": "2022-09-05T12:50:10.455Z"
   },
   {
    "duration": 10,
    "start_time": "2022-09-05T12:50:13.629Z"
   },
   {
    "duration": 262,
    "start_time": "2022-09-05T12:50:19.245Z"
   },
   {
    "duration": 194,
    "start_time": "2022-09-05T12:50:20.857Z"
   },
   {
    "duration": 192,
    "start_time": "2022-09-05T12:50:24.466Z"
   },
   {
    "duration": 246,
    "start_time": "2022-09-05T12:50:26.379Z"
   },
   {
    "duration": 192,
    "start_time": "2022-09-05T12:50:28.131Z"
   },
   {
    "duration": 294,
    "start_time": "2022-09-05T12:50:41.077Z"
   },
   {
    "duration": 10,
    "start_time": "2022-09-05T12:50:43.639Z"
   },
   {
    "duration": 132,
    "start_time": "2022-09-05T12:50:45.603Z"
   },
   {
    "duration": 117,
    "start_time": "2022-09-05T12:50:48.116Z"
   },
   {
    "duration": 132,
    "start_time": "2022-09-05T12:50:49.848Z"
   },
   {
    "duration": 5,
    "start_time": "2022-09-05T12:50:53.599Z"
   },
   {
    "duration": 124,
    "start_time": "2022-09-05T12:50:55.442Z"
   },
   {
    "duration": 204,
    "start_time": "2022-09-05T12:50:57.974Z"
   },
   {
    "duration": 5,
    "start_time": "2022-09-05T12:51:27.050Z"
   },
   {
    "duration": 336,
    "start_time": "2022-09-05T12:51:46.384Z"
   },
   {
    "duration": 359,
    "start_time": "2022-09-05T12:52:15.772Z"
   },
   {
    "duration": 9,
    "start_time": "2022-09-05T12:52:23.284Z"
   },
   {
    "duration": 12,
    "start_time": "2022-09-05T12:52:55.464Z"
   },
   {
    "duration": 10,
    "start_time": "2022-09-05T12:53:22.208Z"
   },
   {
    "duration": 10,
    "start_time": "2022-09-05T12:53:50.017Z"
   },
   {
    "duration": 9,
    "start_time": "2022-09-05T12:54:13.575Z"
   },
   {
    "duration": 9,
    "start_time": "2022-09-05T12:55:08.382Z"
   },
   {
    "duration": 24,
    "start_time": "2022-09-05T12:58:02.063Z"
   },
   {
    "duration": 9,
    "start_time": "2022-09-05T12:58:11.085Z"
   },
   {
    "duration": 12,
    "start_time": "2022-09-05T12:58:20.230Z"
   },
   {
    "duration": 14,
    "start_time": "2022-09-05T12:58:31.411Z"
   },
   {
    "duration": 14,
    "start_time": "2022-09-05T12:58:47.386Z"
   },
   {
    "duration": 9,
    "start_time": "2022-09-05T12:58:57.248Z"
   },
   {
    "duration": 9,
    "start_time": "2022-09-05T12:59:07.049Z"
   },
   {
    "duration": 730,
    "start_time": "2022-09-05T12:59:22.841Z"
   },
   {
    "duration": 5,
    "start_time": "2022-09-05T13:00:17.220Z"
   },
   {
    "duration": 11,
    "start_time": "2022-09-05T13:00:21.135Z"
   },
   {
    "duration": 9,
    "start_time": "2022-09-05T13:01:13.148Z"
   },
   {
    "duration": 9,
    "start_time": "2022-09-05T13:01:25.416Z"
   },
   {
    "duration": 5,
    "start_time": "2022-09-05T13:01:33.678Z"
   },
   {
    "duration": 3,
    "start_time": "2022-09-05T13:01:49.141Z"
   },
   {
    "duration": 6,
    "start_time": "2022-09-05T13:01:52.479Z"
   },
   {
    "duration": 5,
    "start_time": "2022-09-05T13:02:09.268Z"
   },
   {
    "duration": 10,
    "start_time": "2022-09-05T13:02:20.807Z"
   },
   {
    "duration": 8,
    "start_time": "2022-09-05T13:02:24.003Z"
   },
   {
    "duration": 38,
    "start_time": "2022-09-05T13:02:38.755Z"
   },
   {
    "duration": 30,
    "start_time": "2022-09-05T13:03:10.346Z"
   },
   {
    "duration": 12,
    "start_time": "2022-09-05T13:03:23.927Z"
   },
   {
    "duration": 14,
    "start_time": "2022-09-05T13:15:04.455Z"
   },
   {
    "duration": 6,
    "start_time": "2022-09-05T13:46:05.493Z"
   },
   {
    "duration": 11,
    "start_time": "2022-09-05T13:46:21.442Z"
   },
   {
    "duration": 7,
    "start_time": "2022-09-05T13:46:25.551Z"
   },
   {
    "duration": 6,
    "start_time": "2022-09-05T13:46:29.953Z"
   },
   {
    "duration": 6,
    "start_time": "2022-09-05T13:46:41.772Z"
   },
   {
    "duration": 8,
    "start_time": "2022-09-05T13:47:01.751Z"
   },
   {
    "duration": 4,
    "start_time": "2022-09-05T13:53:38.936Z"
   },
   {
    "duration": 111,
    "start_time": "2022-09-05T13:53:38.942Z"
   },
   {
    "duration": 24,
    "start_time": "2022-09-05T13:53:39.055Z"
   },
   {
    "duration": 42,
    "start_time": "2022-09-05T13:53:39.080Z"
   },
   {
    "duration": 24,
    "start_time": "2022-09-05T13:53:39.124Z"
   },
   {
    "duration": 22,
    "start_time": "2022-09-05T13:53:39.151Z"
   },
   {
    "duration": 18,
    "start_time": "2022-09-05T13:53:39.175Z"
   },
   {
    "duration": 246,
    "start_time": "2022-09-05T13:53:39.195Z"
   },
   {
    "duration": 14,
    "start_time": "2022-09-05T13:53:39.443Z"
   },
   {
    "duration": 18,
    "start_time": "2022-09-05T13:53:39.458Z"
   },
   {
    "duration": 14,
    "start_time": "2022-09-05T13:53:39.478Z"
   },
   {
    "duration": 11,
    "start_time": "2022-09-05T13:53:39.493Z"
   },
   {
    "duration": 21,
    "start_time": "2022-09-05T13:53:39.506Z"
   },
   {
    "duration": 316,
    "start_time": "2022-09-05T13:53:39.529Z"
   },
   {
    "duration": 267,
    "start_time": "2022-09-05T13:53:39.847Z"
   },
   {
    "duration": 218,
    "start_time": "2022-09-05T13:53:40.116Z"
   },
   {
    "duration": 212,
    "start_time": "2022-09-05T13:53:40.338Z"
   },
   {
    "duration": 289,
    "start_time": "2022-09-05T13:53:40.551Z"
   },
   {
    "duration": 201,
    "start_time": "2022-09-05T13:53:40.842Z"
   },
   {
    "duration": 315,
    "start_time": "2022-09-05T13:53:41.045Z"
   },
   {
    "duration": 10,
    "start_time": "2022-09-05T13:53:41.361Z"
   },
   {
    "duration": 130,
    "start_time": "2022-09-05T13:53:41.373Z"
   },
   {
    "duration": 124,
    "start_time": "2022-09-05T13:53:41.505Z"
   },
   {
    "duration": 9,
    "start_time": "2022-09-05T13:53:41.631Z"
   },
   {
    "duration": 261,
    "start_time": "2022-09-05T13:53:41.641Z"
   },
   {
    "duration": 206,
    "start_time": "2022-09-05T13:53:41.903Z"
   },
   {
    "duration": 4,
    "start_time": "2022-09-05T13:53:42.111Z"
   },
   {
    "duration": 342,
    "start_time": "2022-09-05T13:53:42.116Z"
   },
   {
    "duration": 9,
    "start_time": "2022-09-05T13:53:42.462Z"
   },
   {
    "duration": 11,
    "start_time": "2022-09-05T13:53:42.473Z"
   },
   {
    "duration": 8,
    "start_time": "2022-09-05T13:53:42.486Z"
   },
   {
    "duration": 51,
    "start_time": "2022-09-05T13:53:42.496Z"
   },
   {
    "duration": 11,
    "start_time": "2022-09-05T13:53:42.549Z"
   },
   {
    "duration": 15,
    "start_time": "2022-09-05T13:53:42.562Z"
   },
   {
    "duration": 1031,
    "start_time": "2022-09-05T15:42:37.995Z"
   },
   {
    "duration": 82,
    "start_time": "2022-09-05T15:42:39.028Z"
   },
   {
    "duration": 23,
    "start_time": "2022-09-05T15:42:39.111Z"
   },
   {
    "duration": 14,
    "start_time": "2022-09-05T15:42:39.136Z"
   },
   {
    "duration": 13,
    "start_time": "2022-09-05T15:42:39.152Z"
   },
   {
    "duration": 3,
    "start_time": "2022-09-05T15:42:39.166Z"
   },
   {
    "duration": 14,
    "start_time": "2022-09-05T15:42:39.170Z"
   },
   {
    "duration": 291,
    "start_time": "2022-09-05T15:42:39.185Z"
   },
   {
    "duration": 15,
    "start_time": "2022-09-05T15:42:39.477Z"
   },
   {
    "duration": 12,
    "start_time": "2022-09-05T15:42:39.494Z"
   },
   {
    "duration": 10,
    "start_time": "2022-09-05T15:42:39.507Z"
   },
   {
    "duration": 19,
    "start_time": "2022-09-05T15:42:39.518Z"
   },
   {
    "duration": 10,
    "start_time": "2022-09-05T15:42:39.555Z"
   },
   {
    "duration": 264,
    "start_time": "2022-09-05T15:42:39.567Z"
   },
   {
    "duration": 260,
    "start_time": "2022-09-05T15:42:39.833Z"
   },
   {
    "duration": 228,
    "start_time": "2022-09-05T15:42:40.094Z"
   },
   {
    "duration": 194,
    "start_time": "2022-09-05T15:42:40.324Z"
   },
   {
    "duration": 307,
    "start_time": "2022-09-05T15:42:40.519Z"
   },
   {
    "duration": 202,
    "start_time": "2022-09-05T15:42:40.827Z"
   },
   {
    "duration": 334,
    "start_time": "2022-09-05T15:42:41.030Z"
   },
   {
    "duration": 8,
    "start_time": "2022-09-05T15:42:41.365Z"
   },
   {
    "duration": 184,
    "start_time": "2022-09-05T15:42:41.375Z"
   },
   {
    "duration": 116,
    "start_time": "2022-09-05T15:42:41.560Z"
   },
   {
    "duration": 4,
    "start_time": "2022-09-05T15:42:41.677Z"
   },
   {
    "duration": 142,
    "start_time": "2022-09-05T15:42:41.683Z"
   },
   {
    "duration": 209,
    "start_time": "2022-09-05T15:42:41.827Z"
   },
   {
    "duration": 4,
    "start_time": "2022-09-05T15:42:42.038Z"
   },
   {
    "duration": 335,
    "start_time": "2022-09-05T15:42:42.054Z"
   },
   {
    "duration": 8,
    "start_time": "2022-09-05T15:42:42.391Z"
   },
   {
    "duration": 42,
    "start_time": "2022-09-05T15:42:42.401Z"
   },
   {
    "duration": 18,
    "start_time": "2022-09-05T15:42:42.444Z"
   },
   {
    "duration": 56,
    "start_time": "2022-09-05T15:42:42.463Z"
   },
   {
    "duration": 12,
    "start_time": "2022-09-05T15:42:42.521Z"
   },
   {
    "duration": 49,
    "start_time": "2022-09-05T15:42:42.534Z"
   },
   {
    "duration": 47,
    "start_time": "2022-09-05T16:59:01.752Z"
   }
  ],
  "kernelspec": {
   "display_name": "Python 3 (ipykernel)",
   "language": "python",
   "name": "python3"
  },
  "language_info": {
   "codemirror_mode": {
    "name": "ipython",
    "version": 3
   },
   "file_extension": ".py",
   "mimetype": "text/x-python",
   "name": "python",
   "nbconvert_exporter": "python",
   "pygments_lexer": "ipython3",
   "version": "3.9.12"
  },
  "toc": {
   "base_numbering": 1,
   "nav_menu": {},
   "number_sections": true,
   "sideBar": true,
   "skip_h1_title": true,
   "title_cell": "Table of Contents",
   "title_sidebar": "Contents",
   "toc_cell": false,
   "toc_position": {},
   "toc_section_display": true,
   "toc_window_display": false
  }
 },
 "nbformat": 4,
 "nbformat_minor": 2
}
